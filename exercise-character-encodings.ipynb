{
 "cells": [
  {
   "cell_type": "markdown",
   "id": "9af9d331",
   "metadata": {
    "papermill": {
     "duration": 0.005691,
     "end_time": "2022-11-11T20:20:55.080358",
     "exception": false,
     "start_time": "2022-11-11T20:20:55.074667",
     "status": "completed"
    },
    "tags": []
   },
   "source": [
    "**This notebook is an exercise in the [Data Cleaning](https://www.kaggle.com/learn/data-cleaning) course.  You can reference the tutorial at [this link](https://www.kaggle.com/alexisbcook/character-encodings).**\n",
    "\n",
    "---\n"
   ]
  },
  {
   "cell_type": "markdown",
   "id": "f9656c8f",
   "metadata": {
    "papermill": {
     "duration": 0.004159,
     "end_time": "2022-11-11T20:20:55.089218",
     "exception": false,
     "start_time": "2022-11-11T20:20:55.085059",
     "status": "completed"
    },
    "tags": []
   },
   "source": [
    "In this exercise, you'll apply what you learned in the **Character encodings** tutorial.\n",
    "\n",
    "# Setup\n",
    "\n",
    "The questions below will give you feedback on your work. Run the following cell to set up the feedback system."
   ]
  },
  {
   "cell_type": "code",
   "execution_count": 1,
   "id": "2fd3b4c1",
   "metadata": {
    "execution": {
     "iopub.execute_input": "2022-11-11T20:20:55.099831Z",
     "iopub.status.busy": "2022-11-11T20:20:55.099365Z",
     "iopub.status.idle": "2022-11-11T20:20:55.186086Z",
     "shell.execute_reply": "2022-11-11T20:20:55.184956Z"
    },
    "papermill": {
     "duration": 0.095583,
     "end_time": "2022-11-11T20:20:55.189169",
     "exception": false,
     "start_time": "2022-11-11T20:20:55.093586",
     "status": "completed"
    },
    "tags": []
   },
   "outputs": [
    {
     "name": "stdout",
     "output_type": "stream",
     "text": [
      "Setup Complete\n"
     ]
    }
   ],
   "source": [
    "from learntools.core import binder\n",
    "binder.bind(globals())\n",
    "from learntools.data_cleaning.ex4 import *\n",
    "print(\"Setup Complete\")"
   ]
  },
  {
   "cell_type": "markdown",
   "id": "4acb7550",
   "metadata": {
    "papermill": {
     "duration": 0.004356,
     "end_time": "2022-11-11T20:20:55.199107",
     "exception": false,
     "start_time": "2022-11-11T20:20:55.194751",
     "status": "completed"
    },
    "tags": []
   },
   "source": [
    "# Get our environment set up\n",
    "\n",
    "The first thing we'll need to do is load in the libraries we'll be using."
   ]
  },
  {
   "cell_type": "code",
   "execution_count": 2,
   "id": "7db777d7",
   "metadata": {
    "execution": {
     "iopub.execute_input": "2022-11-11T20:20:55.209824Z",
     "iopub.status.busy": "2022-11-11T20:20:55.209421Z",
     "iopub.status.idle": "2022-11-11T20:20:55.214500Z",
     "shell.execute_reply": "2022-11-11T20:20:55.213535Z"
    },
    "papermill": {
     "duration": 0.012995,
     "end_time": "2022-11-11T20:20:55.216549",
     "exception": false,
     "start_time": "2022-11-11T20:20:55.203554",
     "status": "completed"
    },
    "tags": []
   },
   "outputs": [],
   "source": [
    "# modules we'll use\n",
    "import pandas as pd\n",
    "import numpy as np\n",
    "\n",
    "# helpful character encoding module\n",
    "import chardet\n",
    "\n",
    "# set seed for reproducibility\n",
    "np.random.seed(0)"
   ]
  },
  {
   "cell_type": "markdown",
   "id": "b35af3d3",
   "metadata": {
    "papermill": {
     "duration": 0.004315,
     "end_time": "2022-11-11T20:20:55.225484",
     "exception": false,
     "start_time": "2022-11-11T20:20:55.221169",
     "status": "completed"
    },
    "tags": []
   },
   "source": [
    "# 1) What are encodings?\n",
    "\n",
    "You're working with a dataset composed of bytes.  Run the code cell below to print a sample entry."
   ]
  },
  {
   "cell_type": "code",
   "execution_count": 3,
   "id": "20aa86ea",
   "metadata": {
    "execution": {
     "iopub.execute_input": "2022-11-11T20:20:55.236652Z",
     "iopub.status.busy": "2022-11-11T20:20:55.235689Z",
     "iopub.status.idle": "2022-11-11T20:20:55.241834Z",
     "shell.execute_reply": "2022-11-11T20:20:55.240312Z"
    },
    "papermill": {
     "duration": 0.013915,
     "end_time": "2022-11-11T20:20:55.243952",
     "exception": false,
     "start_time": "2022-11-11T20:20:55.230037",
     "status": "completed"
    },
    "tags": []
   },
   "outputs": [
    {
     "name": "stdout",
     "output_type": "stream",
     "text": [
      "b'\\xa7A\\xa6n'\n",
      "data type: <class 'bytes'>\n"
     ]
    }
   ],
   "source": [
    "sample_entry = b'\\xa7A\\xa6n'\n",
    "print(sample_entry)\n",
    "print('data type:', type(sample_entry))"
   ]
  },
  {
   "cell_type": "markdown",
   "id": "04c71bec",
   "metadata": {
    "papermill": {
     "duration": 0.004461,
     "end_time": "2022-11-11T20:20:55.253236",
     "exception": false,
     "start_time": "2022-11-11T20:20:55.248775",
     "status": "completed"
    },
    "tags": []
   },
   "source": [
    "You notice that it doesn't use the standard UTF-8 encoding. \n",
    "\n",
    "Use the next code cell to create a variable `new_entry` that changes the encoding from `\"big5-tw\"` to `\"utf-8\"`.  `new_entry` should have the bytes datatype."
   ]
  },
  {
   "cell_type": "code",
   "execution_count": 4,
   "id": "2a0eb34f",
   "metadata": {
    "execution": {
     "iopub.execute_input": "2022-11-11T20:20:55.264581Z",
     "iopub.status.busy": "2022-11-11T20:20:55.263874Z",
     "iopub.status.idle": "2022-11-11T20:20:55.273777Z",
     "shell.execute_reply": "2022-11-11T20:20:55.273013Z"
    },
    "papermill": {
     "duration": 0.017955,
     "end_time": "2022-11-11T20:20:55.275813",
     "exception": false,
     "start_time": "2022-11-11T20:20:55.257858",
     "status": "completed"
    },
    "tags": []
   },
   "outputs": [
    {
     "data": {
      "application/javascript": [
       "parent.postMessage({\"jupyterEvent\": \"custom.exercise_interaction\", \"data\": {\"outcomeType\": 1, \"valueTowardsCompletion\": 0.3333333333333333, \"interactionType\": 1, \"questionType\": 1, \"questionId\": \"1_EncodingsIntro\", \"learnToolsVersion\": \"0.3.4\", \"failureMessage\": \"\", \"exceptionClass\": \"\", \"trace\": \"\"}}, \"*\")"
      ],
      "text/plain": [
       "<IPython.core.display.Javascript object>"
      ]
     },
     "metadata": {},
     "output_type": "display_data"
    },
    {
     "data": {
      "text/markdown": [
       "<span style=\"color:#33cc33\">Correct</span>"
      ],
      "text/plain": [
       "Correct"
      ]
     },
     "metadata": {},
     "output_type": "display_data"
    }
   ],
   "source": [
    "new_entry = sample_entry.decode(\"big5-tw\")\n",
    "new_entry = new_entry.encode(\"utf-8\", errors=\"replace\")\n",
    "\n",
    "# Check your answer\n",
    "q1.check()"
   ]
  },
  {
   "cell_type": "code",
   "execution_count": 5,
   "id": "78a5aebb",
   "metadata": {
    "execution": {
     "iopub.execute_input": "2022-11-11T20:20:55.287462Z",
     "iopub.status.busy": "2022-11-11T20:20:55.286816Z",
     "iopub.status.idle": "2022-11-11T20:20:55.290382Z",
     "shell.execute_reply": "2022-11-11T20:20:55.289678Z"
    },
    "papermill": {
     "duration": 0.011717,
     "end_time": "2022-11-11T20:20:55.292436",
     "exception": false,
     "start_time": "2022-11-11T20:20:55.280719",
     "status": "completed"
    },
    "tags": []
   },
   "outputs": [],
   "source": [
    "# Lines below will give you a hint or solution code\n",
    "#q1.hint()\n",
    "# q1.solution()"
   ]
  },
  {
   "cell_type": "markdown",
   "id": "5d83a50d",
   "metadata": {
    "papermill": {
     "duration": 0.006273,
     "end_time": "2022-11-11T20:20:55.303767",
     "exception": false,
     "start_time": "2022-11-11T20:20:55.297494",
     "status": "completed"
    },
    "tags": []
   },
   "source": [
    "# 2) Reading in files with encoding problems\n",
    "\n",
    "Use the code cell below to read in this file at path `\"../input/fatal-police-shootings-in-the-us/PoliceKillingsUS.csv\"`.  \n",
    "\n",
    "Figure out what the correct encoding should be and read in the file to a DataFrame `police_killings`."
   ]
  },
  {
   "cell_type": "code",
   "execution_count": 6,
   "id": "ba7a6a15",
   "metadata": {
    "execution": {
     "iopub.execute_input": "2022-11-11T20:20:55.315477Z",
     "iopub.status.busy": "2022-11-11T20:20:55.314809Z",
     "iopub.status.idle": "2022-11-11T20:20:56.865958Z",
     "shell.execute_reply": "2022-11-11T20:20:56.864822Z"
    },
    "papermill": {
     "duration": 1.55945,
     "end_time": "2022-11-11T20:20:56.868143",
     "exception": false,
     "start_time": "2022-11-11T20:20:55.308693",
     "status": "completed"
    },
    "tags": []
   },
   "outputs": [
    {
     "name": "stdout",
     "output_type": "stream",
     "text": [
      "{'encoding': 'Windows-1252', 'confidence': 0.73, 'language': ''}\n"
     ]
    },
    {
     "data": {
      "application/javascript": [
       "parent.postMessage({\"jupyterEvent\": \"custom.exercise_interaction\", \"data\": {\"outcomeType\": 1, \"valueTowardsCompletion\": 0.3333333333333333, \"interactionType\": 1, \"questionType\": 1, \"questionId\": \"2_ReadIn\", \"learnToolsVersion\": \"0.3.4\", \"failureMessage\": \"\", \"exceptionClass\": \"\", \"trace\": \"\"}}, \"*\")"
      ],
      "text/plain": [
       "<IPython.core.display.Javascript object>"
      ]
     },
     "metadata": {},
     "output_type": "display_data"
    },
    {
     "data": {
      "text/markdown": [
       "<span style=\"color:#33cc33\">Correct</span>"
      ],
      "text/plain": [
       "Correct"
      ]
     },
     "metadata": {},
     "output_type": "display_data"
    }
   ],
   "source": [
    "# TODO: Load in the DataFrame correctly.\n",
    "with open(\"../input/fatal-police-shootings-in-the-us/PoliceKillingsUS.csv\", \"rb\") as rawdata:\n",
    "    result = chardet.detect(rawdata.read(100000))\n",
    "print(result)\n",
    "police_killings = pd.read_csv(\"../input/fatal-police-shootings-in-the-us/PoliceKillingsUS.csv\", encoding=\"'Windows-1252'\")\n",
    "\n",
    "# Check your answer\n",
    "q2.check()"
   ]
  },
  {
   "cell_type": "markdown",
   "id": "f574cf4c",
   "metadata": {
    "papermill": {
     "duration": 0.004927,
     "end_time": "2022-11-11T20:20:56.878398",
     "exception": false,
     "start_time": "2022-11-11T20:20:56.873471",
     "status": "completed"
    },
    "tags": []
   },
   "source": [
    "Feel free to use any additional code cells for supplemental work.  To get credit for finishing this question, you'll need to run `q2.check()` and get a result of **Correct**."
   ]
  },
  {
   "cell_type": "code",
   "execution_count": 7,
   "id": "9ecc2107",
   "metadata": {
    "execution": {
     "iopub.execute_input": "2022-11-11T20:20:56.891081Z",
     "iopub.status.busy": "2022-11-11T20:20:56.889714Z",
     "iopub.status.idle": "2022-11-11T20:20:56.895502Z",
     "shell.execute_reply": "2022-11-11T20:20:56.894422Z"
    },
    "papermill": {
     "duration": 0.01423,
     "end_time": "2022-11-11T20:20:56.897689",
     "exception": false,
     "start_time": "2022-11-11T20:20:56.883459",
     "status": "completed"
    },
    "tags": []
   },
   "outputs": [],
   "source": [
    "# (Optional) Use this code cell for any additional work."
   ]
  },
  {
   "cell_type": "code",
   "execution_count": 8,
   "id": "e16d39cf",
   "metadata": {
    "execution": {
     "iopub.execute_input": "2022-11-11T20:20:56.909614Z",
     "iopub.status.busy": "2022-11-11T20:20:56.909238Z",
     "iopub.status.idle": "2022-11-11T20:20:56.917870Z",
     "shell.execute_reply": "2022-11-11T20:20:56.917064Z"
    },
    "papermill": {
     "duration": 0.017135,
     "end_time": "2022-11-11T20:20:56.919967",
     "exception": false,
     "start_time": "2022-11-11T20:20:56.902832",
     "status": "completed"
    },
    "tags": []
   },
   "outputs": [
    {
     "data": {
      "application/javascript": [
       "parent.postMessage({\"jupyterEvent\": \"custom.exercise_interaction\", \"data\": {\"interactionType\": 2, \"questionType\": 1, \"questionId\": \"2_ReadIn\", \"learnToolsVersion\": \"0.3.4\", \"valueTowardsCompletion\": 0.0, \"failureMessage\": \"\", \"exceptionClass\": \"\", \"trace\": \"\", \"outcomeType\": 4}}, \"*\")"
      ],
      "text/plain": [
       "<IPython.core.display.Javascript object>"
      ]
     },
     "metadata": {},
     "output_type": "display_data"
    },
    {
     "data": {
      "text/markdown": [
       "<span style=\"color:#3366cc\">Hint:</span> If you try to guess the encoding with the first 10,000 bytes of the file, it might give you the wrong answer.  Try using 100,000 or more lines of the file."
      ],
      "text/plain": [
       "Hint: If you try to guess the encoding with the first 10,000 bytes of the file, it might give you the wrong answer.  Try using 100,000 or more lines of the file."
      ]
     },
     "metadata": {},
     "output_type": "display_data"
    }
   ],
   "source": [
    "# Lines below will give you a hint or solution code\n",
    "q2.hint()\n",
    "# q2.solution()"
   ]
  },
  {
   "cell_type": "markdown",
   "id": "3ff01eb6",
   "metadata": {
    "papermill": {
     "duration": 0.005119,
     "end_time": "2022-11-11T20:20:56.930503",
     "exception": false,
     "start_time": "2022-11-11T20:20:56.925384",
     "status": "completed"
    },
    "tags": []
   },
   "source": [
    "# 3) Saving your files with UTF-8 encoding\n",
    "\n",
    "Save a version of the police killings dataset to CSV with UTF-8 encoding.  Your answer will be marked correct after saving this file.  \n",
    "\n",
    "Note: When using the `to_csv()` method, supply only the name of the file (e.g., `\"my_file.csv\"`).  This saves the file at the filepath `\"/kaggle/working/my_file.csv\"`."
   ]
  },
  {
   "cell_type": "code",
   "execution_count": 9,
   "id": "f78eb9f5",
   "metadata": {
    "execution": {
     "iopub.execute_input": "2022-11-11T20:20:56.942704Z",
     "iopub.status.busy": "2022-11-11T20:20:56.942271Z",
     "iopub.status.idle": "2022-11-11T20:20:56.975309Z",
     "shell.execute_reply": "2022-11-11T20:20:56.974045Z"
    },
    "papermill": {
     "duration": 0.041833,
     "end_time": "2022-11-11T20:20:56.977608",
     "exception": false,
     "start_time": "2022-11-11T20:20:56.935775",
     "status": "completed"
    },
    "tags": []
   },
   "outputs": [
    {
     "data": {
      "application/javascript": [
       "parent.postMessage({\"jupyterEvent\": \"custom.exercise_interaction\", \"data\": {\"outcomeType\": 1, \"valueTowardsCompletion\": 0.3333333333333333, \"interactionType\": 1, \"questionType\": 2, \"questionId\": \"3_SaveCSV\", \"learnToolsVersion\": \"0.3.4\", \"failureMessage\": \"\", \"exceptionClass\": \"\", \"trace\": \"\"}}, \"*\")"
      ],
      "text/plain": [
       "<IPython.core.display.Javascript object>"
      ]
     },
     "metadata": {},
     "output_type": "display_data"
    },
    {
     "data": {
      "text/markdown": [
       "<span style=\"color:#33cc33\">Correct</span>"
      ],
      "text/plain": [
       "Correct"
      ]
     },
     "metadata": {},
     "output_type": "display_data"
    }
   ],
   "source": [
    "# TODO: Save the police killings dataset to CSV\n",
    "\n",
    "police_killings.to_csv(\"pk-utf8.csv\")\n",
    "# Check your answer\n",
    "q3.check()"
   ]
  },
  {
   "cell_type": "code",
   "execution_count": 10,
   "id": "30f852d9",
   "metadata": {
    "execution": {
     "iopub.execute_input": "2022-11-11T20:20:56.990734Z",
     "iopub.status.busy": "2022-11-11T20:20:56.990388Z",
     "iopub.status.idle": "2022-11-11T20:20:56.994297Z",
     "shell.execute_reply": "2022-11-11T20:20:56.993319Z"
    },
    "papermill": {
     "duration": 0.013238,
     "end_time": "2022-11-11T20:20:56.996636",
     "exception": false,
     "start_time": "2022-11-11T20:20:56.983398",
     "status": "completed"
    },
    "tags": []
   },
   "outputs": [],
   "source": [
    "# Lines below will give you a hint or solution code\n",
    "#q3.hint()\n",
    "#q3.solution()"
   ]
  },
  {
   "cell_type": "markdown",
   "id": "1a6b247b",
   "metadata": {
    "papermill": {
     "duration": 0.005596,
     "end_time": "2022-11-11T20:20:57.007951",
     "exception": false,
     "start_time": "2022-11-11T20:20:57.002355",
     "status": "completed"
    },
    "tags": []
   },
   "source": [
    "# (Optional) More practice\n",
    "\n",
    "Check out [this dataset of files in different character encodings](https://www.kaggle.com/rtatman/character-encoding-examples). Can you read in all the files with their original encodings and them save them out as UTF-8 files?\n",
    "\n",
    "If you have a file that's in UTF-8 but has just a couple of weird-looking characters in it, you can try out the [ftfy module](https://ftfy.readthedocs.io/en/latest/#) and see if it helps. \n",
    "\n",
    "# Keep going\n",
    "\n",
    "In the final lesson, learn how to [**clean up inconsistent text entries**](https://www.kaggle.com/alexisbcook/inconsistent-data-entry) in your dataset."
   ]
  },
  {
   "cell_type": "markdown",
   "id": "a97a2600",
   "metadata": {
    "papermill": {
     "duration": 0.005338,
     "end_time": "2022-11-11T20:20:57.019028",
     "exception": false,
     "start_time": "2022-11-11T20:20:57.013690",
     "status": "completed"
    },
    "tags": []
   },
   "source": [
    "---\n",
    "\n",
    "\n",
    "\n",
    "\n",
    "*Have questions or comments? Visit the [course discussion forum](https://www.kaggle.com/learn/data-cleaning/discussion) to chat with other learners.*"
   ]
  }
 ],
 "metadata": {
  "kernelspec": {
   "display_name": "Python 3",
   "language": "python",
   "name": "python3"
  },
  "language_info": {
   "codemirror_mode": {
    "name": "ipython",
    "version": 3
   },
   "file_extension": ".py",
   "mimetype": "text/x-python",
   "name": "python",
   "nbconvert_exporter": "python",
   "pygments_lexer": "ipython3",
   "version": "3.7.12"
  },
  "papermill": {
   "default_parameters": {},
   "duration": 10.71103,
   "end_time": "2022-11-11T20:20:57.646290",
   "environment_variables": {},
   "exception": null,
   "input_path": "__notebook__.ipynb",
   "output_path": "__notebook__.ipynb",
   "parameters": {},
   "start_time": "2022-11-11T20:20:46.935260",
   "version": "2.3.4"
  }
 },
 "nbformat": 4,
 "nbformat_minor": 5
}
