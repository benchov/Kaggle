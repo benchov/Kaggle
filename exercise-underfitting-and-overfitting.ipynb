{
 "cells": [
  {
   "cell_type": "markdown",
   "id": "cc349294",
   "metadata": {
    "papermill": {
     "duration": 0.005156,
     "end_time": "2022-11-14T06:56:18.647597",
     "exception": false,
     "start_time": "2022-11-14T06:56:18.642441",
     "status": "completed"
    },
    "tags": []
   },
   "source": [
    "**This notebook is an exercise in the [Introduction to Machine Learning](https://www.kaggle.com/learn/intro-to-machine-learning) course.  You can reference the tutorial at [this link](https://www.kaggle.com/dansbecker/underfitting-and-overfitting).**\n",
    "\n",
    "---\n"
   ]
  },
  {
   "cell_type": "markdown",
   "id": "c0d4df51",
   "metadata": {
    "papermill": {
     "duration": 0.003305,
     "end_time": "2022-11-14T06:56:18.654916",
     "exception": false,
     "start_time": "2022-11-14T06:56:18.651611",
     "status": "completed"
    },
    "tags": []
   },
   "source": [
    "## Recap\n",
    "You've built your first model, and now it's time to optimize the size of the tree to make better predictions. Run this cell to set up your coding environment where the previous step left off."
   ]
  },
  {
   "cell_type": "code",
   "execution_count": 1,
   "id": "297f1e9a",
   "metadata": {
    "execution": {
     "iopub.execute_input": "2022-11-14T06:56:18.664513Z",
     "iopub.status.busy": "2022-11-14T06:56:18.663989Z",
     "iopub.status.idle": "2022-11-14T06:56:20.109013Z",
     "shell.execute_reply": "2022-11-14T06:56:20.107658Z"
    },
    "papermill": {
     "duration": 1.454691,
     "end_time": "2022-11-14T06:56:20.113109",
     "exception": false,
     "start_time": "2022-11-14T06:56:18.658418",
     "status": "completed"
    },
    "tags": []
   },
   "outputs": [
    {
     "name": "stdout",
     "output_type": "stream",
     "text": [
      "Validation MAE: 29,653\n",
      "\n",
      "Setup complete\n"
     ]
    }
   ],
   "source": [
    "# Code you have previously used to load data\n",
    "import pandas as pd\n",
    "from sklearn.metrics import mean_absolute_error\n",
    "from sklearn.model_selection import train_test_split\n",
    "from sklearn.tree import DecisionTreeRegressor\n",
    "\n",
    "\n",
    "# Path of the file to read\n",
    "iowa_file_path = '../input/home-data-for-ml-course/train.csv'\n",
    "\n",
    "home_data = pd.read_csv(iowa_file_path)\n",
    "# Create target object and call it y\n",
    "y = home_data.SalePrice\n",
    "# Create X\n",
    "features = ['LotArea', 'YearBuilt', '1stFlrSF', '2ndFlrSF', 'FullBath', 'BedroomAbvGr', 'TotRmsAbvGrd']\n",
    "X = home_data[features]\n",
    "\n",
    "# Split into validation and training data\n",
    "train_X, val_X, train_y, val_y = train_test_split(X, y, random_state=1)\n",
    "\n",
    "# Specify Model\n",
    "iowa_model = DecisionTreeRegressor(random_state=1)\n",
    "# Fit Model\n",
    "iowa_model.fit(train_X, train_y)\n",
    "\n",
    "# Make validation predictions and calculate mean absolute error\n",
    "val_predictions = iowa_model.predict(val_X)\n",
    "val_mae = mean_absolute_error(val_predictions, val_y)\n",
    "print(\"Validation MAE: {:,.0f}\".format(val_mae))\n",
    "\n",
    "# Set up code checking\n",
    "from learntools.core import binder\n",
    "binder.bind(globals())\n",
    "from learntools.machine_learning.ex5 import *\n",
    "print(\"\\nSetup complete\")"
   ]
  },
  {
   "cell_type": "markdown",
   "id": "fecf32a8",
   "metadata": {
    "papermill": {
     "duration": 0.003927,
     "end_time": "2022-11-14T06:56:20.122088",
     "exception": false,
     "start_time": "2022-11-14T06:56:20.118161",
     "status": "completed"
    },
    "tags": []
   },
   "source": [
    "# Exercises\n",
    "You could write the function `get_mae` yourself. For now, we'll supply it. This is the same function you read about in the previous lesson. Just run the cell below."
   ]
  },
  {
   "cell_type": "code",
   "execution_count": 2,
   "id": "96bead14",
   "metadata": {
    "execution": {
     "iopub.execute_input": "2022-11-14T06:56:20.133045Z",
     "iopub.status.busy": "2022-11-14T06:56:20.131517Z",
     "iopub.status.idle": "2022-11-14T06:56:20.139449Z",
     "shell.execute_reply": "2022-11-14T06:56:20.138286Z"
    },
    "papermill": {
     "duration": 0.015928,
     "end_time": "2022-11-14T06:56:20.141965",
     "exception": false,
     "start_time": "2022-11-14T06:56:20.126037",
     "status": "completed"
    },
    "tags": []
   },
   "outputs": [],
   "source": [
    "def get_mae(max_leaf_nodes, train_X, val_X, train_y, val_y):\n",
    "    model = DecisionTreeRegressor(max_leaf_nodes=max_leaf_nodes, random_state=0)\n",
    "    model.fit(train_X, train_y)\n",
    "    preds_val = model.predict(val_X)\n",
    "    mae = mean_absolute_error(val_y, preds_val)\n",
    "    return(mae)"
   ]
  },
  {
   "cell_type": "markdown",
   "id": "71da1451",
   "metadata": {
    "papermill": {
     "duration": 0.003596,
     "end_time": "2022-11-14T06:56:20.149612",
     "exception": false,
     "start_time": "2022-11-14T06:56:20.146016",
     "status": "completed"
    },
    "tags": []
   },
   "source": [
    "## Step 1: Compare Different Tree Sizes\n",
    "Write a loop that tries the following values for *max_leaf_nodes* from a set of possible values.\n",
    "\n",
    "Call the *get_mae* function on each value of max_leaf_nodes. Store the output in some way that allows you to select the value of `max_leaf_nodes` that gives the most accurate model on your data."
   ]
  },
  {
   "cell_type": "code",
   "execution_count": 3,
   "id": "c7589b3f",
   "metadata": {
    "execution": {
     "iopub.execute_input": "2022-11-14T06:56:20.159590Z",
     "iopub.status.busy": "2022-11-14T06:56:20.158516Z",
     "iopub.status.idle": "2022-11-14T06:56:20.212505Z",
     "shell.execute_reply": "2022-11-14T06:56:20.211212Z"
    },
    "papermill": {
     "duration": 0.062429,
     "end_time": "2022-11-14T06:56:20.215703",
     "exception": false,
     "start_time": "2022-11-14T06:56:20.153274",
     "status": "completed"
    },
    "tags": []
   },
   "outputs": [
    {
     "data": {
      "application/javascript": [
       "parent.postMessage({\"jupyterEvent\": \"custom.exercise_interaction\", \"data\": {\"outcomeType\": 1, \"valueTowardsCompletion\": 0.5, \"interactionType\": 1, \"questionType\": 1, \"questionId\": \"1_BestTreeSize\", \"learnToolsVersion\": \"0.3.4\", \"failureMessage\": \"\", \"exceptionClass\": \"\", \"trace\": \"\"}}, \"*\")"
      ],
      "text/plain": [
       "<IPython.core.display.Javascript object>"
      ]
     },
     "metadata": {},
     "output_type": "display_data"
    },
    {
     "data": {
      "text/markdown": [
       "<span style=\"color:#33cc33\">Correct</span>"
      ],
      "text/plain": [
       "Correct"
      ]
     },
     "metadata": {},
     "output_type": "display_data"
    }
   ],
   "source": [
    "candidate_max_leaf_nodes = [5, 25, 50, 100, 250, 500]\n",
    "# Write loop to find the ideal tree size from candidate_max_leaf_nodes\n",
    "node_container = []\n",
    "for max_leaf_nodes in candidate_max_leaf_nodes:\n",
    "    node_container.append([get_mae(max_leaf_nodes, train_X, val_X, train_y, val_y), max_leaf_nodes] )\n",
    "# Store the best value of max_leaf_nodes (it will be either 5, 25, 50, 100, 250 or 500)\n",
    "best_tree_size = sorted(node_container, key = lambda x:x[0])[0][1]\n",
    "\n",
    "# Check your answer\n",
    "step_1.check()"
   ]
  },
  {
   "cell_type": "code",
   "execution_count": 4,
   "id": "a93c5672",
   "metadata": {
    "execution": {
     "iopub.execute_input": "2022-11-14T06:56:20.226441Z",
     "iopub.status.busy": "2022-11-14T06:56:20.225387Z",
     "iopub.status.idle": "2022-11-14T06:56:20.231353Z",
     "shell.execute_reply": "2022-11-14T06:56:20.230222Z"
    },
    "papermill": {
     "duration": 0.013832,
     "end_time": "2022-11-14T06:56:20.233837",
     "exception": false,
     "start_time": "2022-11-14T06:56:20.220005",
     "status": "completed"
    },
    "tags": []
   },
   "outputs": [],
   "source": [
    "# The lines below will show you a hint or the solution.\n",
    "# step_1.hint() \n",
    "# step_1.solution()"
   ]
  },
  {
   "cell_type": "markdown",
   "id": "3998f892",
   "metadata": {
    "papermill": {
     "duration": 0.004172,
     "end_time": "2022-11-14T06:56:20.242222",
     "exception": false,
     "start_time": "2022-11-14T06:56:20.238050",
     "status": "completed"
    },
    "tags": []
   },
   "source": [
    "## Step 2: Fit Model Using All Data\n",
    "You know the best tree size. If you were going to deploy this model in practice, you would make it even more accurate by using all of the data and keeping that tree size.  That is, you don't need to hold out the validation data now that you've made all your modeling decisions."
   ]
  },
  {
   "cell_type": "code",
   "execution_count": 5,
   "id": "2175c9dd",
   "metadata": {
    "execution": {
     "iopub.execute_input": "2022-11-14T06:56:20.253003Z",
     "iopub.status.busy": "2022-11-14T06:56:20.252514Z",
     "iopub.status.idle": "2022-11-14T06:56:20.273279Z",
     "shell.execute_reply": "2022-11-14T06:56:20.272023Z"
    },
    "papermill": {
     "duration": 0.028893,
     "end_time": "2022-11-14T06:56:20.275793",
     "exception": false,
     "start_time": "2022-11-14T06:56:20.246900",
     "status": "completed"
    },
    "tags": []
   },
   "outputs": [
    {
     "data": {
      "application/javascript": [
       "parent.postMessage({\"jupyterEvent\": \"custom.exercise_interaction\", \"data\": {\"outcomeType\": 1, \"valueTowardsCompletion\": 0.5, \"interactionType\": 1, \"questionType\": 2, \"questionId\": \"2_FitModelWithAllData\", \"learnToolsVersion\": \"0.3.4\", \"failureMessage\": \"\", \"exceptionClass\": \"\", \"trace\": \"\"}}, \"*\")"
      ],
      "text/plain": [
       "<IPython.core.display.Javascript object>"
      ]
     },
     "metadata": {},
     "output_type": "display_data"
    },
    {
     "data": {
      "text/markdown": [
       "<span style=\"color:#33cc33\">Correct</span>"
      ],
      "text/plain": [
       "Correct"
      ]
     },
     "metadata": {},
     "output_type": "display_data"
    }
   ],
   "source": [
    "# Fill in argument to make optimal size and uncomment\n",
    "final_model = DecisionTreeRegressor(max_leaf_nodes=best_tree_size, random_state=0)\n",
    "\n",
    "# fit the final model and uncomment the next two lines\n",
    "final_model.fit(X, y)\n",
    "\n",
    "# Check your answer\n",
    "step_2.check()"
   ]
  },
  {
   "cell_type": "code",
   "execution_count": 6,
   "id": "a7acecfe",
   "metadata": {
    "execution": {
     "iopub.execute_input": "2022-11-14T06:56:20.286910Z",
     "iopub.status.busy": "2022-11-14T06:56:20.286428Z",
     "iopub.status.idle": "2022-11-14T06:56:20.294844Z",
     "shell.execute_reply": "2022-11-14T06:56:20.294046Z"
    },
    "papermill": {
     "duration": 0.016481,
     "end_time": "2022-11-14T06:56:20.296796",
     "exception": false,
     "start_time": "2022-11-14T06:56:20.280315",
     "status": "completed"
    },
    "tags": []
   },
   "outputs": [
    {
     "data": {
      "application/javascript": [
       "parent.postMessage({\"jupyterEvent\": \"custom.exercise_interaction\", \"data\": {\"interactionType\": 3, \"questionType\": 2, \"questionId\": \"2_FitModelWithAllData\", \"learnToolsVersion\": \"0.3.4\", \"valueTowardsCompletion\": 0.0, \"failureMessage\": \"\", \"exceptionClass\": \"\", \"trace\": \"\", \"outcomeType\": 4}}, \"*\")"
      ],
      "text/plain": [
       "<IPython.core.display.Javascript object>"
      ]
     },
     "metadata": {},
     "output_type": "display_data"
    },
    {
     "data": {
      "text/markdown": [
       "<span style=\"color:#33cc99\">Solution:</span> \n",
       "```python\n",
       "# Fit the model with best_tree_size. Fill in argument to make optimal size\n",
       "final_model = DecisionTreeRegressor(max_leaf_nodes=best_tree_size, random_state=1)\n",
       "\n",
       "# fit the final model\n",
       "final_model.fit(X, y)\n",
       "```"
      ],
      "text/plain": [
       "Solution: \n",
       "```python\n",
       "# Fit the model with best_tree_size. Fill in argument to make optimal size\n",
       "final_model = DecisionTreeRegressor(max_leaf_nodes=best_tree_size, random_state=1)\n",
       "\n",
       "# fit the final model\n",
       "final_model.fit(X, y)\n",
       "```"
      ]
     },
     "metadata": {},
     "output_type": "display_data"
    }
   ],
   "source": [
    "# step_2.hint()\n",
    "step_2.solution()"
   ]
  },
  {
   "cell_type": "markdown",
   "id": "f47ae18a",
   "metadata": {
    "papermill": {
     "duration": 0.004211,
     "end_time": "2022-11-14T06:56:20.305413",
     "exception": false,
     "start_time": "2022-11-14T06:56:20.301202",
     "status": "completed"
    },
    "tags": []
   },
   "source": [
    "You've tuned this model and improved your results. But we are still using Decision Tree models, which are not very sophisticated by modern machine learning standards. In the next step you will learn to use Random Forests to improve your models even more.\n",
    "\n",
    "# Keep Going\n",
    "\n",
    "You are ready for **[Random Forests](https://www.kaggle.com/dansbecker/random-forests).**\n"
   ]
  },
  {
   "cell_type": "markdown",
   "id": "6bf28ee2",
   "metadata": {
    "papermill": {
     "duration": 0.003983,
     "end_time": "2022-11-14T06:56:20.313767",
     "exception": false,
     "start_time": "2022-11-14T06:56:20.309784",
     "status": "completed"
    },
    "tags": []
   },
   "source": [
    "---\n",
    "\n",
    "\n",
    "\n",
    "\n",
    "*Have questions or comments? Visit the [course discussion forum](https://www.kaggle.com/learn/intro-to-machine-learning/discussion) to chat with other learners.*"
   ]
  }
 ],
 "metadata": {
  "kernelspec": {
   "display_name": "Python 3",
   "language": "python",
   "name": "python3"
  },
  "language_info": {
   "codemirror_mode": {
    "name": "ipython",
    "version": 3
   },
   "file_extension": ".py",
   "mimetype": "text/x-python",
   "name": "python",
   "nbconvert_exporter": "python",
   "pygments_lexer": "ipython3",
   "version": "3.7.12"
  },
  "papermill": {
   "default_parameters": {},
   "duration": 11.457865,
   "end_time": "2022-11-14T06:56:21.341708",
   "environment_variables": {},
   "exception": null,
   "input_path": "__notebook__.ipynb",
   "output_path": "__notebook__.ipynb",
   "parameters": {},
   "start_time": "2022-11-14T06:56:09.883843",
   "version": "2.3.4"
  }
 },
 "nbformat": 4,
 "nbformat_minor": 5
}
