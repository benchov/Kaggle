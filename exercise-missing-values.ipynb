{
 "cells": [
  {
   "cell_type": "markdown",
   "id": "3b080bb4",
   "metadata": {
    "papermill": {
     "duration": 0.013812,
     "end_time": "2022-11-19T19:38:43.580293",
     "exception": false,
     "start_time": "2022-11-19T19:38:43.566481",
     "status": "completed"
    },
    "tags": []
   },
   "source": [
    "**This notebook is an exercise in the [Intermediate Machine Learning](https://www.kaggle.com/learn/intermediate-machine-learning) course.  You can reference the tutorial at [this link](https://www.kaggle.com/alexisbcook/missing-values).**\n",
    "\n",
    "---\n"
   ]
  },
  {
   "cell_type": "markdown",
   "id": "bd5d1015",
   "metadata": {
    "papermill": {
     "duration": 0.011182,
     "end_time": "2022-11-19T19:38:43.602613",
     "exception": false,
     "start_time": "2022-11-19T19:38:43.591431",
     "status": "completed"
    },
    "tags": []
   },
   "source": [
    "Now it's your turn to test your new knowledge of **missing values** handling. You'll probably find it makes a big difference.\n",
    "\n",
    "# Setup\n",
    "\n",
    "The questions will give you feedback on your work. Run the following cell to set up the feedback system."
   ]
  },
  {
   "cell_type": "code",
   "execution_count": 1,
   "id": "6154f0b9",
   "metadata": {
    "execution": {
     "iopub.execute_input": "2022-11-19T19:38:43.625684Z",
     "iopub.status.busy": "2022-11-19T19:38:43.624968Z",
     "iopub.status.idle": "2022-11-19T19:38:43.697433Z",
     "shell.execute_reply": "2022-11-19T19:38:43.696157Z"
    },
    "papermill": {
     "duration": 0.097077,
     "end_time": "2022-11-19T19:38:43.710071",
     "exception": false,
     "start_time": "2022-11-19T19:38:43.612994",
     "status": "completed"
    },
    "tags": []
   },
   "outputs": [
    {
     "name": "stdout",
     "output_type": "stream",
     "text": [
      "Setup Complete\n"
     ]
    }
   ],
   "source": [
    "# Set up code checking\n",
    "import os\n",
    "if not os.path.exists(\"../input/train.csv\"):\n",
    "    os.symlink(\"../input/home-data-for-ml-course/train.csv\", \"../input/train.csv\")  \n",
    "    os.symlink(\"../input/home-data-for-ml-course/test.csv\", \"../input/test.csv\") \n",
    "from learntools.core import binder\n",
    "binder.bind(globals())\n",
    "from learntools.ml_intermediate.ex2 import *\n",
    "print(\"Setup Complete\")"
   ]
  },
  {
   "cell_type": "markdown",
   "id": "cb305dcc",
   "metadata": {
    "papermill": {
     "duration": 0.010369,
     "end_time": "2022-11-19T19:38:43.732265",
     "exception": false,
     "start_time": "2022-11-19T19:38:43.721896",
     "status": "completed"
    },
    "tags": []
   },
   "source": [
    "In this exercise, you will work with data from the [Housing Prices Competition for Kaggle Learn Users](https://www.kaggle.com/c/home-data-for-ml-course). \n",
    "\n",
    "![Ames Housing dataset image](https://i.imgur.com/lTJVG4e.png)\n",
    "\n",
    "Run the next code cell without changes to load the training and validation sets in `X_train`, `X_valid`, `y_train`, and `y_valid`.  The test set is loaded in `X_test`."
   ]
  },
  {
   "cell_type": "code",
   "execution_count": 2,
   "id": "b3160aed",
   "metadata": {
    "execution": {
     "iopub.execute_input": "2022-11-19T19:38:43.755158Z",
     "iopub.status.busy": "2022-11-19T19:38:43.754395Z",
     "iopub.status.idle": "2022-11-19T19:38:45.102401Z",
     "shell.execute_reply": "2022-11-19T19:38:45.101385Z"
    },
    "papermill": {
     "duration": 1.362834,
     "end_time": "2022-11-19T19:38:45.105433",
     "exception": false,
     "start_time": "2022-11-19T19:38:43.742599",
     "status": "completed"
    },
    "tags": []
   },
   "outputs": [],
   "source": [
    "import pandas as pd\n",
    "from sklearn.model_selection import train_test_split\n",
    "\n",
    "# Read the data\n",
    "X_full = pd.read_csv('../input/train.csv', index_col='Id')\n",
    "X_test_full = pd.read_csv('../input/test.csv', index_col='Id')\n",
    "\n",
    "# Remove rows with missing target, separate target from predictors\n",
    "X_full.dropna(axis=0, subset=['SalePrice'], inplace=True)\n",
    "y = X_full.SalePrice\n",
    "X_full.drop(['SalePrice'], axis=1, inplace=True)\n",
    "\n",
    "# To keep things simple, we'll use only numerical predictors\n",
    "X = X_full.select_dtypes(exclude=['object'])\n",
    "X_test = X_test_full.select_dtypes(exclude=['object'])\n",
    "\n",
    "# Break off validation set from training data\n",
    "X_train, X_valid, y_train, y_valid = train_test_split(X, y, train_size=0.8, test_size=0.2,\n",
    "                                                      random_state=0)"
   ]
  },
  {
   "cell_type": "markdown",
   "id": "be70570b",
   "metadata": {
    "papermill": {
     "duration": 0.009981,
     "end_time": "2022-11-19T19:38:45.125806",
     "exception": false,
     "start_time": "2022-11-19T19:38:45.115825",
     "status": "completed"
    },
    "tags": []
   },
   "source": [
    "Use the next code cell to print the first five rows of the data."
   ]
  },
  {
   "cell_type": "code",
   "execution_count": 3,
   "id": "2c67fe9d",
   "metadata": {
    "execution": {
     "iopub.execute_input": "2022-11-19T19:38:45.147992Z",
     "iopub.status.busy": "2022-11-19T19:38:45.147573Z",
     "iopub.status.idle": "2022-11-19T19:38:45.177684Z",
     "shell.execute_reply": "2022-11-19T19:38:45.176517Z"
    },
    "papermill": {
     "duration": 0.044142,
     "end_time": "2022-11-19T19:38:45.180417",
     "exception": false,
     "start_time": "2022-11-19T19:38:45.136275",
     "status": "completed"
    },
    "tags": []
   },
   "outputs": [
    {
     "data": {
      "text/html": [
       "<div>\n",
       "<style scoped>\n",
       "    .dataframe tbody tr th:only-of-type {\n",
       "        vertical-align: middle;\n",
       "    }\n",
       "\n",
       "    .dataframe tbody tr th {\n",
       "        vertical-align: top;\n",
       "    }\n",
       "\n",
       "    .dataframe thead th {\n",
       "        text-align: right;\n",
       "    }\n",
       "</style>\n",
       "<table border=\"1\" class=\"dataframe\">\n",
       "  <thead>\n",
       "    <tr style=\"text-align: right;\">\n",
       "      <th></th>\n",
       "      <th>MSSubClass</th>\n",
       "      <th>LotFrontage</th>\n",
       "      <th>LotArea</th>\n",
       "      <th>OverallQual</th>\n",
       "      <th>OverallCond</th>\n",
       "      <th>YearBuilt</th>\n",
       "      <th>YearRemodAdd</th>\n",
       "      <th>MasVnrArea</th>\n",
       "      <th>BsmtFinSF1</th>\n",
       "      <th>BsmtFinSF2</th>\n",
       "      <th>...</th>\n",
       "      <th>GarageArea</th>\n",
       "      <th>WoodDeckSF</th>\n",
       "      <th>OpenPorchSF</th>\n",
       "      <th>EnclosedPorch</th>\n",
       "      <th>3SsnPorch</th>\n",
       "      <th>ScreenPorch</th>\n",
       "      <th>PoolArea</th>\n",
       "      <th>MiscVal</th>\n",
       "      <th>MoSold</th>\n",
       "      <th>YrSold</th>\n",
       "    </tr>\n",
       "    <tr>\n",
       "      <th>Id</th>\n",
       "      <th></th>\n",
       "      <th></th>\n",
       "      <th></th>\n",
       "      <th></th>\n",
       "      <th></th>\n",
       "      <th></th>\n",
       "      <th></th>\n",
       "      <th></th>\n",
       "      <th></th>\n",
       "      <th></th>\n",
       "      <th></th>\n",
       "      <th></th>\n",
       "      <th></th>\n",
       "      <th></th>\n",
       "      <th></th>\n",
       "      <th></th>\n",
       "      <th></th>\n",
       "      <th></th>\n",
       "      <th></th>\n",
       "      <th></th>\n",
       "      <th></th>\n",
       "    </tr>\n",
       "  </thead>\n",
       "  <tbody>\n",
       "    <tr>\n",
       "      <th>619</th>\n",
       "      <td>20</td>\n",
       "      <td>90.0</td>\n",
       "      <td>11694</td>\n",
       "      <td>9</td>\n",
       "      <td>5</td>\n",
       "      <td>2007</td>\n",
       "      <td>2007</td>\n",
       "      <td>452.0</td>\n",
       "      <td>48</td>\n",
       "      <td>0</td>\n",
       "      <td>...</td>\n",
       "      <td>774</td>\n",
       "      <td>0</td>\n",
       "      <td>108</td>\n",
       "      <td>0</td>\n",
       "      <td>0</td>\n",
       "      <td>260</td>\n",
       "      <td>0</td>\n",
       "      <td>0</td>\n",
       "      <td>7</td>\n",
       "      <td>2007</td>\n",
       "    </tr>\n",
       "    <tr>\n",
       "      <th>871</th>\n",
       "      <td>20</td>\n",
       "      <td>60.0</td>\n",
       "      <td>6600</td>\n",
       "      <td>5</td>\n",
       "      <td>5</td>\n",
       "      <td>1962</td>\n",
       "      <td>1962</td>\n",
       "      <td>0.0</td>\n",
       "      <td>0</td>\n",
       "      <td>0</td>\n",
       "      <td>...</td>\n",
       "      <td>308</td>\n",
       "      <td>0</td>\n",
       "      <td>0</td>\n",
       "      <td>0</td>\n",
       "      <td>0</td>\n",
       "      <td>0</td>\n",
       "      <td>0</td>\n",
       "      <td>0</td>\n",
       "      <td>8</td>\n",
       "      <td>2009</td>\n",
       "    </tr>\n",
       "    <tr>\n",
       "      <th>93</th>\n",
       "      <td>30</td>\n",
       "      <td>80.0</td>\n",
       "      <td>13360</td>\n",
       "      <td>5</td>\n",
       "      <td>7</td>\n",
       "      <td>1921</td>\n",
       "      <td>2006</td>\n",
       "      <td>0.0</td>\n",
       "      <td>713</td>\n",
       "      <td>0</td>\n",
       "      <td>...</td>\n",
       "      <td>432</td>\n",
       "      <td>0</td>\n",
       "      <td>0</td>\n",
       "      <td>44</td>\n",
       "      <td>0</td>\n",
       "      <td>0</td>\n",
       "      <td>0</td>\n",
       "      <td>0</td>\n",
       "      <td>8</td>\n",
       "      <td>2009</td>\n",
       "    </tr>\n",
       "    <tr>\n",
       "      <th>818</th>\n",
       "      <td>20</td>\n",
       "      <td>NaN</td>\n",
       "      <td>13265</td>\n",
       "      <td>8</td>\n",
       "      <td>5</td>\n",
       "      <td>2002</td>\n",
       "      <td>2002</td>\n",
       "      <td>148.0</td>\n",
       "      <td>1218</td>\n",
       "      <td>0</td>\n",
       "      <td>...</td>\n",
       "      <td>857</td>\n",
       "      <td>150</td>\n",
       "      <td>59</td>\n",
       "      <td>0</td>\n",
       "      <td>0</td>\n",
       "      <td>0</td>\n",
       "      <td>0</td>\n",
       "      <td>0</td>\n",
       "      <td>7</td>\n",
       "      <td>2008</td>\n",
       "    </tr>\n",
       "    <tr>\n",
       "      <th>303</th>\n",
       "      <td>20</td>\n",
       "      <td>118.0</td>\n",
       "      <td>13704</td>\n",
       "      <td>7</td>\n",
       "      <td>5</td>\n",
       "      <td>2001</td>\n",
       "      <td>2002</td>\n",
       "      <td>150.0</td>\n",
       "      <td>0</td>\n",
       "      <td>0</td>\n",
       "      <td>...</td>\n",
       "      <td>843</td>\n",
       "      <td>468</td>\n",
       "      <td>81</td>\n",
       "      <td>0</td>\n",
       "      <td>0</td>\n",
       "      <td>0</td>\n",
       "      <td>0</td>\n",
       "      <td>0</td>\n",
       "      <td>1</td>\n",
       "      <td>2006</td>\n",
       "    </tr>\n",
       "  </tbody>\n",
       "</table>\n",
       "<p>5 rows × 36 columns</p>\n",
       "</div>"
      ],
      "text/plain": [
       "     MSSubClass  LotFrontage  LotArea  OverallQual  OverallCond  YearBuilt  \\\n",
       "Id                                                                           \n",
       "619          20         90.0    11694            9            5       2007   \n",
       "871          20         60.0     6600            5            5       1962   \n",
       "93           30         80.0    13360            5            7       1921   \n",
       "818          20          NaN    13265            8            5       2002   \n",
       "303          20        118.0    13704            7            5       2001   \n",
       "\n",
       "     YearRemodAdd  MasVnrArea  BsmtFinSF1  BsmtFinSF2  ...  GarageArea  \\\n",
       "Id                                                     ...               \n",
       "619          2007       452.0          48           0  ...         774   \n",
       "871          1962         0.0           0           0  ...         308   \n",
       "93           2006         0.0         713           0  ...         432   \n",
       "818          2002       148.0        1218           0  ...         857   \n",
       "303          2002       150.0           0           0  ...         843   \n",
       "\n",
       "     WoodDeckSF  OpenPorchSF  EnclosedPorch  3SsnPorch  ScreenPorch  PoolArea  \\\n",
       "Id                                                                              \n",
       "619           0          108              0          0          260         0   \n",
       "871           0            0              0          0            0         0   \n",
       "93            0            0             44          0            0         0   \n",
       "818         150           59              0          0            0         0   \n",
       "303         468           81              0          0            0         0   \n",
       "\n",
       "     MiscVal  MoSold  YrSold  \n",
       "Id                            \n",
       "619        0       7    2007  \n",
       "871        0       8    2009  \n",
       "93         0       8    2009  \n",
       "818        0       7    2008  \n",
       "303        0       1    2006  \n",
       "\n",
       "[5 rows x 36 columns]"
      ]
     },
     "execution_count": 3,
     "metadata": {},
     "output_type": "execute_result"
    }
   ],
   "source": [
    "X_train.head()"
   ]
  },
  {
   "cell_type": "markdown",
   "id": "1f90ddae",
   "metadata": {
    "papermill": {
     "duration": 0.010222,
     "end_time": "2022-11-19T19:38:45.201229",
     "exception": false,
     "start_time": "2022-11-19T19:38:45.191007",
     "status": "completed"
    },
    "tags": []
   },
   "source": [
    "You can already see a few missing values in the first several rows.  In the next step, you'll obtain a more comprehensive understanding of the missing values in the dataset.\n",
    "\n",
    "# Step 1: Preliminary investigation\n",
    "\n",
    "Run the code cell below without changes."
   ]
  },
  {
   "cell_type": "code",
   "execution_count": 4,
   "id": "3d0d1617",
   "metadata": {
    "execution": {
     "iopub.execute_input": "2022-11-19T19:38:45.224555Z",
     "iopub.status.busy": "2022-11-19T19:38:45.223794Z",
     "iopub.status.idle": "2022-11-19T19:38:45.233086Z",
     "shell.execute_reply": "2022-11-19T19:38:45.231578Z"
    },
    "papermill": {
     "duration": 0.023589,
     "end_time": "2022-11-19T19:38:45.235435",
     "exception": false,
     "start_time": "2022-11-19T19:38:45.211846",
     "status": "completed"
    },
    "tags": []
   },
   "outputs": [
    {
     "name": "stdout",
     "output_type": "stream",
     "text": [
      "(1168, 36)\n",
      "LotFrontage    212\n",
      "MasVnrArea       6\n",
      "GarageYrBlt     58\n",
      "dtype: int64\n"
     ]
    }
   ],
   "source": [
    "# Shape of training data (num_rows, num_columns)\n",
    "print(X_train.shape)\n",
    "\n",
    "# Number of missing values in each column of training data\n",
    "missing_val_count_by_column = (X_train.isnull().sum())\n",
    "print(missing_val_count_by_column[missing_val_count_by_column > 0])"
   ]
  },
  {
   "cell_type": "markdown",
   "id": "c382b97a",
   "metadata": {
    "papermill": {
     "duration": 0.012292,
     "end_time": "2022-11-19T19:38:45.258140",
     "exception": false,
     "start_time": "2022-11-19T19:38:45.245848",
     "status": "completed"
    },
    "tags": []
   },
   "source": [
    "### Part A\n",
    "\n",
    "Use the above output to answer the questions below."
   ]
  },
  {
   "cell_type": "code",
   "execution_count": 5,
   "id": "406f264a",
   "metadata": {
    "execution": {
     "iopub.execute_input": "2022-11-19T19:38:45.281779Z",
     "iopub.status.busy": "2022-11-19T19:38:45.280857Z",
     "iopub.status.idle": "2022-11-19T19:38:45.291062Z",
     "shell.execute_reply": "2022-11-19T19:38:45.290113Z"
    },
    "papermill": {
     "duration": 0.024294,
     "end_time": "2022-11-19T19:38:45.293213",
     "exception": false,
     "start_time": "2022-11-19T19:38:45.268919",
     "status": "completed"
    },
    "tags": []
   },
   "outputs": [
    {
     "data": {
      "application/javascript": [
       "parent.postMessage({\"jupyterEvent\": \"custom.exercise_interaction\", \"data\": {\"outcomeType\": 1, \"valueTowardsCompletion\": 1.0, \"interactionType\": 1, \"questionType\": 1, \"questionId\": \"1.1_InvestigateEquality\", \"learnToolsVersion\": \"0.3.4\", \"failureMessage\": \"\", \"exceptionClass\": \"\", \"trace\": \"\"}}, \"*\")"
      ],
      "text/plain": [
       "<IPython.core.display.Javascript object>"
      ]
     },
     "metadata": {},
     "output_type": "display_data"
    },
    {
     "data": {
      "text/markdown": [
       "<span style=\"color:#33cc33\">Correct</span>"
      ],
      "text/plain": [
       "Correct"
      ]
     },
     "metadata": {},
     "output_type": "display_data"
    }
   ],
   "source": [
    "# Fill in the line below: How many rows are in the training data?\n",
    "num_rows = 1168\n",
    "\n",
    "# Fill in the line below: How many columns in the training data\n",
    "# have missing values?\n",
    "num_cols_with_missing = 3\n",
    "\n",
    "# Fill in the line below: How many missing entries are contained in \n",
    "# all of the training data?\n",
    "tot_missing = 212 + 6 + 58\n",
    "\n",
    "# Check your answers\n",
    "step_1.a.check()"
   ]
  },
  {
   "cell_type": "code",
   "execution_count": 6,
   "id": "26e9903e",
   "metadata": {
    "execution": {
     "iopub.execute_input": "2022-11-19T19:38:45.317108Z",
     "iopub.status.busy": "2022-11-19T19:38:45.316042Z",
     "iopub.status.idle": "2022-11-19T19:38:45.321743Z",
     "shell.execute_reply": "2022-11-19T19:38:45.320350Z"
    },
    "papermill": {
     "duration": 0.020443,
     "end_time": "2022-11-19T19:38:45.324431",
     "exception": false,
     "start_time": "2022-11-19T19:38:45.303988",
     "status": "completed"
    },
    "tags": []
   },
   "outputs": [],
   "source": [
    "# Lines below will give you a hint or solution code\n",
    "#step_1.a.hint()\n",
    "#step_1.a.solution()"
   ]
  },
  {
   "cell_type": "markdown",
   "id": "a8dce06d",
   "metadata": {
    "papermill": {
     "duration": 0.010434,
     "end_time": "2022-11-19T19:38:45.345465",
     "exception": false,
     "start_time": "2022-11-19T19:38:45.335031",
     "status": "completed"
    },
    "tags": []
   },
   "source": [
    "### Part B\n",
    "Considering your answers above, what do you think is likely the best approach to dealing with the missing values?"
   ]
  },
  {
   "cell_type": "code",
   "execution_count": 7,
   "id": "752d6062",
   "metadata": {
    "execution": {
     "iopub.execute_input": "2022-11-19T19:38:45.369856Z",
     "iopub.status.busy": "2022-11-19T19:38:45.368528Z",
     "iopub.status.idle": "2022-11-19T19:38:45.378523Z",
     "shell.execute_reply": "2022-11-19T19:38:45.377274Z"
    },
    "papermill": {
     "duration": 0.024613,
     "end_time": "2022-11-19T19:38:45.380862",
     "exception": false,
     "start_time": "2022-11-19T19:38:45.356249",
     "status": "completed"
    },
    "tags": []
   },
   "outputs": [
    {
     "data": {
      "application/javascript": [
       "parent.postMessage({\"jupyterEvent\": \"custom.exercise_interaction\", \"data\": {\"outcomeType\": 1, \"valueTowardsCompletion\": 1.0, \"interactionType\": 1, \"questionType\": 4, \"questionId\": \"1.2_InvestigateThought\", \"learnToolsVersion\": \"0.3.4\", \"failureMessage\": \"\", \"exceptionClass\": \"\", \"trace\": \"\"}}, \"*\")"
      ],
      "text/plain": [
       "<IPython.core.display.Javascript object>"
      ]
     },
     "metadata": {},
     "output_type": "display_data"
    },
    {
     "data": {
      "text/markdown": [
       "<span style=\"color:#33cc33\">Correct:</span> \n",
       "\n",
       "Since there are relatively few missing entries in the data (the column with the greatest percentage of missing values is missing less than 20% of its entries), we can expect that dropping columns is unlikely to yield good results.  This is because we'd be throwing away a lot of valuable data, and so imputation will likely perform better."
      ],
      "text/plain": [
       "Correct: \n",
       "\n",
       "Since there are relatively few missing entries in the data (the column with the greatest percentage of missing values is missing less than 20% of its entries), we can expect that dropping columns is unlikely to yield good results.  This is because we'd be throwing away a lot of valuable data, and so imputation will likely perform better."
      ]
     },
     "metadata": {},
     "output_type": "display_data"
    }
   ],
   "source": [
    "# Check your answer (Run this code cell to receive credit!)\n",
    "step_1.b.check()"
   ]
  },
  {
   "cell_type": "code",
   "execution_count": 8,
   "id": "f2bbef1a",
   "metadata": {
    "execution": {
     "iopub.execute_input": "2022-11-19T19:38:45.404560Z",
     "iopub.status.busy": "2022-11-19T19:38:45.404018Z",
     "iopub.status.idle": "2022-11-19T19:38:45.409381Z",
     "shell.execute_reply": "2022-11-19T19:38:45.408018Z"
    },
    "papermill": {
     "duration": 0.020272,
     "end_time": "2022-11-19T19:38:45.411989",
     "exception": false,
     "start_time": "2022-11-19T19:38:45.391717",
     "status": "completed"
    },
    "tags": []
   },
   "outputs": [],
   "source": [
    "#step_1.b.hint()"
   ]
  },
  {
   "cell_type": "markdown",
   "id": "31e403d8",
   "metadata": {
    "papermill": {
     "duration": 0.011095,
     "end_time": "2022-11-19T19:38:45.433940",
     "exception": false,
     "start_time": "2022-11-19T19:38:45.422845",
     "status": "completed"
    },
    "tags": []
   },
   "source": [
    "To compare different approaches to dealing with missing values, you'll use the same `score_dataset()` function from the tutorial.  This function reports the [mean absolute error](https://en.wikipedia.org/wiki/Mean_absolute_error) (MAE) from a random forest model."
   ]
  },
  {
   "cell_type": "code",
   "execution_count": 9,
   "id": "96c0a7f8",
   "metadata": {
    "execution": {
     "iopub.execute_input": "2022-11-19T19:38:45.457740Z",
     "iopub.status.busy": "2022-11-19T19:38:45.457307Z",
     "iopub.status.idle": "2022-11-19T19:38:45.720135Z",
     "shell.execute_reply": "2022-11-19T19:38:45.718702Z"
    },
    "papermill": {
     "duration": 0.278315,
     "end_time": "2022-11-19T19:38:45.723167",
     "exception": false,
     "start_time": "2022-11-19T19:38:45.444852",
     "status": "completed"
    },
    "tags": []
   },
   "outputs": [],
   "source": [
    "from sklearn.ensemble import RandomForestRegressor\n",
    "from sklearn.metrics import mean_absolute_error\n",
    "\n",
    "# Function for comparing different approaches\n",
    "def score_dataset(X_train, X_valid, y_train, y_valid):\n",
    "    model = RandomForestRegressor(n_estimators=100, random_state=0)\n",
    "    model.fit(X_train, y_train)\n",
    "    preds = model.predict(X_valid)\n",
    "    return mean_absolute_error(y_valid, preds)"
   ]
  },
  {
   "cell_type": "markdown",
   "id": "c80940c6",
   "metadata": {
    "papermill": {
     "duration": 0.011374,
     "end_time": "2022-11-19T19:38:45.746159",
     "exception": false,
     "start_time": "2022-11-19T19:38:45.734785",
     "status": "completed"
    },
    "tags": []
   },
   "source": [
    "# Step 2: Drop columns with missing values\n",
    "\n",
    "In this step, you'll preprocess the data in `X_train` and `X_valid` to remove columns with missing values.  Set the preprocessed DataFrames to `reduced_X_train` and `reduced_X_valid`, respectively.  "
   ]
  },
  {
   "cell_type": "code",
   "execution_count": 10,
   "id": "266c85f4",
   "metadata": {
    "execution": {
     "iopub.execute_input": "2022-11-19T19:38:45.771479Z",
     "iopub.status.busy": "2022-11-19T19:38:45.770364Z",
     "iopub.status.idle": "2022-11-19T19:38:45.803356Z",
     "shell.execute_reply": "2022-11-19T19:38:45.801985Z"
    },
    "papermill": {
     "duration": 0.048068,
     "end_time": "2022-11-19T19:38:45.805704",
     "exception": false,
     "start_time": "2022-11-19T19:38:45.757636",
     "status": "completed"
    },
    "tags": []
   },
   "outputs": [
    {
     "name": "stdout",
     "output_type": "stream",
     "text": [
      "LotFrontage    212\n",
      "MasVnrArea       6\n",
      "GarageYrBlt     58\n",
      "dtype: int64\n"
     ]
    },
    {
     "data": {
      "application/javascript": [
       "parent.postMessage({\"jupyterEvent\": \"custom.exercise_interaction\", \"data\": {\"outcomeType\": 1, \"valueTowardsCompletion\": 1.0, \"interactionType\": 1, \"questionType\": 2, \"questionId\": \"2_DropMissing\", \"learnToolsVersion\": \"0.3.4\", \"failureMessage\": \"\", \"exceptionClass\": \"\", \"trace\": \"\"}}, \"*\")"
      ],
      "text/plain": [
       "<IPython.core.display.Javascript object>"
      ]
     },
     "metadata": {},
     "output_type": "display_data"
    },
    {
     "data": {
      "text/markdown": [
       "<span style=\"color:#33cc33\">Correct</span>"
      ],
      "text/plain": [
       "Correct"
      ]
     },
     "metadata": {},
     "output_type": "display_data"
    }
   ],
   "source": [
    "# Fill in the line below: get names of columns with missing values\n",
    "miss_val_cols = X_train.isna().sum()\n",
    "cols_to_drop = miss_val_cols[miss_val_cols > 0]\n",
    "print(cols_to_drop)\n",
    "# Fill in the lines below: drop columns in training and validation data\n",
    "reduced_X_train = X_train.drop([\"LotFrontage\", \"MasVnrArea\", \"GarageYrBlt\"], axis=1)\n",
    "reduced_X_valid = X_valid.drop([\"LotFrontage\", \"MasVnrArea\", \"GarageYrBlt\"], axis=1)\n",
    "\n",
    "# Check your answers\n",
    "step_2.check()"
   ]
  },
  {
   "cell_type": "code",
   "execution_count": 11,
   "id": "d7e98ea1",
   "metadata": {
    "execution": {
     "iopub.execute_input": "2022-11-19T19:38:45.830964Z",
     "iopub.status.busy": "2022-11-19T19:38:45.830121Z",
     "iopub.status.idle": "2022-11-19T19:38:45.834939Z",
     "shell.execute_reply": "2022-11-19T19:38:45.833786Z"
    },
    "papermill": {
     "duration": 0.019668,
     "end_time": "2022-11-19T19:38:45.837214",
     "exception": false,
     "start_time": "2022-11-19T19:38:45.817546",
     "status": "completed"
    },
    "tags": []
   },
   "outputs": [],
   "source": [
    "# Lines below will give you a hint or solution code\n",
    "#step_2.hint()\n",
    "#step_2.solution()"
   ]
  },
  {
   "cell_type": "markdown",
   "id": "1b47b784",
   "metadata": {
    "papermill": {
     "duration": 0.010963,
     "end_time": "2022-11-19T19:38:45.859471",
     "exception": false,
     "start_time": "2022-11-19T19:38:45.848508",
     "status": "completed"
    },
    "tags": []
   },
   "source": [
    "Run the next code cell without changes to obtain the MAE for this approach."
   ]
  },
  {
   "cell_type": "code",
   "execution_count": 12,
   "id": "ff7b38ac",
   "metadata": {
    "execution": {
     "iopub.execute_input": "2022-11-19T19:38:45.884004Z",
     "iopub.status.busy": "2022-11-19T19:38:45.883591Z",
     "iopub.status.idle": "2022-11-19T19:38:47.071996Z",
     "shell.execute_reply": "2022-11-19T19:38:47.070586Z"
    },
    "papermill": {
     "duration": 1.203588,
     "end_time": "2022-11-19T19:38:47.074498",
     "exception": false,
     "start_time": "2022-11-19T19:38:45.870910",
     "status": "completed"
    },
    "tags": []
   },
   "outputs": [
    {
     "name": "stdout",
     "output_type": "stream",
     "text": [
      "MAE (Drop columns with missing values):\n",
      "17837.82570776256\n"
     ]
    }
   ],
   "source": [
    "print(\"MAE (Drop columns with missing values):\")\n",
    "print(score_dataset(reduced_X_train, reduced_X_valid, y_train, y_valid))"
   ]
  },
  {
   "cell_type": "markdown",
   "id": "6e00834f",
   "metadata": {
    "papermill": {
     "duration": 0.011905,
     "end_time": "2022-11-19T19:38:47.098084",
     "exception": false,
     "start_time": "2022-11-19T19:38:47.086179",
     "status": "completed"
    },
    "tags": []
   },
   "source": [
    "# Step 3: Imputation\n",
    "\n",
    "### Part A\n",
    "\n",
    "Use the next code cell to impute missing values with the mean value along each column.  Set the preprocessed DataFrames to `imputed_X_train` and `imputed_X_valid`.  Make sure that the column names match those in `X_train` and `X_valid`."
   ]
  },
  {
   "cell_type": "code",
   "execution_count": 13,
   "id": "f97fd124",
   "metadata": {
    "execution": {
     "iopub.execute_input": "2022-11-19T19:38:47.125165Z",
     "iopub.status.busy": "2022-11-19T19:38:47.124703Z",
     "iopub.status.idle": "2022-11-19T19:38:47.162301Z",
     "shell.execute_reply": "2022-11-19T19:38:47.161104Z"
    },
    "papermill": {
     "duration": 0.05381,
     "end_time": "2022-11-19T19:38:47.164698",
     "exception": false,
     "start_time": "2022-11-19T19:38:47.110888",
     "status": "completed"
    },
    "tags": []
   },
   "outputs": [
    {
     "data": {
      "application/javascript": [
       "parent.postMessage({\"jupyterEvent\": \"custom.exercise_interaction\", \"data\": {\"outcomeType\": 1, \"valueTowardsCompletion\": 1.0, \"interactionType\": 1, \"questionType\": 2, \"questionId\": \"3.1_ImputeCode\", \"learnToolsVersion\": \"0.3.4\", \"failureMessage\": \"\", \"exceptionClass\": \"\", \"trace\": \"\"}}, \"*\")"
      ],
      "text/plain": [
       "<IPython.core.display.Javascript object>"
      ]
     },
     "metadata": {},
     "output_type": "display_data"
    },
    {
     "data": {
      "text/markdown": [
       "<span style=\"color:#33cc33\">Correct</span>"
      ],
      "text/plain": [
       "Correct"
      ]
     },
     "metadata": {},
     "output_type": "display_data"
    }
   ],
   "source": [
    "from sklearn.impute import SimpleImputer\n",
    "\n",
    "# Fill in the lines below: imputation\n",
    "\n",
    "my_imputer = SimpleImputer()\n",
    "imputed_X_train = pd.DataFrame(my_imputer.fit_transform(X_train))\n",
    "imputed_X_valid = pd.DataFrame(my_imputer.transform(X_valid))\n",
    "\n",
    "# Imputation removed column names; put them back\n",
    "imputed_X_train.columns = X_train.columns\n",
    "imputed_X_valid.columns = X_valid.columns\n",
    "\n",
    "# Check your answers\n",
    "step_3.a.check()"
   ]
  },
  {
   "cell_type": "code",
   "execution_count": 14,
   "id": "9dc48f8d",
   "metadata": {
    "execution": {
     "iopub.execute_input": "2022-11-19T19:38:47.190379Z",
     "iopub.status.busy": "2022-11-19T19:38:47.189957Z",
     "iopub.status.idle": "2022-11-19T19:38:47.194008Z",
     "shell.execute_reply": "2022-11-19T19:38:47.193214Z"
    },
    "papermill": {
     "duration": 0.01968,
     "end_time": "2022-11-19T19:38:47.196064",
     "exception": false,
     "start_time": "2022-11-19T19:38:47.176384",
     "status": "completed"
    },
    "tags": []
   },
   "outputs": [],
   "source": [
    "# Lines below will give you a hint or solution code\n",
    "#step_3.a.hint()\n",
    "#step_3.a.solution()"
   ]
  },
  {
   "cell_type": "markdown",
   "id": "de031b98",
   "metadata": {
    "papermill": {
     "duration": 0.011794,
     "end_time": "2022-11-19T19:38:47.220603",
     "exception": false,
     "start_time": "2022-11-19T19:38:47.208809",
     "status": "completed"
    },
    "tags": []
   },
   "source": [
    "Run the next code cell without changes to obtain the MAE for this approach."
   ]
  },
  {
   "cell_type": "code",
   "execution_count": 15,
   "id": "ecb4f189",
   "metadata": {
    "execution": {
     "iopub.execute_input": "2022-11-19T19:38:47.247204Z",
     "iopub.status.busy": "2022-11-19T19:38:47.245989Z",
     "iopub.status.idle": "2022-11-19T19:38:48.521029Z",
     "shell.execute_reply": "2022-11-19T19:38:48.519483Z"
    },
    "papermill": {
     "duration": 1.291144,
     "end_time": "2022-11-19T19:38:48.523908",
     "exception": false,
     "start_time": "2022-11-19T19:38:47.232764",
     "status": "completed"
    },
    "tags": []
   },
   "outputs": [
    {
     "name": "stdout",
     "output_type": "stream",
     "text": [
      "MAE (Imputation):\n",
      "18062.894611872147\n"
     ]
    }
   ],
   "source": [
    "print(\"MAE (Imputation):\")\n",
    "print(score_dataset(imputed_X_train, imputed_X_valid, y_train, y_valid))"
   ]
  },
  {
   "cell_type": "markdown",
   "id": "dd5fc02c",
   "metadata": {
    "papermill": {
     "duration": 0.01413,
     "end_time": "2022-11-19T19:38:48.550791",
     "exception": false,
     "start_time": "2022-11-19T19:38:48.536661",
     "status": "completed"
    },
    "tags": []
   },
   "source": [
    "### Part B\n",
    "\n",
    "Compare the MAE from each approach.  Does anything surprise you about the results?  Why do you think one approach performed better than the other?"
   ]
  },
  {
   "cell_type": "code",
   "execution_count": 16,
   "id": "84e61405",
   "metadata": {
    "execution": {
     "iopub.execute_input": "2022-11-19T19:38:48.577851Z",
     "iopub.status.busy": "2022-11-19T19:38:48.577451Z",
     "iopub.status.idle": "2022-11-19T19:38:48.587421Z",
     "shell.execute_reply": "2022-11-19T19:38:48.586120Z"
    },
    "papermill": {
     "duration": 0.026377,
     "end_time": "2022-11-19T19:38:48.590006",
     "exception": false,
     "start_time": "2022-11-19T19:38:48.563629",
     "status": "completed"
    },
    "tags": []
   },
   "outputs": [
    {
     "data": {
      "application/javascript": [
       "parent.postMessage({\"jupyterEvent\": \"custom.exercise_interaction\", \"data\": {\"outcomeType\": 1, \"valueTowardsCompletion\": 1.0, \"interactionType\": 1, \"questionType\": 4, \"questionId\": \"3.2_ImputeThought\", \"learnToolsVersion\": \"0.3.4\", \"failureMessage\": \"\", \"exceptionClass\": \"\", \"trace\": \"\"}}, \"*\")"
      ],
      "text/plain": [
       "<IPython.core.display.Javascript object>"
      ]
     },
     "metadata": {},
     "output_type": "display_data"
    },
    {
     "data": {
      "text/markdown": [
       "<span style=\"color:#33cc33\">Correct:</span> \n",
       "\n",
       "Given that thre are so few missing values in the dataset, we'd expect imputation to perform better than dropping columns entirely.  However, we see that dropping columns performs slightly better!  While this can probably partially be attributed to noise in the dataset, another potential explanation is that the imputation method is not a great match to this dataset.  That is, maybe instead of filling in the mean value, it makes more sense to set every missing value to a value of 0, to fill in the most frequently encountered value, or to use some other method.  For instance, consider the `GarageYrBlt` column (which indicates the year that the garage was built).  It's likely that in some cases, a missing value could indicate a house that does not have a garage.  Does it make more sense to fill in the median value along each column in this case?  Or could we get better results by filling in the minimum value along each column?  It's not quite clear what's best in this case, but perhaps we can rule out some options immediately - for instance, setting missing values in this column to 0 is likely to yield horrible results!"
      ],
      "text/plain": [
       "Correct: \n",
       "\n",
       "Given that thre are so few missing values in the dataset, we'd expect imputation to perform better than dropping columns entirely.  However, we see that dropping columns performs slightly better!  While this can probably partially be attributed to noise in the dataset, another potential explanation is that the imputation method is not a great match to this dataset.  That is, maybe instead of filling in the mean value, it makes more sense to set every missing value to a value of 0, to fill in the most frequently encountered value, or to use some other method.  For instance, consider the `GarageYrBlt` column (which indicates the year that the garage was built).  It's likely that in some cases, a missing value could indicate a house that does not have a garage.  Does it make more sense to fill in the median value along each column in this case?  Or could we get better results by filling in the minimum value along each column?  It's not quite clear what's best in this case, but perhaps we can rule out some options immediately - for instance, setting missing values in this column to 0 is likely to yield horrible results!"
      ]
     },
     "metadata": {},
     "output_type": "display_data"
    }
   ],
   "source": [
    "# Check your answer (Run this code cell to receive credit!)\n",
    "step_3.b.check()"
   ]
  },
  {
   "cell_type": "code",
   "execution_count": 17,
   "id": "e3f78b86",
   "metadata": {
    "execution": {
     "iopub.execute_input": "2022-11-19T19:38:48.618104Z",
     "iopub.status.busy": "2022-11-19T19:38:48.617626Z",
     "iopub.status.idle": "2022-11-19T19:38:48.622433Z",
     "shell.execute_reply": "2022-11-19T19:38:48.621088Z"
    },
    "papermill": {
     "duration": 0.021551,
     "end_time": "2022-11-19T19:38:48.624810",
     "exception": false,
     "start_time": "2022-11-19T19:38:48.603259",
     "status": "completed"
    },
    "tags": []
   },
   "outputs": [],
   "source": [
    "#step_3.b.hint()"
   ]
  },
  {
   "cell_type": "markdown",
   "id": "434e10e9",
   "metadata": {
    "papermill": {
     "duration": 0.01161,
     "end_time": "2022-11-19T19:38:48.648456",
     "exception": false,
     "start_time": "2022-11-19T19:38:48.636846",
     "status": "completed"
    },
    "tags": []
   },
   "source": [
    "# Step 4: Generate test predictions\n",
    "\n",
    "In this final step, you'll use any approach of your choosing to deal with missing values.  Once you've preprocessed the training and validation features, you'll train and evaluate a random forest model.  Then, you'll preprocess the test data before generating predictions that can be submitted to the competition!\n",
    "\n",
    "### Part A\n",
    "\n",
    "Use the next code cell to preprocess the training and validation data.  Set the preprocessed DataFrames to `final_X_train` and `final_X_valid`.  **You can use any approach of your choosing here!**  in order for this step to be marked as correct, you need only ensure:\n",
    "- the preprocessed DataFrames have the same number of columns,\n",
    "- the preprocessed DataFrames have no missing values, \n",
    "- `final_X_train` and `y_train` have the same number of rows, and\n",
    "- `final_X_valid` and `y_valid` have the same number of rows."
   ]
  },
  {
   "cell_type": "code",
   "execution_count": 18,
   "id": "5001e281",
   "metadata": {
    "execution": {
     "iopub.execute_input": "2022-11-19T19:38:48.674715Z",
     "iopub.status.busy": "2022-11-19T19:38:48.674248Z",
     "iopub.status.idle": "2022-11-19T19:38:48.684803Z",
     "shell.execute_reply": "2022-11-19T19:38:48.683704Z"
    },
    "papermill": {
     "duration": 0.026824,
     "end_time": "2022-11-19T19:38:48.687379",
     "exception": false,
     "start_time": "2022-11-19T19:38:48.660555",
     "status": "completed"
    },
    "tags": []
   },
   "outputs": [
    {
     "data": {
      "text/plain": [
       "MSSubClass         0\n",
       "LotFrontage      212\n",
       "LotArea            0\n",
       "OverallQual        0\n",
       "OverallCond        0\n",
       "YearBuilt          0\n",
       "YearRemodAdd       0\n",
       "MasVnrArea         6\n",
       "BsmtFinSF1         0\n",
       "BsmtFinSF2         0\n",
       "BsmtUnfSF          0\n",
       "TotalBsmtSF        0\n",
       "1stFlrSF           0\n",
       "2ndFlrSF           0\n",
       "LowQualFinSF       0\n",
       "GrLivArea          0\n",
       "BsmtFullBath       0\n",
       "BsmtHalfBath       0\n",
       "FullBath           0\n",
       "HalfBath           0\n",
       "BedroomAbvGr       0\n",
       "KitchenAbvGr       0\n",
       "TotRmsAbvGrd       0\n",
       "Fireplaces         0\n",
       "GarageYrBlt       58\n",
       "GarageCars         0\n",
       "GarageArea         0\n",
       "WoodDeckSF         0\n",
       "OpenPorchSF        0\n",
       "EnclosedPorch      0\n",
       "3SsnPorch          0\n",
       "ScreenPorch        0\n",
       "PoolArea           0\n",
       "MiscVal            0\n",
       "MoSold             0\n",
       "YrSold             0\n",
       "dtype: int64"
      ]
     },
     "execution_count": 18,
     "metadata": {},
     "output_type": "execute_result"
    }
   ],
   "source": [
    "X_train.isna().sum()"
   ]
  },
  {
   "cell_type": "code",
   "execution_count": 19,
   "id": "40c92c66",
   "metadata": {
    "execution": {
     "iopub.execute_input": "2022-11-19T19:38:48.717550Z",
     "iopub.status.busy": "2022-11-19T19:38:48.716180Z",
     "iopub.status.idle": "2022-11-19T19:38:48.730249Z",
     "shell.execute_reply": "2022-11-19T19:38:48.729001Z"
    },
    "papermill": {
     "duration": 0.032037,
     "end_time": "2022-11-19T19:38:48.733147",
     "exception": false,
     "start_time": "2022-11-19T19:38:48.701110",
     "status": "completed"
    },
    "tags": []
   },
   "outputs": [],
   "source": [
    "\n",
    "X_train['LotFrontage'].fillna(value=X_train['LotFrontage'].mean(), inplace=True)\n",
    "X_train['GarageYrBlt'].fillna(value=X_train['GarageYrBlt'].mean(), inplace=True)\n",
    "X_train['MasVnrArea'].fillna(value=X_train['MasVnrArea'].mean(), inplace=True)\n",
    "\n",
    "\n",
    "X_valid['LotFrontage'].fillna(value=X_valid['LotFrontage'].mean(), inplace=True)\n",
    "X_valid['GarageYrBlt'].fillna(value=X_valid['GarageYrBlt'].mean(), inplace=True)\n",
    "X_valid['YearRemodAdd'].fillna(value=X_valid['YearRemodAdd'].mean(), inplace=True)\n",
    "X_valid['MasVnrArea'].fillna(value=X_valid['MasVnrArea'].mean(), inplace=True)\n",
    "\n",
    "\n"
   ]
  },
  {
   "cell_type": "code",
   "execution_count": 20,
   "id": "5ab17344",
   "metadata": {
    "execution": {
     "iopub.execute_input": "2022-11-19T19:38:48.760368Z",
     "iopub.status.busy": "2022-11-19T19:38:48.759933Z",
     "iopub.status.idle": "2022-11-19T19:38:48.771156Z",
     "shell.execute_reply": "2022-11-19T19:38:48.769922Z"
    },
    "papermill": {
     "duration": 0.027476,
     "end_time": "2022-11-19T19:38:48.773515",
     "exception": false,
     "start_time": "2022-11-19T19:38:48.746039",
     "status": "completed"
    },
    "tags": []
   },
   "outputs": [
    {
     "data": {
      "text/plain": [
       "MSSubClass       0\n",
       "LotFrontage      0\n",
       "LotArea          0\n",
       "OverallQual      0\n",
       "OverallCond      0\n",
       "YearBuilt        0\n",
       "YearRemodAdd     0\n",
       "MasVnrArea       0\n",
       "BsmtFinSF1       0\n",
       "BsmtFinSF2       0\n",
       "BsmtUnfSF        0\n",
       "TotalBsmtSF      0\n",
       "1stFlrSF         0\n",
       "2ndFlrSF         0\n",
       "LowQualFinSF     0\n",
       "GrLivArea        0\n",
       "BsmtFullBath     0\n",
       "BsmtHalfBath     0\n",
       "FullBath         0\n",
       "HalfBath         0\n",
       "BedroomAbvGr     0\n",
       "KitchenAbvGr     0\n",
       "TotRmsAbvGrd     0\n",
       "Fireplaces       0\n",
       "GarageYrBlt      0\n",
       "GarageCars       0\n",
       "GarageArea       0\n",
       "WoodDeckSF       0\n",
       "OpenPorchSF      0\n",
       "EnclosedPorch    0\n",
       "3SsnPorch        0\n",
       "ScreenPorch      0\n",
       "PoolArea         0\n",
       "MiscVal          0\n",
       "MoSold           0\n",
       "YrSold           0\n",
       "dtype: int64"
      ]
     },
     "execution_count": 20,
     "metadata": {},
     "output_type": "execute_result"
    }
   ],
   "source": [
    "X_train.isna().sum()"
   ]
  },
  {
   "cell_type": "code",
   "execution_count": 21,
   "id": "b09e89b2",
   "metadata": {
    "execution": {
     "iopub.execute_input": "2022-11-19T19:38:48.801466Z",
     "iopub.status.busy": "2022-11-19T19:38:48.801042Z",
     "iopub.status.idle": "2022-11-19T19:38:48.822855Z",
     "shell.execute_reply": "2022-11-19T19:38:48.821897Z"
    },
    "papermill": {
     "duration": 0.038338,
     "end_time": "2022-11-19T19:38:48.824996",
     "exception": false,
     "start_time": "2022-11-19T19:38:48.786658",
     "status": "completed"
    },
    "tags": []
   },
   "outputs": [
    {
     "data": {
      "application/javascript": [
       "parent.postMessage({\"jupyterEvent\": \"custom.exercise_interaction\", \"data\": {\"outcomeType\": 1, \"valueTowardsCompletion\": 1.0, \"interactionType\": 1, \"questionType\": 2, \"questionId\": \"4.1_PredsCodeA\", \"learnToolsVersion\": \"0.3.4\", \"failureMessage\": \"\", \"exceptionClass\": \"\", \"trace\": \"\"}}, \"*\")"
      ],
      "text/plain": [
       "<IPython.core.display.Javascript object>"
      ]
     },
     "metadata": {},
     "output_type": "display_data"
    },
    {
     "data": {
      "text/markdown": [
       "<span style=\"color:#33cc33\">Correct</span>"
      ],
      "text/plain": [
       "Correct"
      ]
     },
     "metadata": {},
     "output_type": "display_data"
    }
   ],
   "source": [
    "# Preprocessed training and validation features\n",
    "final_X_train = X_train\n",
    "final_X_valid = X_valid\n",
    "\n",
    "# Check your answers\n",
    "step_4.a.check()"
   ]
  },
  {
   "cell_type": "code",
   "execution_count": 22,
   "id": "36ad165d",
   "metadata": {
    "execution": {
     "iopub.execute_input": "2022-11-19T19:38:48.853044Z",
     "iopub.status.busy": "2022-11-19T19:38:48.852428Z",
     "iopub.status.idle": "2022-11-19T19:38:48.856769Z",
     "shell.execute_reply": "2022-11-19T19:38:48.855970Z"
    },
    "papermill": {
     "duration": 0.020836,
     "end_time": "2022-11-19T19:38:48.858840",
     "exception": false,
     "start_time": "2022-11-19T19:38:48.838004",
     "status": "completed"
    },
    "tags": []
   },
   "outputs": [],
   "source": [
    "# Lines below will give you a hint or solution code\n",
    "#step_4.a.hint()\n",
    "#step_4.a.solution()"
   ]
  },
  {
   "cell_type": "markdown",
   "id": "d4584e7e",
   "metadata": {
    "papermill": {
     "duration": 0.011947,
     "end_time": "2022-11-19T19:38:48.884402",
     "exception": false,
     "start_time": "2022-11-19T19:38:48.872455",
     "status": "completed"
    },
    "tags": []
   },
   "source": [
    "Run the next code cell to train and evaluate a random forest model.  (*Note that we don't use the `score_dataset()` function above, because we will soon use the trained model to generate test predictions!*)"
   ]
  },
  {
   "cell_type": "code",
   "execution_count": 23,
   "id": "14759242",
   "metadata": {
    "execution": {
     "iopub.execute_input": "2022-11-19T19:38:48.911820Z",
     "iopub.status.busy": "2022-11-19T19:38:48.911284Z",
     "iopub.status.idle": "2022-11-19T19:38:48.920492Z",
     "shell.execute_reply": "2022-11-19T19:38:48.919672Z"
    },
    "papermill": {
     "duration": 0.02532,
     "end_time": "2022-11-19T19:38:48.922542",
     "exception": false,
     "start_time": "2022-11-19T19:38:48.897222",
     "status": "completed"
    },
    "tags": []
   },
   "outputs": [
    {
     "data": {
      "text/plain": [
       "MSSubClass       0\n",
       "LotFrontage      0\n",
       "LotArea          0\n",
       "OverallQual      0\n",
       "OverallCond      0\n",
       "YearBuilt        0\n",
       "YearRemodAdd     0\n",
       "MasVnrArea       0\n",
       "BsmtFinSF1       0\n",
       "BsmtFinSF2       0\n",
       "BsmtUnfSF        0\n",
       "TotalBsmtSF      0\n",
       "1stFlrSF         0\n",
       "2ndFlrSF         0\n",
       "LowQualFinSF     0\n",
       "GrLivArea        0\n",
       "BsmtFullBath     0\n",
       "BsmtHalfBath     0\n",
       "FullBath         0\n",
       "HalfBath         0\n",
       "BedroomAbvGr     0\n",
       "KitchenAbvGr     0\n",
       "TotRmsAbvGrd     0\n",
       "Fireplaces       0\n",
       "GarageYrBlt      0\n",
       "GarageCars       0\n",
       "GarageArea       0\n",
       "WoodDeckSF       0\n",
       "OpenPorchSF      0\n",
       "EnclosedPorch    0\n",
       "3SsnPorch        0\n",
       "ScreenPorch      0\n",
       "PoolArea         0\n",
       "MiscVal          0\n",
       "MoSold           0\n",
       "YrSold           0\n",
       "dtype: int64"
      ]
     },
     "execution_count": 23,
     "metadata": {},
     "output_type": "execute_result"
    }
   ],
   "source": [
    "final_X_valid.isna().sum()"
   ]
  },
  {
   "cell_type": "code",
   "execution_count": 24,
   "id": "00aadfc3",
   "metadata": {
    "execution": {
     "iopub.execute_input": "2022-11-19T19:38:48.951943Z",
     "iopub.status.busy": "2022-11-19T19:38:48.950811Z",
     "iopub.status.idle": "2022-11-19T19:38:50.226149Z",
     "shell.execute_reply": "2022-11-19T19:38:50.224832Z"
    },
    "papermill": {
     "duration": 1.292732,
     "end_time": "2022-11-19T19:38:50.228964",
     "exception": false,
     "start_time": "2022-11-19T19:38:48.936232",
     "status": "completed"
    },
    "tags": []
   },
   "outputs": [
    {
     "name": "stdout",
     "output_type": "stream",
     "text": [
      "MAE (Your approach):\n",
      "18056.85163242009\n"
     ]
    }
   ],
   "source": [
    "# Define and fit model\n",
    "model = RandomForestRegressor(n_estimators=100, random_state=0)\n",
    "model.fit(final_X_train, y_train)\n",
    "\n",
    "# Get validation predictions and MAE\n",
    "preds_valid = model.predict(final_X_valid)\n",
    "print(\"MAE (Your approach):\")\n",
    "print(mean_absolute_error(y_valid, preds_valid))"
   ]
  },
  {
   "cell_type": "markdown",
   "id": "080cbf2f",
   "metadata": {
    "papermill": {
     "duration": 0.013739,
     "end_time": "2022-11-19T19:38:50.255408",
     "exception": false,
     "start_time": "2022-11-19T19:38:50.241669",
     "status": "completed"
    },
    "tags": []
   },
   "source": [
    "### Part B\n",
    "\n",
    "Use the next code cell to preprocess your test data.  Make sure that you use a method that agrees with how you preprocessed the training and validation data, and set the preprocessed test features to `final_X_test`.\n",
    "\n",
    "Then, use the preprocessed test features and the trained model to generate test predictions in `preds_test`.\n",
    "\n",
    "In order for this step to be marked correct, you need only ensure:\n",
    "- the preprocessed test DataFrame has no missing values, and\n",
    "- `final_X_test` has the same number of rows as `X_test`."
   ]
  },
  {
   "cell_type": "code",
   "execution_count": 25,
   "id": "151f4a1e",
   "metadata": {
    "execution": {
     "iopub.execute_input": "2022-11-19T19:38:50.283735Z",
     "iopub.status.busy": "2022-11-19T19:38:50.282978Z",
     "iopub.status.idle": "2022-11-19T19:38:50.308673Z",
     "shell.execute_reply": "2022-11-19T19:38:50.307140Z"
    },
    "papermill": {
     "duration": 0.042259,
     "end_time": "2022-11-19T19:38:50.311005",
     "exception": false,
     "start_time": "2022-11-19T19:38:50.268746",
     "status": "completed"
    },
    "tags": []
   },
   "outputs": [
    {
     "name": "stdout",
     "output_type": "stream",
     "text": [
      "LotFrontage\n",
      "MasVnrArea\n",
      "BsmtFinSF1\n",
      "BsmtFinSF2\n",
      "BsmtUnfSF\n",
      "TotalBsmtSF\n",
      "BsmtFullBath\n",
      "BsmtHalfBath\n",
      "GarageYrBlt\n",
      "GarageCars\n",
      "GarageArea\n"
     ]
    },
    {
     "name": "stderr",
     "output_type": "stream",
     "text": [
      "/opt/conda/lib/python3.7/site-packages/pandas/core/generic.py:6392: SettingWithCopyWarning: \n",
      "A value is trying to be set on a copy of a slice from a DataFrame\n",
      "\n",
      "See the caveats in the documentation: https://pandas.pydata.org/pandas-docs/stable/user_guide/indexing.html#returning-a-view-versus-a-copy\n",
      "  return self._update_inplace(result)\n"
     ]
    },
    {
     "data": {
      "text/plain": [
       "MSSubClass       0\n",
       "LotFrontage      0\n",
       "LotArea          0\n",
       "OverallQual      0\n",
       "OverallCond      0\n",
       "YearBuilt        0\n",
       "YearRemodAdd     0\n",
       "MasVnrArea       0\n",
       "BsmtFinSF1       0\n",
       "BsmtFinSF2       0\n",
       "BsmtUnfSF        0\n",
       "TotalBsmtSF      0\n",
       "1stFlrSF         0\n",
       "2ndFlrSF         0\n",
       "LowQualFinSF     0\n",
       "GrLivArea        0\n",
       "BsmtFullBath     0\n",
       "BsmtHalfBath     0\n",
       "FullBath         0\n",
       "HalfBath         0\n",
       "BedroomAbvGr     0\n",
       "KitchenAbvGr     0\n",
       "TotRmsAbvGrd     0\n",
       "Fireplaces       0\n",
       "GarageYrBlt      0\n",
       "GarageCars       0\n",
       "GarageArea       0\n",
       "WoodDeckSF       0\n",
       "OpenPorchSF      0\n",
       "EnclosedPorch    0\n",
       "3SsnPorch        0\n",
       "ScreenPorch      0\n",
       "PoolArea         0\n",
       "MiscVal          0\n",
       "MoSold           0\n",
       "YrSold           0\n",
       "dtype: int64"
      ]
     },
     "execution_count": 25,
     "metadata": {},
     "output_type": "execute_result"
    }
   ],
   "source": [
    "features = [\"LotFrontage\",\"MasVnrArea\",\"BsmtFinSF1\",\"BsmtFinSF2\",\"BsmtUnfSF\",\"TotalBsmtSF\",\"BsmtFullBath\",\"BsmtHalfBath\",\"GarageYrBlt\",\"GarageCars\",\"GarageArea\"]\n",
    "def handle_missing(data, features):\n",
    "    for feature in features:\n",
    "        print(feature)\n",
    "        data[feature].fillna(value=data[feature].mean(), inplace=True)\n",
    "\n",
    "handle_missing(X_test, features)\n",
    "X_test.isna().sum()"
   ]
  },
  {
   "cell_type": "code",
   "execution_count": 26,
   "id": "06c580ac",
   "metadata": {
    "execution": {
     "iopub.execute_input": "2022-11-19T19:38:50.342113Z",
     "iopub.status.busy": "2022-11-19T19:38:50.341664Z",
     "iopub.status.idle": "2022-11-19T19:38:50.398941Z",
     "shell.execute_reply": "2022-11-19T19:38:50.397695Z"
    },
    "papermill": {
     "duration": 0.075823,
     "end_time": "2022-11-19T19:38:50.401417",
     "exception": false,
     "start_time": "2022-11-19T19:38:50.325594",
     "status": "completed"
    },
    "tags": []
   },
   "outputs": [
    {
     "data": {
      "application/javascript": [
       "parent.postMessage({\"jupyterEvent\": \"custom.exercise_interaction\", \"data\": {\"outcomeType\": 1, \"valueTowardsCompletion\": 1.0, \"interactionType\": 1, \"questionType\": 2, \"questionId\": \"4.2_PredsCodeB\", \"learnToolsVersion\": \"0.3.4\", \"failureMessage\": \"\", \"exceptionClass\": \"\", \"trace\": \"\"}}, \"*\")"
      ],
      "text/plain": [
       "<IPython.core.display.Javascript object>"
      ]
     },
     "metadata": {},
     "output_type": "display_data"
    },
    {
     "data": {
      "text/markdown": [
       "<span style=\"color:#33cc33\">Correct</span>"
      ],
      "text/plain": [
       "Correct"
      ]
     },
     "metadata": {},
     "output_type": "display_data"
    }
   ],
   "source": [
    "# Fill in the line below: preprocess test data\n",
    "final_X_test = X_test\n",
    "\n",
    "# Fill in the line below: get test predictions\n",
    "preds_test = model.predict(final_X_test)\n",
    "\n",
    "# Check your answers\n",
    "step_4.b.check()"
   ]
  },
  {
   "cell_type": "code",
   "execution_count": 27,
   "id": "45395c59",
   "metadata": {
    "execution": {
     "iopub.execute_input": "2022-11-19T19:38:50.430928Z",
     "iopub.status.busy": "2022-11-19T19:38:50.430484Z",
     "iopub.status.idle": "2022-11-19T19:38:50.434978Z",
     "shell.execute_reply": "2022-11-19T19:38:50.433762Z"
    },
    "papermill": {
     "duration": 0.022613,
     "end_time": "2022-11-19T19:38:50.437529",
     "exception": false,
     "start_time": "2022-11-19T19:38:50.414916",
     "status": "completed"
    },
    "tags": []
   },
   "outputs": [],
   "source": [
    "# Lines below will give you a hint or solution code\n",
    "#step_4.b.hint()\n",
    "#step_4.b.solution()"
   ]
  },
  {
   "cell_type": "markdown",
   "id": "2a8a98d4",
   "metadata": {
    "papermill": {
     "duration": 0.01269,
     "end_time": "2022-11-19T19:38:50.463367",
     "exception": false,
     "start_time": "2022-11-19T19:38:50.450677",
     "status": "completed"
    },
    "tags": []
   },
   "source": [
    "Run the next code cell without changes to save your results to a CSV file that can be submitted directly to the competition."
   ]
  },
  {
   "cell_type": "code",
   "execution_count": 28,
   "id": "70255fcb",
   "metadata": {
    "execution": {
     "iopub.execute_input": "2022-11-19T19:38:50.493186Z",
     "iopub.status.busy": "2022-11-19T19:38:50.492029Z",
     "iopub.status.idle": "2022-11-19T19:38:50.505114Z",
     "shell.execute_reply": "2022-11-19T19:38:50.503770Z"
    },
    "papermill": {
     "duration": 0.031353,
     "end_time": "2022-11-19T19:38:50.507856",
     "exception": false,
     "start_time": "2022-11-19T19:38:50.476503",
     "status": "completed"
    },
    "tags": []
   },
   "outputs": [],
   "source": [
    "# Save test predictions to file\n",
    "output = pd.DataFrame({'Id': X_test.index,\n",
    "                       'SalePrice': preds_test})\n",
    "output.to_csv('submission.csv', index=False)"
   ]
  },
  {
   "cell_type": "markdown",
   "id": "d1d9120b",
   "metadata": {
    "papermill": {
     "duration": 0.012944,
     "end_time": "2022-11-19T19:38:50.534726",
     "exception": false,
     "start_time": "2022-11-19T19:38:50.521782",
     "status": "completed"
    },
    "tags": []
   },
   "source": [
    "# Submit your results\n",
    "\n",
    "Once you have successfully completed Step 4, you're ready to submit your results to the leaderboard!  (_You also learned how to do this in the previous exercise.  If you need a reminder of how to do this, please use the instructions below._)  \n",
    "\n",
    "First, you'll need to join the competition if you haven't already.  So open a new window by clicking on [this link](https://www.kaggle.com/c/home-data-for-ml-course).  Then click on the **Join Competition** button.\n",
    "\n",
    "![join competition image](https://i.imgur.com/wLmFtH3.png)\n",
    "\n",
    "Next, follow the instructions below:\n",
    "1. Begin by clicking on the **Save Version** button in the top right corner of the window.  This will generate a pop-up window.  \n",
    "2. Ensure that the **Save and Run All** option is selected, and then click on the **Save** button.\n",
    "3. This generates a window in the bottom left corner of the notebook.  After it has finished running, click on the number to the right of the **Save Version** button.  This pulls up a list of versions on the right of the screen.  Click on the ellipsis **(...)** to the right of the most recent version, and select **Open in Viewer**.  This brings you into view mode of the same page. You will need to scroll down to get back to these instructions.\n",
    "4. Click on the **Output** tab on the right of the screen.  Then, click on the file you would like to submit, and click on the **Submit** button to submit your results to the leaderboard.\n",
    "\n",
    "You have now successfully submitted to the competition!\n",
    "\n",
    "If you want to keep working to improve your performance, select the **Edit** button in the top right of the screen. Then you can change your code and repeat the process. There's a lot of room to improve, and you will climb up the leaderboard as you work.\n",
    "\n",
    "\n",
    "# Keep going\n",
    "\n",
    "Move on to learn what **[categorical variables](https://www.kaggle.com/alexisbcook/categorical-variables)** are, along with how to incorporate them into your machine learning models.  Categorical variables are very common in real-world data, but you'll get an error if you try to plug them into your models without processing them first!"
   ]
  },
  {
   "cell_type": "markdown",
   "id": "c2e780da",
   "metadata": {
    "papermill": {
     "duration": 0.012664,
     "end_time": "2022-11-19T19:38:50.560519",
     "exception": false,
     "start_time": "2022-11-19T19:38:50.547855",
     "status": "completed"
    },
    "tags": []
   },
   "source": [
    "---\n",
    "\n",
    "\n",
    "\n",
    "\n",
    "*Have questions or comments? Visit the [course discussion forum](https://www.kaggle.com/learn/intermediate-machine-learning/discussion) to chat with other learners.*"
   ]
  }
 ],
 "metadata": {
  "kernelspec": {
   "display_name": "Python 3",
   "language": "python",
   "name": "python3"
  },
  "language_info": {
   "codemirror_mode": {
    "name": "ipython",
    "version": 3
   },
   "file_extension": ".py",
   "mimetype": "text/x-python",
   "name": "python",
   "nbconvert_exporter": "python",
   "pygments_lexer": "ipython3",
   "version": "3.7.12"
  },
  "papermill": {
   "default_parameters": {},
   "duration": 16.98931,
   "end_time": "2022-11-19T19:38:51.395637",
   "environment_variables": {},
   "exception": null,
   "input_path": "__notebook__.ipynb",
   "output_path": "__notebook__.ipynb",
   "parameters": {},
   "start_time": "2022-11-19T19:38:34.406327",
   "version": "2.3.4"
  }
 },
 "nbformat": 4,
 "nbformat_minor": 5
}
