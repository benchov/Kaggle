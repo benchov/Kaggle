{
 "cells": [
  {
   "cell_type": "markdown",
   "id": "3b441170",
   "metadata": {
    "papermill": {
     "duration": 0.008812,
     "end_time": "2022-11-08T08:41:28.852807",
     "exception": false,
     "start_time": "2022-11-08T08:41:28.843995",
     "status": "completed"
    },
    "tags": []
   },
   "source": [
    "**This notebook is an exercise in the [Data Cleaning](https://www.kaggle.com/learn/data-cleaning) course.  You can reference the tutorial at [this link](https://www.kaggle.com/alexisbcook/handling-missing-values).**\n",
    "\n",
    "---\n"
   ]
  },
  {
   "cell_type": "markdown",
   "id": "dbe8c0bb",
   "metadata": {
    "papermill": {
     "duration": 0.006937,
     "end_time": "2022-11-08T08:41:28.867125",
     "exception": false,
     "start_time": "2022-11-08T08:41:28.860188",
     "status": "completed"
    },
    "tags": []
   },
   "source": [
    "In this exercise, you'll apply what you learned in the **Handling missing values** tutorial.\n",
    "\n",
    "# Setup\n",
    "\n",
    "The questions below will give you feedback on your work. Run the following cell to set up the feedback system."
   ]
  },
  {
   "cell_type": "code",
   "execution_count": 1,
   "id": "3fe5acd9",
   "metadata": {
    "execution": {
     "iopub.execute_input": "2022-11-08T08:41:28.883841Z",
     "iopub.status.busy": "2022-11-08T08:41:28.883015Z",
     "iopub.status.idle": "2022-11-08T08:41:33.455976Z",
     "shell.execute_reply": "2022-11-08T08:41:33.454181Z"
    },
    "papermill": {
     "duration": 4.584612,
     "end_time": "2022-11-08T08:41:33.458877",
     "exception": false,
     "start_time": "2022-11-08T08:41:28.874265",
     "status": "completed"
    },
    "tags": []
   },
   "outputs": [
    {
     "name": "stderr",
     "output_type": "stream",
     "text": [
      "/opt/conda/lib/python3.7/site-packages/ipykernel_launcher.py:3: DtypeWarning: Columns (22,32) have mixed types.Specify dtype option on import or set low_memory=False.\n",
      "  This is separate from the ipykernel package so we can avoid doing imports until\n"
     ]
    },
    {
     "name": "stdout",
     "output_type": "stream",
     "text": [
      "Setup Complete\n"
     ]
    }
   ],
   "source": [
    "from learntools.core import binder\n",
    "binder.bind(globals())\n",
    "from learntools.data_cleaning.ex1 import *\n",
    "print(\"Setup Complete\")"
   ]
  },
  {
   "cell_type": "markdown",
   "id": "e1d9287e",
   "metadata": {
    "papermill": {
     "duration": 0.007163,
     "end_time": "2022-11-08T08:41:33.473489",
     "exception": false,
     "start_time": "2022-11-08T08:41:33.466326",
     "status": "completed"
    },
    "tags": []
   },
   "source": [
    "# 1) Take a first look at the data\n",
    "\n",
    "Run the next code cell to load in the libraries and dataset you'll use to complete the exercise."
   ]
  },
  {
   "cell_type": "code",
   "execution_count": 2,
   "id": "ed9dd7fe",
   "metadata": {
    "execution": {
     "iopub.execute_input": "2022-11-08T08:41:33.490130Z",
     "iopub.status.busy": "2022-11-08T08:41:33.489703Z",
     "iopub.status.idle": "2022-11-08T08:41:35.441636Z",
     "shell.execute_reply": "2022-11-08T08:41:35.440333Z"
    },
    "papermill": {
     "duration": 1.963455,
     "end_time": "2022-11-08T08:41:35.444231",
     "exception": false,
     "start_time": "2022-11-08T08:41:33.480776",
     "status": "completed"
    },
    "tags": []
   },
   "outputs": [
    {
     "name": "stderr",
     "output_type": "stream",
     "text": [
      "/opt/conda/lib/python3.7/site-packages/IPython/core/interactiveshell.py:3552: DtypeWarning: Columns (22,32) have mixed types.Specify dtype option on import or set low_memory=False.\n",
      "  exec(code_obj, self.user_global_ns, self.user_ns)\n"
     ]
    }
   ],
   "source": [
    "# modules we'll use\n",
    "import pandas as pd\n",
    "import numpy as np\n",
    "\n",
    "# read in all our data\n",
    "sf_permits = pd.read_csv(\"../input/building-permit-applications-data/Building_Permits.csv\")\n",
    "\n",
    "# set seed for reproducibility\n",
    "np.random.seed(0) "
   ]
  },
  {
   "cell_type": "markdown",
   "id": "c40facc3",
   "metadata": {
    "papermill": {
     "duration": 0.009146,
     "end_time": "2022-11-08T08:41:35.460787",
     "exception": false,
     "start_time": "2022-11-08T08:41:35.451641",
     "status": "completed"
    },
    "tags": []
   },
   "source": [
    "Use the code cell below to print the first five rows of the `sf_permits` DataFrame."
   ]
  },
  {
   "cell_type": "code",
   "execution_count": 3,
   "id": "4f6b98d3",
   "metadata": {
    "execution": {
     "iopub.execute_input": "2022-11-08T08:41:35.477957Z",
     "iopub.status.busy": "2022-11-08T08:41:35.477529Z",
     "iopub.status.idle": "2022-11-08T08:41:35.514530Z",
     "shell.execute_reply": "2022-11-08T08:41:35.513304Z"
    },
    "papermill": {
     "duration": 0.048698,
     "end_time": "2022-11-08T08:41:35.517044",
     "exception": false,
     "start_time": "2022-11-08T08:41:35.468346",
     "status": "completed"
    },
    "tags": []
   },
   "outputs": [
    {
     "data": {
      "text/html": [
       "<div>\n",
       "<style scoped>\n",
       "    .dataframe tbody tr th:only-of-type {\n",
       "        vertical-align: middle;\n",
       "    }\n",
       "\n",
       "    .dataframe tbody tr th {\n",
       "        vertical-align: top;\n",
       "    }\n",
       "\n",
       "    .dataframe thead th {\n",
       "        text-align: right;\n",
       "    }\n",
       "</style>\n",
       "<table border=\"1\" class=\"dataframe\">\n",
       "  <thead>\n",
       "    <tr style=\"text-align: right;\">\n",
       "      <th></th>\n",
       "      <th>Permit Number</th>\n",
       "      <th>Permit Type</th>\n",
       "      <th>Permit Type Definition</th>\n",
       "      <th>Permit Creation Date</th>\n",
       "      <th>Block</th>\n",
       "      <th>Lot</th>\n",
       "      <th>Street Number</th>\n",
       "      <th>Street Number Suffix</th>\n",
       "      <th>Street Name</th>\n",
       "      <th>Street Suffix</th>\n",
       "      <th>...</th>\n",
       "      <th>Existing Construction Type</th>\n",
       "      <th>Existing Construction Type Description</th>\n",
       "      <th>Proposed Construction Type</th>\n",
       "      <th>Proposed Construction Type Description</th>\n",
       "      <th>Site Permit</th>\n",
       "      <th>Supervisor District</th>\n",
       "      <th>Neighborhoods - Analysis Boundaries</th>\n",
       "      <th>Zipcode</th>\n",
       "      <th>Location</th>\n",
       "      <th>Record ID</th>\n",
       "    </tr>\n",
       "  </thead>\n",
       "  <tbody>\n",
       "    <tr>\n",
       "      <th>0</th>\n",
       "      <td>201505065519</td>\n",
       "      <td>4</td>\n",
       "      <td>sign - erect</td>\n",
       "      <td>05/06/2015</td>\n",
       "      <td>0326</td>\n",
       "      <td>023</td>\n",
       "      <td>140</td>\n",
       "      <td>NaN</td>\n",
       "      <td>Ellis</td>\n",
       "      <td>St</td>\n",
       "      <td>...</td>\n",
       "      <td>3.0</td>\n",
       "      <td>constr type 3</td>\n",
       "      <td>NaN</td>\n",
       "      <td>NaN</td>\n",
       "      <td>NaN</td>\n",
       "      <td>3.0</td>\n",
       "      <td>Tenderloin</td>\n",
       "      <td>94102.0</td>\n",
       "      <td>(37.785719256680785, -122.40852313194863)</td>\n",
       "      <td>1380611233945</td>\n",
       "    </tr>\n",
       "    <tr>\n",
       "      <th>1</th>\n",
       "      <td>201604195146</td>\n",
       "      <td>4</td>\n",
       "      <td>sign - erect</td>\n",
       "      <td>04/19/2016</td>\n",
       "      <td>0306</td>\n",
       "      <td>007</td>\n",
       "      <td>440</td>\n",
       "      <td>NaN</td>\n",
       "      <td>Geary</td>\n",
       "      <td>St</td>\n",
       "      <td>...</td>\n",
       "      <td>3.0</td>\n",
       "      <td>constr type 3</td>\n",
       "      <td>NaN</td>\n",
       "      <td>NaN</td>\n",
       "      <td>NaN</td>\n",
       "      <td>3.0</td>\n",
       "      <td>Tenderloin</td>\n",
       "      <td>94102.0</td>\n",
       "      <td>(37.78733980600732, -122.41063199757738)</td>\n",
       "      <td>1420164406718</td>\n",
       "    </tr>\n",
       "    <tr>\n",
       "      <th>2</th>\n",
       "      <td>201605278609</td>\n",
       "      <td>3</td>\n",
       "      <td>additions alterations or repairs</td>\n",
       "      <td>05/27/2016</td>\n",
       "      <td>0595</td>\n",
       "      <td>203</td>\n",
       "      <td>1647</td>\n",
       "      <td>NaN</td>\n",
       "      <td>Pacific</td>\n",
       "      <td>Av</td>\n",
       "      <td>...</td>\n",
       "      <td>1.0</td>\n",
       "      <td>constr type 1</td>\n",
       "      <td>1.0</td>\n",
       "      <td>constr type 1</td>\n",
       "      <td>NaN</td>\n",
       "      <td>3.0</td>\n",
       "      <td>Russian Hill</td>\n",
       "      <td>94109.0</td>\n",
       "      <td>(37.7946573324287, -122.42232562979227)</td>\n",
       "      <td>1424856504716</td>\n",
       "    </tr>\n",
       "    <tr>\n",
       "      <th>3</th>\n",
       "      <td>201611072166</td>\n",
       "      <td>8</td>\n",
       "      <td>otc alterations permit</td>\n",
       "      <td>11/07/2016</td>\n",
       "      <td>0156</td>\n",
       "      <td>011</td>\n",
       "      <td>1230</td>\n",
       "      <td>NaN</td>\n",
       "      <td>Pacific</td>\n",
       "      <td>Av</td>\n",
       "      <td>...</td>\n",
       "      <td>5.0</td>\n",
       "      <td>wood frame (5)</td>\n",
       "      <td>5.0</td>\n",
       "      <td>wood frame (5)</td>\n",
       "      <td>NaN</td>\n",
       "      <td>3.0</td>\n",
       "      <td>Nob Hill</td>\n",
       "      <td>94109.0</td>\n",
       "      <td>(37.79595867909168, -122.41557405519474)</td>\n",
       "      <td>1443574295566</td>\n",
       "    </tr>\n",
       "    <tr>\n",
       "      <th>4</th>\n",
       "      <td>201611283529</td>\n",
       "      <td>6</td>\n",
       "      <td>demolitions</td>\n",
       "      <td>11/28/2016</td>\n",
       "      <td>0342</td>\n",
       "      <td>001</td>\n",
       "      <td>950</td>\n",
       "      <td>NaN</td>\n",
       "      <td>Market</td>\n",
       "      <td>St</td>\n",
       "      <td>...</td>\n",
       "      <td>3.0</td>\n",
       "      <td>constr type 3</td>\n",
       "      <td>NaN</td>\n",
       "      <td>NaN</td>\n",
       "      <td>NaN</td>\n",
       "      <td>6.0</td>\n",
       "      <td>Tenderloin</td>\n",
       "      <td>94102.0</td>\n",
       "      <td>(37.78315261897309, -122.40950883997789)</td>\n",
       "      <td>144548169992</td>\n",
       "    </tr>\n",
       "  </tbody>\n",
       "</table>\n",
       "<p>5 rows × 43 columns</p>\n",
       "</div>"
      ],
      "text/plain": [
       "  Permit Number  Permit Type            Permit Type Definition  \\\n",
       "0  201505065519            4                      sign - erect   \n",
       "1  201604195146            4                      sign - erect   \n",
       "2  201605278609            3  additions alterations or repairs   \n",
       "3  201611072166            8            otc alterations permit   \n",
       "4  201611283529            6                       demolitions   \n",
       "\n",
       "  Permit Creation Date Block  Lot  Street Number Street Number Suffix  \\\n",
       "0           05/06/2015  0326  023            140                  NaN   \n",
       "1           04/19/2016  0306  007            440                  NaN   \n",
       "2           05/27/2016  0595  203           1647                  NaN   \n",
       "3           11/07/2016  0156  011           1230                  NaN   \n",
       "4           11/28/2016  0342  001            950                  NaN   \n",
       "\n",
       "  Street Name Street Suffix  ...  Existing Construction Type  \\\n",
       "0       Ellis            St  ...                         3.0   \n",
       "1       Geary            St  ...                         3.0   \n",
       "2     Pacific            Av  ...                         1.0   \n",
       "3     Pacific            Av  ...                         5.0   \n",
       "4      Market            St  ...                         3.0   \n",
       "\n",
       "  Existing Construction Type Description Proposed Construction Type  \\\n",
       "0                          constr type 3                        NaN   \n",
       "1                          constr type 3                        NaN   \n",
       "2                          constr type 1                        1.0   \n",
       "3                         wood frame (5)                        5.0   \n",
       "4                          constr type 3                        NaN   \n",
       "\n",
       "  Proposed Construction Type Description Site Permit Supervisor District  \\\n",
       "0                                    NaN         NaN                 3.0   \n",
       "1                                    NaN         NaN                 3.0   \n",
       "2                          constr type 1         NaN                 3.0   \n",
       "3                         wood frame (5)         NaN                 3.0   \n",
       "4                                    NaN         NaN                 6.0   \n",
       "\n",
       "  Neighborhoods - Analysis Boundaries  Zipcode  \\\n",
       "0                          Tenderloin  94102.0   \n",
       "1                          Tenderloin  94102.0   \n",
       "2                        Russian Hill  94109.0   \n",
       "3                            Nob Hill  94109.0   \n",
       "4                          Tenderloin  94102.0   \n",
       "\n",
       "                                    Location      Record ID  \n",
       "0  (37.785719256680785, -122.40852313194863)  1380611233945  \n",
       "1   (37.78733980600732, -122.41063199757738)  1420164406718  \n",
       "2    (37.7946573324287, -122.42232562979227)  1424856504716  \n",
       "3   (37.79595867909168, -122.41557405519474)  1443574295566  \n",
       "4   (37.78315261897309, -122.40950883997789)   144548169992  \n",
       "\n",
       "[5 rows x 43 columns]"
      ]
     },
     "execution_count": 3,
     "metadata": {},
     "output_type": "execute_result"
    }
   ],
   "source": [
    "# TODO: Your code here!\n",
    "sf_permits.head()"
   ]
  },
  {
   "cell_type": "markdown",
   "id": "0b27cde3",
   "metadata": {
    "papermill": {
     "duration": 0.007606,
     "end_time": "2022-11-08T08:41:35.532978",
     "exception": false,
     "start_time": "2022-11-08T08:41:35.525372",
     "status": "completed"
    },
    "tags": []
   },
   "source": [
    "Does the dataset have any missing values?  Once you have an answer, run the code cell below to get credit for your work."
   ]
  },
  {
   "cell_type": "code",
   "execution_count": 4,
   "id": "8376868b",
   "metadata": {
    "execution": {
     "iopub.execute_input": "2022-11-08T08:41:35.550303Z",
     "iopub.status.busy": "2022-11-08T08:41:35.549882Z",
     "iopub.status.idle": "2022-11-08T08:41:35.784418Z",
     "shell.execute_reply": "2022-11-08T08:41:35.783339Z"
    },
    "papermill": {
     "duration": 0.246196,
     "end_time": "2022-11-08T08:41:35.786956",
     "exception": false,
     "start_time": "2022-11-08T08:41:35.540760",
     "status": "completed"
    },
    "tags": []
   },
   "outputs": [],
   "source": [
    "missing_values = sf_permits.isna().sum()"
   ]
  },
  {
   "cell_type": "code",
   "execution_count": 5,
   "id": "da0fb687",
   "metadata": {
    "execution": {
     "iopub.execute_input": "2022-11-08T08:41:35.804994Z",
     "iopub.status.busy": "2022-11-08T08:41:35.803910Z",
     "iopub.status.idle": "2022-11-08T08:41:35.814364Z",
     "shell.execute_reply": "2022-11-08T08:41:35.813016Z"
    },
    "papermill": {
     "duration": 0.022024,
     "end_time": "2022-11-08T08:41:35.816821",
     "exception": false,
     "start_time": "2022-11-08T08:41:35.794797",
     "status": "completed"
    },
    "tags": []
   },
   "outputs": [
    {
     "data": {
      "application/javascript": [
       "parent.postMessage({\"jupyterEvent\": \"custom.exercise_interaction\", \"data\": {\"outcomeType\": 1, \"valueTowardsCompletion\": 0.16666666666666666, \"interactionType\": 1, \"questionType\": 4, \"questionId\": \"1_TakeFirstLook\", \"learnToolsVersion\": \"0.3.4\", \"failureMessage\": \"\", \"exceptionClass\": \"\", \"trace\": \"\"}}, \"*\")"
      ],
      "text/plain": [
       "<IPython.core.display.Javascript object>"
      ]
     },
     "metadata": {},
     "output_type": "display_data"
    },
    {
     "data": {
      "text/markdown": [
       "<span style=\"color:#33cc33\">Correct:</span> \n",
       "\n",
       "The first five rows of the data does show that several columns have missing values.  You can see this in the \"Street Number Suffix\", \"Proposed Construction Type\" and \"Site Permit\" columns, among others."
      ],
      "text/plain": [
       "Correct: \n",
       "\n",
       "The first five rows of the data does show that several columns have missing values.  You can see this in the \"Street Number Suffix\", \"Proposed Construction Type\" and \"Site Permit\" columns, among others."
      ]
     },
     "metadata": {},
     "output_type": "display_data"
    }
   ],
   "source": [
    "# Check your answer (Run this code cell to receive credit!)\n",
    "q1.check()"
   ]
  },
  {
   "cell_type": "code",
   "execution_count": 6,
   "id": "951b291d",
   "metadata": {
    "execution": {
     "iopub.execute_input": "2022-11-08T08:41:35.834808Z",
     "iopub.status.busy": "2022-11-08T08:41:35.834400Z",
     "iopub.status.idle": "2022-11-08T08:41:35.839341Z",
     "shell.execute_reply": "2022-11-08T08:41:35.838149Z"
    },
    "papermill": {
     "duration": 0.016697,
     "end_time": "2022-11-08T08:41:35.841633",
     "exception": false,
     "start_time": "2022-11-08T08:41:35.824936",
     "status": "completed"
    },
    "tags": []
   },
   "outputs": [],
   "source": [
    "# Line below will give you a hint\n",
    "#q1.hint()"
   ]
  },
  {
   "cell_type": "markdown",
   "id": "af025ad6",
   "metadata": {
    "papermill": {
     "duration": 0.00763,
     "end_time": "2022-11-08T08:41:35.857175",
     "exception": false,
     "start_time": "2022-11-08T08:41:35.849545",
     "status": "completed"
    },
    "tags": []
   },
   "source": [
    "# 2) How many missing data points do we have?\n",
    "\n",
    "What percentage of the values in the dataset are missing?  Your answer should be a number between 0 and 100.  (If 1/4 of the values in the dataset are missing, the answer is 25.)"
   ]
  },
  {
   "cell_type": "code",
   "execution_count": 7,
   "id": "7aa3a6db",
   "metadata": {
    "execution": {
     "iopub.execute_input": "2022-11-08T08:41:35.874868Z",
     "iopub.status.busy": "2022-11-08T08:41:35.874461Z",
     "iopub.status.idle": "2022-11-08T08:41:35.882482Z",
     "shell.execute_reply": "2022-11-08T08:41:35.881217Z"
    },
    "papermill": {
     "duration": 0.019649,
     "end_time": "2022-11-08T08:41:35.884943",
     "exception": false,
     "start_time": "2022-11-08T08:41:35.865294",
     "status": "completed"
    },
    "tags": []
   },
   "outputs": [
    {
     "data": {
      "text/plain": [
       "(8552700, 2245941)"
      ]
     },
     "execution_count": 7,
     "metadata": {},
     "output_type": "execute_result"
    }
   ],
   "source": [
    "total_cells = np.product(sf_permits.shape)\n",
    "total_missing = missing_values.sum()\n",
    "total_cells, total_missing"
   ]
  },
  {
   "cell_type": "code",
   "execution_count": 8,
   "id": "bd650866",
   "metadata": {
    "execution": {
     "iopub.execute_input": "2022-11-08T08:41:35.903002Z",
     "iopub.status.busy": "2022-11-08T08:41:35.902615Z",
     "iopub.status.idle": "2022-11-08T08:41:35.912527Z",
     "shell.execute_reply": "2022-11-08T08:41:35.911341Z"
    },
    "papermill": {
     "duration": 0.021458,
     "end_time": "2022-11-08T08:41:35.914576",
     "exception": false,
     "start_time": "2022-11-08T08:41:35.893118",
     "status": "completed"
    },
    "tags": []
   },
   "outputs": [
    {
     "data": {
      "application/javascript": [
       "parent.postMessage({\"jupyterEvent\": \"custom.exercise_interaction\", \"data\": {\"outcomeType\": 1, \"valueTowardsCompletion\": 0.16666666666666666, \"interactionType\": 1, \"questionType\": 1, \"questionId\": \"2_PercentMissingValues\", \"learnToolsVersion\": \"0.3.4\", \"failureMessage\": \"\", \"exceptionClass\": \"\", \"trace\": \"\"}}, \"*\")"
      ],
      "text/plain": [
       "<IPython.core.display.Javascript object>"
      ]
     },
     "metadata": {},
     "output_type": "display_data"
    },
    {
     "data": {
      "text/markdown": [
       "<span style=\"color:#33cc33\">Correct</span>"
      ],
      "text/plain": [
       "Correct"
      ]
     },
     "metadata": {},
     "output_type": "display_data"
    }
   ],
   "source": [
    "# TODO: Your code here!\n",
    "percent_missing = (total_missing / total_cells) * 100\n",
    "\n",
    "# Check your answer\n",
    "q2.check()"
   ]
  },
  {
   "cell_type": "code",
   "execution_count": 9,
   "id": "329e755c",
   "metadata": {
    "execution": {
     "iopub.execute_input": "2022-11-08T08:41:35.933438Z",
     "iopub.status.busy": "2022-11-08T08:41:35.932941Z",
     "iopub.status.idle": "2022-11-08T08:41:35.937831Z",
     "shell.execute_reply": "2022-11-08T08:41:35.936521Z"
    },
    "papermill": {
     "duration": 0.017422,
     "end_time": "2022-11-08T08:41:35.940295",
     "exception": false,
     "start_time": "2022-11-08T08:41:35.922873",
     "status": "completed"
    },
    "tags": []
   },
   "outputs": [],
   "source": [
    "# Lines below will give you a hint or solution code\n",
    "#q2.hint()\n",
    "#q2.solution()"
   ]
  },
  {
   "cell_type": "markdown",
   "id": "a6475552",
   "metadata": {
    "papermill": {
     "duration": 0.008074,
     "end_time": "2022-11-08T08:41:35.956875",
     "exception": false,
     "start_time": "2022-11-08T08:41:35.948801",
     "status": "completed"
    },
    "tags": []
   },
   "source": [
    "# 3) Figure out why the data is missing\n",
    "\n",
    "Look at the columns **\"Street Number Suffix\"** and **\"Zipcode\"** from the [San Francisco Building Permits dataset](https://www.kaggle.com/aparnashastry/building-permit-applications-data). Both of these contain missing values. \n",
    "- Which, if either, are missing because they don't exist? \n",
    "- Which, if either, are missing because they weren't recorded?  \n",
    "\n",
    "Once you have an answer, run the code cell below."
   ]
  },
  {
   "cell_type": "code",
   "execution_count": 10,
   "id": "ac08091a",
   "metadata": {
    "execution": {
     "iopub.execute_input": "2022-11-08T08:41:35.975442Z",
     "iopub.status.busy": "2022-11-08T08:41:35.975019Z",
     "iopub.status.idle": "2022-11-08T08:41:35.983839Z",
     "shell.execute_reply": "2022-11-08T08:41:35.982648Z"
    },
    "papermill": {
     "duration": 0.021102,
     "end_time": "2022-11-08T08:41:35.986323",
     "exception": false,
     "start_time": "2022-11-08T08:41:35.965221",
     "status": "completed"
    },
    "tags": []
   },
   "outputs": [],
   "source": [
    "street_ns = sf_permits[\"Street Number Suffix\"]\n",
    "\n"
   ]
  },
  {
   "cell_type": "code",
   "execution_count": 11,
   "id": "d871f134",
   "metadata": {
    "execution": {
     "iopub.execute_input": "2022-11-08T08:41:36.004839Z",
     "iopub.status.busy": "2022-11-08T08:41:36.004435Z",
     "iopub.status.idle": "2022-11-08T08:41:36.013792Z",
     "shell.execute_reply": "2022-11-08T08:41:36.012693Z"
    },
    "papermill": {
     "duration": 0.021346,
     "end_time": "2022-11-08T08:41:36.016093",
     "exception": false,
     "start_time": "2022-11-08T08:41:35.994747",
     "status": "completed"
    },
    "tags": []
   },
   "outputs": [
    {
     "data": {
      "application/javascript": [
       "parent.postMessage({\"jupyterEvent\": \"custom.exercise_interaction\", \"data\": {\"outcomeType\": 1, \"valueTowardsCompletion\": 0.16666666666666666, \"interactionType\": 1, \"questionType\": 4, \"questionId\": \"3_WhyDataMissing\", \"learnToolsVersion\": \"0.3.4\", \"failureMessage\": \"\", \"exceptionClass\": \"\", \"trace\": \"\"}}, \"*\")"
      ],
      "text/plain": [
       "<IPython.core.display.Javascript object>"
      ]
     },
     "metadata": {},
     "output_type": "display_data"
    },
    {
     "data": {
      "text/markdown": [
       "<span style=\"color:#33cc33\">Correct:</span> \n",
       "\n",
       "If a value in the \"Street Number Suffix\" column is missing, it is likely because it does not exist. If a value in the \"Zipcode\" column is missing, it was not recorded."
      ],
      "text/plain": [
       "Correct: \n",
       "\n",
       "If a value in the \"Street Number Suffix\" column is missing, it is likely because it does not exist. If a value in the \"Zipcode\" column is missing, it was not recorded."
      ]
     },
     "metadata": {},
     "output_type": "display_data"
    }
   ],
   "source": [
    "# Check your answer (Run this code cell to receive credit!)\n",
    "q3.check()"
   ]
  },
  {
   "cell_type": "code",
   "execution_count": 12,
   "id": "c42f8938",
   "metadata": {
    "execution": {
     "iopub.execute_input": "2022-11-08T08:41:36.035686Z",
     "iopub.status.busy": "2022-11-08T08:41:36.035270Z",
     "iopub.status.idle": "2022-11-08T08:41:36.039780Z",
     "shell.execute_reply": "2022-11-08T08:41:36.038681Z"
    },
    "papermill": {
     "duration": 0.017504,
     "end_time": "2022-11-08T08:41:36.042202",
     "exception": false,
     "start_time": "2022-11-08T08:41:36.024698",
     "status": "completed"
    },
    "tags": []
   },
   "outputs": [],
   "source": [
    "# Line below will give you a hint\n",
    "#q3.hint()"
   ]
  },
  {
   "cell_type": "markdown",
   "id": "5040a7e1",
   "metadata": {
    "papermill": {
     "duration": 0.008336,
     "end_time": "2022-11-08T08:41:36.059307",
     "exception": false,
     "start_time": "2022-11-08T08:41:36.050971",
     "status": "completed"
    },
    "tags": []
   },
   "source": [
    "# 4) Drop missing values: rows\n",
    "\n",
    "If you removed all of the rows of `sf_permits` with missing values, how many rows are left?\n",
    "\n",
    "**Note**: Do not change the value of `sf_permits` when checking this.  "
   ]
  },
  {
   "cell_type": "code",
   "execution_count": null,
   "id": "cd6ee326",
   "metadata": {
    "papermill": {
     "duration": 0.008255,
     "end_time": "2022-11-08T08:41:36.076112",
     "exception": false,
     "start_time": "2022-11-08T08:41:36.067857",
     "status": "completed"
    },
    "tags": []
   },
   "outputs": [],
   "source": []
  },
  {
   "cell_type": "code",
   "execution_count": 13,
   "id": "94e37701",
   "metadata": {
    "execution": {
     "iopub.execute_input": "2022-11-08T08:41:36.095034Z",
     "iopub.status.busy": "2022-11-08T08:41:36.094590Z",
     "iopub.status.idle": "2022-11-08T08:41:36.379845Z",
     "shell.execute_reply": "2022-11-08T08:41:36.378795Z"
    },
    "papermill": {
     "duration": 0.297592,
     "end_time": "2022-11-08T08:41:36.382354",
     "exception": false,
     "start_time": "2022-11-08T08:41:36.084762",
     "status": "completed"
    },
    "tags": []
   },
   "outputs": [
    {
     "data": {
      "text/plain": [
       "0"
      ]
     },
     "execution_count": 13,
     "metadata": {},
     "output_type": "execute_result"
    }
   ],
   "source": [
    "# TODO: Your code here!\n",
    "sf_permits_copy = sf_permits.copy()\n",
    "sf_permits_dropped = sf_permits_copy.dropna()\n",
    "len(sf_permits_dropped) \n"
   ]
  },
  {
   "cell_type": "markdown",
   "id": "5d8b10bd",
   "metadata": {
    "papermill": {
     "duration": 0.00853,
     "end_time": "2022-11-08T08:41:36.399972",
     "exception": false,
     "start_time": "2022-11-08T08:41:36.391442",
     "status": "completed"
    },
    "tags": []
   },
   "source": [
    "Once you have an answer, run the code cell below."
   ]
  },
  {
   "cell_type": "code",
   "execution_count": 14,
   "id": "3899af02",
   "metadata": {
    "execution": {
     "iopub.execute_input": "2022-11-08T08:41:36.419401Z",
     "iopub.status.busy": "2022-11-08T08:41:36.418983Z",
     "iopub.status.idle": "2022-11-08T08:41:36.427893Z",
     "shell.execute_reply": "2022-11-08T08:41:36.426810Z"
    },
    "papermill": {
     "duration": 0.021713,
     "end_time": "2022-11-08T08:41:36.430395",
     "exception": false,
     "start_time": "2022-11-08T08:41:36.408682",
     "status": "completed"
    },
    "tags": []
   },
   "outputs": [
    {
     "data": {
      "application/javascript": [
       "parent.postMessage({\"jupyterEvent\": \"custom.exercise_interaction\", \"data\": {\"outcomeType\": 1, \"valueTowardsCompletion\": 0.16666666666666666, \"interactionType\": 1, \"questionType\": 4, \"questionId\": \"4_DropMissingRows\", \"learnToolsVersion\": \"0.3.4\", \"failureMessage\": \"\", \"exceptionClass\": \"\", \"trace\": \"\"}}, \"*\")"
      ],
      "text/plain": [
       "<IPython.core.display.Javascript object>"
      ]
     },
     "metadata": {},
     "output_type": "display_data"
    },
    {
     "data": {
      "text/markdown": [
       "<span style=\"color:#33cc33\">Correct:</span> \n",
       "\n",
       "There are no rows remaining in the dataset!"
      ],
      "text/plain": [
       "Correct: \n",
       "\n",
       "There are no rows remaining in the dataset!"
      ]
     },
     "metadata": {},
     "output_type": "display_data"
    }
   ],
   "source": [
    "# Check your answer (Run this code cell to receive credit!)\n",
    "q4.check()"
   ]
  },
  {
   "cell_type": "code",
   "execution_count": 15,
   "id": "b0d210ae",
   "metadata": {
    "execution": {
     "iopub.execute_input": "2022-11-08T08:41:36.449971Z",
     "iopub.status.busy": "2022-11-08T08:41:36.449585Z",
     "iopub.status.idle": "2022-11-08T08:41:36.454440Z",
     "shell.execute_reply": "2022-11-08T08:41:36.453246Z"
    },
    "papermill": {
     "duration": 0.01741,
     "end_time": "2022-11-08T08:41:36.456810",
     "exception": false,
     "start_time": "2022-11-08T08:41:36.439400",
     "status": "completed"
    },
    "tags": []
   },
   "outputs": [],
   "source": [
    "# Line below will give you a hint\n",
    "#q4.hint()"
   ]
  },
  {
   "cell_type": "markdown",
   "id": "6591f37a",
   "metadata": {
    "papermill": {
     "duration": 0.008824,
     "end_time": "2022-11-08T08:41:36.474541",
     "exception": false,
     "start_time": "2022-11-08T08:41:36.465717",
     "status": "completed"
    },
    "tags": []
   },
   "source": [
    "# 5) Drop missing values: columns\n",
    "\n",
    "Now try removing all the columns with empty values.  \n",
    "- Create a new DataFrame called `sf_permits_with_na_dropped` that has all of the columns with empty values removed.  \n",
    "- How many columns were removed from the original `sf_permits` DataFrame? Use this number to set the value of the `dropped_columns` variable below."
   ]
  },
  {
   "cell_type": "code",
   "execution_count": 16,
   "id": "fa8c4dbf",
   "metadata": {
    "execution": {
     "iopub.execute_input": "2022-11-08T08:41:36.494491Z",
     "iopub.status.busy": "2022-11-08T08:41:36.493637Z",
     "iopub.status.idle": "2022-11-08T08:41:36.865347Z",
     "shell.execute_reply": "2022-11-08T08:41:36.864040Z"
    },
    "papermill": {
     "duration": 0.384369,
     "end_time": "2022-11-08T08:41:36.867818",
     "exception": false,
     "start_time": "2022-11-08T08:41:36.483449",
     "status": "completed"
    },
    "tags": []
   },
   "outputs": [
    {
     "data": {
      "application/javascript": [
       "parent.postMessage({\"jupyterEvent\": \"custom.exercise_interaction\", \"data\": {\"outcomeType\": 1, \"valueTowardsCompletion\": 0.16666666666666666, \"interactionType\": 1, \"questionType\": 1, \"questionId\": \"5_DropMissingCols\", \"learnToolsVersion\": \"0.3.4\", \"failureMessage\": \"\", \"exceptionClass\": \"\", \"trace\": \"\"}}, \"*\")"
      ],
      "text/plain": [
       "<IPython.core.display.Javascript object>"
      ]
     },
     "metadata": {},
     "output_type": "display_data"
    },
    {
     "data": {
      "text/markdown": [
       "<span style=\"color:#33cc33\">Correct</span>"
      ],
      "text/plain": [
       "Correct"
      ]
     },
     "metadata": {},
     "output_type": "display_data"
    }
   ],
   "source": [
    "# TODO: Your code here\n",
    "sf_permits_copied = sf_permits.copy()\n",
    "sf_permits_with_na_dropped = sf_permits_copied.dropna(axis=1)\n",
    "dropped_cols = sf_permits_with_na_dropped.shape[1]\n",
    "orig_col = sf_permits_copied.shape[1]\n",
    "dropped_columns = orig_col - dropped_cols\n",
    "\n",
    "# Check your answer\n",
    "q5.check()"
   ]
  },
  {
   "cell_type": "code",
   "execution_count": 17,
   "id": "93769888",
   "metadata": {
    "execution": {
     "iopub.execute_input": "2022-11-08T08:41:36.888654Z",
     "iopub.status.busy": "2022-11-08T08:41:36.888162Z",
     "iopub.status.idle": "2022-11-08T08:41:36.897909Z",
     "shell.execute_reply": "2022-11-08T08:41:36.896705Z"
    },
    "papermill": {
     "duration": 0.022916,
     "end_time": "2022-11-08T08:41:36.900428",
     "exception": false,
     "start_time": "2022-11-08T08:41:36.877512",
     "status": "completed"
    },
    "tags": []
   },
   "outputs": [
    {
     "data": {
      "application/javascript": [
       "parent.postMessage({\"jupyterEvent\": \"custom.exercise_interaction\", \"data\": {\"interactionType\": 3, \"questionType\": 1, \"questionId\": \"5_DropMissingCols\", \"learnToolsVersion\": \"0.3.4\", \"valueTowardsCompletion\": 0.0, \"failureMessage\": \"\", \"exceptionClass\": \"\", \"trace\": \"\", \"outcomeType\": 4}}, \"*\")"
      ],
      "text/plain": [
       "<IPython.core.display.Javascript object>"
      ]
     },
     "metadata": {},
     "output_type": "display_data"
    },
    {
     "data": {
      "text/markdown": [
       "<span style=\"color:#33cc99\">Solution:</span> \n",
       "```python\n",
       "# remove all columns with at least one missing value\n",
       "sf_permits_with_na_dropped = sf_permits.dropna(axis=1)\n",
       "\n",
       "# calculate number of dropped columns\n",
       "cols_in_original_dataset = sf_permits.shape[1]\n",
       "cols_in_na_dropped = sf_permits_with_na_dropped.shape[1]\n",
       "dropped_columns = cols_in_original_dataset - cols_in_na_dropped\n",
       "\n",
       "```"
      ],
      "text/plain": [
       "Solution: \n",
       "```python\n",
       "# remove all columns with at least one missing value\n",
       "sf_permits_with_na_dropped = sf_permits.dropna(axis=1)\n",
       "\n",
       "# calculate number of dropped columns\n",
       "cols_in_original_dataset = sf_permits.shape[1]\n",
       "cols_in_na_dropped = sf_permits_with_na_dropped.shape[1]\n",
       "dropped_columns = cols_in_original_dataset - cols_in_na_dropped\n",
       "\n",
       "```"
      ]
     },
     "metadata": {},
     "output_type": "display_data"
    }
   ],
   "source": [
    "# Lines below will give you a hint or solution code\n",
    "# q5.hint()\n",
    "q5.solution()"
   ]
  },
  {
   "cell_type": "markdown",
   "id": "989ab578",
   "metadata": {
    "papermill": {
     "duration": 0.009452,
     "end_time": "2022-11-08T08:41:36.919590",
     "exception": false,
     "start_time": "2022-11-08T08:41:36.910138",
     "status": "completed"
    },
    "tags": []
   },
   "source": [
    "# 6) Fill in missing values automatically\n",
    "\n",
    "Try replacing all the NaN's in the `sf_permits` data with the one that comes directly after it and then replacing any remaining NaN's with 0.  Set the result to a new DataFrame `sf_permits_with_na_imputed`."
   ]
  },
  {
   "cell_type": "code",
   "execution_count": 18,
   "id": "851d2c4c",
   "metadata": {
    "execution": {
     "iopub.execute_input": "2022-11-08T08:41:36.940179Z",
     "iopub.status.busy": "2022-11-08T08:41:36.939761Z",
     "iopub.status.idle": "2022-11-08T08:41:37.337245Z",
     "shell.execute_reply": "2022-11-08T08:41:37.336407Z"
    },
    "papermill": {
     "duration": 0.410659,
     "end_time": "2022-11-08T08:41:37.339751",
     "exception": false,
     "start_time": "2022-11-08T08:41:36.929092",
     "status": "completed"
    },
    "tags": []
   },
   "outputs": [
    {
     "data": {
      "application/javascript": [
       "parent.postMessage({\"jupyterEvent\": \"custom.exercise_interaction\", \"data\": {\"outcomeType\": 1, \"valueTowardsCompletion\": 0.16666666666666666, \"interactionType\": 1, \"questionType\": 1, \"questionId\": \"6_ImputeAutomatically\", \"learnToolsVersion\": \"0.3.4\", \"failureMessage\": \"\", \"exceptionClass\": \"\", \"trace\": \"\"}}, \"*\")"
      ],
      "text/plain": [
       "<IPython.core.display.Javascript object>"
      ]
     },
     "metadata": {},
     "output_type": "display_data"
    },
    {
     "data": {
      "text/markdown": [
       "<span style=\"color:#33cc33\">Correct</span>"
      ],
      "text/plain": [
       "Correct"
      ]
     },
     "metadata": {},
     "output_type": "display_data"
    }
   ],
   "source": [
    "# TODO: Your code here\n",
    "sf_permits_with_na_imputed = sf_permits.fillna(method='bfill')\n",
    "\n",
    "# Check your answer\n",
    "q6.check()"
   ]
  },
  {
   "cell_type": "code",
   "execution_count": 19,
   "id": "fe1a9189",
   "metadata": {
    "execution": {
     "iopub.execute_input": "2022-11-08T08:41:37.361587Z",
     "iopub.status.busy": "2022-11-08T08:41:37.360750Z",
     "iopub.status.idle": "2022-11-08T08:41:37.365814Z",
     "shell.execute_reply": "2022-11-08T08:41:37.364595Z"
    },
    "papermill": {
     "duration": 0.018696,
     "end_time": "2022-11-08T08:41:37.368211",
     "exception": false,
     "start_time": "2022-11-08T08:41:37.349515",
     "status": "completed"
    },
    "tags": []
   },
   "outputs": [],
   "source": [
    "# Lines below will give you a hint or solution code\n",
    "#q6.hint()\n",
    "#q6.solution()"
   ]
  },
  {
   "cell_type": "markdown",
   "id": "e08e1436",
   "metadata": {
    "papermill": {
     "duration": 0.009417,
     "end_time": "2022-11-08T08:41:37.387568",
     "exception": false,
     "start_time": "2022-11-08T08:41:37.378151",
     "status": "completed"
    },
    "tags": []
   },
   "source": [
    "# More practice\n",
    "\n",
    "If you're looking for more practice handling missing values:\n",
    "\n",
    "* Check out [this noteboook](https://www.kaggle.com/alexisbcook/missing-values) on handling missing values using scikit-learn's imputer. \n",
    "* Look back at the \"Zipcode\" column in the `sf_permits` dataset, which has some missing values. How would you go about figuring out what the actual zipcode of each address should be? (You might try using another dataset. You can search for datasets about San Fransisco on the [Datasets listing](https://www.kaggle.com/datasets).) \n",
    "\n",
    "# Keep going\n",
    "\n",
    "In the next lesson, learn how to [**apply scaling and normalization**](https://www.kaggle.com/alexisbcook/scaling-and-normalization) to transform your data."
   ]
  },
  {
   "cell_type": "markdown",
   "id": "9b197aa9",
   "metadata": {
    "papermill": {
     "duration": 0.009245,
     "end_time": "2022-11-08T08:41:37.406515",
     "exception": false,
     "start_time": "2022-11-08T08:41:37.397270",
     "status": "completed"
    },
    "tags": []
   },
   "source": [
    "---\n",
    "\n",
    "\n",
    "\n",
    "\n",
    "*Have questions or comments? Visit the [course discussion forum](https://www.kaggle.com/learn/data-cleaning/discussion) to chat with other learners.*"
   ]
  }
 ],
 "metadata": {
  "kernelspec": {
   "display_name": "Python 3",
   "language": "python",
   "name": "python3"
  },
  "language_info": {
   "codemirror_mode": {
    "name": "ipython",
    "version": 3
   },
   "file_extension": ".py",
   "mimetype": "text/x-python",
   "name": "python",
   "nbconvert_exporter": "python",
   "pygments_lexer": "ipython3",
   "version": "3.7.12"
  },
  "papermill": {
   "default_parameters": {},
   "duration": 18.169668,
   "end_time": "2022-11-08T08:41:38.339922",
   "environment_variables": {},
   "exception": null,
   "input_path": "__notebook__.ipynb",
   "output_path": "__notebook__.ipynb",
   "parameters": {},
   "start_time": "2022-11-08T08:41:20.170254",
   "version": "2.3.4"
  }
 },
 "nbformat": 4,
 "nbformat_minor": 5
}
