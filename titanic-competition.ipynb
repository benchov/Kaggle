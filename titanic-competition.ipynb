{
 "cells": [
  {
   "cell_type": "code",
   "execution_count": 1,
   "id": "8643d43b",
   "metadata": {
    "_cell_guid": "b1076dfc-b9ad-4769-8c92-a6c4dae69d19",
    "_uuid": "8f2839f25d086af736a60e9eeb907d3b93b6e0e5",
    "execution": {
     "iopub.execute_input": "2022-09-14T10:23:46.852427Z",
     "iopub.status.busy": "2022-09-14T10:23:46.851464Z",
     "iopub.status.idle": "2022-09-14T10:23:46.869064Z",
     "shell.execute_reply": "2022-09-14T10:23:46.868116Z"
    },
    "papermill": {
     "duration": 0.044617,
     "end_time": "2022-09-14T10:23:46.872184",
     "exception": false,
     "start_time": "2022-09-14T10:23:46.827567",
     "status": "completed"
    },
    "tags": []
   },
   "outputs": [
    {
     "name": "stdout",
     "output_type": "stream",
     "text": [
      "/kaggle/input/titanic/train.csv\n",
      "/kaggle/input/titanic/test.csv\n",
      "/kaggle/input/titanic/gender_submission.csv\n"
     ]
    }
   ],
   "source": [
    "# This Python 3 environment comes with many helpful analytics libraries installed\n",
    "# It is defined by the kaggle/python Docker image: https://github.com/kaggle/docker-python\n",
    "# For example, here's several helpful packages to load\n",
    "\n",
    "import numpy as np # linear algebra\n",
    "import pandas as pd # data processing, CSV file I/O (e.g. pd.read_csv)\n",
    "\n",
    "# Input data files are available in the read-only \"../input/\" directory\n",
    "# For example, running this (by clicking run or pressing Shift+Enter) will list all files under the input directory\n",
    "\n",
    "import os\n",
    "for dirname, _, filenames in os.walk('/kaggle/input'):\n",
    "    for filename in filenames:\n",
    "        print(os.path.join(dirname, filename))\n",
    "\n",
    "# You can write up to 20GB to the current directory (/kaggle/working/) that gets preserved as output when you create a version using \"Save & Run All\" \n",
    "# You can also write temporary files to /kaggle/temp/, but they won't be saved outside of the current session"
   ]
  },
  {
   "cell_type": "markdown",
   "id": "de843bcc",
   "metadata": {
    "papermill": {
     "duration": 0.015315,
     "end_time": "2022-09-14T10:23:46.900628",
     "exception": false,
     "start_time": "2022-09-14T10:23:46.885313",
     "status": "completed"
    },
    "tags": []
   },
   "source": [
    "### TODO LIST\n",
    "\n",
    "> * put feature enginering into function to be able to use both test and train data set.\n",
    "* copy and use plot decision boundary function from this (https://github.com/mrdbourke/tensorflow-deep-learning/blob/main/02_neural_network_classification_in_tensorflow.ipynb) notebook to see how my simple dense model fails\n",
    "> * find out the relationship between the `SibSp` and the `Parch` column.\n",
    "* create more tf models for eg.> Conv1D, LSTM .... to get more experience."
   ]
  },
  {
   "cell_type": "code",
   "execution_count": 2,
   "id": "c70874a0",
   "metadata": {
    "execution": {
     "iopub.execute_input": "2022-09-14T10:23:46.917367Z",
     "iopub.status.busy": "2022-09-14T10:23:46.917056Z",
     "iopub.status.idle": "2022-09-14T10:23:46.921629Z",
     "shell.execute_reply": "2022-09-14T10:23:46.920568Z"
    },
    "papermill": {
     "duration": 0.015127,
     "end_time": "2022-09-14T10:23:46.923589",
     "exception": false,
     "start_time": "2022-09-14T10:23:46.908462",
     "status": "completed"
    },
    "tags": []
   },
   "outputs": [],
   "source": [
    "pd.set_option('display.max_rows', 500)"
   ]
  },
  {
   "cell_type": "markdown",
   "id": "77f5e3e6",
   "metadata": {
    "papermill": {
     "duration": 0.007565,
     "end_time": "2022-09-14T10:23:46.938903",
     "exception": false,
     "start_time": "2022-09-14T10:23:46.931338",
     "status": "completed"
    },
    "tags": []
   },
   "source": [
    "### Imports"
   ]
  },
  {
   "cell_type": "code",
   "execution_count": 3,
   "id": "89912718",
   "metadata": {
    "execution": {
     "iopub.execute_input": "2022-09-14T10:23:46.957422Z",
     "iopub.status.busy": "2022-09-14T10:23:46.956370Z",
     "iopub.status.idle": "2022-09-14T10:23:52.810603Z",
     "shell.execute_reply": "2022-09-14T10:23:52.808770Z"
    },
    "papermill": {
     "duration": 5.86522,
     "end_time": "2022-09-14T10:23:52.812710",
     "exception": false,
     "start_time": "2022-09-14T10:23:46.947490",
     "status": "completed"
    },
    "tags": []
   },
   "outputs": [
    {
     "name": "stdout",
     "output_type": "stream",
     "text": [
      "2.6.4\n"
     ]
    }
   ],
   "source": [
    "# Library imports\n",
    "import tensorflow as tf\n",
    "import seaborn as sns\n",
    "import matplotlib.pyplot as plt\n",
    "import numpy as np\n",
    "import sklearn\n",
    "import os\n",
    "\n",
    "# Models\n",
    "from sklearn.linear_model import LogisticRegression\n",
    "from sklearn.neighbors import KNeighborsClassifier\n",
    "from sklearn.ensemble import RandomForestClassifier\n",
    "\n",
    "# Model evaluators\n",
    "from sklearn.model_selection import train_test_split\n",
    "from sklearn.model_selection import GridSearchCV\n",
    "from sklearn.metrics import confusion_matrix\n",
    "from sklearn.metrics import classification_report\n",
    "from sklearn.preprocessing import MinMaxScaler\n",
    "print(tf.__version__)"
   ]
  },
  {
   "cell_type": "markdown",
   "id": "dea051f4",
   "metadata": {
    "papermill": {
     "duration": 0.007666,
     "end_time": "2022-09-14T10:23:52.828922",
     "exception": false,
     "start_time": "2022-09-14T10:23:52.821256",
     "status": "completed"
    },
    "tags": []
   },
   "source": [
    "### Helper Functions"
   ]
  },
  {
   "cell_type": "code",
   "execution_count": 4,
   "id": "d377e08f",
   "metadata": {
    "execution": {
     "iopub.execute_input": "2022-09-14T10:23:52.846616Z",
     "iopub.status.busy": "2022-09-14T10:23:52.845404Z",
     "iopub.status.idle": "2022-09-14T10:23:52.851051Z",
     "shell.execute_reply": "2022-09-14T10:23:52.850243Z"
    },
    "papermill": {
     "duration": 0.016319,
     "end_time": "2022-09-14T10:23:52.853012",
     "exception": false,
     "start_time": "2022-09-14T10:23:52.836693",
     "status": "completed"
    },
    "tags": []
   },
   "outputs": [],
   "source": [
    "def create_model_checkpoint(model_name, save_path=\"model_experiment\"):\n",
    "    return tf.keras.callbacks.ModelCheckpoint(filepath=os.path.join(save_path, model_name), verbose=1, save_best_only=True)"
   ]
  },
  {
   "cell_type": "code",
   "execution_count": 5,
   "id": "661db7da",
   "metadata": {
    "execution": {
     "iopub.execute_input": "2022-09-14T10:23:52.870380Z",
     "iopub.status.busy": "2022-09-14T10:23:52.869536Z",
     "iopub.status.idle": "2022-09-14T10:23:52.878056Z",
     "shell.execute_reply": "2022-09-14T10:23:52.877244Z"
    },
    "papermill": {
     "duration": 0.019307,
     "end_time": "2022-09-14T10:23:52.880038",
     "exception": false,
     "start_time": "2022-09-14T10:23:52.860731",
     "status": "completed"
    },
    "tags": []
   },
   "outputs": [],
   "source": [
    "scaler = MinMaxScaler()\n",
    "\n",
    "\n",
    "def feature_handler(data_frame, feature_importance=False):\n",
    "    data_frame = data_frame.drop(labels=[\"Cabin\", \"Name\", \"Ticket\"], axis=1)\n",
    "    encoded_sex = pd.get_dummies(data_frame.Sex, prefix=\"sex\")\n",
    "    encoded_Pclass = pd.get_dummies(data_frame.Pclass, prefix=\"Pclass\")\n",
    "    encoded_Embarked = pd.get_dummies(data_frame.Embarked, prefix=\"Embarked\")\n",
    "    \n",
    "    data_frame = pd.concat([data_frame,encoded_sex, encoded_Pclass, encoded_Embarked], axis=1)\n",
    "    data_frame[\"Family\"] = np.where((data_frame[\"SibSp\"] > 0) |(data_frame['Parch'] > 0) , 1, 0)\n",
    "    data_frame = data_frame.drop([\"Sex\", \"Pclass\", \"Embarked\", \"SibSp\", \"Parch\"], axis=1)\n",
    "    data_frame = data_frame.fillna(data_frame[\"Age\"].mean())\n",
    "    data_frame[['Age', 'Fare']] = scaler.fit_transform(data_frame[['Age', 'Fare']])\n",
    "    \n",
    "    if feature_importance:\n",
    "        data_frame = data_frame.drop([\"Pclass_1\", \"Pclass_2\", \"Embarked_C\", \"Embarked_Q\", \"Embarked_S\", \"Family\"], axis=1)\n",
    "        \n",
    "    data_frame.info()\n",
    "    return data_frame"
   ]
  },
  {
   "cell_type": "code",
   "execution_count": 6,
   "id": "e448650f",
   "metadata": {
    "execution": {
     "iopub.execute_input": "2022-09-14T10:23:52.897472Z",
     "iopub.status.busy": "2022-09-14T10:23:52.896562Z",
     "iopub.status.idle": "2022-09-14T10:23:52.906491Z",
     "shell.execute_reply": "2022-09-14T10:23:52.905664Z"
    },
    "papermill": {
     "duration": 0.020451,
     "end_time": "2022-09-14T10:23:52.908368",
     "exception": false,
     "start_time": "2022-09-14T10:23:52.887917",
     "status": "completed"
    },
    "tags": []
   },
   "outputs": [],
   "source": [
    "def plot_decision_boundary(model, X, y):\n",
    "  \"\"\"\n",
    "  Plots the decision boundary created by a model predicting on X.\n",
    "  This function has been adapted from two phenomenal resources:\n",
    "   1. CS231n - https://cs231n.github.io/neural-networks-case-study/\n",
    "   2. Made with ML basics - https://github.com/GokuMohandas/MadeWithML/blob/main/notebooks/08_Neural_Networks.ipynb\n",
    "  \"\"\"\n",
    "  # Define the axis boundaries of the plot and create a meshgrid\n",
    "  print(X.shape)\n",
    "  print(y.shape)\n",
    "  x_min, x_max = X[:, 0].min() - 0.1, X[:, 0].max() + 0.1\n",
    "  y_min, y_max = X[:, 1].min() - 0.1, X[:, 1].max() + 0.1\n",
    "  xx, yy = np.meshgrid(np.linspace(x_min, x_max, 100),\n",
    "                       np.linspace(y_min, y_max, 100))\n",
    "  \n",
    "  # Create X values (we're going to predict on all of these)\n",
    "  x_in = np.c_[xx.ravel(), yy.ravel()] # stack 2D arrays together: https://numpy.org/devdocs/reference/generated/numpy.c_.html\n",
    "  \n",
    "  # Make predictions using the trained model\n",
    "  y_pred = model.predict(x_in)\n",
    "\n",
    "  # Check for multi-class\n",
    "  if model.output_shape[-1] > 1: # checks the final dimension of the model's output shape, if this is > (greater than) 1, it's multi-class \n",
    "    print(\"doing multiclass classification...\")\n",
    "    # We have to reshape our predictions to get them ready for plotting\n",
    "    y_pred = np.argmax(y_pred, axis=1).reshape(xx.shape)\n",
    "  else:\n",
    "    print(\"doing binary classifcation...\")\n",
    "    y_pred = np.round(np.max(y_pred, axis=1)).reshape(xx.shape)\n",
    "  \n",
    "  # Plot decision boundary\n",
    "  plt.contourf(xx, yy, y_pred, cmap=plt.cm.RdYlBu, alpha=0.7)\n",
    "  plt.scatter(X[:, 0], X[:, 1], c=y, s=40, cmap=plt.cm.RdYlBu)\n",
    "  plt.xlim(xx.min(), xx.max())\n",
    "  plt.ylim(yy.min(), yy.max())"
   ]
  },
  {
   "cell_type": "code",
   "execution_count": 7,
   "id": "8b1f779f",
   "metadata": {
    "execution": {
     "iopub.execute_input": "2022-09-14T10:23:52.925778Z",
     "iopub.status.busy": "2022-09-14T10:23:52.924974Z",
     "iopub.status.idle": "2022-09-14T10:23:52.930957Z",
     "shell.execute_reply": "2022-09-14T10:23:52.929884Z"
    },
    "papermill": {
     "duration": 0.016994,
     "end_time": "2022-09-14T10:23:52.933124",
     "exception": false,
     "start_time": "2022-09-14T10:23:52.916130",
     "status": "completed"
    },
    "tags": []
   },
   "outputs": [],
   "source": [
    "def fit_and_score (models, X_train, X_val, y_train, y_val ):\n",
    "    np.random.seed(883)\n",
    "    model_scores= {}\n",
    "    \n",
    "    for name, model in models.items():\n",
    "        model.fit(X_train, y_train)\n",
    "        model_scores[name] = model.score(X_val, y_val)\n",
    "    return model_scores"
   ]
  },
  {
   "cell_type": "code",
   "execution_count": 8,
   "id": "a1012467",
   "metadata": {
    "execution": {
     "iopub.execute_input": "2022-09-14T10:23:52.950468Z",
     "iopub.status.busy": "2022-09-14T10:23:52.949590Z",
     "iopub.status.idle": "2022-09-14T10:23:52.954069Z",
     "shell.execute_reply": "2022-09-14T10:23:52.953244Z"
    },
    "papermill": {
     "duration": 0.015293,
     "end_time": "2022-09-14T10:23:52.956147",
     "exception": false,
     "start_time": "2022-09-14T10:23:52.940854",
     "status": "completed"
    },
    "tags": []
   },
   "outputs": [],
   "source": [
    "# def create_submission_output ():\n"
   ]
  },
  {
   "cell_type": "markdown",
   "id": "513949f8",
   "metadata": {
    "papermill": {
     "duration": 0.007575,
     "end_time": "2022-09-14T10:23:52.971405",
     "exception": false,
     "start_time": "2022-09-14T10:23:52.963830",
     "status": "completed"
    },
    "tags": []
   },
   "source": [
    "### Data section"
   ]
  },
  {
   "cell_type": "markdown",
   "id": "688a7d65",
   "metadata": {
    "papermill": {
     "duration": 0.007583,
     "end_time": "2022-09-14T10:23:52.986891",
     "exception": false,
     "start_time": "2022-09-14T10:23:52.979308",
     "status": "completed"
    },
    "tags": []
   },
   "source": [
    "Two types of data sets were created. The first one is a simple cleard data set the second one contains fewer features based on the RandomForestClassifier.feature_importance function."
   ]
  },
  {
   "cell_type": "code",
   "execution_count": 9,
   "id": "2212aa57",
   "metadata": {
    "execution": {
     "iopub.execute_input": "2022-09-14T10:23:53.003973Z",
     "iopub.status.busy": "2022-09-14T10:23:53.003225Z",
     "iopub.status.idle": "2022-09-14T10:23:53.049902Z",
     "shell.execute_reply": "2022-09-14T10:23:53.048966Z"
    },
    "papermill": {
     "duration": 0.057355,
     "end_time": "2022-09-14T10:23:53.052021",
     "exception": false,
     "start_time": "2022-09-14T10:23:52.994666",
     "status": "completed"
    },
    "tags": []
   },
   "outputs": [
    {
     "data": {
      "text/plain": [
       "(891, 418, (891, 12), (418, 11))"
      ]
     },
     "execution_count": 9,
     "metadata": {},
     "output_type": "execute_result"
    }
   ],
   "source": [
    "# Imports dataset from Kaggle\n",
    "train_df = pd.read_csv(\"/kaggle/input/titanic/train.csv\")\n",
    "test_df = pd.read_csv(\"/kaggle/input/titanic/test.csv\")\n",
    "len(train_df), len(test_df), train_df.shape, test_df.shape"
   ]
  },
  {
   "cell_type": "code",
   "execution_count": 10,
   "id": "c97dff51",
   "metadata": {
    "execution": {
     "iopub.execute_input": "2022-09-14T10:23:53.069864Z",
     "iopub.status.busy": "2022-09-14T10:23:53.069133Z",
     "iopub.status.idle": "2022-09-14T10:23:53.102636Z",
     "shell.execute_reply": "2022-09-14T10:23:53.101117Z"
    },
    "papermill": {
     "duration": 0.044659,
     "end_time": "2022-09-14T10:23:53.105024",
     "exception": false,
     "start_time": "2022-09-14T10:23:53.060365",
     "status": "completed"
    },
    "tags": []
   },
   "outputs": [
    {
     "name": "stdout",
     "output_type": "stream",
     "text": [
      "<class 'pandas.core.frame.DataFrame'>\n",
      "RangeIndex: 891 entries, 0 to 890\n",
      "Data columns (total 13 columns):\n",
      " #   Column       Non-Null Count  Dtype  \n",
      "---  ------       --------------  -----  \n",
      " 0   PassengerId  891 non-null    int64  \n",
      " 1   Survived     891 non-null    int64  \n",
      " 2   Age          891 non-null    float64\n",
      " 3   Fare         891 non-null    float64\n",
      " 4   sex_female   891 non-null    uint8  \n",
      " 5   sex_male     891 non-null    uint8  \n",
      " 6   Pclass_1     891 non-null    uint8  \n",
      " 7   Pclass_2     891 non-null    uint8  \n",
      " 8   Pclass_3     891 non-null    uint8  \n",
      " 9   Embarked_C   891 non-null    uint8  \n",
      " 10  Embarked_Q   891 non-null    uint8  \n",
      " 11  Embarked_S   891 non-null    uint8  \n",
      " 12  Family       891 non-null    int64  \n",
      "dtypes: float64(2), int64(3), uint8(8)\n",
      "memory usage: 41.9 KB\n"
     ]
    }
   ],
   "source": [
    "df = feature_handler(train_df)"
   ]
  },
  {
   "cell_type": "code",
   "execution_count": 11,
   "id": "cb2eca11",
   "metadata": {
    "execution": {
     "iopub.execute_input": "2022-09-14T10:23:53.123056Z",
     "iopub.status.busy": "2022-09-14T10:23:53.122772Z",
     "iopub.status.idle": "2022-09-14T10:23:53.143888Z",
     "shell.execute_reply": "2022-09-14T10:23:53.142751Z"
    },
    "papermill": {
     "duration": 0.032843,
     "end_time": "2022-09-14T10:23:53.146621",
     "exception": false,
     "start_time": "2022-09-14T10:23:53.113778",
     "status": "completed"
    },
    "tags": []
   },
   "outputs": [
    {
     "name": "stdout",
     "output_type": "stream",
     "text": [
      "<class 'pandas.core.frame.DataFrame'>\n",
      "RangeIndex: 418 entries, 0 to 417\n",
      "Data columns (total 12 columns):\n",
      " #   Column       Non-Null Count  Dtype  \n",
      "---  ------       --------------  -----  \n",
      " 0   PassengerId  418 non-null    int64  \n",
      " 1   Age          418 non-null    float64\n",
      " 2   Fare         418 non-null    float64\n",
      " 3   sex_female   418 non-null    uint8  \n",
      " 4   sex_male     418 non-null    uint8  \n",
      " 5   Pclass_1     418 non-null    uint8  \n",
      " 6   Pclass_2     418 non-null    uint8  \n",
      " 7   Pclass_3     418 non-null    uint8  \n",
      " 8   Embarked_C   418 non-null    uint8  \n",
      " 9   Embarked_Q   418 non-null    uint8  \n",
      " 10  Embarked_S   418 non-null    uint8  \n",
      " 11  Family       418 non-null    int64  \n",
      "dtypes: float64(2), int64(2), uint8(8)\n",
      "memory usage: 16.5 KB\n"
     ]
    }
   ],
   "source": [
    "df_test = feature_handler(test_df)"
   ]
  },
  {
   "cell_type": "code",
   "execution_count": 12,
   "id": "706180fd",
   "metadata": {
    "execution": {
     "iopub.execute_input": "2022-09-14T10:23:53.165002Z",
     "iopub.status.busy": "2022-09-14T10:23:53.164095Z",
     "iopub.status.idle": "2022-09-14T10:23:53.184908Z",
     "shell.execute_reply": "2022-09-14T10:23:53.183814Z"
    },
    "papermill": {
     "duration": 0.032508,
     "end_time": "2022-09-14T10:23:53.187477",
     "exception": false,
     "start_time": "2022-09-14T10:23:53.154969",
     "status": "completed"
    },
    "tags": []
   },
   "outputs": [
    {
     "name": "stdout",
     "output_type": "stream",
     "text": [
      "<class 'pandas.core.frame.DataFrame'>\n",
      "RangeIndex: 891 entries, 0 to 890\n",
      "Data columns (total 7 columns):\n",
      " #   Column       Non-Null Count  Dtype  \n",
      "---  ------       --------------  -----  \n",
      " 0   PassengerId  891 non-null    int64  \n",
      " 1   Survived     891 non-null    int64  \n",
      " 2   Age          891 non-null    float64\n",
      " 3   Fare         891 non-null    float64\n",
      " 4   sex_female   891 non-null    uint8  \n",
      " 5   sex_male     891 non-null    uint8  \n",
      " 6   Pclass_3     891 non-null    uint8  \n",
      "dtypes: float64(2), int64(2), uint8(3)\n",
      "memory usage: 30.6 KB\n"
     ]
    }
   ],
   "source": [
    "df_less = feature_handler(train_df, feature_importance=True)"
   ]
  },
  {
   "cell_type": "code",
   "execution_count": 13,
   "id": "e4372809",
   "metadata": {
    "execution": {
     "iopub.execute_input": "2022-09-14T10:23:53.205863Z",
     "iopub.status.busy": "2022-09-14T10:23:53.205511Z",
     "iopub.status.idle": "2022-09-14T10:23:53.226156Z",
     "shell.execute_reply": "2022-09-14T10:23:53.225234Z"
    },
    "papermill": {
     "duration": 0.032225,
     "end_time": "2022-09-14T10:23:53.228115",
     "exception": false,
     "start_time": "2022-09-14T10:23:53.195890",
     "status": "completed"
    },
    "tags": []
   },
   "outputs": [
    {
     "name": "stdout",
     "output_type": "stream",
     "text": [
      "<class 'pandas.core.frame.DataFrame'>\n",
      "RangeIndex: 418 entries, 0 to 417\n",
      "Data columns (total 6 columns):\n",
      " #   Column       Non-Null Count  Dtype  \n",
      "---  ------       --------------  -----  \n",
      " 0   PassengerId  418 non-null    int64  \n",
      " 1   Age          418 non-null    float64\n",
      " 2   Fare         418 non-null    float64\n",
      " 3   sex_female   418 non-null    uint8  \n",
      " 4   sex_male     418 non-null    uint8  \n",
      " 5   Pclass_3     418 non-null    uint8  \n",
      "dtypes: float64(2), int64(1), uint8(3)\n",
      "memory usage: 11.1 KB\n"
     ]
    }
   ],
   "source": [
    "df_less_test = feature_handler(test_df, feature_importance=True)"
   ]
  },
  {
   "cell_type": "markdown",
   "id": "9bc0552f",
   "metadata": {
    "papermill": {
     "duration": 0.008093,
     "end_time": "2022-09-14T10:23:53.244763",
     "exception": false,
     "start_time": "2022-09-14T10:23:53.236670",
     "status": "completed"
    },
    "tags": []
   },
   "source": [
    "### Expoloring Data"
   ]
  },
  {
   "cell_type": "code",
   "execution_count": 14,
   "id": "f8944b40",
   "metadata": {
    "execution": {
     "iopub.execute_input": "2022-09-14T10:23:53.262421Z",
     "iopub.status.busy": "2022-09-14T10:23:53.262103Z",
     "iopub.status.idle": "2022-09-14T10:23:53.470876Z",
     "shell.execute_reply": "2022-09-14T10:23:53.469978Z"
    },
    "papermill": {
     "duration": 0.220158,
     "end_time": "2022-09-14T10:23:53.473022",
     "exception": false,
     "start_time": "2022-09-14T10:23:53.252864",
     "status": "completed"
    },
    "tags": []
   },
   "outputs": [
    {
     "data": {
      "text/plain": [
       "<AxesSubplot:>"
      ]
     },
     "execution_count": 14,
     "metadata": {},
     "output_type": "execute_result"
    },
    {
     "data": {
      "image/png": "[encoded data removed]",
      "text/plain": [
       "<Figure size 432x288 with 1 Axes>"
      ]
     },
     "metadata": {
      "needs_background": "light"
     },
     "output_type": "display_data"
    }
   ],
   "source": [
    "df[\"Survived\"].value_counts().plot(kind=\"bar\", color=[\"salmon\", \"lightblue\"])"
   ]
  },
  {
   "cell_type": "code",
   "execution_count": 15,
   "id": "fa064156",
   "metadata": {
    "execution": {
     "iopub.execute_input": "2022-09-14T10:23:53.491937Z",
     "iopub.status.busy": "2022-09-14T10:23:53.491087Z",
     "iopub.status.idle": "2022-09-14T10:23:53.540194Z",
     "shell.execute_reply": "2022-09-14T10:23:53.539112Z"
    },
    "papermill": {
     "duration": 0.061173,
     "end_time": "2022-09-14T10:23:53.542847",
     "exception": false,
     "start_time": "2022-09-14T10:23:53.481674",
     "status": "completed"
    },
    "tags": []
   },
   "outputs": [
    {
     "data": {
      "text/html": [
       "<div>\n",
       "<style scoped>\n",
       "    .dataframe tbody tr th:only-of-type {\n",
       "        vertical-align: middle;\n",
       "    }\n",
       "\n",
       "    .dataframe tbody tr th {\n",
       "        vertical-align: top;\n",
       "    }\n",
       "\n",
       "    .dataframe thead th {\n",
       "        text-align: right;\n",
       "    }\n",
       "</style>\n",
       "<table border=\"1\" class=\"dataframe\">\n",
       "  <thead>\n",
       "    <tr style=\"text-align: right;\">\n",
       "      <th></th>\n",
       "      <th>PassengerId</th>\n",
       "      <th>Survived</th>\n",
       "      <th>Age</th>\n",
       "      <th>Fare</th>\n",
       "      <th>sex_female</th>\n",
       "      <th>sex_male</th>\n",
       "      <th>Pclass_1</th>\n",
       "      <th>Pclass_2</th>\n",
       "      <th>Pclass_3</th>\n",
       "      <th>Embarked_C</th>\n",
       "      <th>Embarked_Q</th>\n",
       "      <th>Embarked_S</th>\n",
       "      <th>Family</th>\n",
       "    </tr>\n",
       "  </thead>\n",
       "  <tbody>\n",
       "    <tr>\n",
       "      <th>count</th>\n",
       "      <td>891.000000</td>\n",
       "      <td>891.000000</td>\n",
       "      <td>891.000000</td>\n",
       "      <td>891.000000</td>\n",
       "      <td>891.000000</td>\n",
       "      <td>891.000000</td>\n",
       "      <td>891.000000</td>\n",
       "      <td>891.000000</td>\n",
       "      <td>891.000000</td>\n",
       "      <td>891.000000</td>\n",
       "      <td>891.000000</td>\n",
       "      <td>891.000000</td>\n",
       "      <td>891.000000</td>\n",
       "    </tr>\n",
       "    <tr>\n",
       "      <th>mean</th>\n",
       "      <td>446.000000</td>\n",
       "      <td>0.383838</td>\n",
       "      <td>0.367921</td>\n",
       "      <td>0.062858</td>\n",
       "      <td>0.352413</td>\n",
       "      <td>0.647587</td>\n",
       "      <td>0.242424</td>\n",
       "      <td>0.206510</td>\n",
       "      <td>0.551066</td>\n",
       "      <td>0.188552</td>\n",
       "      <td>0.086420</td>\n",
       "      <td>0.722783</td>\n",
       "      <td>0.397306</td>\n",
       "    </tr>\n",
       "    <tr>\n",
       "      <th>std</th>\n",
       "      <td>257.353842</td>\n",
       "      <td>0.486592</td>\n",
       "      <td>0.163383</td>\n",
       "      <td>0.096995</td>\n",
       "      <td>0.477990</td>\n",
       "      <td>0.477990</td>\n",
       "      <td>0.428790</td>\n",
       "      <td>0.405028</td>\n",
       "      <td>0.497665</td>\n",
       "      <td>0.391372</td>\n",
       "      <td>0.281141</td>\n",
       "      <td>0.447876</td>\n",
       "      <td>0.489615</td>\n",
       "    </tr>\n",
       "    <tr>\n",
       "      <th>min</th>\n",
       "      <td>1.000000</td>\n",
       "      <td>0.000000</td>\n",
       "      <td>0.000000</td>\n",
       "      <td>0.000000</td>\n",
       "      <td>0.000000</td>\n",
       "      <td>0.000000</td>\n",
       "      <td>0.000000</td>\n",
       "      <td>0.000000</td>\n",
       "      <td>0.000000</td>\n",
       "      <td>0.000000</td>\n",
       "      <td>0.000000</td>\n",
       "      <td>0.000000</td>\n",
       "      <td>0.000000</td>\n",
       "    </tr>\n",
       "    <tr>\n",
       "      <th>25%</th>\n",
       "      <td>223.500000</td>\n",
       "      <td>0.000000</td>\n",
       "      <td>0.271174</td>\n",
       "      <td>0.015440</td>\n",
       "      <td>0.000000</td>\n",
       "      <td>0.000000</td>\n",
       "      <td>0.000000</td>\n",
       "      <td>0.000000</td>\n",
       "      <td>0.000000</td>\n",
       "      <td>0.000000</td>\n",
       "      <td>0.000000</td>\n",
       "      <td>0.000000</td>\n",
       "      <td>0.000000</td>\n",
       "    </tr>\n",
       "    <tr>\n",
       "      <th>50%</th>\n",
       "      <td>446.000000</td>\n",
       "      <td>0.000000</td>\n",
       "      <td>0.367921</td>\n",
       "      <td>0.028213</td>\n",
       "      <td>0.000000</td>\n",
       "      <td>1.000000</td>\n",
       "      <td>0.000000</td>\n",
       "      <td>0.000000</td>\n",
       "      <td>1.000000</td>\n",
       "      <td>0.000000</td>\n",
       "      <td>0.000000</td>\n",
       "      <td>1.000000</td>\n",
       "      <td>0.000000</td>\n",
       "    </tr>\n",
       "    <tr>\n",
       "      <th>75%</th>\n",
       "      <td>668.500000</td>\n",
       "      <td>1.000000</td>\n",
       "      <td>0.434531</td>\n",
       "      <td>0.060508</td>\n",
       "      <td>1.000000</td>\n",
       "      <td>1.000000</td>\n",
       "      <td>0.000000</td>\n",
       "      <td>0.000000</td>\n",
       "      <td>1.000000</td>\n",
       "      <td>0.000000</td>\n",
       "      <td>0.000000</td>\n",
       "      <td>1.000000</td>\n",
       "      <td>1.000000</td>\n",
       "    </tr>\n",
       "    <tr>\n",
       "      <th>max</th>\n",
       "      <td>891.000000</td>\n",
       "      <td>1.000000</td>\n",
       "      <td>1.000000</td>\n",
       "      <td>1.000000</td>\n",
       "      <td>1.000000</td>\n",
       "      <td>1.000000</td>\n",
       "      <td>1.000000</td>\n",
       "      <td>1.000000</td>\n",
       "      <td>1.000000</td>\n",
       "      <td>1.000000</td>\n",
       "      <td>1.000000</td>\n",
       "      <td>1.000000</td>\n",
       "      <td>1.000000</td>\n",
       "    </tr>\n",
       "  </tbody>\n",
       "</table>\n",
       "</div>"
      ],
      "text/plain": [
       "       PassengerId    Survived         Age        Fare  sex_female  \\\n",
       "count   891.000000  891.000000  891.000000  891.000000  891.000000   \n",
       "mean    446.000000    0.383838    0.367921    0.062858    0.352413   \n",
       "std     257.353842    0.486592    0.163383    0.096995    0.477990   \n",
       "min       1.000000    0.000000    0.000000    0.000000    0.000000   \n",
       "25%     223.500000    0.000000    0.271174    0.015440    0.000000   \n",
       "50%     446.000000    0.000000    0.367921    0.028213    0.000000   \n",
       "75%     668.500000    1.000000    0.434531    0.060508    1.000000   \n",
       "max     891.000000    1.000000    1.000000    1.000000    1.000000   \n",
       "\n",
       "         sex_male    Pclass_1    Pclass_2    Pclass_3  Embarked_C  Embarked_Q  \\\n",
       "count  891.000000  891.000000  891.000000  891.000000  891.000000  891.000000   \n",
       "mean     0.647587    0.242424    0.206510    0.551066    0.188552    0.086420   \n",
       "std      0.477990    0.428790    0.405028    0.497665    0.391372    0.281141   \n",
       "min      0.000000    0.000000    0.000000    0.000000    0.000000    0.000000   \n",
       "25%      0.000000    0.000000    0.000000    0.000000    0.000000    0.000000   \n",
       "50%      1.000000    0.000000    0.000000    1.000000    0.000000    0.000000   \n",
       "75%      1.000000    0.000000    0.000000    1.000000    0.000000    0.000000   \n",
       "max      1.000000    1.000000    1.000000    1.000000    1.000000    1.000000   \n",
       "\n",
       "       Embarked_S      Family  \n",
       "count  891.000000  891.000000  \n",
       "mean     0.722783    0.397306  \n",
       "std      0.447876    0.489615  \n",
       "min      0.000000    0.000000  \n",
       "25%      0.000000    0.000000  \n",
       "50%      1.000000    0.000000  \n",
       "75%      1.000000    1.000000  \n",
       "max      1.000000    1.000000  "
      ]
     },
     "execution_count": 15,
     "metadata": {},
     "output_type": "execute_result"
    }
   ],
   "source": [
    "df.describe()"
   ]
  },
  {
   "cell_type": "code",
   "execution_count": 16,
   "id": "bb97055f",
   "metadata": {
    "execution": {
     "iopub.execute_input": "2022-09-14T10:23:53.561793Z",
     "iopub.status.busy": "2022-09-14T10:23:53.561457Z",
     "iopub.status.idle": "2022-09-14T10:23:53.570243Z",
     "shell.execute_reply": "2022-09-14T10:23:53.569262Z"
    },
    "papermill": {
     "duration": 0.020678,
     "end_time": "2022-09-14T10:23:53.572371",
     "exception": false,
     "start_time": "2022-09-14T10:23:53.551693",
     "status": "completed"
    },
    "tags": []
   },
   "outputs": [
    {
     "data": {
      "text/plain": [
       "PassengerId    0\n",
       "Survived       0\n",
       "Age            0\n",
       "Fare           0\n",
       "sex_female     0\n",
       "sex_male       0\n",
       "Pclass_1       0\n",
       "Pclass_2       0\n",
       "Pclass_3       0\n",
       "Embarked_C     0\n",
       "Embarked_Q     0\n",
       "Embarked_S     0\n",
       "Family         0\n",
       "dtype: int64"
      ]
     },
     "execution_count": 16,
     "metadata": {},
     "output_type": "execute_result"
    }
   ],
   "source": [
    "df.isna().sum()"
   ]
  },
  {
   "cell_type": "code",
   "execution_count": 17,
   "id": "3847bd71",
   "metadata": {
    "execution": {
     "iopub.execute_input": "2022-09-14T10:23:53.590944Z",
     "iopub.status.busy": "2022-09-14T10:23:53.590658Z",
     "iopub.status.idle": "2022-09-14T10:23:53.605681Z",
     "shell.execute_reply": "2022-09-14T10:23:53.604769Z"
    },
    "papermill": {
     "duration": 0.026619,
     "end_time": "2022-09-14T10:23:53.607652",
     "exception": false,
     "start_time": "2022-09-14T10:23:53.581033",
     "status": "completed"
    },
    "tags": []
   },
   "outputs": [
    {
     "data": {
      "text/html": [
       "<div>\n",
       "<style scoped>\n",
       "    .dataframe tbody tr th:only-of-type {\n",
       "        vertical-align: middle;\n",
       "    }\n",
       "\n",
       "    .dataframe tbody tr th {\n",
       "        vertical-align: top;\n",
       "    }\n",
       "\n",
       "    .dataframe thead th {\n",
       "        text-align: right;\n",
       "    }\n",
       "</style>\n",
       "<table border=\"1\" class=\"dataframe\">\n",
       "  <thead>\n",
       "    <tr style=\"text-align: right;\">\n",
       "      <th></th>\n",
       "      <th>PassengerId</th>\n",
       "      <th>Survived</th>\n",
       "      <th>Age</th>\n",
       "      <th>Fare</th>\n",
       "      <th>sex_female</th>\n",
       "      <th>sex_male</th>\n",
       "      <th>Pclass_1</th>\n",
       "      <th>Pclass_2</th>\n",
       "      <th>Pclass_3</th>\n",
       "      <th>Embarked_C</th>\n",
       "      <th>Embarked_Q</th>\n",
       "      <th>Embarked_S</th>\n",
       "      <th>Family</th>\n",
       "    </tr>\n",
       "  </thead>\n",
       "  <tbody>\n",
       "    <tr>\n",
       "      <th>0</th>\n",
       "      <td>1</td>\n",
       "      <td>0</td>\n",
       "      <td>0.271174</td>\n",
       "      <td>0.014151</td>\n",
       "      <td>0</td>\n",
       "      <td>1</td>\n",
       "      <td>0</td>\n",
       "      <td>0</td>\n",
       "      <td>1</td>\n",
       "      <td>0</td>\n",
       "      <td>0</td>\n",
       "      <td>1</td>\n",
       "      <td>1</td>\n",
       "    </tr>\n",
       "    <tr>\n",
       "      <th>1</th>\n",
       "      <td>2</td>\n",
       "      <td>1</td>\n",
       "      <td>0.472229</td>\n",
       "      <td>0.139136</td>\n",
       "      <td>1</td>\n",
       "      <td>0</td>\n",
       "      <td>1</td>\n",
       "      <td>0</td>\n",
       "      <td>0</td>\n",
       "      <td>1</td>\n",
       "      <td>0</td>\n",
       "      <td>0</td>\n",
       "      <td>1</td>\n",
       "    </tr>\n",
       "    <tr>\n",
       "      <th>2</th>\n",
       "      <td>3</td>\n",
       "      <td>1</td>\n",
       "      <td>0.321438</td>\n",
       "      <td>0.015469</td>\n",
       "      <td>1</td>\n",
       "      <td>0</td>\n",
       "      <td>0</td>\n",
       "      <td>0</td>\n",
       "      <td>1</td>\n",
       "      <td>0</td>\n",
       "      <td>0</td>\n",
       "      <td>1</td>\n",
       "      <td>0</td>\n",
       "    </tr>\n",
       "    <tr>\n",
       "      <th>3</th>\n",
       "      <td>4</td>\n",
       "      <td>1</td>\n",
       "      <td>0.434531</td>\n",
       "      <td>0.103644</td>\n",
       "      <td>1</td>\n",
       "      <td>0</td>\n",
       "      <td>1</td>\n",
       "      <td>0</td>\n",
       "      <td>0</td>\n",
       "      <td>0</td>\n",
       "      <td>0</td>\n",
       "      <td>1</td>\n",
       "      <td>1</td>\n",
       "    </tr>\n",
       "    <tr>\n",
       "      <th>4</th>\n",
       "      <td>5</td>\n",
       "      <td>0</td>\n",
       "      <td>0.434531</td>\n",
       "      <td>0.015713</td>\n",
       "      <td>0</td>\n",
       "      <td>1</td>\n",
       "      <td>0</td>\n",
       "      <td>0</td>\n",
       "      <td>1</td>\n",
       "      <td>0</td>\n",
       "      <td>0</td>\n",
       "      <td>1</td>\n",
       "      <td>0</td>\n",
       "    </tr>\n",
       "    <tr>\n",
       "      <th>5</th>\n",
       "      <td>6</td>\n",
       "      <td>0</td>\n",
       "      <td>0.367921</td>\n",
       "      <td>0.016510</td>\n",
       "      <td>0</td>\n",
       "      <td>1</td>\n",
       "      <td>0</td>\n",
       "      <td>0</td>\n",
       "      <td>1</td>\n",
       "      <td>0</td>\n",
       "      <td>1</td>\n",
       "      <td>0</td>\n",
       "      <td>0</td>\n",
       "    </tr>\n",
       "    <tr>\n",
       "      <th>6</th>\n",
       "      <td>7</td>\n",
       "      <td>0</td>\n",
       "      <td>0.673285</td>\n",
       "      <td>0.101229</td>\n",
       "      <td>0</td>\n",
       "      <td>1</td>\n",
       "      <td>1</td>\n",
       "      <td>0</td>\n",
       "      <td>0</td>\n",
       "      <td>0</td>\n",
       "      <td>0</td>\n",
       "      <td>1</td>\n",
       "      <td>0</td>\n",
       "    </tr>\n",
       "    <tr>\n",
       "      <th>7</th>\n",
       "      <td>8</td>\n",
       "      <td>0</td>\n",
       "      <td>0.019854</td>\n",
       "      <td>0.041136</td>\n",
       "      <td>0</td>\n",
       "      <td>1</td>\n",
       "      <td>0</td>\n",
       "      <td>0</td>\n",
       "      <td>1</td>\n",
       "      <td>0</td>\n",
       "      <td>0</td>\n",
       "      <td>1</td>\n",
       "      <td>1</td>\n",
       "    </tr>\n",
       "    <tr>\n",
       "      <th>8</th>\n",
       "      <td>9</td>\n",
       "      <td>1</td>\n",
       "      <td>0.334004</td>\n",
       "      <td>0.021731</td>\n",
       "      <td>1</td>\n",
       "      <td>0</td>\n",
       "      <td>0</td>\n",
       "      <td>0</td>\n",
       "      <td>1</td>\n",
       "      <td>0</td>\n",
       "      <td>0</td>\n",
       "      <td>1</td>\n",
       "      <td>1</td>\n",
       "    </tr>\n",
       "    <tr>\n",
       "      <th>9</th>\n",
       "      <td>10</td>\n",
       "      <td>1</td>\n",
       "      <td>0.170646</td>\n",
       "      <td>0.058694</td>\n",
       "      <td>1</td>\n",
       "      <td>0</td>\n",
       "      <td>0</td>\n",
       "      <td>1</td>\n",
       "      <td>0</td>\n",
       "      <td>1</td>\n",
       "      <td>0</td>\n",
       "      <td>0</td>\n",
       "      <td>1</td>\n",
       "    </tr>\n",
       "  </tbody>\n",
       "</table>\n",
       "</div>"
      ],
      "text/plain": [
       "   PassengerId  Survived       Age      Fare  sex_female  sex_male  Pclass_1  \\\n",
       "0            1         0  0.271174  0.014151           0         1         0   \n",
       "1            2         1  0.472229  0.139136           1         0         1   \n",
       "2            3         1  0.321438  0.015469           1         0         0   \n",
       "3            4         1  0.434531  0.103644           1         0         1   \n",
       "4            5         0  0.434531  0.015713           0         1         0   \n",
       "5            6         0  0.367921  0.016510           0         1         0   \n",
       "6            7         0  0.673285  0.101229           0         1         1   \n",
       "7            8         0  0.019854  0.041136           0         1         0   \n",
       "8            9         1  0.334004  0.021731           1         0         0   \n",
       "9           10         1  0.170646  0.058694           1         0         0   \n",
       "\n",
       "   Pclass_2  Pclass_3  Embarked_C  Embarked_Q  Embarked_S  Family  \n",
       "0         0         1           0           0           1       1  \n",
       "1         0         0           1           0           0       1  \n",
       "2         0         1           0           0           1       0  \n",
       "3         0         0           0           0           1       1  \n",
       "4         0         1           0           0           1       0  \n",
       "5         0         1           0           1           0       0  \n",
       "6         0         0           0           0           1       0  \n",
       "7         0         1           0           0           1       1  \n",
       "8         0         1           0           0           1       1  \n",
       "9         1         0           1           0           0       1  "
      ]
     },
     "execution_count": 17,
     "metadata": {},
     "output_type": "execute_result"
    }
   ],
   "source": [
    "df[:10]"
   ]
  },
  {
   "cell_type": "code",
   "execution_count": 18,
   "id": "76f69bac",
   "metadata": {
    "execution": {
     "iopub.execute_input": "2022-09-14T10:23:53.628499Z",
     "iopub.status.busy": "2022-09-14T10:23:53.628153Z",
     "iopub.status.idle": "2022-09-14T10:23:54.684674Z",
     "shell.execute_reply": "2022-09-14T10:23:54.683693Z"
    },
    "papermill": {
     "duration": 1.070222,
     "end_time": "2022-09-14T10:23:54.687611",
     "exception": false,
     "start_time": "2022-09-14T10:23:53.617389",
     "status": "completed"
    },
    "tags": []
   },
   "outputs": [
    {
     "data": {
      "text/plain": [
       "(13.5, -0.5)"
      ]
     },
     "execution_count": 18,
     "metadata": {},
     "output_type": "execute_result"
    },
    {
     "data": {
      "image/png": "[encoded data removed]",
      "text/plain": [
       "<Figure size 1080x720 with 2 Axes>"
      ]
     },
     "metadata": {
      "needs_background": "light"
     },
     "output_type": "display_data"
    }
   ],
   "source": [
    "corr_matrix = df.corr()\n",
    "fig, ax = plt.subplots(figsize=(15,10))\n",
    "ax = sns.heatmap(\n",
    "            corr_matrix,\n",
    "            annot=True,\n",
    "            linewidths=0.5,\n",
    "            fmt=\".2f\",\n",
    "            cmap=\"YlGnBu\"\n",
    ")\n",
    "\n",
    "bottom, top = ax.get_ylim()\n",
    "ax.set_ylim(bottom + 0.5, top - 0.5)"
   ]
  },
  {
   "cell_type": "markdown",
   "id": "b5aafc38",
   "metadata": {
    "papermill": {
     "duration": 0.010515,
     "end_time": "2022-09-14T10:23:54.709358",
     "exception": false,
     "start_time": "2022-09-14T10:23:54.698843",
     "status": "completed"
    },
    "tags": []
   },
   "source": [
    "### Creating Train and Test Split"
   ]
  },
  {
   "cell_type": "markdown",
   "id": "5f37a153",
   "metadata": {
    "papermill": {
     "duration": 0.010436,
     "end_time": "2022-09-14T10:23:54.730392",
     "exception": false,
     "start_time": "2022-09-14T10:23:54.719956",
     "status": "completed"
    },
    "tags": []
   },
   "source": [
    "In order to be able to test both versions of data sets (feature importance filtered fewer data and the base data set) two versions of X, and y data were created. "
   ]
  },
  {
   "cell_type": "code",
   "execution_count": 19,
   "id": "da4e22da",
   "metadata": {
    "execution": {
     "iopub.execute_input": "2022-09-14T10:23:54.753591Z",
     "iopub.status.busy": "2022-09-14T10:23:54.753069Z",
     "iopub.status.idle": "2022-09-14T10:23:54.759709Z",
     "shell.execute_reply": "2022-09-14T10:23:54.758715Z"
    },
    "papermill": {
     "duration": 0.020548,
     "end_time": "2022-09-14T10:23:54.761862",
     "exception": false,
     "start_time": "2022-09-14T10:23:54.741314",
     "status": "completed"
    },
    "tags": []
   },
   "outputs": [],
   "source": [
    "X = df.drop(\"Survived\", axis=1)\n",
    "y = df[\"Survived\"]\n",
    "X_less = df_less.drop(\"Survived\", axis=1)\n",
    "y_less = df_less[\"Survived\"]"
   ]
  },
  {
   "cell_type": "code",
   "execution_count": 20,
   "id": "1ebb94ff",
   "metadata": {
    "execution": {
     "iopub.execute_input": "2022-09-14T10:23:54.785622Z",
     "iopub.status.busy": "2022-09-14T10:23:54.785343Z",
     "iopub.status.idle": "2022-09-14T10:23:54.795248Z",
     "shell.execute_reply": "2022-09-14T10:23:54.794194Z"
    },
    "papermill": {
     "duration": 0.023924,
     "end_time": "2022-09-14T10:23:54.797252",
     "exception": false,
     "start_time": "2022-09-14T10:23:54.773328",
     "status": "completed"
    },
    "tags": []
   },
   "outputs": [
    {
     "data": {
      "text/plain": [
       "(712, 179, 712, 179)"
      ]
     },
     "execution_count": 20,
     "metadata": {},
     "output_type": "execute_result"
    }
   ],
   "source": [
    "# Original data set\n",
    "X_train, X_val, y_train, y_val = train_test_split(X, y, test_size=0.2, random_state=883)\n",
    "len(X_train), len(X_val), len(y_train), len(y_val)"
   ]
  },
  {
   "cell_type": "code",
   "execution_count": 21,
   "id": "75b911a0",
   "metadata": {
    "execution": {
     "iopub.execute_input": "2022-09-14T10:23:54.820654Z",
     "iopub.status.busy": "2022-09-14T10:23:54.820123Z",
     "iopub.status.idle": "2022-09-14T10:23:54.829120Z",
     "shell.execute_reply": "2022-09-14T10:23:54.828217Z"
    },
    "papermill": {
     "duration": 0.023237,
     "end_time": "2022-09-14T10:23:54.831186",
     "exception": false,
     "start_time": "2022-09-14T10:23:54.807949",
     "status": "completed"
    },
    "tags": []
   },
   "outputs": [
    {
     "data": {
      "text/plain": [
       "(712, 179, 712, 179)"
      ]
     },
     "execution_count": 21,
     "metadata": {},
     "output_type": "execute_result"
    }
   ],
   "source": [
    "# Feature importance based data set\n",
    "X_train_less, X_val_less, y_train_less, y_val_less = train_test_split(X_less, y_less, test_size=0.2, random_state=883)\n",
    "len(X_train_less), len(X_val_less), len(y_train_less), len(y_val_less)"
   ]
  },
  {
   "cell_type": "markdown",
   "id": "a1dd2f70",
   "metadata": {
    "papermill": {
     "duration": 0.010832,
     "end_time": "2022-09-14T10:23:54.852967",
     "exception": false,
     "start_time": "2022-09-14T10:23:54.842135",
     "status": "completed"
    },
    "tags": []
   },
   "source": [
    "# Modelling"
   ]
  },
  {
   "cell_type": "markdown",
   "id": "515bdedd",
   "metadata": {
    "papermill": {
     "duration": 0.010579,
     "end_time": "2022-09-14T10:23:54.874384",
     "exception": false,
     "start_time": "2022-09-14T10:23:54.863805",
     "status": "completed"
    },
    "tags": []
   },
   "source": [
    "### BASELINE_models"
   ]
  },
  {
   "cell_type": "code",
   "execution_count": 22,
   "id": "3c521b9a",
   "metadata": {
    "execution": {
     "iopub.execute_input": "2022-09-14T10:23:54.898747Z",
     "iopub.status.busy": "2022-09-14T10:23:54.898470Z",
     "iopub.status.idle": "2022-09-14T10:23:55.157597Z",
     "shell.execute_reply": "2022-09-14T10:23:55.156481Z"
    },
    "papermill": {
     "duration": 0.274151,
     "end_time": "2022-09-14T10:23:55.160132",
     "exception": false,
     "start_time": "2022-09-14T10:23:54.885981",
     "status": "completed"
    },
    "tags": []
   },
   "outputs": [
    {
     "name": "stderr",
     "output_type": "stream",
     "text": [
      "/opt/conda/lib/python3.7/site-packages/sklearn/linear_model/_logistic.py:818: ConvergenceWarning: lbfgs failed to converge (status=1):\n",
      "STOP: TOTAL NO. of ITERATIONS REACHED LIMIT.\n",
      "\n",
      "Increase the number of iterations (max_iter) or scale the data as shown in:\n",
      "    https://scikit-learn.org/stable/modules/preprocessing.html\n",
      "Please also refer to the documentation for alternative solver options:\n",
      "    https://scikit-learn.org/stable/modules/linear_model.html#logistic-regression\n",
      "  extra_warning_msg=_LOGISTIC_SOLVER_CONVERGENCE_MSG,\n"
     ]
    },
    {
     "data": {
      "text/plain": [
       "{'KNN': 0.5307262569832403,\n",
       " 'Linear': 0.7262569832402235,\n",
       " 'RFC': 0.7821229050279329}"
      ]
     },
     "execution_count": 22,
     "metadata": {},
     "output_type": "execute_result"
    }
   ],
   "source": [
    "models = {\n",
    "    \"KNN\": KNeighborsClassifier(),\n",
    "    \"Linear\": LogisticRegression(),\n",
    "    \"RFC\": RandomForestClassifier()\n",
    "}\n",
    "\n",
    "model_scores = fit_and_score(models=models, \n",
    "                          X_train=X_train, \n",
    "                          X_val=X_val, \n",
    "                          y_train=y_train, \n",
    "                          y_val=y_val)\n",
    "model_scores"
   ]
  },
  {
   "cell_type": "markdown",
   "id": "b39a964b",
   "metadata": {
    "papermill": {
     "duration": 0.011692,
     "end_time": "2022-09-14T10:23:55.183669",
     "exception": false,
     "start_time": "2022-09-14T10:23:55.171977",
     "status": "completed"
    },
    "tags": []
   },
   "source": [
    "### MODEL_1: Random Forest Classifier"
   ]
  },
  {
   "cell_type": "code",
   "execution_count": 23,
   "id": "ed82a738",
   "metadata": {
    "execution": {
     "iopub.execute_input": "2022-09-14T10:23:55.206860Z",
     "iopub.status.busy": "2022-09-14T10:23:55.206580Z",
     "iopub.status.idle": "2022-09-14T10:27:20.258328Z",
     "shell.execute_reply": "2022-09-14T10:27:20.257448Z"
    },
    "papermill": {
     "duration": 205.065807,
     "end_time": "2022-09-14T10:27:20.260511",
     "exception": false,
     "start_time": "2022-09-14T10:23:55.194704",
     "status": "completed"
    },
    "tags": []
   },
   "outputs": [
    {
     "name": "stdout",
     "output_type": "stream",
     "text": [
      "RandomForestClassifier(max_depth=80, max_features=3, min_samples_leaf=3,\n",
      "                       min_samples_split=8, n_estimators=1000)\n",
      "0.7821229050279329\n"
     ]
    }
   ],
   "source": [
    "# initial parameter to GridSearchCV\n",
    "params = {\n",
    "    'bootstrap': [True],\n",
    "    'max_depth': [80, 110],\n",
    "    'max_features': [2, 3],\n",
    "    'min_samples_leaf': [3, 5],\n",
    "    'min_samples_split': [8, 12],\n",
    "    'n_estimators': [100, 500, 1000]\n",
    "}\n",
    "\n",
    "# creating model\n",
    "model_1_rfc = RandomForestClassifier()\n",
    "\n",
    "GS_model_1_rfc = GridSearchCV(estimator=model_1_rfc,\n",
    "                     param_grid=params,\n",
    "                     cv=5)\n",
    "\n",
    "# fit the model\n",
    "GS_model_1_rfc.fit(X_train, y_train)\n",
    "\n",
    "# pick the best model \n",
    "model_1_rfc_best = GS_model_1_rfc.best_estimator_\n",
    "print(model_1_rfc_best)\n",
    "\n",
    "# evaluate on validation data\n",
    "print(model_1_rfc_best.score(X_val, y_val))\n",
    "\n",
    "# predict\n",
    "model_1_predictions = model_1_rfc_best.predict(df_test)\n"
   ]
  },
  {
   "cell_type": "code",
   "execution_count": 24,
   "id": "b44376a5",
   "metadata": {
    "execution": {
     "iopub.execute_input": "2022-09-14T10:27:20.283944Z",
     "iopub.status.busy": "2022-09-14T10:27:20.283320Z",
     "iopub.status.idle": "2022-09-14T10:27:20.712429Z",
     "shell.execute_reply": "2022-09-14T10:27:20.711522Z"
    },
    "papermill": {
     "duration": 0.443044,
     "end_time": "2022-09-14T10:27:20.714549",
     "exception": false,
     "start_time": "2022-09-14T10:27:20.271505",
     "status": "completed"
    },
    "tags": []
   },
   "outputs": [
    {
     "data": {
      "image/png": "[encoded data removed]",
      "text/plain": [
       "<Figure size 432x288 with 1 Axes>"
      ]
     },
     "metadata": {
      "needs_background": "light"
     },
     "output_type": "display_data"
    }
   ],
   "source": [
    "# get the feature importance see the bigger picture\n",
    "feature_importance = model_1_rfc_best.feature_importances_\n",
    "std = np.std([tree.feature_importances_ for tree in model_1_rfc_best.estimators_], axis=0)\n",
    "feature_names = [i for i in X_train]\n",
    "\n",
    "forest_importances = pd.Series(feature_importance, index=feature_names)\n",
    "\n",
    "fig, ax = plt.subplots()\n",
    "forest_importances.plot.bar(yerr=std, ax=ax)\n",
    "ax.set_title(\"Feature importances using MDI\")\n",
    "ax.set_ylabel(\"Mean decrease in impurity\")\n",
    "fig.tight_layout()"
   ]
  },
  {
   "cell_type": "code",
   "execution_count": 25,
   "id": "4717f96c",
   "metadata": {
    "execution": {
     "iopub.execute_input": "2022-09-14T10:27:20.739707Z",
     "iopub.status.busy": "2022-09-14T10:27:20.738760Z",
     "iopub.status.idle": "2022-09-14T10:27:20.743337Z",
     "shell.execute_reply": "2022-09-14T10:27:20.742480Z"
    },
    "papermill": {
     "duration": 0.018941,
     "end_time": "2022-09-14T10:27:20.745274",
     "exception": false,
     "start_time": "2022-09-14T10:27:20.726333",
     "status": "completed"
    },
    "tags": []
   },
   "outputs": [],
   "source": [
    "# print(classification_report(y_test, y_preds))"
   ]
  },
  {
   "cell_type": "markdown",
   "id": "eae59cc1",
   "metadata": {
    "papermill": {
     "duration": 0.011052,
     "end_time": "2022-09-14T10:27:20.767615",
     "exception": false,
     "start_time": "2022-09-14T10:27:20.756563",
     "status": "completed"
    },
    "tags": []
   },
   "source": [
    "### Model_2: Random Forest Classifier \n",
    "**trained on less data with feature importance**"
   ]
  },
  {
   "cell_type": "code",
   "execution_count": 26,
   "id": "4020dbc9",
   "metadata": {
    "execution": {
     "iopub.execute_input": "2022-09-14T10:27:20.792047Z",
     "iopub.status.busy": "2022-09-14T10:27:20.791026Z",
     "iopub.status.idle": "2022-09-14T10:30:53.367764Z",
     "shell.execute_reply": "2022-09-14T10:30:53.366801Z"
    },
    "papermill": {
     "duration": 212.591544,
     "end_time": "2022-09-14T10:30:53.370337",
     "exception": false,
     "start_time": "2022-09-14T10:27:20.778793",
     "status": "completed"
    },
    "tags": []
   },
   "outputs": [],
   "source": [
    "# create model \n",
    "model_2_rfc = RandomForestClassifier()\n",
    "GS_model_2_rfc = GridSearchCV(estimator=model_2_rfc, \n",
    "                              cv=5, \n",
    "                              param_grid=params )\n",
    "\n",
    "# fit the model on less more important features\n",
    "GS_model_2_rfc.fit(X_train_less, y_train_less )\n",
    "\n",
    "# pick the best estimator\n",
    "model_2_rfc_fi_best = GS_model_2_rfc.best_estimator_\n",
    "\n",
    "# evaluate the model on validation data\n",
    "model_2_rfc_fi_best.score(X_val_less, y_val_less)\n",
    "\n",
    "# predict on Kaggle test data\n",
    "model_2_predictions = model_2_rfc_fi_best.predict(df_less_test)"
   ]
  },
  {
   "cell_type": "markdown",
   "id": "e7053ac3",
   "metadata": {
    "papermill": {
     "duration": 0.011152,
     "end_time": "2022-09-14T10:30:53.393352",
     "exception": false,
     "start_time": "2022-09-14T10:30:53.382200",
     "status": "completed"
    },
    "tags": []
   },
   "source": [
    "### MODEL_3: Simple DENSE model"
   ]
  },
  {
   "cell_type": "code",
   "execution_count": 27,
   "id": "89f98cb6",
   "metadata": {
    "execution": {
     "iopub.execute_input": "2022-09-14T10:30:53.417734Z",
     "iopub.status.busy": "2022-09-14T10:30:53.416811Z",
     "iopub.status.idle": "2022-09-14T10:31:19.117468Z",
     "shell.execute_reply": "2022-09-14T10:31:19.116261Z"
    },
    "papermill": {
     "duration": 25.715497,
     "end_time": "2022-09-14T10:31:19.120079",
     "exception": false,
     "start_time": "2022-09-14T10:30:53.404582",
     "status": "completed"
    },
    "tags": []
   },
   "outputs": [
    {
     "name": "stderr",
     "output_type": "stream",
     "text": [
      "2022-09-14 10:30:54.487388: I tensorflow/stream_executor/cuda/cuda_gpu_executor.cc:937] successful NUMA node read from SysFS had negative value (-1), but there must be at least one NUMA node, so returning NUMA node zero\n",
      "2022-09-14 10:30:54.614432: I tensorflow/stream_executor/cuda/cuda_gpu_executor.cc:937] successful NUMA node read from SysFS had negative value (-1), but there must be at least one NUMA node, so returning NUMA node zero\n",
      "2022-09-14 10:30:54.615256: I tensorflow/stream_executor/cuda/cuda_gpu_executor.cc:937] successful NUMA node read from SysFS had negative value (-1), but there must be at least one NUMA node, so returning NUMA node zero\n",
      "2022-09-14 10:30:54.616598: I tensorflow/core/platform/cpu_feature_guard.cc:142] This TensorFlow binary is optimized with oneAPI Deep Neural Network Library (oneDNN) to use the following CPU instructions in performance-critical operations:  AVX2 AVX512F FMA\n",
      "To enable them in other operations, rebuild TensorFlow with the appropriate compiler flags.\n",
      "2022-09-14 10:30:54.616933: I tensorflow/stream_executor/cuda/cuda_gpu_executor.cc:937] successful NUMA node read from SysFS had negative value (-1), but there must be at least one NUMA node, so returning NUMA node zero\n",
      "2022-09-14 10:30:54.617687: I tensorflow/stream_executor/cuda/cuda_gpu_executor.cc:937] successful NUMA node read from SysFS had negative value (-1), but there must be at least one NUMA node, so returning NUMA node zero\n",
      "2022-09-14 10:30:54.618360: I tensorflow/stream_executor/cuda/cuda_gpu_executor.cc:937] successful NUMA node read from SysFS had negative value (-1), but there must be at least one NUMA node, so returning NUMA node zero\n",
      "2022-09-14 10:30:57.001660: I tensorflow/stream_executor/cuda/cuda_gpu_executor.cc:937] successful NUMA node read from SysFS had negative value (-1), but there must be at least one NUMA node, so returning NUMA node zero\n",
      "2022-09-14 10:30:57.003428: I tensorflow/stream_executor/cuda/cuda_gpu_executor.cc:937] successful NUMA node read from SysFS had negative value (-1), but there must be at least one NUMA node, so returning NUMA node zero\n",
      "2022-09-14 10:30:57.004862: I tensorflow/stream_executor/cuda/cuda_gpu_executor.cc:937] successful NUMA node read from SysFS had negative value (-1), but there must be at least one NUMA node, so returning NUMA node zero\n",
      "2022-09-14 10:30:57.005936: I tensorflow/core/common_runtime/gpu/gpu_device.cc:1510] Created device /job:localhost/replica:0/task:0/device:GPU:0 with 15401 MB memory:  -> device: 0, name: Tesla P100-PCIE-16GB, pci bus id: 0000:00:04.0, compute capability: 6.0\n",
      "2022-09-14 10:30:57.680551: I tensorflow/compiler/mlir/mlir_graph_optimization_pass.cc:185] None of the MLIR Optimization Passes are enabled (registered 2)\n"
     ]
    },
    {
     "name": "stdout",
     "output_type": "stream",
     "text": [
      "Epoch 1/100\n",
      "23/23 [==============================] - 2s 11ms/step - loss: 3.4708 - accuracy: 0.5478 - val_loss: 1.9736 - val_accuracy: 0.6089\n",
      "\n",
      "Epoch 00001: val_loss improved from inf to 1.97356, saving model to model_experiment/model_3_sdense\n"
     ]
    },
    {
     "name": "stderr",
     "output_type": "stream",
     "text": [
      "2022-09-14 10:31:00.232840: W tensorflow/python/util/util.cc:348] Sets are not currently considered sequences, but this may change in the future, so consider avoiding using them.\n"
     ]
    },
    {
     "name": "stdout",
     "output_type": "stream",
     "text": [
      "Epoch 2/100\n",
      "23/23 [==============================] - 0s 4ms/step - loss: 0.9386 - accuracy: 0.5449 - val_loss: 0.8413 - val_accuracy: 0.6089\n",
      "\n",
      "Epoch 00002: val_loss improved from 1.97356 to 0.84133, saving model to model_experiment/model_3_sdense\n",
      "Epoch 3/100\n",
      "23/23 [==============================] - 0s 4ms/step - loss: 0.7077 - accuracy: 0.6067 - val_loss: 1.5868 - val_accuracy: 0.4022\n",
      "\n",
      "Epoch 00003: val_loss did not improve from 0.84133\n",
      "Epoch 4/100\n",
      "23/23 [==============================] - 0s 4ms/step - loss: 0.9210 - accuracy: 0.5492 - val_loss: 0.7962 - val_accuracy: 0.6201\n",
      "\n",
      "Epoch 00004: val_loss improved from 0.84133 to 0.79615, saving model to model_experiment/model_3_sdense\n",
      "Epoch 5/100\n",
      "23/23 [==============================] - 0s 4ms/step - loss: 0.7818 - accuracy: 0.5562 - val_loss: 1.1217 - val_accuracy: 0.4246\n",
      "\n",
      "Epoch 00005: val_loss did not improve from 0.79615\n",
      "Epoch 6/100\n",
      "23/23 [==============================] - 0s 4ms/step - loss: 0.8648 - accuracy: 0.6110 - val_loss: 0.6310 - val_accuracy: 0.7263\n",
      "\n",
      "Epoch 00006: val_loss improved from 0.79615 to 0.63101, saving model to model_experiment/model_3_sdense\n",
      "Epoch 7/100\n",
      "23/23 [==============================] - 0s 4ms/step - loss: 0.8193 - accuracy: 0.6067 - val_loss: 0.6326 - val_accuracy: 0.6927\n",
      "\n",
      "Epoch 00007: val_loss did not improve from 0.63101\n",
      "Epoch 8/100\n",
      "23/23 [==============================] - 0s 4ms/step - loss: 0.6531 - accuracy: 0.6587 - val_loss: 0.6984 - val_accuracy: 0.5140\n",
      "\n",
      "Epoch 00008: val_loss did not improve from 0.63101\n",
      "Epoch 9/100\n",
      "23/23 [==============================] - 0s 4ms/step - loss: 0.6650 - accuracy: 0.6433 - val_loss: 0.6177 - val_accuracy: 0.6816\n",
      "\n",
      "Epoch 00009: val_loss improved from 0.63101 to 0.61765, saving model to model_experiment/model_3_sdense\n",
      "Epoch 10/100\n",
      "23/23 [==============================] - 0s 4ms/step - loss: 0.9313 - accuracy: 0.6489 - val_loss: 0.7959 - val_accuracy: 0.6425\n",
      "\n",
      "Epoch 00010: val_loss did not improve from 0.61765\n",
      "Epoch 11/100\n",
      "23/23 [==============================] - 0s 4ms/step - loss: 0.7999 - accuracy: 0.6643 - val_loss: 0.7244 - val_accuracy: 0.6592\n",
      "\n",
      "Epoch 00011: val_loss did not improve from 0.61765\n",
      "Epoch 12/100\n",
      "23/23 [==============================] - 0s 4ms/step - loss: 0.6837 - accuracy: 0.6699 - val_loss: 0.6268 - val_accuracy: 0.6425\n",
      "\n",
      "Epoch 00012: val_loss did not improve from 0.61765\n",
      "Epoch 13/100\n",
      "23/23 [==============================] - 0s 4ms/step - loss: 0.6392 - accuracy: 0.7037 - val_loss: 1.2132 - val_accuracy: 0.6257\n",
      "\n",
      "Epoch 00013: val_loss did not improve from 0.61765\n",
      "Epoch 14/100\n",
      "23/23 [==============================] - 0s 4ms/step - loss: 0.6607 - accuracy: 0.6699 - val_loss: 0.6043 - val_accuracy: 0.6927\n",
      "\n",
      "Epoch 00014: val_loss improved from 0.61765 to 0.60427, saving model to model_experiment/model_3_sdense\n",
      "Epoch 15/100\n",
      "23/23 [==============================] - 0s 4ms/step - loss: 0.6009 - accuracy: 0.7177 - val_loss: 0.6305 - val_accuracy: 0.6480\n",
      "\n",
      "Epoch 00015: val_loss did not improve from 0.60427\n",
      "Epoch 16/100\n",
      "23/23 [==============================] - 0s 3ms/step - loss: 0.8810 - accuracy: 0.6475 - val_loss: 0.6330 - val_accuracy: 0.6983\n",
      "\n",
      "Epoch 00016: val_loss did not improve from 0.60427\n",
      "Epoch 17/100\n",
      "23/23 [==============================] - 0s 4ms/step - loss: 0.5924 - accuracy: 0.7163 - val_loss: 1.2548 - val_accuracy: 0.4637\n",
      "\n",
      "Epoch 00017: val_loss did not improve from 0.60427\n",
      "Epoch 18/100\n",
      "23/23 [==============================] - 0s 3ms/step - loss: 0.8872 - accuracy: 0.6573 - val_loss: 1.4576 - val_accuracy: 0.4581\n",
      "\n",
      "Epoch 00018: val_loss did not improve from 0.60427\n",
      "Epoch 19/100\n",
      "23/23 [==============================] - 0s 4ms/step - loss: 1.2076 - accuracy: 0.6124 - val_loss: 1.3440 - val_accuracy: 0.6257\n",
      "\n",
      "Epoch 00019: val_loss did not improve from 0.60427\n",
      "Epoch 20/100\n",
      "23/23 [==============================] - 0s 4ms/step - loss: 0.6414 - accuracy: 0.6980 - val_loss: 0.5648 - val_accuracy: 0.7318\n",
      "\n",
      "Epoch 00020: val_loss improved from 0.60427 to 0.56476, saving model to model_experiment/model_3_sdense\n",
      "Epoch 21/100\n",
      "23/23 [==============================] - 0s 4ms/step - loss: 0.6962 - accuracy: 0.6980 - val_loss: 0.5475 - val_accuracy: 0.7207\n",
      "\n",
      "Epoch 00021: val_loss improved from 0.56476 to 0.54753, saving model to model_experiment/model_3_sdense\n",
      "Epoch 22/100\n",
      "23/23 [==============================] - 0s 4ms/step - loss: 0.5367 - accuracy: 0.7388 - val_loss: 0.5445 - val_accuracy: 0.7263\n",
      "\n",
      "Epoch 00022: val_loss improved from 0.54753 to 0.54451, saving model to model_experiment/model_3_sdense\n",
      "Epoch 23/100\n",
      "23/23 [==============================] - 0s 4ms/step - loss: 0.5210 - accuracy: 0.7640 - val_loss: 0.5519 - val_accuracy: 0.7207\n",
      "\n",
      "Epoch 00023: val_loss did not improve from 0.54451\n",
      "Epoch 24/100\n",
      "23/23 [==============================] - 0s 4ms/step - loss: 0.4942 - accuracy: 0.7767 - val_loss: 0.5408 - val_accuracy: 0.7263\n",
      "\n",
      "Epoch 00024: val_loss improved from 0.54451 to 0.54075, saving model to model_experiment/model_3_sdense\n",
      "Epoch 25/100\n",
      "23/23 [==============================] - 0s 4ms/step - loss: 0.4791 - accuracy: 0.7781 - val_loss: 0.5987 - val_accuracy: 0.6760\n",
      "\n",
      "Epoch 00025: val_loss did not improve from 0.54075\n",
      "Epoch 26/100\n",
      "23/23 [==============================] - 0s 3ms/step - loss: 0.4997 - accuracy: 0.7739 - val_loss: 0.6384 - val_accuracy: 0.6592\n",
      "\n",
      "Epoch 00026: val_loss did not improve from 0.54075\n",
      "Epoch 27/100\n",
      "23/23 [==============================] - 0s 4ms/step - loss: 0.5348 - accuracy: 0.7542 - val_loss: 0.6387 - val_accuracy: 0.6816\n",
      "\n",
      "Epoch 00027: val_loss did not improve from 0.54075\n",
      "Epoch 28/100\n",
      "23/23 [==============================] - 0s 4ms/step - loss: 0.5186 - accuracy: 0.7612 - val_loss: 0.5690 - val_accuracy: 0.7207\n",
      "\n",
      "Epoch 00028: val_loss did not improve from 0.54075\n",
      "Epoch 29/100\n",
      "23/23 [==============================] - 0s 4ms/step - loss: 0.4967 - accuracy: 0.7767 - val_loss: 0.9868 - val_accuracy: 0.6648\n",
      "\n",
      "Epoch 00029: val_loss did not improve from 0.54075\n",
      "Epoch 30/100\n",
      "23/23 [==============================] - 0s 4ms/step - loss: 0.5559 - accuracy: 0.7416 - val_loss: 0.8942 - val_accuracy: 0.6872\n",
      "\n",
      "Epoch 00030: val_loss did not improve from 0.54075\n",
      "Epoch 31/100\n",
      "23/23 [==============================] - 0s 3ms/step - loss: 0.5568 - accuracy: 0.7612 - val_loss: 0.7246 - val_accuracy: 0.6201\n",
      "\n",
      "Epoch 00031: val_loss did not improve from 0.54075\n",
      "Epoch 32/100\n",
      "23/23 [==============================] - 0s 4ms/step - loss: 0.4918 - accuracy: 0.7725 - val_loss: 0.5814 - val_accuracy: 0.7318\n",
      "\n",
      "Epoch 00032: val_loss did not improve from 0.54075\n",
      "Epoch 33/100\n",
      "23/23 [==============================] - 0s 4ms/step - loss: 0.4503 - accuracy: 0.8188 - val_loss: 0.5742 - val_accuracy: 0.7263\n",
      "\n",
      "Epoch 00033: val_loss did not improve from 0.54075\n",
      "Epoch 34/100\n",
      "23/23 [==============================] - 0s 4ms/step - loss: 0.4653 - accuracy: 0.7893 - val_loss: 0.5963 - val_accuracy: 0.7374\n",
      "\n",
      "Epoch 00034: val_loss did not improve from 0.54075\n",
      "Epoch 35/100\n",
      "23/23 [==============================] - 0s 4ms/step - loss: 0.6164 - accuracy: 0.7261 - val_loss: 0.6844 - val_accuracy: 0.6201\n",
      "\n",
      "Epoch 00035: val_loss did not improve from 0.54075\n",
      "Epoch 36/100\n",
      "23/23 [==============================] - 0s 4ms/step - loss: 0.6374 - accuracy: 0.6980 - val_loss: 1.1715 - val_accuracy: 0.6369\n",
      "\n",
      "Epoch 00036: val_loss did not improve from 0.54075\n",
      "Epoch 37/100\n",
      "23/23 [==============================] - 0s 4ms/step - loss: 0.5515 - accuracy: 0.7584 - val_loss: 0.8253 - val_accuracy: 0.6816\n",
      "\n",
      "Epoch 00037: val_loss did not improve from 0.54075\n",
      "Epoch 38/100\n",
      "23/23 [==============================] - 0s 4ms/step - loss: 0.4846 - accuracy: 0.7935 - val_loss: 0.7015 - val_accuracy: 0.7151\n",
      "\n",
      "Epoch 00038: val_loss did not improve from 0.54075\n",
      "Epoch 39/100\n",
      "23/23 [==============================] - 0s 4ms/step - loss: 0.4803 - accuracy: 0.7978 - val_loss: 0.6436 - val_accuracy: 0.7095\n",
      "\n",
      "Epoch 00039: val_loss did not improve from 0.54075\n",
      "Epoch 40/100\n",
      "23/23 [==============================] - 0s 4ms/step - loss: 0.4663 - accuracy: 0.7963 - val_loss: 0.7355 - val_accuracy: 0.6983\n",
      "\n",
      "Epoch 00040: val_loss did not improve from 0.54075\n",
      "Epoch 41/100\n",
      "23/23 [==============================] - 0s 4ms/step - loss: 0.4933 - accuracy: 0.7837 - val_loss: 0.6941 - val_accuracy: 0.6536\n",
      "\n",
      "Epoch 00041: val_loss did not improve from 0.54075\n",
      "Epoch 42/100\n",
      "23/23 [==============================] - 0s 4ms/step - loss: 0.4917 - accuracy: 0.7865 - val_loss: 0.5928 - val_accuracy: 0.7374\n",
      "\n",
      "Epoch 00042: val_loss did not improve from 0.54075\n",
      "Epoch 43/100\n",
      "23/23 [==============================] - 0s 4ms/step - loss: 0.4418 - accuracy: 0.8118 - val_loss: 0.6185 - val_accuracy: 0.7318\n",
      "\n",
      "Epoch 00043: val_loss did not improve from 0.54075\n",
      "Epoch 44/100\n",
      "23/23 [==============================] - 0s 4ms/step - loss: 0.4862 - accuracy: 0.8048 - val_loss: 0.5697 - val_accuracy: 0.7263\n",
      "\n",
      "Epoch 00044: val_loss did not improve from 0.54075\n",
      "Epoch 45/100\n",
      "23/23 [==============================] - 0s 4ms/step - loss: 0.4969 - accuracy: 0.7697 - val_loss: 0.6260 - val_accuracy: 0.7374\n",
      "\n",
      "Epoch 00045: val_loss did not improve from 0.54075\n",
      "Epoch 46/100\n",
      "23/23 [==============================] - 0s 4ms/step - loss: 0.4539 - accuracy: 0.8048 - val_loss: 0.5881 - val_accuracy: 0.7430\n",
      "\n",
      "Epoch 00046: val_loss did not improve from 0.54075\n",
      "Epoch 47/100\n",
      "23/23 [==============================] - 0s 4ms/step - loss: 0.4613 - accuracy: 0.7935 - val_loss: 0.5433 - val_accuracy: 0.7318\n",
      "\n",
      "Epoch 00047: val_loss did not improve from 0.54075\n",
      "Epoch 48/100\n",
      "23/23 [==============================] - 0s 4ms/step - loss: 0.4196 - accuracy: 0.8062 - val_loss: 0.6027 - val_accuracy: 0.7374\n",
      "\n",
      "Epoch 00048: val_loss did not improve from 0.54075\n",
      "Epoch 49/100\n",
      "23/23 [==============================] - 0s 4ms/step - loss: 0.4352 - accuracy: 0.8188 - val_loss: 0.5609 - val_accuracy: 0.7318\n",
      "\n",
      "Epoch 00049: val_loss did not improve from 0.54075\n",
      "Epoch 50/100\n",
      "23/23 [==============================] - 0s 4ms/step - loss: 0.4253 - accuracy: 0.8034 - val_loss: 0.6087 - val_accuracy: 0.7318\n",
      "\n",
      "Epoch 00050: val_loss did not improve from 0.54075\n",
      "Epoch 51/100\n",
      "23/23 [==============================] - 0s 4ms/step - loss: 0.4962 - accuracy: 0.7739 - val_loss: 0.7063 - val_accuracy: 0.6313\n",
      "\n",
      "Epoch 00051: val_loss did not improve from 0.54075\n",
      "Epoch 52/100\n",
      "23/23 [==============================] - 0s 4ms/step - loss: 0.4854 - accuracy: 0.7837 - val_loss: 0.5795 - val_accuracy: 0.7374\n",
      "\n",
      "Epoch 00052: val_loss did not improve from 0.54075\n",
      "Epoch 53/100\n",
      "23/23 [==============================] - 0s 4ms/step - loss: 0.4338 - accuracy: 0.8188 - val_loss: 0.5670 - val_accuracy: 0.7374\n",
      "\n",
      "Epoch 00053: val_loss did not improve from 0.54075\n",
      "Epoch 54/100\n",
      "23/23 [==============================] - 0s 4ms/step - loss: 0.4241 - accuracy: 0.8118 - val_loss: 0.6014 - val_accuracy: 0.7430\n",
      "\n",
      "Epoch 00054: val_loss did not improve from 0.54075\n",
      "Epoch 55/100\n",
      "23/23 [==============================] - 0s 4ms/step - loss: 0.4348 - accuracy: 0.8272 - val_loss: 0.5765 - val_accuracy: 0.7263\n",
      "\n",
      "Epoch 00055: val_loss did not improve from 0.54075\n",
      "Epoch 56/100\n",
      "23/23 [==============================] - 0s 4ms/step - loss: 0.4215 - accuracy: 0.8202 - val_loss: 0.6083 - val_accuracy: 0.7430\n",
      "\n",
      "Epoch 00056: val_loss did not improve from 0.54075\n",
      "Epoch 57/100\n",
      "23/23 [==============================] - 0s 4ms/step - loss: 0.4239 - accuracy: 0.8216 - val_loss: 0.5817 - val_accuracy: 0.7374\n",
      "\n",
      "Epoch 00057: val_loss did not improve from 0.54075\n",
      "Epoch 58/100\n",
      "23/23 [==============================] - 0s 3ms/step - loss: 0.4366 - accuracy: 0.8132 - val_loss: 0.5793 - val_accuracy: 0.7430\n",
      "\n",
      "Epoch 00058: val_loss did not improve from 0.54075\n",
      "Epoch 59/100\n",
      "23/23 [==============================] - 0s 4ms/step - loss: 0.4295 - accuracy: 0.8132 - val_loss: 0.5815 - val_accuracy: 0.7374\n",
      "\n",
      "Epoch 00059: val_loss did not improve from 0.54075\n",
      "Epoch 60/100\n",
      "23/23 [==============================] - 0s 4ms/step - loss: 0.4448 - accuracy: 0.8132 - val_loss: 0.5729 - val_accuracy: 0.7430\n",
      "\n",
      "Epoch 00060: val_loss did not improve from 0.54075\n",
      "Epoch 61/100\n",
      "23/23 [==============================] - 0s 3ms/step - loss: 0.4434 - accuracy: 0.8076 - val_loss: 0.5959 - val_accuracy: 0.7430\n",
      "\n",
      "Epoch 00061: val_loss did not improve from 0.54075\n",
      "Epoch 62/100\n",
      "23/23 [==============================] - 0s 4ms/step - loss: 0.4566 - accuracy: 0.8146 - val_loss: 0.6387 - val_accuracy: 0.7486\n",
      "\n",
      "Epoch 00062: val_loss did not improve from 0.54075\n",
      "Epoch 63/100\n",
      "23/23 [==============================] - 0s 4ms/step - loss: 0.4174 - accuracy: 0.8118 - val_loss: 0.6103 - val_accuracy: 0.7318\n",
      "\n",
      "Epoch 00063: val_loss did not improve from 0.54075\n",
      "Epoch 64/100\n",
      "23/23 [==============================] - 0s 4ms/step - loss: 0.4035 - accuracy: 0.8258 - val_loss: 0.5865 - val_accuracy: 0.7374\n",
      "\n",
      "Epoch 00064: val_loss did not improve from 0.54075\n",
      "Epoch 65/100\n",
      "23/23 [==============================] - 0s 4ms/step - loss: 0.4812 - accuracy: 0.7851 - val_loss: 0.6933 - val_accuracy: 0.7151\n",
      "\n",
      "Epoch 00065: val_loss did not improve from 0.54075\n",
      "Epoch 66/100\n",
      "23/23 [==============================] - 0s 4ms/step - loss: 0.5538 - accuracy: 0.7289 - val_loss: 0.6563 - val_accuracy: 0.6983\n",
      "\n",
      "Epoch 00066: val_loss did not improve from 0.54075\n",
      "Epoch 67/100\n",
      "23/23 [==============================] - 0s 4ms/step - loss: 0.4678 - accuracy: 0.7963 - val_loss: 0.6050 - val_accuracy: 0.7430\n",
      "\n",
      "Epoch 00067: val_loss did not improve from 0.54075\n",
      "Epoch 68/100\n",
      "23/23 [==============================] - 0s 4ms/step - loss: 0.4232 - accuracy: 0.8202 - val_loss: 0.5849 - val_accuracy: 0.7374\n",
      "\n",
      "Epoch 00068: val_loss did not improve from 0.54075\n",
      "Epoch 69/100\n",
      "23/23 [==============================] - 0s 4ms/step - loss: 0.4150 - accuracy: 0.8132 - val_loss: 0.6384 - val_accuracy: 0.7095\n",
      "\n",
      "Epoch 00069: val_loss did not improve from 0.54075\n",
      "Epoch 70/100\n",
      "23/23 [==============================] - 0s 4ms/step - loss: 0.4463 - accuracy: 0.7963 - val_loss: 0.6297 - val_accuracy: 0.7486\n",
      "\n",
      "Epoch 00070: val_loss did not improve from 0.54075\n",
      "Epoch 71/100\n",
      "23/23 [==============================] - 0s 3ms/step - loss: 0.4169 - accuracy: 0.8076 - val_loss: 0.6355 - val_accuracy: 0.7318\n",
      "\n",
      "Epoch 00071: val_loss did not improve from 0.54075\n",
      "Epoch 72/100\n",
      "23/23 [==============================] - 0s 4ms/step - loss: 0.4211 - accuracy: 0.8160 - val_loss: 0.6416 - val_accuracy: 0.7430\n",
      "\n",
      "Epoch 00072: val_loss did not improve from 0.54075\n",
      "Epoch 73/100\n",
      "23/23 [==============================] - 0s 4ms/step - loss: 0.4449 - accuracy: 0.8034 - val_loss: 0.6263 - val_accuracy: 0.7374\n",
      "\n",
      "Epoch 00073: val_loss did not improve from 0.54075\n",
      "Epoch 74/100\n",
      "23/23 [==============================] - 0s 4ms/step - loss: 0.4428 - accuracy: 0.8076 - val_loss: 0.5932 - val_accuracy: 0.7318\n",
      "\n",
      "Epoch 00074: val_loss did not improve from 0.54075\n",
      "Epoch 75/100\n",
      "23/23 [==============================] - 0s 4ms/step - loss: 0.4717 - accuracy: 0.7851 - val_loss: 0.6809 - val_accuracy: 0.6872\n",
      "\n",
      "Epoch 00075: val_loss did not improve from 0.54075\n",
      "Epoch 76/100\n",
      "23/23 [==============================] - 0s 4ms/step - loss: 0.4553 - accuracy: 0.8090 - val_loss: 0.6159 - val_accuracy: 0.7430\n",
      "\n",
      "Epoch 00076: val_loss did not improve from 0.54075\n",
      "Epoch 77/100\n",
      "23/23 [==============================] - 0s 4ms/step - loss: 0.4287 - accuracy: 0.8048 - val_loss: 0.6466 - val_accuracy: 0.7430\n",
      "\n",
      "Epoch 00077: val_loss did not improve from 0.54075\n",
      "Epoch 78/100\n",
      "23/23 [==============================] - 0s 4ms/step - loss: 0.4252 - accuracy: 0.8104 - val_loss: 0.6014 - val_accuracy: 0.7318\n",
      "\n",
      "Epoch 00078: val_loss did not improve from 0.54075\n",
      "Epoch 79/100\n",
      "23/23 [==============================] - 0s 4ms/step - loss: 0.4354 - accuracy: 0.8160 - val_loss: 0.6327 - val_accuracy: 0.7318\n",
      "\n",
      "Epoch 00079: val_loss did not improve from 0.54075\n",
      "Epoch 80/100\n",
      "23/23 [==============================] - 0s 4ms/step - loss: 0.4347 - accuracy: 0.8118 - val_loss: 0.6125 - val_accuracy: 0.7374\n",
      "\n",
      "Epoch 00080: val_loss did not improve from 0.54075\n",
      "Epoch 81/100\n",
      "23/23 [==============================] - 0s 3ms/step - loss: 0.4195 - accuracy: 0.8188 - val_loss: 0.6939 - val_accuracy: 0.7542\n",
      "\n",
      "Epoch 00081: val_loss did not improve from 0.54075\n",
      "Epoch 82/100\n",
      "23/23 [==============================] - 0s 4ms/step - loss: 0.4313 - accuracy: 0.8146 - val_loss: 0.6409 - val_accuracy: 0.7318\n",
      "\n",
      "Epoch 00082: val_loss did not improve from 0.54075\n",
      "Epoch 83/100\n",
      "23/23 [==============================] - 0s 3ms/step - loss: 0.4144 - accuracy: 0.8258 - val_loss: 0.6711 - val_accuracy: 0.7318\n",
      "\n",
      "Epoch 00083: val_loss did not improve from 0.54075\n",
      "Epoch 84/100\n",
      "23/23 [==============================] - 0s 4ms/step - loss: 0.4721 - accuracy: 0.7949 - val_loss: 0.6270 - val_accuracy: 0.7374\n",
      "\n",
      "Epoch 00084: val_loss did not improve from 0.54075\n",
      "Epoch 85/100\n",
      "23/23 [==============================] - 0s 4ms/step - loss: 0.4295 - accuracy: 0.8146 - val_loss: 0.6430 - val_accuracy: 0.7430\n",
      "\n",
      "Epoch 00085: val_loss did not improve from 0.54075\n",
      "Epoch 86/100\n",
      "23/23 [==============================] - 0s 4ms/step - loss: 0.4261 - accuracy: 0.8202 - val_loss: 0.6493 - val_accuracy: 0.7486\n",
      "\n",
      "Epoch 00086: val_loss did not improve from 0.54075\n",
      "Epoch 87/100\n",
      "23/23 [==============================] - 0s 4ms/step - loss: 0.4160 - accuracy: 0.8244 - val_loss: 0.7021 - val_accuracy: 0.7486\n",
      "\n",
      "Epoch 00087: val_loss did not improve from 0.54075\n",
      "Epoch 88/100\n",
      "23/23 [==============================] - 0s 4ms/step - loss: 0.4246 - accuracy: 0.8020 - val_loss: 0.9030 - val_accuracy: 0.6480\n",
      "\n",
      "Epoch 00088: val_loss did not improve from 0.54075\n",
      "Epoch 89/100\n",
      "23/23 [==============================] - 0s 4ms/step - loss: 0.5262 - accuracy: 0.7669 - val_loss: 0.5984 - val_accuracy: 0.7318\n",
      "\n",
      "Epoch 00089: val_loss did not improve from 0.54075\n",
      "Epoch 90/100\n",
      "23/23 [==============================] - 0s 4ms/step - loss: 0.4311 - accuracy: 0.8118 - val_loss: 0.5991 - val_accuracy: 0.7263\n",
      "\n",
      "Epoch 00090: val_loss did not improve from 0.54075\n",
      "Epoch 91/100\n",
      "23/23 [==============================] - 0s 4ms/step - loss: 0.4415 - accuracy: 0.8118 - val_loss: 0.6381 - val_accuracy: 0.7374\n",
      "\n",
      "Epoch 00091: val_loss did not improve from 0.54075\n",
      "Epoch 92/100\n",
      "23/23 [==============================] - 0s 4ms/step - loss: 0.4132 - accuracy: 0.8160 - val_loss: 0.7219 - val_accuracy: 0.6983\n",
      "\n",
      "Epoch 00092: val_loss did not improve from 0.54075\n",
      "Epoch 93/100\n",
      "23/23 [==============================] - 0s 4ms/step - loss: 0.4694 - accuracy: 0.8020 - val_loss: 0.6239 - val_accuracy: 0.7374\n",
      "\n",
      "Epoch 00093: val_loss did not improve from 0.54075\n",
      "Epoch 94/100\n",
      "23/23 [==============================] - 0s 3ms/step - loss: 0.4515 - accuracy: 0.8076 - val_loss: 0.7273 - val_accuracy: 0.7542\n",
      "\n",
      "Epoch 00094: val_loss did not improve from 0.54075\n",
      "Epoch 95/100\n",
      "23/23 [==============================] - 0s 4ms/step - loss: 0.4632 - accuracy: 0.7879 - val_loss: 0.6728 - val_accuracy: 0.7430\n",
      "\n",
      "Epoch 00095: val_loss did not improve from 0.54075\n",
      "Epoch 96/100\n",
      "23/23 [==============================] - 0s 4ms/step - loss: 0.4336 - accuracy: 0.8076 - val_loss: 0.6713 - val_accuracy: 0.7430\n",
      "\n",
      "Epoch 00096: val_loss did not improve from 0.54075\n",
      "Epoch 97/100\n",
      "23/23 [==============================] - 0s 4ms/step - loss: 0.4461 - accuracy: 0.8090 - val_loss: 0.5926 - val_accuracy: 0.7318\n",
      "\n",
      "Epoch 00097: val_loss did not improve from 0.54075\n",
      "Epoch 98/100\n",
      "23/23 [==============================] - 0s 4ms/step - loss: 0.4118 - accuracy: 0.8244 - val_loss: 0.6640 - val_accuracy: 0.7039\n",
      "\n",
      "Epoch 00098: val_loss did not improve from 0.54075\n",
      "Epoch 99/100\n",
      "23/23 [==============================] - 0s 4ms/step - loss: 0.4458 - accuracy: 0.8104 - val_loss: 0.6313 - val_accuracy: 0.7374\n",
      "\n",
      "Epoch 00099: val_loss did not improve from 0.54075\n",
      "Epoch 100/100\n",
      "23/23 [==============================] - 0s 3ms/step - loss: 0.4671 - accuracy: 0.7767 - val_loss: 0.6865 - val_accuracy: 0.7095\n",
      "\n",
      "Epoch 00100: val_loss did not improve from 0.54075\n"
     ]
    },
    {
     "data": {
      "text/plain": [
       "<keras.callbacks.History at 0x7f42c4f89f50>"
      ]
     },
     "execution_count": 27,
     "metadata": {},
     "output_type": "execute_result"
    }
   ],
   "source": [
    "tf.random.set_seed(883)\n",
    "input_shape = X_train.shape[1]\n",
    "\n",
    "# creating the simple dense model\n",
    "# it is a very simple explonatory model with almost random layers and neurons\n",
    "# this model works as a tensorflow baseline model\n",
    "model_3_sdense = tf.keras.Sequential([\n",
    "    tf.keras.layers.Flatten(input_shape=(1,input_shape)),\n",
    "    tf.keras.layers.Dense(200, activation=tf.keras.activations.relu),\n",
    "    tf.keras.layers.Dense(200, activation=tf.keras.activations.relu),\n",
    "    tf.keras.layers.Dense(100, activation=tf.keras.activations.relu),\n",
    "    tf.keras.layers.Dense(100, activation=tf.keras.activations.relu),\n",
    "    tf.keras.layers.Dense(1, activation=tf.keras.activations.sigmoid)\n",
    "])\n",
    "\n",
    "# compile the simple dense model\n",
    "model_3_sdense.compile(\n",
    "    loss=tf.keras.losses.BinaryCrossentropy(),\n",
    "    optimizer=tf.keras.optimizers.Adam(),\n",
    "    metrics=['accuracy']\n",
    ")\n",
    "\n",
    "# fit the simple dense model\n",
    "model_3_sdense.fit(X_train, y_train, epochs=100, validation_data=(X_val,y_val), callbacks=[create_model_checkpoint(\"model_3_sdense\")])"
   ]
  },
  {
   "cell_type": "code",
   "execution_count": 28,
   "id": "abc82c8d",
   "metadata": {
    "execution": {
     "iopub.execute_input": "2022-09-14T10:31:19.180505Z",
     "iopub.status.busy": "2022-09-14T10:31:19.179674Z",
     "iopub.status.idle": "2022-09-14T10:31:19.646968Z",
     "shell.execute_reply": "2022-09-14T10:31:19.646084Z"
    },
    "papermill": {
     "duration": 0.498851,
     "end_time": "2022-09-14T10:31:19.649092",
     "exception": false,
     "start_time": "2022-09-14T10:31:19.150241",
     "status": "completed"
    },
    "tags": []
   },
   "outputs": [
    {
     "name": "stdout",
     "output_type": "stream",
     "text": [
      "6/6 [==============================] - 0s 2ms/step - loss: 0.5408 - accuracy: 0.7263\n"
     ]
    },
    {
     "data": {
      "text/plain": [
       "[0.5407522320747375, 0.7262569665908813]"
      ]
     },
     "execution_count": 28,
     "metadata": {},
     "output_type": "execute_result"
    }
   ],
   "source": [
    "# load the best model and evaluate the result\n",
    "model_3_sdense_best = tf.keras.models.load_model(\"./model_experiment/model_3_sdense/\")\n",
    "model_3_sdense_best.evaluate(X_val, y_val)"
   ]
  },
  {
   "cell_type": "code",
   "execution_count": 29,
   "id": "86eedf41",
   "metadata": {
    "execution": {
     "iopub.execute_input": "2022-09-14T10:31:19.709373Z",
     "iopub.status.busy": "2022-09-14T10:31:19.708555Z",
     "iopub.status.idle": "2022-09-14T10:31:19.903240Z",
     "shell.execute_reply": "2022-09-14T10:31:19.901629Z"
    },
    "papermill": {
     "duration": 0.227143,
     "end_time": "2022-09-14T10:31:19.905592",
     "exception": false,
     "start_time": "2022-09-14T10:31:19.678449",
     "status": "completed"
    },
    "tags": []
   },
   "outputs": [],
   "source": [
    "model_3_predictions = model_3_sdense_best.predict(df_test)\n",
    "# model_3_predictions = tf.squeeze(model_3_predictions)\n",
    "# model_3_predictions.shape\n",
    "model_3_predictions = np.round(np.max(model_3_predictions, axis=1))"
   ]
  },
  {
   "cell_type": "markdown",
   "id": "29070bca",
   "metadata": {
    "papermill": {
     "duration": 0.051747,
     "end_time": "2022-09-14T10:31:20.027925",
     "exception": false,
     "start_time": "2022-09-14T10:31:19.976178",
     "status": "completed"
    },
    "tags": []
   },
   "source": [
    "# Creating output to submit result"
   ]
  },
  {
   "cell_type": "code",
   "execution_count": 30,
   "id": "06ff84f3",
   "metadata": {
    "execution": {
     "iopub.execute_input": "2022-09-14T10:31:20.118307Z",
     "iopub.status.busy": "2022-09-14T10:31:20.117859Z",
     "iopub.status.idle": "2022-09-14T10:31:20.131165Z",
     "shell.execute_reply": "2022-09-14T10:31:20.130263Z"
    },
    "papermill": {
     "duration": 0.062685,
     "end_time": "2022-09-14T10:31:20.134864",
     "exception": false,
     "start_time": "2022-09-14T10:31:20.072179",
     "status": "completed"
    },
    "tags": []
   },
   "outputs": [
    {
     "name": "stdout",
     "output_type": "stream",
     "text": [
      "Your submission was successfully saved!\n"
     ]
    }
   ],
   "source": [
    "output = pd.DataFrame({\"PassengerID\": df_less_test.PassengerId, \"Survived\": model_3_predictions})\n",
    "output.to_csv('submission.csv', index=False)\n",
    "print(\"Your submission was successfully saved!\")"
   ]
  },
  {
   "cell_type": "code",
   "execution_count": null,
   "id": "7c515295",
   "metadata": {
    "papermill": {
     "duration": 0.044056,
     "end_time": "2022-09-14T10:31:20.224451",
     "exception": false,
     "start_time": "2022-09-14T10:31:20.180395",
     "status": "completed"
    },
    "tags": []
   },
   "outputs": [],
   "source": []
  }
 ],
 "metadata": {
  "kernelspec": {
   "display_name": "Python 3",
   "language": "python",
   "name": "python3"
  },
  "language_info": {
   "codemirror_mode": {
    "name": "ipython",
    "version": 3
   },
   "file_extension": ".py",
   "mimetype": "text/x-python",
   "name": "python",
   "nbconvert_exporter": "python",
   "pygments_lexer": "ipython3",
   "version": "3.7.12"
  },
  "papermill": {
   "default_parameters": {},
   "duration": 464.538924,
   "end_time": "2022-09-14T10:31:23.556992",
   "environment_variables": {},
   "exception": null,
   "input_path": "__notebook__.ipynb",
   "output_path": "__notebook__.ipynb",
   "parameters": {},
   "start_time": "2022-09-14T10:23:39.018068",
   "version": "2.3.4"
  }
 },
 "nbformat": 4,
 "nbformat_minor": 5
}
