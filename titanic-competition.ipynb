{
 "cells": [
  {
   "cell_type": "code",
   "execution_count": 1,
   "id": "b6363c58",
   "metadata": {
    "_cell_guid": "b1076dfc-b9ad-4769-8c92-a6c4dae69d19",
    "_uuid": "8f2839f25d086af736a60e9eeb907d3b93b6e0e5",
    "execution": {
     "iopub.execute_input": "2022-09-17T17:39:55.549879Z",
     "iopub.status.busy": "2022-09-17T17:39:55.549357Z",
     "iopub.status.idle": "2022-09-17T17:39:55.562332Z",
     "shell.execute_reply": "2022-09-17T17:39:55.561355Z"
    },
    "papermill": {
     "duration": 0.02994,
     "end_time": "2022-09-17T17:39:55.565483",
     "exception": false,
     "start_time": "2022-09-17T17:39:55.535543",
     "status": "completed"
    },
    "tags": []
   },
   "outputs": [
    {
     "name": "stdout",
     "output_type": "stream",
     "text": [
      "/kaggle/input/titanic/train.csv\n",
      "/kaggle/input/titanic/test.csv\n",
      "/kaggle/input/titanic/gender_submission.csv\n"
     ]
    }
   ],
   "source": [
    "# This Python 3 environment comes with many helpful analytics libraries installed\n",
    "# It is defined by the kaggle/python Docker image: https://github.com/kaggle/docker-python\n",
    "# For example, here's several helpful packages to load\n",
    "\n",
    "import numpy as np # linear algebra\n",
    "import pandas as pd # data processing, CSV file I/O (e.g. pd.read_csv)\n",
    "\n",
    "# Input data files are available in the read-only \"../input/\" directory\n",
    "# For example, running this (by clicking run or pressing Shift+Enter) will list all files under the input directory\n",
    "\n",
    "import os\n",
    "for dirname, _, filenames in os.walk('/kaggle/input'):\n",
    "    for filename in filenames:\n",
    "        print(os.path.join(dirname, filename))\n",
    "\n",
    "# You can write up to 20GB to the current directory (/kaggle/working/) that gets preserved as output when you create a version using \"Save & Run All\" \n",
    "# You can also write temporary files to /kaggle/temp/, but they won't be saved outside of the current session"
   ]
  },
  {
   "cell_type": "markdown",
   "id": "866510dd",
   "metadata": {
    "papermill": {
     "duration": 0.010456,
     "end_time": "2022-09-17T17:39:55.588282",
     "exception": false,
     "start_time": "2022-09-17T17:39:55.577826",
     "status": "completed"
    },
    "tags": []
   },
   "source": [
    "### TODO LIST\n",
    "\n",
    "> * put feature enginering into function to be able to use both test and train data set.\n",
    "* copy and use plot decision boundary function from this (https://github.com/mrdbourke/tensorflow-deep-learning/blob/main/02_neural_network_classification_in_tensorflow.ipynb) notebook to see how my simple dense model fails\n",
    "> * find out the relationship between the `SibSp` and the `Parch` column.\n",
    "* create more tf models for eg.> Conv1D, LSTM .... to get more experience."
   ]
  },
  {
   "cell_type": "code",
   "execution_count": 2,
   "id": "d0b4a564",
   "metadata": {
    "execution": {
     "iopub.execute_input": "2022-09-17T17:39:55.612485Z",
     "iopub.status.busy": "2022-09-17T17:39:55.611754Z",
     "iopub.status.idle": "2022-09-17T17:39:55.616723Z",
     "shell.execute_reply": "2022-09-17T17:39:55.615842Z"
    },
    "papermill": {
     "duration": 0.018481,
     "end_time": "2022-09-17T17:39:55.618698",
     "exception": false,
     "start_time": "2022-09-17T17:39:55.600217",
     "status": "completed"
    },
    "tags": []
   },
   "outputs": [],
   "source": [
    "pd.set_option('display.max_rows', 500)"
   ]
  },
  {
   "cell_type": "markdown",
   "id": "9144d198",
   "metadata": {
    "papermill": {
     "duration": 0.010391,
     "end_time": "2022-09-17T17:39:55.639705",
     "exception": false,
     "start_time": "2022-09-17T17:39:55.629314",
     "status": "completed"
    },
    "tags": []
   },
   "source": [
    "### Imports"
   ]
  },
  {
   "cell_type": "code",
   "execution_count": 3,
   "id": "ec005b67",
   "metadata": {
    "execution": {
     "iopub.execute_input": "2022-09-17T17:39:55.663393Z",
     "iopub.status.busy": "2022-09-17T17:39:55.662406Z",
     "iopub.status.idle": "2022-09-17T17:40:01.945536Z",
     "shell.execute_reply": "2022-09-17T17:40:01.943996Z"
    },
    "papermill": {
     "duration": 6.297896,
     "end_time": "2022-09-17T17:40:01.948398",
     "exception": false,
     "start_time": "2022-09-17T17:39:55.650502",
     "status": "completed"
    },
    "tags": []
   },
   "outputs": [
    {
     "name": "stdout",
     "output_type": "stream",
     "text": [
      "2.6.4\n"
     ]
    }
   ],
   "source": [
    "# Library imports\n",
    "import tensorflow as tf\n",
    "import seaborn as sns\n",
    "import matplotlib.pyplot as plt\n",
    "import numpy as np\n",
    "import sklearn\n",
    "import os\n",
    "\n",
    "# Models\n",
    "from sklearn.linear_model import LogisticRegression\n",
    "from sklearn.neighbors import KNeighborsClassifier\n",
    "from sklearn.ensemble import RandomForestClassifier\n",
    "\n",
    "# Model evaluators\n",
    "from sklearn.model_selection import train_test_split\n",
    "from sklearn.model_selection import GridSearchCV\n",
    "from sklearn.metrics import confusion_matrix\n",
    "from sklearn.metrics import classification_report\n",
    "from sklearn.preprocessing import MinMaxScaler\n",
    "\n",
    "# tensorflow related imports\n",
    "from tensorflow.keras.layers import IntegerLookup, Normalization, StringLookup \n",
    "print(tf.__version__)"
   ]
  },
  {
   "cell_type": "markdown",
   "id": "d65e830d",
   "metadata": {
    "papermill": {
     "duration": 0.010533,
     "end_time": "2022-09-17T17:40:01.970993",
     "exception": false,
     "start_time": "2022-09-17T17:40:01.960460",
     "status": "completed"
    },
    "tags": []
   },
   "source": [
    "### Helper Functions"
   ]
  },
  {
   "cell_type": "code",
   "execution_count": 4,
   "id": "6eec3563",
   "metadata": {
    "execution": {
     "iopub.execute_input": "2022-09-17T17:40:01.995132Z",
     "iopub.status.busy": "2022-09-17T17:40:01.993788Z",
     "iopub.status.idle": "2022-09-17T17:40:01.999761Z",
     "shell.execute_reply": "2022-09-17T17:40:01.998862Z"
    },
    "papermill": {
     "duration": 0.019918,
     "end_time": "2022-09-17T17:40:02.001727",
     "exception": false,
     "start_time": "2022-09-17T17:40:01.981809",
     "status": "completed"
    },
    "tags": []
   },
   "outputs": [],
   "source": [
    "def create_model_checkpoint(model_name, save_path=\"model_experiment\"):\n",
    "    return tf.keras.callbacks.ModelCheckpoint(filepath=os.path.join(save_path, model_name), verbose=1, save_best_only=True)"
   ]
  },
  {
   "cell_type": "code",
   "execution_count": 5,
   "id": "bdd39cc0",
   "metadata": {
    "execution": {
     "iopub.execute_input": "2022-09-17T17:40:02.024667Z",
     "iopub.status.busy": "2022-09-17T17:40:02.024122Z",
     "iopub.status.idle": "2022-09-17T17:40:02.032541Z",
     "shell.execute_reply": "2022-09-17T17:40:02.031526Z"
    },
    "papermill": {
     "duration": 0.022059,
     "end_time": "2022-09-17T17:40:02.034538",
     "exception": false,
     "start_time": "2022-09-17T17:40:02.012479",
     "status": "completed"
    },
    "tags": []
   },
   "outputs": [],
   "source": [
    "scaler = MinMaxScaler()\n",
    "\n",
    "\n",
    "def feature_handler(data_frame, feature_importance=False):\n",
    "    data_frame = data_frame.copy()\n",
    "    data_frame = data_frame.set_index(\"PassengerId\")\n",
    "    data_frame = data_frame.drop(labels=[\"Cabin\", \"Name\", \"Ticket\"], axis=1)\n",
    "    encoded_sex = pd.get_dummies(data_frame.Sex, prefix=\"sex\")\n",
    "    encoded_Pclass = pd.get_dummies(data_frame.Pclass, prefix=\"Pclass\")\n",
    "    encoded_Embarked = pd.get_dummies(data_frame.Embarked, prefix=\"Embarked\")\n",
    "    \n",
    "    data_frame = pd.concat([data_frame,encoded_sex, encoded_Pclass, encoded_Embarked], axis=1)\n",
    "    data_frame[\"Family\"] = np.where((data_frame[\"SibSp\"] > 0) |(data_frame['Parch'] > 0) , 1, 0)\n",
    "    data_frame = data_frame.drop([\"Sex\", \"Pclass\", \"Embarked\", \"SibSp\", \"Parch\"], axis=1)\n",
    "    data_frame = data_frame.fillna(data_frame[\"Age\"].mean())\n",
    "    data_frame[['Age', 'Fare']] = scaler.fit_transform(data_frame[['Age', 'Fare']])\n",
    "    \n",
    "    if feature_importance:\n",
    "        data_frame = data_frame.drop([\"Pclass_1\", \"Pclass_2\", \"Embarked_C\", \"Embarked_Q\", \"Embarked_S\", \"Family\"], axis=1)\n",
    "        \n",
    "    data_frame.info()\n",
    "    return data_frame"
   ]
  },
  {
   "cell_type": "code",
   "execution_count": 6,
   "id": "e7723e29",
   "metadata": {
    "execution": {
     "iopub.execute_input": "2022-09-17T17:40:02.058654Z",
     "iopub.status.busy": "2022-09-17T17:40:02.057754Z",
     "iopub.status.idle": "2022-09-17T17:40:02.067647Z",
     "shell.execute_reply": "2022-09-17T17:40:02.066797Z"
    },
    "papermill": {
     "duration": 0.023329,
     "end_time": "2022-09-17T17:40:02.069560",
     "exception": false,
     "start_time": "2022-09-17T17:40:02.046231",
     "status": "completed"
    },
    "tags": []
   },
   "outputs": [],
   "source": [
    "def plot_decision_boundary(model, X, y):\n",
    "  \"\"\"\n",
    "  Plots the decision boundary created by a model predicting on X.\n",
    "  This function has been adapted from two phenomenal resources:\n",
    "   1. CS231n - https://cs231n.github.io/neural-networks-case-study/\n",
    "   2. Made with ML basics - https://github.com/GokuMohandas/MadeWithML/blob/main/notebooks/08_Neural_Networks.ipynb\n",
    "  \"\"\"\n",
    "  # Define the axis boundaries of the plot and create a meshgrid\n",
    "  print(X.shape)\n",
    "  print(y.shape)\n",
    "  x_min, x_max = X[:, 0].min() - 0.1, X[:, 0].max() + 0.1\n",
    "  y_min, y_max = X[:, 1].min() - 0.1, X[:, 1].max() + 0.1\n",
    "  xx, yy = np.meshgrid(np.linspace(x_min, x_max, 100),\n",
    "                       np.linspace(y_min, y_max, 100))\n",
    "  \n",
    "  # Create X values (we're going to predict on all of these)\n",
    "  x_in = np.c_[xx.ravel(), yy.ravel()] # stack 2D arrays together: https://numpy.org/devdocs/reference/generated/numpy.c_.html\n",
    "  \n",
    "  # Make predictions using the trained model\n",
    "  y_pred = model.predict(x_in)\n",
    "\n",
    "  # Check for multi-class\n",
    "  if model.output_shape[-1] > 1: # checks the final dimension of the model's output shape, if this is > (greater than) 1, it's multi-class \n",
    "    print(\"doing multiclass classification...\")\n",
    "    # We have to reshape our predictions to get them ready for plotting\n",
    "    y_pred = np.argmax(y_pred, axis=1).reshape(xx.shape)\n",
    "  else:\n",
    "    print(\"doing binary classifcation...\")\n",
    "    y_pred = np.round(np.max(y_pred, axis=1)).reshape(xx.shape)\n",
    "  \n",
    "  # Plot decision boundary\n",
    "  plt.contourf(xx, yy, y_pred, cmap=plt.cm.RdYlBu, alpha=0.7)\n",
    "  plt.scatter(X[:, 0], X[:, 1], c=y, s=40, cmap=plt.cm.RdYlBu)\n",
    "  plt.xlim(xx.min(), xx.max())\n",
    "  plt.ylim(yy.min(), yy.max())"
   ]
  },
  {
   "cell_type": "code",
   "execution_count": 7,
   "id": "460987b3",
   "metadata": {
    "execution": {
     "iopub.execute_input": "2022-09-17T17:40:02.092889Z",
     "iopub.status.busy": "2022-09-17T17:40:02.092000Z",
     "iopub.status.idle": "2022-09-17T17:40:02.097898Z",
     "shell.execute_reply": "2022-09-17T17:40:02.096915Z"
    },
    "papermill": {
     "duration": 0.019512,
     "end_time": "2022-09-17T17:40:02.099891",
     "exception": false,
     "start_time": "2022-09-17T17:40:02.080379",
     "status": "completed"
    },
    "tags": []
   },
   "outputs": [],
   "source": [
    "def fit_and_score (models, X_train, X_val, y_train, y_val ):\n",
    "    np.random.seed(883)\n",
    "    model_scores= {}\n",
    "    \n",
    "    for name, model in models.items():\n",
    "        model.fit(X_train, y_train)\n",
    "        model_scores[name] = model.score(X_val, y_val)\n",
    "    return model_scores"
   ]
  },
  {
   "cell_type": "code",
   "execution_count": 8,
   "id": "afdace65",
   "metadata": {
    "execution": {
     "iopub.execute_input": "2022-09-17T17:40:02.122635Z",
     "iopub.status.busy": "2022-09-17T17:40:02.121818Z",
     "iopub.status.idle": "2022-09-17T17:40:02.127275Z",
     "shell.execute_reply": "2022-09-17T17:40:02.126394Z"
    },
    "papermill": {
     "duration": 0.018832,
     "end_time": "2022-09-17T17:40:02.129270",
     "exception": false,
     "start_time": "2022-09-17T17:40:02.110438",
     "status": "completed"
    },
    "tags": []
   },
   "outputs": [],
   "source": [
    "def dataframe_to_dataset (dataset):\n",
    "    dataframe = dataset.copy()\n",
    "    labels = dataframe.pop(\"Survived\")\n",
    "    ds = tf.data.Dataset.from_tensor_slices((dict(dataframe), labels))\n",
    "    ds = ds.shuffle(buffer_size=len(dataframe))\n",
    "    return ds"
   ]
  },
  {
   "cell_type": "code",
   "execution_count": 9,
   "id": "26547294",
   "metadata": {
    "execution": {
     "iopub.execute_input": "2022-09-17T17:40:02.152994Z",
     "iopub.status.busy": "2022-09-17T17:40:02.152169Z",
     "iopub.status.idle": "2022-09-17T17:40:02.157838Z",
     "shell.execute_reply": "2022-09-17T17:40:02.156984Z"
    },
    "papermill": {
     "duration": 0.019658,
     "end_time": "2022-09-17T17:40:02.159728",
     "exception": false,
     "start_time": "2022-09-17T17:40:02.140070",
     "status": "completed"
    },
    "tags": []
   },
   "outputs": [],
   "source": [
    "def encode_numerical_feature (feature, name, dataset):\n",
    "    normalizer = Normalization()\n",
    "    \n",
    "    feature_ds = dataset.map(lambda x, y: x[name])\n",
    "    feature_ds = feature_ds.map(lambda x: tf.expand_dims(x, -1))\n",
    "    \n",
    "    normalizer.adapt(feature_ds)\n",
    "    encoded_feature = normalizer(feature)\n",
    "    return encoded_feature"
   ]
  },
  {
   "cell_type": "code",
   "execution_count": 10,
   "id": "0ba9467f",
   "metadata": {
    "execution": {
     "iopub.execute_input": "2022-09-17T17:40:02.182946Z",
     "iopub.status.busy": "2022-09-17T17:40:02.182114Z",
     "iopub.status.idle": "2022-09-17T17:40:02.188506Z",
     "shell.execute_reply": "2022-09-17T17:40:02.187670Z"
    },
    "papermill": {
     "duration": 0.020061,
     "end_time": "2022-09-17T17:40:02.190394",
     "exception": false,
     "start_time": "2022-09-17T17:40:02.170333",
     "status": "completed"
    },
    "tags": []
   },
   "outputs": [],
   "source": [
    "def encode_categorical_feature (feature, name, dataset, is_string):\n",
    "    lookup_class = StringLookup if is_string else IntegerLookup\n",
    "    lookup = lookup_class(output_mode=\"binary\")\n",
    "    \n",
    "    feature_ds = dataset.map(lambda x, y: x[name])\n",
    "    feature_ds = feature_ds.map(lambda x: tf.expand_dims(x, -1))\n",
    "    \n",
    "    lookup.adapt(feature_ds)\n",
    "    encoded_feature = lookup(feature)\n",
    "    return encoded_feature"
   ]
  },
  {
   "cell_type": "markdown",
   "id": "7d4b786d",
   "metadata": {
    "papermill": {
     "duration": 0.010437,
     "end_time": "2022-09-17T17:40:02.211437",
     "exception": false,
     "start_time": "2022-09-17T17:40:02.201000",
     "status": "completed"
    },
    "tags": []
   },
   "source": [
    "### Data section"
   ]
  },
  {
   "cell_type": "markdown",
   "id": "c49312bc",
   "metadata": {
    "papermill": {
     "duration": 0.010863,
     "end_time": "2022-09-17T17:40:02.232919",
     "exception": false,
     "start_time": "2022-09-17T17:40:02.222056",
     "status": "completed"
    },
    "tags": []
   },
   "source": [
    "Two types of data sets were created. The first one is a simple cleard data set the second one contains fewer features based on the RandomForestClassifier.feature_importance function."
   ]
  },
  {
   "cell_type": "code",
   "execution_count": 11,
   "id": "91f9f2dc",
   "metadata": {
    "execution": {
     "iopub.execute_input": "2022-09-17T17:40:02.256206Z",
     "iopub.status.busy": "2022-09-17T17:40:02.255269Z",
     "iopub.status.idle": "2022-09-17T17:40:02.292132Z",
     "shell.execute_reply": "2022-09-17T17:40:02.291170Z"
    },
    "papermill": {
     "duration": 0.050513,
     "end_time": "2022-09-17T17:40:02.294173",
     "exception": false,
     "start_time": "2022-09-17T17:40:02.243660",
     "status": "completed"
    },
    "tags": []
   },
   "outputs": [
    {
     "data": {
      "text/plain": [
       "(891, 418, (891, 12), (418, 11))"
      ]
     },
     "execution_count": 11,
     "metadata": {},
     "output_type": "execute_result"
    }
   ],
   "source": [
    "# Imports dataset from Kaggle\n",
    "train_df = pd.read_csv(\"/kaggle/input/titanic/train.csv\")\n",
    "test_df = pd.read_csv(\"/kaggle/input/titanic/test.csv\")\n",
    "len(train_df), len(test_df), train_df.shape, test_df.shape"
   ]
  },
  {
   "cell_type": "code",
   "execution_count": 12,
   "id": "3b89bffe",
   "metadata": {
    "execution": {
     "iopub.execute_input": "2022-09-17T17:40:02.317980Z",
     "iopub.status.busy": "2022-09-17T17:40:02.317177Z",
     "iopub.status.idle": "2022-09-17T17:40:02.354107Z",
     "shell.execute_reply": "2022-09-17T17:40:02.353059Z"
    },
    "papermill": {
     "duration": 0.051211,
     "end_time": "2022-09-17T17:40:02.356790",
     "exception": false,
     "start_time": "2022-09-17T17:40:02.305579",
     "status": "completed"
    },
    "tags": []
   },
   "outputs": [
    {
     "name": "stdout",
     "output_type": "stream",
     "text": [
      "<class 'pandas.core.frame.DataFrame'>\n",
      "Int64Index: 891 entries, 1 to 891\n",
      "Data columns (total 12 columns):\n",
      " #   Column      Non-Null Count  Dtype  \n",
      "---  ------      --------------  -----  \n",
      " 0   Survived    891 non-null    int64  \n",
      " 1   Age         891 non-null    float64\n",
      " 2   Fare        891 non-null    float64\n",
      " 3   sex_female  891 non-null    uint8  \n",
      " 4   sex_male    891 non-null    uint8  \n",
      " 5   Pclass_1    891 non-null    uint8  \n",
      " 6   Pclass_2    891 non-null    uint8  \n",
      " 7   Pclass_3    891 non-null    uint8  \n",
      " 8   Embarked_C  891 non-null    uint8  \n",
      " 9   Embarked_Q  891 non-null    uint8  \n",
      " 10  Embarked_S  891 non-null    uint8  \n",
      " 11  Family      891 non-null    int64  \n",
      "dtypes: float64(2), int64(2), uint8(8)\n",
      "memory usage: 41.8 KB\n"
     ]
    }
   ],
   "source": [
    "df = feature_handler(train_df)"
   ]
  },
  {
   "cell_type": "code",
   "execution_count": 13,
   "id": "f12a1f3b",
   "metadata": {
    "execution": {
     "iopub.execute_input": "2022-09-17T17:40:02.381116Z",
     "iopub.status.busy": "2022-09-17T17:40:02.380808Z",
     "iopub.status.idle": "2022-09-17T17:40:02.400591Z",
     "shell.execute_reply": "2022-09-17T17:40:02.399357Z"
    },
    "papermill": {
     "duration": 0.034554,
     "end_time": "2022-09-17T17:40:02.403226",
     "exception": false,
     "start_time": "2022-09-17T17:40:02.368672",
     "status": "completed"
    },
    "tags": []
   },
   "outputs": [
    {
     "name": "stdout",
     "output_type": "stream",
     "text": [
      "<class 'pandas.core.frame.DataFrame'>\n",
      "Int64Index: 418 entries, 892 to 1309\n",
      "Data columns (total 11 columns):\n",
      " #   Column      Non-Null Count  Dtype  \n",
      "---  ------      --------------  -----  \n",
      " 0   Age         418 non-null    float64\n",
      " 1   Fare        418 non-null    float64\n",
      " 2   sex_female  418 non-null    uint8  \n",
      " 3   sex_male    418 non-null    uint8  \n",
      " 4   Pclass_1    418 non-null    uint8  \n",
      " 5   Pclass_2    418 non-null    uint8  \n",
      " 6   Pclass_3    418 non-null    uint8  \n",
      " 7   Embarked_C  418 non-null    uint8  \n",
      " 8   Embarked_Q  418 non-null    uint8  \n",
      " 9   Embarked_S  418 non-null    uint8  \n",
      " 10  Family      418 non-null    int64  \n",
      "dtypes: float64(2), int64(1), uint8(8)\n",
      "memory usage: 16.3 KB\n"
     ]
    }
   ],
   "source": [
    "df_test = feature_handler(test_df)"
   ]
  },
  {
   "cell_type": "code",
   "execution_count": 14,
   "id": "7044d692",
   "metadata": {
    "execution": {
     "iopub.execute_input": "2022-09-17T17:40:02.427370Z",
     "iopub.status.busy": "2022-09-17T17:40:02.426537Z",
     "iopub.status.idle": "2022-09-17T17:40:02.446051Z",
     "shell.execute_reply": "2022-09-17T17:40:02.444809Z"
    },
    "papermill": {
     "duration": 0.034106,
     "end_time": "2022-09-17T17:40:02.448541",
     "exception": false,
     "start_time": "2022-09-17T17:40:02.414435",
     "status": "completed"
    },
    "tags": []
   },
   "outputs": [
    {
     "name": "stdout",
     "output_type": "stream",
     "text": [
      "<class 'pandas.core.frame.DataFrame'>\n",
      "Int64Index: 891 entries, 1 to 891\n",
      "Data columns (total 6 columns):\n",
      " #   Column      Non-Null Count  Dtype  \n",
      "---  ------      --------------  -----  \n",
      " 0   Survived    891 non-null    int64  \n",
      " 1   Age         891 non-null    float64\n",
      " 2   Fare        891 non-null    float64\n",
      " 3   sex_female  891 non-null    uint8  \n",
      " 4   sex_male    891 non-null    uint8  \n",
      " 5   Pclass_3    891 non-null    uint8  \n",
      "dtypes: float64(2), int64(1), uint8(3)\n",
      "memory usage: 30.5 KB\n"
     ]
    }
   ],
   "source": [
    "df_less = feature_handler(train_df, feature_importance=True)"
   ]
  },
  {
   "cell_type": "code",
   "execution_count": 15,
   "id": "058a352a",
   "metadata": {
    "execution": {
     "iopub.execute_input": "2022-09-17T17:40:02.473136Z",
     "iopub.status.busy": "2022-09-17T17:40:02.472366Z",
     "iopub.status.idle": "2022-09-17T17:40:02.491634Z",
     "shell.execute_reply": "2022-09-17T17:40:02.490084Z"
    },
    "papermill": {
     "duration": 0.034008,
     "end_time": "2022-09-17T17:40:02.494195",
     "exception": false,
     "start_time": "2022-09-17T17:40:02.460187",
     "status": "completed"
    },
    "tags": []
   },
   "outputs": [
    {
     "name": "stdout",
     "output_type": "stream",
     "text": [
      "<class 'pandas.core.frame.DataFrame'>\n",
      "Int64Index: 418 entries, 892 to 1309\n",
      "Data columns (total 5 columns):\n",
      " #   Column      Non-Null Count  Dtype  \n",
      "---  ------      --------------  -----  \n",
      " 0   Age         418 non-null    float64\n",
      " 1   Fare        418 non-null    float64\n",
      " 2   sex_female  418 non-null    uint8  \n",
      " 3   sex_male    418 non-null    uint8  \n",
      " 4   Pclass_3    418 non-null    uint8  \n",
      "dtypes: float64(2), uint8(3)\n",
      "memory usage: 11.0 KB\n"
     ]
    }
   ],
   "source": [
    "df_less_test = feature_handler(test_df, feature_importance=True)"
   ]
  },
  {
   "cell_type": "markdown",
   "id": "eee8694b",
   "metadata": {
    "papermill": {
     "duration": 0.01077,
     "end_time": "2022-09-17T17:40:02.516856",
     "exception": false,
     "start_time": "2022-09-17T17:40:02.506086",
     "status": "completed"
    },
    "tags": []
   },
   "source": [
    "### Expoloring Data"
   ]
  },
  {
   "cell_type": "code",
   "execution_count": 16,
   "id": "2a31fce9",
   "metadata": {
    "execution": {
     "iopub.execute_input": "2022-09-17T17:40:02.541734Z",
     "iopub.status.busy": "2022-09-17T17:40:02.540934Z",
     "iopub.status.idle": "2022-09-17T17:40:02.752204Z",
     "shell.execute_reply": "2022-09-17T17:40:02.750917Z"
    },
    "papermill": {
     "duration": 0.226474,
     "end_time": "2022-09-17T17:40:02.754474",
     "exception": false,
     "start_time": "2022-09-17T17:40:02.528000",
     "status": "completed"
    },
    "tags": []
   },
   "outputs": [
    {
     "data": {
      "text/plain": [
       "<AxesSubplot:>"
      ]
     },
     "execution_count": 16,
     "metadata": {},
     "output_type": "execute_result"
    },
    {
     "data": {
      "image/png": "[encoded data removed]",
      "text/plain": [
       "<Figure size 432x288 with 1 Axes>"
      ]
     },
     "metadata": {
      "needs_background": "light"
     },
     "output_type": "display_data"
    }
   ],
   "source": [
    "df[\"Survived\"].value_counts().plot(kind=\"bar\", color=[\"salmon\", \"lightblue\"])"
   ]
  },
  {
   "cell_type": "code",
   "execution_count": 17,
   "id": "aaf7d7c1",
   "metadata": {
    "execution": {
     "iopub.execute_input": "2022-09-17T17:40:02.779973Z",
     "iopub.status.busy": "2022-09-17T17:40:02.778373Z",
     "iopub.status.idle": "2022-09-17T17:40:02.821995Z",
     "shell.execute_reply": "2022-09-17T17:40:02.821057Z"
    },
    "papermill": {
     "duration": 0.058221,
     "end_time": "2022-09-17T17:40:02.824083",
     "exception": false,
     "start_time": "2022-09-17T17:40:02.765862",
     "status": "completed"
    },
    "tags": []
   },
   "outputs": [
    {
     "data": {
      "text/html": [
       "<div>\n",
       "<style scoped>\n",
       "    .dataframe tbody tr th:only-of-type {\n",
       "        vertical-align: middle;\n",
       "    }\n",
       "\n",
       "    .dataframe tbody tr th {\n",
       "        vertical-align: top;\n",
       "    }\n",
       "\n",
       "    .dataframe thead th {\n",
       "        text-align: right;\n",
       "    }\n",
       "</style>\n",
       "<table border=\"1\" class=\"dataframe\">\n",
       "  <thead>\n",
       "    <tr style=\"text-align: right;\">\n",
       "      <th></th>\n",
       "      <th>Survived</th>\n",
       "      <th>Age</th>\n",
       "      <th>Fare</th>\n",
       "      <th>sex_female</th>\n",
       "      <th>sex_male</th>\n",
       "      <th>Pclass_1</th>\n",
       "      <th>Pclass_2</th>\n",
       "      <th>Pclass_3</th>\n",
       "      <th>Embarked_C</th>\n",
       "      <th>Embarked_Q</th>\n",
       "      <th>Embarked_S</th>\n",
       "      <th>Family</th>\n",
       "    </tr>\n",
       "  </thead>\n",
       "  <tbody>\n",
       "    <tr>\n",
       "      <th>count</th>\n",
       "      <td>891.000000</td>\n",
       "      <td>891.000000</td>\n",
       "      <td>891.000000</td>\n",
       "      <td>891.000000</td>\n",
       "      <td>891.000000</td>\n",
       "      <td>891.000000</td>\n",
       "      <td>891.000000</td>\n",
       "      <td>891.000000</td>\n",
       "      <td>891.000000</td>\n",
       "      <td>891.000000</td>\n",
       "      <td>891.000000</td>\n",
       "      <td>891.000000</td>\n",
       "    </tr>\n",
       "    <tr>\n",
       "      <th>mean</th>\n",
       "      <td>0.383838</td>\n",
       "      <td>0.367921</td>\n",
       "      <td>0.062858</td>\n",
       "      <td>0.352413</td>\n",
       "      <td>0.647587</td>\n",
       "      <td>0.242424</td>\n",
       "      <td>0.206510</td>\n",
       "      <td>0.551066</td>\n",
       "      <td>0.188552</td>\n",
       "      <td>0.086420</td>\n",
       "      <td>0.722783</td>\n",
       "      <td>0.397306</td>\n",
       "    </tr>\n",
       "    <tr>\n",
       "      <th>std</th>\n",
       "      <td>0.486592</td>\n",
       "      <td>0.163383</td>\n",
       "      <td>0.096995</td>\n",
       "      <td>0.477990</td>\n",
       "      <td>0.477990</td>\n",
       "      <td>0.428790</td>\n",
       "      <td>0.405028</td>\n",
       "      <td>0.497665</td>\n",
       "      <td>0.391372</td>\n",
       "      <td>0.281141</td>\n",
       "      <td>0.447876</td>\n",
       "      <td>0.489615</td>\n",
       "    </tr>\n",
       "    <tr>\n",
       "      <th>min</th>\n",
       "      <td>0.000000</td>\n",
       "      <td>0.000000</td>\n",
       "      <td>0.000000</td>\n",
       "      <td>0.000000</td>\n",
       "      <td>0.000000</td>\n",
       "      <td>0.000000</td>\n",
       "      <td>0.000000</td>\n",
       "      <td>0.000000</td>\n",
       "      <td>0.000000</td>\n",
       "      <td>0.000000</td>\n",
       "      <td>0.000000</td>\n",
       "      <td>0.000000</td>\n",
       "    </tr>\n",
       "    <tr>\n",
       "      <th>25%</th>\n",
       "      <td>0.000000</td>\n",
       "      <td>0.271174</td>\n",
       "      <td>0.015440</td>\n",
       "      <td>0.000000</td>\n",
       "      <td>0.000000</td>\n",
       "      <td>0.000000</td>\n",
       "      <td>0.000000</td>\n",
       "      <td>0.000000</td>\n",
       "      <td>0.000000</td>\n",
       "      <td>0.000000</td>\n",
       "      <td>0.000000</td>\n",
       "      <td>0.000000</td>\n",
       "    </tr>\n",
       "    <tr>\n",
       "      <th>50%</th>\n",
       "      <td>0.000000</td>\n",
       "      <td>0.367921</td>\n",
       "      <td>0.028213</td>\n",
       "      <td>0.000000</td>\n",
       "      <td>1.000000</td>\n",
       "      <td>0.000000</td>\n",
       "      <td>0.000000</td>\n",
       "      <td>1.000000</td>\n",
       "      <td>0.000000</td>\n",
       "      <td>0.000000</td>\n",
       "      <td>1.000000</td>\n",
       "      <td>0.000000</td>\n",
       "    </tr>\n",
       "    <tr>\n",
       "      <th>75%</th>\n",
       "      <td>1.000000</td>\n",
       "      <td>0.434531</td>\n",
       "      <td>0.060508</td>\n",
       "      <td>1.000000</td>\n",
       "      <td>1.000000</td>\n",
       "      <td>0.000000</td>\n",
       "      <td>0.000000</td>\n",
       "      <td>1.000000</td>\n",
       "      <td>0.000000</td>\n",
       "      <td>0.000000</td>\n",
       "      <td>1.000000</td>\n",
       "      <td>1.000000</td>\n",
       "    </tr>\n",
       "    <tr>\n",
       "      <th>max</th>\n",
       "      <td>1.000000</td>\n",
       "      <td>1.000000</td>\n",
       "      <td>1.000000</td>\n",
       "      <td>1.000000</td>\n",
       "      <td>1.000000</td>\n",
       "      <td>1.000000</td>\n",
       "      <td>1.000000</td>\n",
       "      <td>1.000000</td>\n",
       "      <td>1.000000</td>\n",
       "      <td>1.000000</td>\n",
       "      <td>1.000000</td>\n",
       "      <td>1.000000</td>\n",
       "    </tr>\n",
       "  </tbody>\n",
       "</table>\n",
       "</div>"
      ],
      "text/plain": [
       "         Survived         Age        Fare  sex_female    sex_male    Pclass_1  \\\n",
       "count  891.000000  891.000000  891.000000  891.000000  891.000000  891.000000   \n",
       "mean     0.383838    0.367921    0.062858    0.352413    0.647587    0.242424   \n",
       "std      0.486592    0.163383    0.096995    0.477990    0.477990    0.428790   \n",
       "min      0.000000    0.000000    0.000000    0.000000    0.000000    0.000000   \n",
       "25%      0.000000    0.271174    0.015440    0.000000    0.000000    0.000000   \n",
       "50%      0.000000    0.367921    0.028213    0.000000    1.000000    0.000000   \n",
       "75%      1.000000    0.434531    0.060508    1.000000    1.000000    0.000000   \n",
       "max      1.000000    1.000000    1.000000    1.000000    1.000000    1.000000   \n",
       "\n",
       "         Pclass_2    Pclass_3  Embarked_C  Embarked_Q  Embarked_S      Family  \n",
       "count  891.000000  891.000000  891.000000  891.000000  891.000000  891.000000  \n",
       "mean     0.206510    0.551066    0.188552    0.086420    0.722783    0.397306  \n",
       "std      0.405028    0.497665    0.391372    0.281141    0.447876    0.489615  \n",
       "min      0.000000    0.000000    0.000000    0.000000    0.000000    0.000000  \n",
       "25%      0.000000    0.000000    0.000000    0.000000    0.000000    0.000000  \n",
       "50%      0.000000    1.000000    0.000000    0.000000    1.000000    0.000000  \n",
       "75%      0.000000    1.000000    0.000000    0.000000    1.000000    1.000000  \n",
       "max      1.000000    1.000000    1.000000    1.000000    1.000000    1.000000  "
      ]
     },
     "execution_count": 17,
     "metadata": {},
     "output_type": "execute_result"
    }
   ],
   "source": [
    "df.describe()"
   ]
  },
  {
   "cell_type": "code",
   "execution_count": 18,
   "id": "6c4e8f7c",
   "metadata": {
    "execution": {
     "iopub.execute_input": "2022-09-17T17:40:02.848375Z",
     "iopub.status.busy": "2022-09-17T17:40:02.848094Z",
     "iopub.status.idle": "2022-09-17T17:40:02.856081Z",
     "shell.execute_reply": "2022-09-17T17:40:02.855061Z"
    },
    "papermill": {
     "duration": 0.023071,
     "end_time": "2022-09-17T17:40:02.858792",
     "exception": false,
     "start_time": "2022-09-17T17:40:02.835721",
     "status": "completed"
    },
    "tags": []
   },
   "outputs": [
    {
     "data": {
      "text/plain": [
       "Survived      0\n",
       "Age           0\n",
       "Fare          0\n",
       "sex_female    0\n",
       "sex_male      0\n",
       "Pclass_1      0\n",
       "Pclass_2      0\n",
       "Pclass_3      0\n",
       "Embarked_C    0\n",
       "Embarked_Q    0\n",
       "Embarked_S    0\n",
       "Family        0\n",
       "dtype: int64"
      ]
     },
     "execution_count": 18,
     "metadata": {},
     "output_type": "execute_result"
    }
   ],
   "source": [
    "df.isna().sum()"
   ]
  },
  {
   "cell_type": "code",
   "execution_count": 19,
   "id": "9915603d",
   "metadata": {
    "execution": {
     "iopub.execute_input": "2022-09-17T17:40:02.883484Z",
     "iopub.status.busy": "2022-09-17T17:40:02.883198Z",
     "iopub.status.idle": "2022-09-17T17:40:02.897220Z",
     "shell.execute_reply": "2022-09-17T17:40:02.896287Z"
    },
    "papermill": {
     "duration": 0.028588,
     "end_time": "2022-09-17T17:40:02.899250",
     "exception": false,
     "start_time": "2022-09-17T17:40:02.870662",
     "status": "completed"
    },
    "tags": []
   },
   "outputs": [
    {
     "data": {
      "text/html": [
       "<div>\n",
       "<style scoped>\n",
       "    .dataframe tbody tr th:only-of-type {\n",
       "        vertical-align: middle;\n",
       "    }\n",
       "\n",
       "    .dataframe tbody tr th {\n",
       "        vertical-align: top;\n",
       "    }\n",
       "\n",
       "    .dataframe thead th {\n",
       "        text-align: right;\n",
       "    }\n",
       "</style>\n",
       "<table border=\"1\" class=\"dataframe\">\n",
       "  <thead>\n",
       "    <tr style=\"text-align: right;\">\n",
       "      <th></th>\n",
       "      <th>Survived</th>\n",
       "      <th>Age</th>\n",
       "      <th>Fare</th>\n",
       "      <th>sex_female</th>\n",
       "      <th>sex_male</th>\n",
       "      <th>Pclass_1</th>\n",
       "      <th>Pclass_2</th>\n",
       "      <th>Pclass_3</th>\n",
       "      <th>Embarked_C</th>\n",
       "      <th>Embarked_Q</th>\n",
       "      <th>Embarked_S</th>\n",
       "      <th>Family</th>\n",
       "    </tr>\n",
       "    <tr>\n",
       "      <th>PassengerId</th>\n",
       "      <th></th>\n",
       "      <th></th>\n",
       "      <th></th>\n",
       "      <th></th>\n",
       "      <th></th>\n",
       "      <th></th>\n",
       "      <th></th>\n",
       "      <th></th>\n",
       "      <th></th>\n",
       "      <th></th>\n",
       "      <th></th>\n",
       "      <th></th>\n",
       "    </tr>\n",
       "  </thead>\n",
       "  <tbody>\n",
       "    <tr>\n",
       "      <th>1</th>\n",
       "      <td>0</td>\n",
       "      <td>0.271174</td>\n",
       "      <td>0.014151</td>\n",
       "      <td>0</td>\n",
       "      <td>1</td>\n",
       "      <td>0</td>\n",
       "      <td>0</td>\n",
       "      <td>1</td>\n",
       "      <td>0</td>\n",
       "      <td>0</td>\n",
       "      <td>1</td>\n",
       "      <td>1</td>\n",
       "    </tr>\n",
       "    <tr>\n",
       "      <th>2</th>\n",
       "      <td>1</td>\n",
       "      <td>0.472229</td>\n",
       "      <td>0.139136</td>\n",
       "      <td>1</td>\n",
       "      <td>0</td>\n",
       "      <td>1</td>\n",
       "      <td>0</td>\n",
       "      <td>0</td>\n",
       "      <td>1</td>\n",
       "      <td>0</td>\n",
       "      <td>0</td>\n",
       "      <td>1</td>\n",
       "    </tr>\n",
       "    <tr>\n",
       "      <th>3</th>\n",
       "      <td>1</td>\n",
       "      <td>0.321438</td>\n",
       "      <td>0.015469</td>\n",
       "      <td>1</td>\n",
       "      <td>0</td>\n",
       "      <td>0</td>\n",
       "      <td>0</td>\n",
       "      <td>1</td>\n",
       "      <td>0</td>\n",
       "      <td>0</td>\n",
       "      <td>1</td>\n",
       "      <td>0</td>\n",
       "    </tr>\n",
       "    <tr>\n",
       "      <th>4</th>\n",
       "      <td>1</td>\n",
       "      <td>0.434531</td>\n",
       "      <td>0.103644</td>\n",
       "      <td>1</td>\n",
       "      <td>0</td>\n",
       "      <td>1</td>\n",
       "      <td>0</td>\n",
       "      <td>0</td>\n",
       "      <td>0</td>\n",
       "      <td>0</td>\n",
       "      <td>1</td>\n",
       "      <td>1</td>\n",
       "    </tr>\n",
       "    <tr>\n",
       "      <th>5</th>\n",
       "      <td>0</td>\n",
       "      <td>0.434531</td>\n",
       "      <td>0.015713</td>\n",
       "      <td>0</td>\n",
       "      <td>1</td>\n",
       "      <td>0</td>\n",
       "      <td>0</td>\n",
       "      <td>1</td>\n",
       "      <td>0</td>\n",
       "      <td>0</td>\n",
       "      <td>1</td>\n",
       "      <td>0</td>\n",
       "    </tr>\n",
       "    <tr>\n",
       "      <th>6</th>\n",
       "      <td>0</td>\n",
       "      <td>0.367921</td>\n",
       "      <td>0.016510</td>\n",
       "      <td>0</td>\n",
       "      <td>1</td>\n",
       "      <td>0</td>\n",
       "      <td>0</td>\n",
       "      <td>1</td>\n",
       "      <td>0</td>\n",
       "      <td>1</td>\n",
       "      <td>0</td>\n",
       "      <td>0</td>\n",
       "    </tr>\n",
       "    <tr>\n",
       "      <th>7</th>\n",
       "      <td>0</td>\n",
       "      <td>0.673285</td>\n",
       "      <td>0.101229</td>\n",
       "      <td>0</td>\n",
       "      <td>1</td>\n",
       "      <td>1</td>\n",
       "      <td>0</td>\n",
       "      <td>0</td>\n",
       "      <td>0</td>\n",
       "      <td>0</td>\n",
       "      <td>1</td>\n",
       "      <td>0</td>\n",
       "    </tr>\n",
       "    <tr>\n",
       "      <th>8</th>\n",
       "      <td>0</td>\n",
       "      <td>0.019854</td>\n",
       "      <td>0.041136</td>\n",
       "      <td>0</td>\n",
       "      <td>1</td>\n",
       "      <td>0</td>\n",
       "      <td>0</td>\n",
       "      <td>1</td>\n",
       "      <td>0</td>\n",
       "      <td>0</td>\n",
       "      <td>1</td>\n",
       "      <td>1</td>\n",
       "    </tr>\n",
       "    <tr>\n",
       "      <th>9</th>\n",
       "      <td>1</td>\n",
       "      <td>0.334004</td>\n",
       "      <td>0.021731</td>\n",
       "      <td>1</td>\n",
       "      <td>0</td>\n",
       "      <td>0</td>\n",
       "      <td>0</td>\n",
       "      <td>1</td>\n",
       "      <td>0</td>\n",
       "      <td>0</td>\n",
       "      <td>1</td>\n",
       "      <td>1</td>\n",
       "    </tr>\n",
       "    <tr>\n",
       "      <th>10</th>\n",
       "      <td>1</td>\n",
       "      <td>0.170646</td>\n",
       "      <td>0.058694</td>\n",
       "      <td>1</td>\n",
       "      <td>0</td>\n",
       "      <td>0</td>\n",
       "      <td>1</td>\n",
       "      <td>0</td>\n",
       "      <td>1</td>\n",
       "      <td>0</td>\n",
       "      <td>0</td>\n",
       "      <td>1</td>\n",
       "    </tr>\n",
       "  </tbody>\n",
       "</table>\n",
       "</div>"
      ],
      "text/plain": [
       "             Survived       Age      Fare  sex_female  sex_male  Pclass_1  \\\n",
       "PassengerId                                                                 \n",
       "1                   0  0.271174  0.014151           0         1         0   \n",
       "2                   1  0.472229  0.139136           1         0         1   \n",
       "3                   1  0.321438  0.015469           1         0         0   \n",
       "4                   1  0.434531  0.103644           1         0         1   \n",
       "5                   0  0.434531  0.015713           0         1         0   \n",
       "6                   0  0.367921  0.016510           0         1         0   \n",
       "7                   0  0.673285  0.101229           0         1         1   \n",
       "8                   0  0.019854  0.041136           0         1         0   \n",
       "9                   1  0.334004  0.021731           1         0         0   \n",
       "10                  1  0.170646  0.058694           1         0         0   \n",
       "\n",
       "             Pclass_2  Pclass_3  Embarked_C  Embarked_Q  Embarked_S  Family  \n",
       "PassengerId                                                                  \n",
       "1                   0         1           0           0           1       1  \n",
       "2                   0         0           1           0           0       1  \n",
       "3                   0         1           0           0           1       0  \n",
       "4                   0         0           0           0           1       1  \n",
       "5                   0         1           0           0           1       0  \n",
       "6                   0         1           0           1           0       0  \n",
       "7                   0         0           0           0           1       0  \n",
       "8                   0         1           0           0           1       1  \n",
       "9                   0         1           0           0           1       1  \n",
       "10                  1         0           1           0           0       1  "
      ]
     },
     "execution_count": 19,
     "metadata": {},
     "output_type": "execute_result"
    }
   ],
   "source": [
    "df[:10]"
   ]
  },
  {
   "cell_type": "code",
   "execution_count": 20,
   "id": "eec40326",
   "metadata": {
    "execution": {
     "iopub.execute_input": "2022-09-17T17:40:02.924815Z",
     "iopub.status.busy": "2022-09-17T17:40:02.923912Z",
     "iopub.status.idle": "2022-09-17T17:40:03.866427Z",
     "shell.execute_reply": "2022-09-17T17:40:03.865479Z"
    },
    "papermill": {
     "duration": 0.958078,
     "end_time": "2022-09-17T17:40:03.869298",
     "exception": false,
     "start_time": "2022-09-17T17:40:02.911220",
     "status": "completed"
    },
    "tags": []
   },
   "outputs": [
    {
     "data": {
      "text/plain": [
       "(12.5, -0.5)"
      ]
     },
     "execution_count": 20,
     "metadata": {},
     "output_type": "execute_result"
    },
    {
     "data": {
      "image/png": "[encoded data removed]",
      "text/plain": [
       "<Figure size 1080x720 with 2 Axes>"
      ]
     },
     "metadata": {
      "needs_background": "light"
     },
     "output_type": "display_data"
    }
   ],
   "source": [
    "corr_matrix = df.corr()\n",
    "fig, ax = plt.subplots(figsize=(15,10))\n",
    "ax = sns.heatmap(\n",
    "            corr_matrix,\n",
    "            annot=True,\n",
    "            linewidths=0.5,\n",
    "            fmt=\".2f\",\n",
    "            cmap=\"YlGnBu\"\n",
    ")\n",
    "\n",
    "bottom, top = ax.get_ylim()\n",
    "ax.set_ylim(bottom + 0.5, top - 0.5)"
   ]
  },
  {
   "cell_type": "markdown",
   "id": "09240903",
   "metadata": {
    "papermill": {
     "duration": 0.013678,
     "end_time": "2022-09-17T17:40:03.896842",
     "exception": false,
     "start_time": "2022-09-17T17:40:03.883164",
     "status": "completed"
    },
    "tags": []
   },
   "source": [
    "### Creating Train and Test Split"
   ]
  },
  {
   "cell_type": "markdown",
   "id": "46b67ce2",
   "metadata": {
    "papermill": {
     "duration": 0.013003,
     "end_time": "2022-09-17T17:40:03.923096",
     "exception": false,
     "start_time": "2022-09-17T17:40:03.910093",
     "status": "completed"
    },
    "tags": []
   },
   "source": [
    "In order to be able to test both versions of data sets (feature importance filtered fewer data and the base data set) two versions of X, and y data were created. "
   ]
  },
  {
   "cell_type": "code",
   "execution_count": 21,
   "id": "04fc3957",
   "metadata": {
    "execution": {
     "iopub.execute_input": "2022-09-17T17:40:03.951386Z",
     "iopub.status.busy": "2022-09-17T17:40:03.951043Z",
     "iopub.status.idle": "2022-09-17T17:40:03.957872Z",
     "shell.execute_reply": "2022-09-17T17:40:03.956979Z"
    },
    "papermill": {
     "duration": 0.023252,
     "end_time": "2022-09-17T17:40:03.959980",
     "exception": false,
     "start_time": "2022-09-17T17:40:03.936728",
     "status": "completed"
    },
    "tags": []
   },
   "outputs": [],
   "source": [
    "X = df.drop(\"Survived\", axis=1)\n",
    "y = df[\"Survived\"]\n",
    "X_less = df_less.drop(\"Survived\", axis=1)\n",
    "y_less = df_less[\"Survived\"]"
   ]
  },
  {
   "cell_type": "code",
   "execution_count": 22,
   "id": "abe0034c",
   "metadata": {
    "execution": {
     "iopub.execute_input": "2022-09-17T17:40:03.987421Z",
     "iopub.status.busy": "2022-09-17T17:40:03.987134Z",
     "iopub.status.idle": "2022-09-17T17:40:03.995956Z",
     "shell.execute_reply": "2022-09-17T17:40:03.994978Z"
    },
    "papermill": {
     "duration": 0.024752,
     "end_time": "2022-09-17T17:40:03.997917",
     "exception": false,
     "start_time": "2022-09-17T17:40:03.973165",
     "status": "completed"
    },
    "tags": []
   },
   "outputs": [
    {
     "data": {
      "text/plain": [
       "(712, 179, 712, 179)"
      ]
     },
     "execution_count": 22,
     "metadata": {},
     "output_type": "execute_result"
    }
   ],
   "source": [
    "# Original data set\n",
    "X_train, X_val, y_train, y_val = train_test_split(X, y, test_size=0.2, random_state=883)\n",
    "len(X_train), len(X_val), len(y_train), len(y_val)"
   ]
  },
  {
   "cell_type": "code",
   "execution_count": 23,
   "id": "694eaa73",
   "metadata": {
    "execution": {
     "iopub.execute_input": "2022-09-17T17:40:04.025790Z",
     "iopub.status.busy": "2022-09-17T17:40:04.025495Z",
     "iopub.status.idle": "2022-09-17T17:40:04.034046Z",
     "shell.execute_reply": "2022-09-17T17:40:04.033065Z"
    },
    "papermill": {
     "duration": 0.024784,
     "end_time": "2022-09-17T17:40:04.036012",
     "exception": false,
     "start_time": "2022-09-17T17:40:04.011228",
     "status": "completed"
    },
    "tags": []
   },
   "outputs": [
    {
     "data": {
      "text/plain": [
       "(712, 179, 712, 179)"
      ]
     },
     "execution_count": 23,
     "metadata": {},
     "output_type": "execute_result"
    }
   ],
   "source": [
    "# Feature importance based data set\n",
    "X_train_less, X_val_less, y_train_less, y_val_less = train_test_split(X_less, y_less, test_size=0.2, random_state=883)\n",
    "len(X_train_less), len(X_val_less), len(y_train_less), len(y_val_less)"
   ]
  },
  {
   "cell_type": "markdown",
   "id": "8d4b18e1",
   "metadata": {
    "papermill": {
     "duration": 0.013233,
     "end_time": "2022-09-17T17:40:04.062717",
     "exception": false,
     "start_time": "2022-09-17T17:40:04.049484",
     "status": "completed"
    },
    "tags": []
   },
   "source": [
    "# Modelling"
   ]
  },
  {
   "cell_type": "markdown",
   "id": "10d0feb8",
   "metadata": {
    "papermill": {
     "duration": 0.013045,
     "end_time": "2022-09-17T17:40:04.089103",
     "exception": false,
     "start_time": "2022-09-17T17:40:04.076058",
     "status": "completed"
    },
    "tags": []
   },
   "source": [
    "### BASELINE_models"
   ]
  },
  {
   "cell_type": "code",
   "execution_count": 24,
   "id": "5bda3b69",
   "metadata": {
    "execution": {
     "iopub.execute_input": "2022-09-17T17:40:04.118092Z",
     "iopub.status.busy": "2022-09-17T17:40:04.117266Z",
     "iopub.status.idle": "2022-09-17T17:40:04.320195Z",
     "shell.execute_reply": "2022-09-17T17:40:04.319090Z"
    },
    "papermill": {
     "duration": 0.220015,
     "end_time": "2022-09-17T17:40:04.322426",
     "exception": false,
     "start_time": "2022-09-17T17:40:04.102411",
     "status": "completed"
    },
    "tags": []
   },
   "outputs": [
    {
     "data": {
      "text/plain": [
       "{'KNN': 0.7206703910614525,\n",
       " 'Linear': 0.7206703910614525,\n",
       " 'RFC': 0.7486033519553073}"
      ]
     },
     "execution_count": 24,
     "metadata": {},
     "output_type": "execute_result"
    }
   ],
   "source": [
    "models = {\n",
    "    \"KNN\": KNeighborsClassifier(),\n",
    "    \"Linear\": LogisticRegression(),\n",
    "    \"RFC\": RandomForestClassifier()\n",
    "}\n",
    "\n",
    "model_scores = fit_and_score(models=models, \n",
    "                          X_train=X_train, \n",
    "                          X_val=X_val, \n",
    "                          y_train=y_train, \n",
    "                          y_val=y_val)\n",
    "model_scores"
   ]
  },
  {
   "cell_type": "markdown",
   "id": "e40fe6c3",
   "metadata": {
    "papermill": {
     "duration": 0.013462,
     "end_time": "2022-09-17T17:40:04.350016",
     "exception": false,
     "start_time": "2022-09-17T17:40:04.336554",
     "status": "completed"
    },
    "tags": []
   },
   "source": [
    "### MODEL_1: Random Forest Classifier"
   ]
  },
  {
   "cell_type": "code",
   "execution_count": 25,
   "id": "b7759d05",
   "metadata": {
    "execution": {
     "iopub.execute_input": "2022-09-17T17:40:04.379253Z",
     "iopub.status.busy": "2022-09-17T17:40:04.378914Z",
     "iopub.status.idle": "2022-09-17T17:43:20.848681Z",
     "shell.execute_reply": "2022-09-17T17:43:20.844090Z"
    },
    "papermill": {
     "duration": 196.498119,
     "end_time": "2022-09-17T17:43:20.862269",
     "exception": false,
     "start_time": "2022-09-17T17:40:04.364150",
     "status": "completed"
    },
    "tags": []
   },
   "outputs": [
    {
     "name": "stdout",
     "output_type": "stream",
     "text": [
      "RandomForestClassifier(max_depth=80, max_features=2, min_samples_leaf=5,\n",
      "                       min_samples_split=12)\n",
      "0.770949720670391\n"
     ]
    }
   ],
   "source": [
    "# initial parameter to GridSearchCV\n",
    "params = {\n",
    "    'bootstrap': [True],\n",
    "    'max_depth': [80, 110],\n",
    "    'max_features': [2, 3],\n",
    "    'min_samples_leaf': [3, 5],\n",
    "    'min_samples_split': [8, 12],\n",
    "    'n_estimators': [100, 500, 1000]\n",
    "}\n",
    "\n",
    "# creating model\n",
    "model_1_rfc = RandomForestClassifier()\n",
    "\n",
    "GS_model_1_rfc = GridSearchCV(estimator=model_1_rfc,\n",
    "                     param_grid=params,\n",
    "                     cv=5)\n",
    "\n",
    "# fit the model\n",
    "GS_model_1_rfc.fit(X_train, y_train)\n",
    "\n",
    "# pick the best model \n",
    "model_1_rfc_best = GS_model_1_rfc.best_estimator_\n",
    "print(model_1_rfc_best)\n",
    "\n",
    "# evaluate on validation data\n",
    "print(model_1_rfc_best.score(X_val, y_val))\n",
    "\n",
    "# predict\n",
    "model_1_predictions = model_1_rfc_best.predict(df_test)\n"
   ]
  },
  {
   "cell_type": "code",
   "execution_count": 26,
   "id": "401a18b1",
   "metadata": {
    "execution": {
     "iopub.execute_input": "2022-09-17T17:43:20.891849Z",
     "iopub.status.busy": "2022-09-17T17:43:20.891531Z",
     "iopub.status.idle": "2022-09-17T17:43:21.193205Z",
     "shell.execute_reply": "2022-09-17T17:43:21.192306Z"
    },
    "papermill": {
     "duration": 0.318553,
     "end_time": "2022-09-17T17:43:21.195390",
     "exception": false,
     "start_time": "2022-09-17T17:43:20.876837",
     "status": "completed"
    },
    "tags": []
   },
   "outputs": [
    {
     "data": {
      "image/png": "[encoded data removed]",
      "text/plain": [
       "<Figure size 432x288 with 1 Axes>"
      ]
     },
     "metadata": {
      "needs_background": "light"
     },
     "output_type": "display_data"
    }
   ],
   "source": [
    "# get the feature importance see the bigger picture\n",
    "feature_importance = model_1_rfc_best.feature_importances_\n",
    "std = np.std([tree.feature_importances_ for tree in model_1_rfc_best.estimators_], axis=0)\n",
    "feature_names = [i for i in X_train]\n",
    "\n",
    "forest_importances = pd.Series(feature_importance, index=feature_names)\n",
    "\n",
    "fig, ax = plt.subplots()\n",
    "forest_importances.plot.bar(yerr=std, ax=ax)\n",
    "ax.set_title(\"Feature importances using MDI\")\n",
    "ax.set_ylabel(\"Mean decrease in impurity\")\n",
    "fig.tight_layout()"
   ]
  },
  {
   "cell_type": "code",
   "execution_count": 27,
   "id": "c780e21e",
   "metadata": {
    "execution": {
     "iopub.execute_input": "2022-09-17T17:43:21.225332Z",
     "iopub.status.busy": "2022-09-17T17:43:21.224919Z",
     "iopub.status.idle": "2022-09-17T17:43:21.228942Z",
     "shell.execute_reply": "2022-09-17T17:43:21.227911Z"
    },
    "papermill": {
     "duration": 0.021305,
     "end_time": "2022-09-17T17:43:21.231011",
     "exception": false,
     "start_time": "2022-09-17T17:43:21.209706",
     "status": "completed"
    },
    "tags": []
   },
   "outputs": [],
   "source": [
    "# print(classification_report(y_test, y_preds))"
   ]
  },
  {
   "cell_type": "markdown",
   "id": "e1f31e88",
   "metadata": {
    "papermill": {
     "duration": 0.014237,
     "end_time": "2022-09-17T17:43:21.259161",
     "exception": false,
     "start_time": "2022-09-17T17:43:21.244924",
     "status": "completed"
    },
    "tags": []
   },
   "source": [
    "### Model_2: Random Forest Classifier \n",
    "**trained on less data with feature importance**"
   ]
  },
  {
   "cell_type": "code",
   "execution_count": 28,
   "id": "31037d7c",
   "metadata": {
    "execution": {
     "iopub.execute_input": "2022-09-17T17:43:21.289012Z",
     "iopub.status.busy": "2022-09-17T17:43:21.288067Z",
     "iopub.status.idle": "2022-09-17T17:46:48.384326Z",
     "shell.execute_reply": "2022-09-17T17:46:48.383296Z"
    },
    "papermill": {
     "duration": 207.113805,
     "end_time": "2022-09-17T17:46:48.386941",
     "exception": false,
     "start_time": "2022-09-17T17:43:21.273136",
     "status": "completed"
    },
    "tags": []
   },
   "outputs": [],
   "source": [
    "# create model \n",
    "model_2_rfc = RandomForestClassifier()\n",
    "GS_model_2_rfc = GridSearchCV(estimator=model_2_rfc, \n",
    "                              cv=5, \n",
    "                              param_grid=params )\n",
    "\n",
    "# fit the model on less more important features\n",
    "GS_model_2_rfc.fit(X_train_less, y_train_less )\n",
    "\n",
    "# pick the best estimator\n",
    "model_2_rfc_fi_best = GS_model_2_rfc.best_estimator_\n",
    "\n",
    "# evaluate the model on validation data\n",
    "model_2_rfc_fi_best.score(X_val_less, y_val_less)\n",
    "\n",
    "# predict on Kaggle test data\n",
    "model_2_predictions = model_2_rfc_fi_best.predict(df_less_test)"
   ]
  },
  {
   "cell_type": "markdown",
   "id": "13dd8fbd",
   "metadata": {
    "papermill": {
     "duration": 0.013694,
     "end_time": "2022-09-17T17:46:48.415494",
     "exception": false,
     "start_time": "2022-09-17T17:46:48.401800",
     "status": "completed"
    },
    "tags": []
   },
   "source": [
    "### MODEL_3: Simple DENSE model"
   ]
  },
  {
   "cell_type": "code",
   "execution_count": 29,
   "id": "adc34b72",
   "metadata": {
    "execution": {
     "iopub.execute_input": "2022-09-17T17:46:48.445823Z",
     "iopub.status.busy": "2022-09-17T17:46:48.445497Z",
     "iopub.status.idle": "2022-09-17T17:47:33.135991Z",
     "shell.execute_reply": "2022-09-17T17:47:33.135001Z"
    },
    "papermill": {
     "duration": 44.736724,
     "end_time": "2022-09-17T17:47:33.166705",
     "exception": false,
     "start_time": "2022-09-17T17:46:48.429981",
     "status": "completed"
    },
    "tags": []
   },
   "outputs": [
    {
     "name": "stderr",
     "output_type": "stream",
     "text": [
      "2022-09-17 17:46:48.541927: I tensorflow/stream_executor/cuda/cuda_gpu_executor.cc:937] successful NUMA node read from SysFS had negative value (-1), but there must be at least one NUMA node, so returning NUMA node zero\n",
      "2022-09-17 17:46:48.662722: I tensorflow/stream_executor/cuda/cuda_gpu_executor.cc:937] successful NUMA node read from SysFS had negative value (-1), but there must be at least one NUMA node, so returning NUMA node zero\n",
      "2022-09-17 17:46:48.663561: I tensorflow/stream_executor/cuda/cuda_gpu_executor.cc:937] successful NUMA node read from SysFS had negative value (-1), but there must be at least one NUMA node, so returning NUMA node zero\n",
      "2022-09-17 17:46:48.665310: I tensorflow/core/platform/cpu_feature_guard.cc:142] This TensorFlow binary is optimized with oneAPI Deep Neural Network Library (oneDNN) to use the following CPU instructions in performance-critical operations:  AVX2 AVX512F FMA\n",
      "To enable them in other operations, rebuild TensorFlow with the appropriate compiler flags.\n",
      "2022-09-17 17:46:48.665717: I tensorflow/stream_executor/cuda/cuda_gpu_executor.cc:937] successful NUMA node read from SysFS had negative value (-1), but there must be at least one NUMA node, so returning NUMA node zero\n",
      "2022-09-17 17:46:48.666832: I tensorflow/stream_executor/cuda/cuda_gpu_executor.cc:937] successful NUMA node read from SysFS had negative value (-1), but there must be at least one NUMA node, so returning NUMA node zero\n",
      "2022-09-17 17:46:48.667952: I tensorflow/stream_executor/cuda/cuda_gpu_executor.cc:937] successful NUMA node read from SysFS had negative value (-1), but there must be at least one NUMA node, so returning NUMA node zero\n",
      "2022-09-17 17:46:50.855467: I tensorflow/stream_executor/cuda/cuda_gpu_executor.cc:937] successful NUMA node read from SysFS had negative value (-1), but there must be at least one NUMA node, so returning NUMA node zero\n",
      "2022-09-17 17:46:50.856351: I tensorflow/stream_executor/cuda/cuda_gpu_executor.cc:937] successful NUMA node read from SysFS had negative value (-1), but there must be at least one NUMA node, so returning NUMA node zero\n",
      "2022-09-17 17:46:50.857048: I tensorflow/stream_executor/cuda/cuda_gpu_executor.cc:937] successful NUMA node read from SysFS had negative value (-1), but there must be at least one NUMA node, so returning NUMA node zero\n",
      "2022-09-17 17:46:50.857658: I tensorflow/core/common_runtime/gpu/gpu_device.cc:1510] Created device /job:localhost/replica:0/task:0/device:GPU:0 with 15401 MB memory:  -> device: 0, name: Tesla P100-PCIE-16GB, pci bus id: 0000:00:04.0, compute capability: 6.0\n",
      "2022-09-17 17:46:51.353300: I tensorflow/compiler/mlir/mlir_graph_optimization_pass.cc:185] None of the MLIR Optimization Passes are enabled (registered 2)\n"
     ]
    },
    {
     "name": "stdout",
     "output_type": "stream",
     "text": [
      "Epoch 1/100\n",
      "23/23 [==============================] - 2s 20ms/step - loss: 0.5186 - accuracy: 0.7626 - precision: 0.7614 - recall: 0.5515 - val_loss: 0.6484 - val_accuracy: 0.7486 - val_precision: 0.8571 - val_recall: 0.4286\n",
      "\n",
      "Epoch 00001: val_loss improved from inf to 0.64837, saving model to model_experiment/model_3_sdense\n"
     ]
    },
    {
     "name": "stderr",
     "output_type": "stream",
     "text": [
      "2022-09-17 17:46:53.944819: W tensorflow/python/util/util.cc:348] Sets are not currently considered sequences, but this may change in the future, so consider avoiding using them.\n"
     ]
    },
    {
     "name": "stdout",
     "output_type": "stream",
     "text": [
      "Epoch 2/100\n",
      "23/23 [==============================] - 0s 5ms/step - loss: 0.4413 - accuracy: 0.8132 - precision: 0.8294 - recall: 0.6434 - val_loss: 0.5832 - val_accuracy: 0.7486 - val_precision: 0.8571 - val_recall: 0.4286\n",
      "\n",
      "Epoch 00002: val_loss improved from 0.64837 to 0.58317, saving model to model_experiment/model_3_sdense\n",
      "Epoch 3/100\n",
      "23/23 [==============================] - 0s 5ms/step - loss: 0.4230 - accuracy: 0.8287 - precision: 0.8505 - recall: 0.6691 - val_loss: 0.5490 - val_accuracy: 0.7430 - val_precision: 0.8529 - val_recall: 0.4143\n",
      "\n",
      "Epoch 00003: val_loss improved from 0.58317 to 0.54899, saving model to model_experiment/model_3_sdense\n",
      "Epoch 4/100\n",
      "23/23 [==============================] - 0s 5ms/step - loss: 0.4210 - accuracy: 0.8244 - precision: 0.8451 - recall: 0.6618 - val_loss: 0.5262 - val_accuracy: 0.7486 - val_precision: 0.8571 - val_recall: 0.4286\n",
      "\n",
      "Epoch 00004: val_loss improved from 0.54899 to 0.52616, saving model to model_experiment/model_3_sdense\n",
      "Epoch 5/100\n",
      "23/23 [==============================] - 0s 5ms/step - loss: 0.4198 - accuracy: 0.8272 - precision: 0.8670 - recall: 0.6471 - val_loss: 0.5811 - val_accuracy: 0.7486 - val_precision: 0.8571 - val_recall: 0.4286\n",
      "\n",
      "Epoch 00005: val_loss did not improve from 0.52616\n",
      "Epoch 6/100\n",
      "23/23 [==============================] - 0s 5ms/step - loss: 0.4116 - accuracy: 0.8287 - precision: 0.8571 - recall: 0.6618 - val_loss: 0.5226 - val_accuracy: 0.7486 - val_precision: 0.8049 - val_recall: 0.4714\n",
      "\n",
      "Epoch 00006: val_loss improved from 0.52616 to 0.52258, saving model to model_experiment/model_3_sdense\n",
      "Epoch 7/100\n",
      "23/23 [==============================] - 0s 5ms/step - loss: 0.4090 - accuracy: 0.8343 - precision: 0.8738 - recall: 0.6618 - val_loss: 0.5137 - val_accuracy: 0.7486 - val_precision: 0.8378 - val_recall: 0.4429\n",
      "\n",
      "Epoch 00007: val_loss improved from 0.52258 to 0.51373, saving model to model_experiment/model_3_sdense\n",
      "Epoch 8/100\n",
      "23/23 [==============================] - 0s 5ms/step - loss: 0.4004 - accuracy: 0.8427 - precision: 0.8774 - recall: 0.6838 - val_loss: 0.5510 - val_accuracy: 0.7430 - val_precision: 0.8158 - val_recall: 0.4429\n",
      "\n",
      "Epoch 00008: val_loss did not improve from 0.51373\n",
      "Epoch 9/100\n",
      "23/23 [==============================] - 0s 5ms/step - loss: 0.4000 - accuracy: 0.8329 - precision: 0.8341 - recall: 0.7022 - val_loss: 0.5144 - val_accuracy: 0.7542 - val_precision: 0.8421 - val_recall: 0.4571\n",
      "\n",
      "Epoch 00009: val_loss did not improve from 0.51373\n",
      "Epoch 10/100\n",
      "23/23 [==============================] - 0s 5ms/step - loss: 0.4031 - accuracy: 0.8329 - precision: 0.8732 - recall: 0.6581 - val_loss: 0.5236 - val_accuracy: 0.7486 - val_precision: 0.8205 - val_recall: 0.4571\n",
      "\n",
      "Epoch 00010: val_loss did not improve from 0.51373\n",
      "Epoch 11/100\n",
      "23/23 [==============================] - 0s 5ms/step - loss: 0.3978 - accuracy: 0.8385 - precision: 0.8756 - recall: 0.6728 - val_loss: 0.5372 - val_accuracy: 0.7542 - val_precision: 0.8421 - val_recall: 0.4571\n",
      "\n",
      "Epoch 00011: val_loss did not improve from 0.51373\n",
      "Epoch 12/100\n",
      "23/23 [==============================] - 0s 5ms/step - loss: 0.3901 - accuracy: 0.8413 - precision: 0.8630 - recall: 0.6949 - val_loss: 0.5224 - val_accuracy: 0.7542 - val_precision: 0.8421 - val_recall: 0.4571\n",
      "\n",
      "Epoch 00012: val_loss did not improve from 0.51373\n",
      "Epoch 13/100\n",
      "23/23 [==============================] - 0s 5ms/step - loss: 0.3983 - accuracy: 0.8413 - precision: 0.8841 - recall: 0.6728 - val_loss: 0.5385 - val_accuracy: 0.7430 - val_precision: 0.7857 - val_recall: 0.4714\n",
      "\n",
      "Epoch 00013: val_loss did not improve from 0.51373\n",
      "Epoch 14/100\n",
      "23/23 [==============================] - 0s 5ms/step - loss: 0.3915 - accuracy: 0.8399 - precision: 0.8692 - recall: 0.6838 - val_loss: 0.5437 - val_accuracy: 0.7430 - val_precision: 0.8333 - val_recall: 0.4286\n",
      "\n",
      "Epoch 00014: val_loss did not improve from 0.51373\n",
      "Epoch 15/100\n",
      "23/23 [==============================] - 0s 5ms/step - loss: 0.3894 - accuracy: 0.8301 - precision: 0.8647 - recall: 0.6581 - val_loss: 0.5091 - val_accuracy: 0.7598 - val_precision: 0.8462 - val_recall: 0.4714\n",
      "\n",
      "Epoch 00015: val_loss improved from 0.51373 to 0.50913, saving model to model_experiment/model_3_sdense\n",
      "Epoch 16/100\n",
      "23/23 [==============================] - 0s 5ms/step - loss: 0.3947 - accuracy: 0.8329 - precision: 0.8400 - recall: 0.6949 - val_loss: 0.5501 - val_accuracy: 0.7542 - val_precision: 0.8421 - val_recall: 0.4571\n",
      "\n",
      "Epoch 00016: val_loss did not improve from 0.50913\n",
      "Epoch 17/100\n",
      "23/23 [==============================] - 0s 5ms/step - loss: 0.3867 - accuracy: 0.8413 - precision: 0.8664 - recall: 0.6912 - val_loss: 0.5578 - val_accuracy: 0.7542 - val_precision: 0.8611 - val_recall: 0.4429\n",
      "\n",
      "Epoch 00017: val_loss did not improve from 0.50913\n",
      "Epoch 18/100\n",
      "23/23 [==============================] - 0s 5ms/step - loss: 0.3782 - accuracy: 0.8413 - precision: 0.8597 - recall: 0.6985 - val_loss: 0.5282 - val_accuracy: 0.7542 - val_precision: 0.8421 - val_recall: 0.4571\n",
      "\n",
      "Epoch 00018: val_loss did not improve from 0.50913\n",
      "Epoch 19/100\n",
      "23/23 [==============================] - 0s 5ms/step - loss: 0.3790 - accuracy: 0.8399 - precision: 0.8657 - recall: 0.6875 - val_loss: 0.5320 - val_accuracy: 0.7374 - val_precision: 0.7255 - val_recall: 0.5286\n",
      "\n",
      "Epoch 00019: val_loss did not improve from 0.50913\n",
      "Epoch 20/100\n",
      "23/23 [==============================] - 0s 5ms/step - loss: 0.3921 - accuracy: 0.8371 - precision: 0.8545 - recall: 0.6912 - val_loss: 0.5293 - val_accuracy: 0.7486 - val_precision: 0.8049 - val_recall: 0.4714\n",
      "\n",
      "Epoch 00020: val_loss did not improve from 0.50913\n",
      "Epoch 21/100\n",
      "23/23 [==============================] - 0s 5ms/step - loss: 0.3812 - accuracy: 0.8441 - precision: 0.8779 - recall: 0.6875 - val_loss: 0.5280 - val_accuracy: 0.7486 - val_precision: 0.8378 - val_recall: 0.4429\n",
      "\n",
      "Epoch 00021: val_loss did not improve from 0.50913\n",
      "Epoch 22/100\n",
      "23/23 [==============================] - 0s 5ms/step - loss: 0.3809 - accuracy: 0.8469 - precision: 0.8863 - recall: 0.6875 - val_loss: 0.5471 - val_accuracy: 0.7486 - val_precision: 0.8205 - val_recall: 0.4571\n",
      "\n",
      "Epoch 00022: val_loss did not improve from 0.50913\n",
      "Epoch 23/100\n",
      "23/23 [==============================] - 0s 5ms/step - loss: 0.3861 - accuracy: 0.8357 - precision: 0.8673 - recall: 0.6728 - val_loss: 0.5307 - val_accuracy: 0.7598 - val_precision: 0.8649 - val_recall: 0.4571\n",
      "\n",
      "Epoch 00023: val_loss did not improve from 0.50913\n",
      "Epoch 24/100\n",
      "23/23 [==============================] - 0s 5ms/step - loss: 0.3860 - accuracy: 0.8385 - precision: 0.8520 - recall: 0.6985 - val_loss: 0.5306 - val_accuracy: 0.7318 - val_precision: 0.7500 - val_recall: 0.4714\n",
      "\n",
      "Epoch 00024: val_loss did not improve from 0.50913\n",
      "Epoch 25/100\n",
      "23/23 [==============================] - 0s 5ms/step - loss: 0.3766 - accuracy: 0.8455 - precision: 0.8716 - recall: 0.6985 - val_loss: 0.5190 - val_accuracy: 0.7374 - val_precision: 0.7255 - val_recall: 0.5286\n",
      "\n",
      "Epoch 00025: val_loss did not improve from 0.50913\n",
      "Epoch 26/100\n",
      "23/23 [==============================] - 0s 5ms/step - loss: 0.3902 - accuracy: 0.8427 - precision: 0.8509 - recall: 0.7132 - val_loss: 0.5599 - val_accuracy: 0.7654 - val_precision: 0.8684 - val_recall: 0.4714\n",
      "\n",
      "Epoch 00026: val_loss did not improve from 0.50913\n",
      "Epoch 27/100\n",
      "23/23 [==============================] - 0s 5ms/step - loss: 0.3745 - accuracy: 0.8469 - precision: 0.8756 - recall: 0.6985 - val_loss: 0.5302 - val_accuracy: 0.7263 - val_precision: 0.7143 - val_recall: 0.5000\n",
      "\n",
      "Epoch 00027: val_loss did not improve from 0.50913\n",
      "Epoch 28/100\n",
      "23/23 [==============================] - 0s 5ms/step - loss: 0.3797 - accuracy: 0.8427 - precision: 0.8738 - recall: 0.6875 - val_loss: 0.5385 - val_accuracy: 0.7374 - val_precision: 0.7556 - val_recall: 0.4857\n",
      "\n",
      "Epoch 00028: val_loss did not improve from 0.50913\n",
      "Epoch 29/100\n",
      "23/23 [==============================] - 0s 5ms/step - loss: 0.3753 - accuracy: 0.8427 - precision: 0.8604 - recall: 0.7022 - val_loss: 0.5337 - val_accuracy: 0.7374 - val_precision: 0.7556 - val_recall: 0.4857\n",
      "\n",
      "Epoch 00029: val_loss did not improve from 0.50913\n",
      "Epoch 30/100\n",
      "23/23 [==============================] - 0s 5ms/step - loss: 0.3779 - accuracy: 0.8427 - precision: 0.8571 - recall: 0.7059 - val_loss: 0.5383 - val_accuracy: 0.7486 - val_precision: 0.8571 - val_recall: 0.4286\n",
      "\n",
      "Epoch 00030: val_loss did not improve from 0.50913\n",
      "Epoch 31/100\n",
      "23/23 [==============================] - 0s 5ms/step - loss: 0.3812 - accuracy: 0.8371 - precision: 0.8824 - recall: 0.6618 - val_loss: 0.5273 - val_accuracy: 0.7374 - val_precision: 0.7255 - val_recall: 0.5286\n",
      "\n",
      "Epoch 00031: val_loss did not improve from 0.50913\n",
      "Epoch 32/100\n",
      "23/23 [==============================] - 0s 5ms/step - loss: 0.3748 - accuracy: 0.8399 - precision: 0.8692 - recall: 0.6838 - val_loss: 0.5534 - val_accuracy: 0.7598 - val_precision: 0.8649 - val_recall: 0.4571\n",
      "\n",
      "Epoch 00032: val_loss did not improve from 0.50913\n",
      "Epoch 33/100\n",
      "23/23 [==============================] - 0s 5ms/step - loss: 0.3670 - accuracy: 0.8581 - precision: 0.8869 - recall: 0.7206 - val_loss: 0.5433 - val_accuracy: 0.7374 - val_precision: 0.7447 - val_recall: 0.5000\n",
      "\n",
      "Epoch 00033: val_loss did not improve from 0.50913\n",
      "Epoch 34/100\n",
      "23/23 [==============================] - 0s 5ms/step - loss: 0.3738 - accuracy: 0.8441 - precision: 0.8744 - recall: 0.6912 - val_loss: 0.5502 - val_accuracy: 0.7318 - val_precision: 0.7391 - val_recall: 0.4857\n",
      "\n",
      "Epoch 00034: val_loss did not improve from 0.50913\n",
      "Epoch 35/100\n",
      "23/23 [==============================] - 0s 5ms/step - loss: 0.3706 - accuracy: 0.8399 - precision: 0.8591 - recall: 0.6949 - val_loss: 0.5312 - val_accuracy: 0.7598 - val_precision: 0.8462 - val_recall: 0.4714\n",
      "\n",
      "Epoch 00035: val_loss did not improve from 0.50913\n",
      "Epoch 36/100\n",
      "23/23 [==============================] - 0s 5ms/step - loss: 0.3645 - accuracy: 0.8469 - precision: 0.8826 - recall: 0.6912 - val_loss: 0.5455 - val_accuracy: 0.7430 - val_precision: 0.7727 - val_recall: 0.4857\n",
      "\n",
      "Epoch 00036: val_loss did not improve from 0.50913\n",
      "Epoch 37/100\n",
      "23/23 [==============================] - 0s 5ms/step - loss: 0.3739 - accuracy: 0.8455 - precision: 0.8750 - recall: 0.6949 - val_loss: 0.5581 - val_accuracy: 0.7542 - val_precision: 0.8611 - val_recall: 0.4429\n",
      "\n",
      "Epoch 00037: val_loss did not improve from 0.50913\n",
      "Epoch 38/100\n",
      "23/23 [==============================] - 0s 5ms/step - loss: 0.3676 - accuracy: 0.8399 - precision: 0.8591 - recall: 0.6949 - val_loss: 0.5229 - val_accuracy: 0.7374 - val_precision: 0.7447 - val_recall: 0.5000\n",
      "\n",
      "Epoch 00038: val_loss did not improve from 0.50913\n",
      "Epoch 39/100\n",
      "23/23 [==============================] - 0s 5ms/step - loss: 0.3670 - accuracy: 0.8469 - precision: 0.8863 - recall: 0.6875 - val_loss: 0.5552 - val_accuracy: 0.7542 - val_precision: 0.8611 - val_recall: 0.4429\n",
      "\n",
      "Epoch 00039: val_loss did not improve from 0.50913\n",
      "Epoch 40/100\n",
      "23/23 [==============================] - 0s 5ms/step - loss: 0.3720 - accuracy: 0.8413 - precision: 0.8664 - recall: 0.6912 - val_loss: 0.5408 - val_accuracy: 0.7430 - val_precision: 0.8000 - val_recall: 0.4571\n",
      "\n",
      "Epoch 00040: val_loss did not improve from 0.50913\n",
      "Epoch 41/100\n",
      "23/23 [==============================] - 0s 5ms/step - loss: 0.3725 - accuracy: 0.8483 - precision: 0.8868 - recall: 0.6912 - val_loss: 0.5902 - val_accuracy: 0.7542 - val_precision: 0.8824 - val_recall: 0.4286\n",
      "\n",
      "Epoch 00041: val_loss did not improve from 0.50913\n",
      "Epoch 42/100\n",
      "23/23 [==============================] - 0s 5ms/step - loss: 0.3623 - accuracy: 0.8455 - precision: 0.8616 - recall: 0.7096 - val_loss: 0.5352 - val_accuracy: 0.7430 - val_precision: 0.8000 - val_recall: 0.4571\n",
      "\n",
      "Epoch 00042: val_loss did not improve from 0.50913\n",
      "Epoch 43/100\n",
      "23/23 [==============================] - 0s 5ms/step - loss: 0.3685 - accuracy: 0.8455 - precision: 0.8750 - recall: 0.6949 - val_loss: 0.6112 - val_accuracy: 0.7486 - val_precision: 0.8571 - val_recall: 0.4286\n",
      "\n",
      "Epoch 00043: val_loss did not improve from 0.50913\n",
      "Epoch 44/100\n",
      "23/23 [==============================] - 0s 5ms/step - loss: 0.3711 - accuracy: 0.8399 - precision: 0.8559 - recall: 0.6985 - val_loss: 0.5284 - val_accuracy: 0.7430 - val_precision: 0.8000 - val_recall: 0.4571\n",
      "\n",
      "Epoch 00044: val_loss did not improve from 0.50913\n",
      "Epoch 45/100\n",
      "23/23 [==============================] - 0s 6ms/step - loss: 0.3662 - accuracy: 0.8441 - precision: 0.8966 - recall: 0.6691 - val_loss: 0.5604 - val_accuracy: 0.7598 - val_precision: 0.8649 - val_recall: 0.4571\n",
      "\n",
      "Epoch 00045: val_loss did not improve from 0.50913\n",
      "Epoch 46/100\n",
      "23/23 [==============================] - 0s 5ms/step - loss: 0.3691 - accuracy: 0.8455 - precision: 0.8750 - recall: 0.6949 - val_loss: 0.5488 - val_accuracy: 0.7374 - val_precision: 0.7447 - val_recall: 0.5000\n",
      "\n",
      "Epoch 00046: val_loss did not improve from 0.50913\n",
      "Epoch 47/100\n",
      "23/23 [==============================] - 0s 5ms/step - loss: 0.3675 - accuracy: 0.8455 - precision: 0.8491 - recall: 0.7243 - val_loss: 0.5475 - val_accuracy: 0.7430 - val_precision: 0.8000 - val_recall: 0.4571\n",
      "\n",
      "Epoch 00047: val_loss did not improve from 0.50913\n",
      "Epoch 48/100\n",
      "23/23 [==============================] - 0s 6ms/step - loss: 0.3649 - accuracy: 0.8455 - precision: 0.8584 - recall: 0.7132 - val_loss: 0.5666 - val_accuracy: 0.7430 - val_precision: 0.8000 - val_recall: 0.4571\n",
      "\n",
      "Epoch 00048: val_loss did not improve from 0.50913\n",
      "Epoch 49/100\n",
      "23/23 [==============================] - 0s 5ms/step - loss: 0.3670 - accuracy: 0.8455 - precision: 0.8821 - recall: 0.6875 - val_loss: 0.5306 - val_accuracy: 0.7374 - val_precision: 0.7556 - val_recall: 0.4857\n",
      "\n",
      "Epoch 00049: val_loss did not improve from 0.50913\n",
      "Epoch 50/100\n",
      "23/23 [==============================] - 0s 5ms/step - loss: 0.3589 - accuracy: 0.8511 - precision: 0.8843 - recall: 0.7022 - val_loss: 0.5856 - val_accuracy: 0.7598 - val_precision: 0.8649 - val_recall: 0.4571\n",
      "\n",
      "Epoch 00050: val_loss did not improve from 0.50913\n",
      "Epoch 51/100\n",
      "23/23 [==============================] - 0s 5ms/step - loss: 0.3652 - accuracy: 0.8441 - precision: 0.8676 - recall: 0.6985 - val_loss: 0.5269 - val_accuracy: 0.7374 - val_precision: 0.7674 - val_recall: 0.4714\n",
      "\n",
      "Epoch 00051: val_loss did not improve from 0.50913\n",
      "Epoch 52/100\n",
      "23/23 [==============================] - 0s 5ms/step - loss: 0.3632 - accuracy: 0.8469 - precision: 0.8863 - recall: 0.6875 - val_loss: 0.5669 - val_accuracy: 0.7542 - val_precision: 0.8250 - val_recall: 0.4714\n",
      "\n",
      "Epoch 00052: val_loss did not improve from 0.50913\n",
      "Epoch 53/100\n",
      "23/23 [==============================] - 0s 10ms/step - loss: 0.3637 - accuracy: 0.8497 - precision: 0.8603 - recall: 0.7243 - val_loss: 0.5531 - val_accuracy: 0.7486 - val_precision: 0.8378 - val_recall: 0.4429\n",
      "\n",
      "Epoch 00053: val_loss did not improve from 0.50913\n",
      "Epoch 54/100\n",
      "23/23 [==============================] - 0s 8ms/step - loss: 0.3669 - accuracy: 0.8497 - precision: 0.8837 - recall: 0.6985 - val_loss: 0.5378 - val_accuracy: 0.7430 - val_precision: 0.8000 - val_recall: 0.4571\n",
      "\n",
      "Epoch 00054: val_loss did not improve from 0.50913\n",
      "Epoch 55/100\n",
      "23/23 [==============================] - 0s 10ms/step - loss: 0.3543 - accuracy: 0.8455 - precision: 0.8716 - recall: 0.6985 - val_loss: 0.5521 - val_accuracy: 0.7430 - val_precision: 0.7500 - val_recall: 0.5143\n",
      "\n",
      "Epoch 00055: val_loss did not improve from 0.50913\n",
      "Epoch 56/100\n",
      "23/23 [==============================] - 0s 6ms/step - loss: 0.3563 - accuracy: 0.8511 - precision: 0.8640 - recall: 0.7243 - val_loss: 0.5681 - val_accuracy: 0.7430 - val_precision: 0.7609 - val_recall: 0.5000\n",
      "\n",
      "Epoch 00056: val_loss did not improve from 0.50913\n",
      "Epoch 57/100\n",
      "23/23 [==============================] - 0s 5ms/step - loss: 0.3598 - accuracy: 0.8483 - precision: 0.8727 - recall: 0.7059 - val_loss: 0.5676 - val_accuracy: 0.7374 - val_precision: 0.7556 - val_recall: 0.4857\n",
      "\n",
      "Epoch 00057: val_loss did not improve from 0.50913\n",
      "Epoch 58/100\n",
      "23/23 [==============================] - 0s 5ms/step - loss: 0.3568 - accuracy: 0.8539 - precision: 0.8853 - recall: 0.7096 - val_loss: 0.5531 - val_accuracy: 0.7654 - val_precision: 0.8500 - val_recall: 0.4857\n",
      "\n",
      "Epoch 00058: val_loss did not improve from 0.50913\n",
      "Epoch 59/100\n",
      "23/23 [==============================] - 0s 5ms/step - loss: 0.3557 - accuracy: 0.8427 - precision: 0.8670 - recall: 0.6949 - val_loss: 0.5599 - val_accuracy: 0.7430 - val_precision: 0.7727 - val_recall: 0.4857\n",
      "\n",
      "Epoch 00059: val_loss did not improve from 0.50913\n",
      "Epoch 60/100\n",
      "23/23 [==============================] - 0s 5ms/step - loss: 0.3557 - accuracy: 0.8483 - precision: 0.8761 - recall: 0.7022 - val_loss: 0.6037 - val_accuracy: 0.7654 - val_precision: 0.8684 - val_recall: 0.4714\n",
      "\n",
      "Epoch 00060: val_loss did not improve from 0.50913\n",
      "Epoch 61/100\n",
      "23/23 [==============================] - 0s 5ms/step - loss: 0.3571 - accuracy: 0.8427 - precision: 0.8636 - recall: 0.6985 - val_loss: 0.5333 - val_accuracy: 0.7486 - val_precision: 0.7551 - val_recall: 0.5286\n",
      "\n",
      "Epoch 00061: val_loss did not improve from 0.50913\n",
      "Epoch 62/100\n",
      "23/23 [==============================] - 0s 5ms/step - loss: 0.3600 - accuracy: 0.8427 - precision: 0.8571 - recall: 0.7059 - val_loss: 0.5487 - val_accuracy: 0.7542 - val_precision: 0.8095 - val_recall: 0.4857\n",
      "\n",
      "Epoch 00062: val_loss did not improve from 0.50913\n",
      "Epoch 63/100\n",
      "23/23 [==============================] - 0s 5ms/step - loss: 0.3544 - accuracy: 0.8511 - precision: 0.8640 - recall: 0.7243 - val_loss: 0.5900 - val_accuracy: 0.7654 - val_precision: 0.8889 - val_recall: 0.4571\n",
      "\n",
      "Epoch 00063: val_loss did not improve from 0.50913\n",
      "Epoch 64/100\n",
      "23/23 [==============================] - 0s 5ms/step - loss: 0.3454 - accuracy: 0.8581 - precision: 0.8977 - recall: 0.7096 - val_loss: 0.5382 - val_accuracy: 0.7374 - val_precision: 0.7255 - val_recall: 0.5286\n",
      "\n",
      "Epoch 00064: val_loss did not improve from 0.50913\n",
      "Epoch 65/100\n",
      "23/23 [==============================] - 0s 5ms/step - loss: 0.3687 - accuracy: 0.8399 - precision: 0.8527 - recall: 0.7022 - val_loss: 0.5536 - val_accuracy: 0.7542 - val_precision: 0.8824 - val_recall: 0.4286\n",
      "\n",
      "Epoch 00065: val_loss did not improve from 0.50913\n",
      "Epoch 66/100\n",
      "23/23 [==============================] - 0s 5ms/step - loss: 0.3455 - accuracy: 0.8483 - precision: 0.8868 - recall: 0.6912 - val_loss: 0.5503 - val_accuracy: 0.7430 - val_precision: 0.7609 - val_recall: 0.5000\n",
      "\n",
      "Epoch 00066: val_loss did not improve from 0.50913\n",
      "Epoch 67/100\n",
      "23/23 [==============================] - 0s 5ms/step - loss: 0.3598 - accuracy: 0.8469 - precision: 0.8559 - recall: 0.7206 - val_loss: 0.5429 - val_accuracy: 0.7598 - val_precision: 0.8140 - val_recall: 0.5000\n",
      "\n",
      "Epoch 00067: val_loss did not improve from 0.50913\n",
      "Epoch 68/100\n",
      "23/23 [==============================] - 0s 5ms/step - loss: 0.3539 - accuracy: 0.8539 - precision: 0.8750 - recall: 0.7206 - val_loss: 0.5196 - val_accuracy: 0.7374 - val_precision: 0.7556 - val_recall: 0.4857\n",
      "\n",
      "Epoch 00068: val_loss did not improve from 0.50913\n",
      "Epoch 69/100\n",
      "23/23 [==============================] - 0s 5ms/step - loss: 0.3449 - accuracy: 0.8511 - precision: 0.8705 - recall: 0.7169 - val_loss: 0.6124 - val_accuracy: 0.7542 - val_precision: 0.8250 - val_recall: 0.4714\n",
      "\n",
      "Epoch 00069: val_loss did not improve from 0.50913\n",
      "Epoch 70/100\n",
      "23/23 [==============================] - 0s 5ms/step - loss: 0.3607 - accuracy: 0.8511 - precision: 0.8807 - recall: 0.7059 - val_loss: 0.5201 - val_accuracy: 0.7486 - val_precision: 0.7660 - val_recall: 0.5143\n",
      "\n",
      "Epoch 00070: val_loss did not improve from 0.50913\n",
      "Epoch 71/100\n",
      "23/23 [==============================] - 0s 5ms/step - loss: 0.3478 - accuracy: 0.8455 - precision: 0.8785 - recall: 0.6912 - val_loss: 0.5639 - val_accuracy: 0.7654 - val_precision: 0.8500 - val_recall: 0.4857\n",
      "\n",
      "Epoch 00071: val_loss did not improve from 0.50913\n",
      "Epoch 72/100\n",
      "23/23 [==============================] - 0s 5ms/step - loss: 0.3450 - accuracy: 0.8511 - precision: 0.8773 - recall: 0.7096 - val_loss: 0.5636 - val_accuracy: 0.7486 - val_precision: 0.7660 - val_recall: 0.5143\n",
      "\n",
      "Epoch 00072: val_loss did not improve from 0.50913\n",
      "Epoch 73/100\n",
      "23/23 [==============================] - 0s 5ms/step - loss: 0.3534 - accuracy: 0.8469 - precision: 0.8688 - recall: 0.7059 - val_loss: 0.5491 - val_accuracy: 0.7430 - val_precision: 0.8000 - val_recall: 0.4571\n",
      "\n",
      "Epoch 00073: val_loss did not improve from 0.50913\n",
      "Epoch 74/100\n",
      "23/23 [==============================] - 0s 5ms/step - loss: 0.3505 - accuracy: 0.8539 - precision: 0.8889 - recall: 0.7059 - val_loss: 0.5422 - val_accuracy: 0.7486 - val_precision: 0.8049 - val_recall: 0.4714\n",
      "\n",
      "Epoch 00074: val_loss did not improve from 0.50913\n",
      "Epoch 75/100\n",
      "23/23 [==============================] - 0s 5ms/step - loss: 0.3507 - accuracy: 0.8497 - precision: 0.8873 - recall: 0.6949 - val_loss: 0.6006 - val_accuracy: 0.7542 - val_precision: 0.8421 - val_recall: 0.4571\n",
      "\n",
      "Epoch 00075: val_loss did not improve from 0.50913\n",
      "Epoch 76/100\n",
      "23/23 [==============================] - 0s 5ms/step - loss: 0.3474 - accuracy: 0.8455 - precision: 0.8750 - recall: 0.6949 - val_loss: 0.5509 - val_accuracy: 0.7542 - val_precision: 0.8250 - val_recall: 0.4714\n",
      "\n",
      "Epoch 00076: val_loss did not improve from 0.50913\n",
      "Epoch 77/100\n",
      "23/23 [==============================] - 0s 5ms/step - loss: 0.3398 - accuracy: 0.8511 - precision: 0.8739 - recall: 0.7132 - val_loss: 0.5554 - val_accuracy: 0.7542 - val_precision: 0.8095 - val_recall: 0.4857\n",
      "\n",
      "Epoch 00077: val_loss did not improve from 0.50913\n",
      "Epoch 78/100\n",
      "23/23 [==============================] - 0s 5ms/step - loss: 0.3484 - accuracy: 0.8525 - precision: 0.8884 - recall: 0.7022 - val_loss: 0.5223 - val_accuracy: 0.7374 - val_precision: 0.7347 - val_recall: 0.5143\n",
      "\n",
      "Epoch 00078: val_loss did not improve from 0.50913\n",
      "Epoch 79/100\n",
      "23/23 [==============================] - 0s 6ms/step - loss: 0.3557 - accuracy: 0.8483 - precision: 0.8628 - recall: 0.7169 - val_loss: 0.5470 - val_accuracy: 0.7430 - val_precision: 0.7400 - val_recall: 0.5286\n",
      "\n",
      "Epoch 00079: val_loss did not improve from 0.50913\n",
      "Epoch 80/100\n",
      "23/23 [==============================] - 0s 5ms/step - loss: 0.3485 - accuracy: 0.8483 - precision: 0.8596 - recall: 0.7206 - val_loss: 0.5505 - val_accuracy: 0.7486 - val_precision: 0.7551 - val_recall: 0.5286\n",
      "\n",
      "Epoch 00080: val_loss did not improve from 0.50913\n",
      "Epoch 81/100\n",
      "23/23 [==============================] - 0s 5ms/step - loss: 0.3469 - accuracy: 0.8539 - precision: 0.8652 - recall: 0.7316 - val_loss: 0.5732 - val_accuracy: 0.7486 - val_precision: 0.7660 - val_recall: 0.5143\n",
      "\n",
      "Epoch 00081: val_loss did not improve from 0.50913\n",
      "Epoch 82/100\n",
      "23/23 [==============================] - 0s 5ms/step - loss: 0.3462 - accuracy: 0.8497 - precision: 0.8667 - recall: 0.7169 - val_loss: 0.5651 - val_accuracy: 0.7654 - val_precision: 0.8500 - val_recall: 0.4857\n",
      "\n",
      "Epoch 00082: val_loss did not improve from 0.50913\n",
      "Epoch 83/100\n",
      "23/23 [==============================] - 0s 5ms/step - loss: 0.3493 - accuracy: 0.8525 - precision: 0.8848 - recall: 0.7059 - val_loss: 0.5660 - val_accuracy: 0.7486 - val_precision: 0.7778 - val_recall: 0.5000\n",
      "\n",
      "Epoch 00083: val_loss did not improve from 0.50913\n",
      "Epoch 84/100\n",
      "23/23 [==============================] - 0s 5ms/step - loss: 0.3463 - accuracy: 0.8511 - precision: 0.8773 - recall: 0.7096 - val_loss: 0.5575 - val_accuracy: 0.7430 - val_precision: 0.7500 - val_recall: 0.5143\n",
      "\n",
      "Epoch 00084: val_loss did not improve from 0.50913\n",
      "Epoch 85/100\n",
      "23/23 [==============================] - 0s 5ms/step - loss: 0.3406 - accuracy: 0.8483 - precision: 0.8694 - recall: 0.7096 - val_loss: 0.5811 - val_accuracy: 0.7654 - val_precision: 0.8500 - val_recall: 0.4857\n",
      "\n",
      "Epoch 00085: val_loss did not improve from 0.50913\n",
      "Epoch 86/100\n",
      "23/23 [==============================] - 0s 5ms/step - loss: 0.3444 - accuracy: 0.8511 - precision: 0.8879 - recall: 0.6985 - val_loss: 0.5607 - val_accuracy: 0.7542 - val_precision: 0.7500 - val_recall: 0.5571\n",
      "\n",
      "Epoch 00086: val_loss did not improve from 0.50913\n",
      "Epoch 87/100\n",
      "23/23 [==============================] - 0s 5ms/step - loss: 0.3507 - accuracy: 0.8427 - precision: 0.8571 - recall: 0.7059 - val_loss: 0.5474 - val_accuracy: 0.7430 - val_precision: 0.7308 - val_recall: 0.5429\n",
      "\n",
      "Epoch 00087: val_loss did not improve from 0.50913\n",
      "Epoch 88/100\n",
      "23/23 [==============================] - 0s 5ms/step - loss: 0.3445 - accuracy: 0.8553 - precision: 0.8824 - recall: 0.7169 - val_loss: 0.5816 - val_accuracy: 0.7598 - val_precision: 0.8140 - val_recall: 0.5000\n",
      "\n",
      "Epoch 00088: val_loss did not improve from 0.50913\n",
      "Epoch 89/100\n",
      "23/23 [==============================] - 0s 5ms/step - loss: 0.3507 - accuracy: 0.8483 - precision: 0.8942 - recall: 0.6838 - val_loss: 0.5501 - val_accuracy: 0.7486 - val_precision: 0.7273 - val_recall: 0.5714\n",
      "\n",
      "Epoch 00089: val_loss did not improve from 0.50913\n",
      "Epoch 90/100\n",
      "23/23 [==============================] - 0s 5ms/step - loss: 0.3524 - accuracy: 0.8469 - precision: 0.8721 - recall: 0.7022 - val_loss: 0.5527 - val_accuracy: 0.7598 - val_precision: 0.8000 - val_recall: 0.5143\n",
      "\n",
      "Epoch 00090: val_loss did not improve from 0.50913\n",
      "Epoch 91/100\n",
      "23/23 [==============================] - 0s 5ms/step - loss: 0.3403 - accuracy: 0.8525 - precision: 0.8995 - recall: 0.6912 - val_loss: 0.5855 - val_accuracy: 0.7430 - val_precision: 0.7500 - val_recall: 0.5143\n",
      "\n",
      "Epoch 00091: val_loss did not improve from 0.50913\n",
      "Epoch 92/100\n",
      "23/23 [==============================] - 0s 5ms/step - loss: 0.3475 - accuracy: 0.8511 - precision: 0.8773 - recall: 0.7096 - val_loss: 0.5619 - val_accuracy: 0.7430 - val_precision: 0.7400 - val_recall: 0.5286\n",
      "\n",
      "Epoch 00092: val_loss did not improve from 0.50913\n",
      "Epoch 93/100\n",
      "23/23 [==============================] - 0s 5ms/step - loss: 0.3548 - accuracy: 0.8483 - precision: 0.8534 - recall: 0.7279 - val_loss: 0.5385 - val_accuracy: 0.7430 - val_precision: 0.7609 - val_recall: 0.5000\n",
      "\n",
      "Epoch 00093: val_loss did not improve from 0.50913\n",
      "Epoch 94/100\n",
      "23/23 [==============================] - 0s 5ms/step - loss: 0.3423 - accuracy: 0.8511 - precision: 0.8773 - recall: 0.7096 - val_loss: 0.6015 - val_accuracy: 0.7654 - val_precision: 0.8500 - val_recall: 0.4857\n",
      "\n",
      "Epoch 00094: val_loss did not improve from 0.50913\n",
      "Epoch 95/100\n",
      "23/23 [==============================] - 0s 5ms/step - loss: 0.3441 - accuracy: 0.8469 - precision: 0.8622 - recall: 0.7132 - val_loss: 0.5646 - val_accuracy: 0.7542 - val_precision: 0.8250 - val_recall: 0.4714\n",
      "\n",
      "Epoch 00095: val_loss did not improve from 0.50913\n",
      "Epoch 96/100\n",
      "23/23 [==============================] - 0s 6ms/step - loss: 0.3434 - accuracy: 0.8511 - precision: 0.8915 - recall: 0.6949 - val_loss: 0.5722 - val_accuracy: 0.7542 - val_precision: 0.8095 - val_recall: 0.4857\n",
      "\n",
      "Epoch 00096: val_loss did not improve from 0.50913\n",
      "Epoch 97/100\n",
      "23/23 [==============================] - 0s 5ms/step - loss: 0.3407 - accuracy: 0.8553 - precision: 0.8930 - recall: 0.7059 - val_loss: 0.5494 - val_accuracy: 0.7430 - val_precision: 0.7609 - val_recall: 0.5000\n",
      "\n",
      "Epoch 00097: val_loss did not improve from 0.50913\n",
      "Epoch 98/100\n",
      "23/23 [==============================] - 0s 5ms/step - loss: 0.3407 - accuracy: 0.8455 - precision: 0.8616 - recall: 0.7096 - val_loss: 0.5916 - val_accuracy: 0.7430 - val_precision: 0.7609 - val_recall: 0.5000\n",
      "\n",
      "Epoch 00098: val_loss did not improve from 0.50913\n",
      "Epoch 99/100\n",
      "23/23 [==============================] - 0s 5ms/step - loss: 0.3373 - accuracy: 0.8553 - precision: 0.8824 - recall: 0.7169 - val_loss: 0.5824 - val_accuracy: 0.7598 - val_precision: 0.8293 - val_recall: 0.4857\n",
      "\n",
      "Epoch 00099: val_loss did not improve from 0.50913\n",
      "Epoch 100/100\n",
      "23/23 [==============================] - 0s 5ms/step - loss: 0.3420 - accuracy: 0.8525 - precision: 0.8778 - recall: 0.7132 - val_loss: 0.5905 - val_accuracy: 0.7654 - val_precision: 0.8500 - val_recall: 0.4857\n",
      "\n",
      "Epoch 00100: val_loss did not improve from 0.50913\n"
     ]
    },
    {
     "data": {
      "text/plain": [
       "<keras.callbacks.History at 0x7fac0e7c3410>"
      ]
     },
     "execution_count": 29,
     "metadata": {},
     "output_type": "execute_result"
    }
   ],
   "source": [
    "tf.random.set_seed(883)\n",
    "input_shape = X_train.shape[1]\n",
    "\n",
    "# creating the simple dense model\n",
    "# it is a very simple explonatory model with almost random layers and neurons\n",
    "# this model works as a tensorflow baseline model\n",
    "model_3_sdense = tf.keras.Sequential([\n",
    "    tf.keras.layers.Flatten(input_shape=(1,input_shape)),\n",
    "    tf.keras.layers.Dense(128, activation=tf.keras.activations.relu),\n",
    "    tf.keras.layers.Dense(256, activation=tf.keras.activations.relu),\n",
    "    tf.keras.layers.Dropout(0.2),\n",
    "    tf.keras.layers.Dense(256, activation=tf.keras.activations.relu),\n",
    "    tf.keras.layers.Dense(256, activation=tf.keras.activations.relu),\n",
    "    tf.keras.layers.Dense(1, activation=tf.keras.activations.sigmoid)\n",
    "])\n",
    "\n",
    "# compile the simple dense model\n",
    "model_3_sdense.compile(\n",
    "    loss=tf.keras.losses.BinaryCrossentropy(),\n",
    "    optimizer=tf.keras.optimizers.Adam(),\n",
    "    metrics=[\n",
    "        tf.keras.metrics.BinaryAccuracy(name=\"accuracy\"),\n",
    "        tf.keras.metrics.Precision(name=\"precision\"),\n",
    "        tf.keras.metrics.Recall(name=\"recall\")\n",
    "    ]\n",
    ")\n",
    "\n",
    "# fit the simple dense model\n",
    "model_3_sdense.fit(X_train, y_train, epochs=100, validation_data=(X_val,y_val), callbacks=[create_model_checkpoint(\"model_3_sdense\")])"
   ]
  },
  {
   "cell_type": "code",
   "execution_count": 30,
   "id": "bc9653d3",
   "metadata": {
    "execution": {
     "iopub.execute_input": "2022-09-17T17:47:33.230344Z",
     "iopub.status.busy": "2022-09-17T17:47:33.229706Z",
     "iopub.status.idle": "2022-09-17T17:47:33.954190Z",
     "shell.execute_reply": "2022-09-17T17:47:33.953045Z"
    },
    "papermill": {
     "duration": 0.758891,
     "end_time": "2022-09-17T17:47:33.956591",
     "exception": false,
     "start_time": "2022-09-17T17:47:33.197700",
     "status": "completed"
    },
    "tags": []
   },
   "outputs": [
    {
     "name": "stdout",
     "output_type": "stream",
     "text": [
      "6/6 [==============================] - 0s 4ms/step - loss: 0.5091 - accuracy: 0.7598 - precision: 0.8462 - recall: 0.4714\n"
     ]
    },
    {
     "data": {
      "text/plain": [
       "[0.5091295838356018,\n",
       " 0.7597765326499939,\n",
       " 0.8461538553237915,\n",
       " 0.4714285731315613]"
      ]
     },
     "execution_count": 30,
     "metadata": {},
     "output_type": "execute_result"
    }
   ],
   "source": [
    "# load the best model and evaluate the result\n",
    "model_3_sdense_best = tf.keras.models.load_model(\"./model_experiment/model_3_sdense/\")\n",
    "model_3_sdense_best.evaluate(X_val, y_val)"
   ]
  },
  {
   "cell_type": "code",
   "execution_count": 31,
   "id": "de00dedd",
   "metadata": {
    "execution": {
     "iopub.execute_input": "2022-09-17T17:47:34.021855Z",
     "iopub.status.busy": "2022-09-17T17:47:34.020914Z",
     "iopub.status.idle": "2022-09-17T17:47:34.172928Z",
     "shell.execute_reply": "2022-09-17T17:47:34.171950Z"
    },
    "papermill": {
     "duration": 0.188174,
     "end_time": "2022-09-17T17:47:34.175955",
     "exception": false,
     "start_time": "2022-09-17T17:47:33.987781",
     "status": "completed"
    },
    "tags": []
   },
   "outputs": [],
   "source": [
    "model_3_predictions = model_3_sdense_best.predict(df_test)\n",
    "model_3_predictions = tf.cast(np.round(np.max(model_3_predictions, axis=1)), dtype=tf.int32)"
   ]
  },
  {
   "cell_type": "markdown",
   "id": "4e1c8347",
   "metadata": {
    "papermill": {
     "duration": 0.030737,
     "end_time": "2022-09-17T17:47:34.239405",
     "exception": false,
     "start_time": "2022-09-17T17:47:34.208668",
     "status": "completed"
    },
    "tags": []
   },
   "source": [
    "### MODEL_4: Binary Classification Model to Structured Data\n",
    "[https://keras.io/examples/structured_data/structured_data_classification_from_scratch/](http://)"
   ]
  },
  {
   "cell_type": "code",
   "execution_count": 32,
   "id": "239c739a",
   "metadata": {
    "execution": {
     "iopub.execute_input": "2022-09-17T17:47:34.302922Z",
     "iopub.status.busy": "2022-09-17T17:47:34.302555Z",
     "iopub.status.idle": "2022-09-17T17:47:34.315722Z",
     "shell.execute_reply": "2022-09-17T17:47:34.314593Z"
    },
    "papermill": {
     "duration": 0.047603,
     "end_time": "2022-09-17T17:47:34.317892",
     "exception": false,
     "start_time": "2022-09-17T17:47:34.270289",
     "status": "completed"
    },
    "tags": []
   },
   "outputs": [
    {
     "data": {
      "text/plain": [
       "(712, 8)"
      ]
     },
     "execution_count": 32,
     "metadata": {},
     "output_type": "execute_result"
    }
   ],
   "source": [
    "data_frame = train_df.drop(labels=[\"Cabin\",\"Name\", \"Ticket\"], axis=1)\n",
    "data_frame = data_frame.dropna()\n",
    "data_frame.set_index(keys=\"PassengerId\", inplace=True)\n",
    "data_frame.shape"
   ]
  },
  {
   "cell_type": "code",
   "execution_count": 33,
   "id": "257018f7",
   "metadata": {
    "execution": {
     "iopub.execute_input": "2022-09-17T17:47:34.381839Z",
     "iopub.status.busy": "2022-09-17T17:47:34.381508Z",
     "iopub.status.idle": "2022-09-17T17:47:34.417879Z",
     "shell.execute_reply": "2022-09-17T17:47:34.416936Z"
    },
    "papermill": {
     "duration": 0.070394,
     "end_time": "2022-09-17T17:47:34.420067",
     "exception": false,
     "start_time": "2022-09-17T17:47:34.349673",
     "status": "completed"
    },
    "tags": []
   },
   "outputs": [],
   "source": [
    "test_data_frame = test_df.drop(labels=[\"Cabin\", \"Name\", \"Ticket\"], axis=1)\n",
    "test_data_frame = test_data_frame.dropna()\n",
    "test_data_frame.set_index(keys=\"PassengerId\", inplace=True)\n",
    "test_ds = tf.data.Dataset.from_tensors(dict(test_data_frame))"
   ]
  },
  {
   "cell_type": "code",
   "execution_count": 34,
   "id": "f8d283c2",
   "metadata": {
    "execution": {
     "iopub.execute_input": "2022-09-17T17:47:34.483949Z",
     "iopub.status.busy": "2022-09-17T17:47:34.483140Z",
     "iopub.status.idle": "2022-09-17T17:47:34.527955Z",
     "shell.execute_reply": "2022-09-17T17:47:34.527057Z"
    },
    "papermill": {
     "duration": 0.07855,
     "end_time": "2022-09-17T17:47:34.530074",
     "exception": false,
     "start_time": "2022-09-17T17:47:34.451524",
     "status": "completed"
    },
    "tags": []
   },
   "outputs": [
    {
     "data": {
      "text/plain": [
       "<ShuffleDataset shapes: ({Pclass: (), Sex: (), Age: (), SibSp: (), Parch: (), Fare: (), Embarked: ()}, ()), types: ({Pclass: tf.int64, Sex: tf.string, Age: tf.float64, SibSp: tf.int64, Parch: tf.int64, Fare: tf.float64, Embarked: tf.string}, tf.int64)>"
      ]
     },
     "execution_count": 34,
     "metadata": {},
     "output_type": "execute_result"
    }
   ],
   "source": [
    "# Data \n",
    "val_dataframe = data_frame.sample(frac=0.2, random_state=883)\n",
    "train_dataframe = data_frame.drop(val_dataframe.index)\n",
    "train_ds = dataframe_to_dataset(train_dataframe)\n",
    "val_ds = dataframe_to_dataset(val_dataframe)\n",
    "train_ds"
   ]
  },
  {
   "cell_type": "code",
   "execution_count": 35,
   "id": "778e331f",
   "metadata": {
    "execution": {
     "iopub.execute_input": "2022-09-17T17:47:34.594926Z",
     "iopub.status.busy": "2022-09-17T17:47:34.594561Z",
     "iopub.status.idle": "2022-09-17T17:47:34.611260Z",
     "shell.execute_reply": "2022-09-17T17:47:34.610076Z"
    },
    "papermill": {
     "duration": 0.05211,
     "end_time": "2022-09-17T17:47:34.614091",
     "exception": false,
     "start_time": "2022-09-17T17:47:34.561981",
     "status": "completed"
    },
    "tags": []
   },
   "outputs": [
    {
     "name": "stdout",
     "output_type": "stream",
     "text": [
      "Input: {'Pclass': <tf.Tensor: shape=(), dtype=int64, numpy=3>, 'Sex': <tf.Tensor: shape=(), dtype=string, numpy=b'male'>, 'Age': <tf.Tensor: shape=(), dtype=float64, numpy=2.0>, 'SibSp': <tf.Tensor: shape=(), dtype=int64, numpy=4>, 'Parch': <tf.Tensor: shape=(), dtype=int64, numpy=1>, 'Fare': <tf.Tensor: shape=(), dtype=float64, numpy=39.6875>, 'Embarked': <tf.Tensor: shape=(), dtype=string, numpy=b'S'>}\n",
      "Target: 0\n"
     ]
    }
   ],
   "source": [
    "# peek into the dataset\n",
    "# print(list(train_ds.as_numpy_iterator()))\n",
    "for x, y in train_ds.take(1):\n",
    "    print(f\"Input: {x}\")\n",
    "    print(f\"Target: {y}\")"
   ]
  },
  {
   "cell_type": "code",
   "execution_count": 36,
   "id": "370f1be8",
   "metadata": {
    "execution": {
     "iopub.execute_input": "2022-09-17T17:47:34.678927Z",
     "iopub.status.busy": "2022-09-17T17:47:34.677970Z",
     "iopub.status.idle": "2022-09-17T17:47:34.689036Z",
     "shell.execute_reply": "2022-09-17T17:47:34.687894Z"
    },
    "papermill": {
     "duration": 0.04555,
     "end_time": "2022-09-17T17:47:34.691237",
     "exception": false,
     "start_time": "2022-09-17T17:47:34.645687",
     "status": "completed"
    },
    "tags": []
   },
   "outputs": [
    {
     "data": {
      "text/plain": [
       "(<PrefetchDataset shapes: ({Pclass: (None,), Sex: (None,), Age: (None,), SibSp: (None,), Parch: (None,), Fare: (None,), Embarked: (None,)}, (None,)), types: ({Pclass: tf.int64, Sex: tf.string, Age: tf.float64, SibSp: tf.int64, Parch: tf.int64, Fare: tf.float64, Embarked: tf.string}, tf.int64)>,\n",
       " <TensorDataset shapes: {Pclass: (331,), Sex: (331,), Age: (331,), SibSp: (331,), Parch: (331,), Fare: (331,), Embarked: (331,)}, types: {Pclass: tf.int64, Sex: tf.string, Age: tf.float64, SibSp: tf.int64, Parch: tf.int64, Fare: tf.float64, Embarked: tf.string}>)"
      ]
     },
     "execution_count": 36,
     "metadata": {},
     "output_type": "execute_result"
    }
   ],
   "source": [
    "train_ds = train_ds.batch(32).prefetch(tf.data.AUTOTUNE)\n",
    "val_ds = val_ds.batch(32).prefetch(tf.data.AUTOTUNE)\n",
    "# test_ds = test_ds.batch(32).prefetch(tf.data.AUTOTUNE)\n",
    "train_ds, test_ds"
   ]
  },
  {
   "cell_type": "code",
   "execution_count": 37,
   "id": "21353895",
   "metadata": {
    "execution": {
     "iopub.execute_input": "2022-09-17T17:47:34.755605Z",
     "iopub.status.busy": "2022-09-17T17:47:34.755266Z",
     "iopub.status.idle": "2022-09-17T17:47:34.768542Z",
     "shell.execute_reply": "2022-09-17T17:47:34.767488Z"
    },
    "papermill": {
     "duration": 0.047957,
     "end_time": "2022-09-17T17:47:34.771060",
     "exception": false,
     "start_time": "2022-09-17T17:47:34.723103",
     "status": "completed"
    },
    "tags": []
   },
   "outputs": [
    {
     "data": {
      "text/html": [
       "<div>\n",
       "<style scoped>\n",
       "    .dataframe tbody tr th:only-of-type {\n",
       "        vertical-align: middle;\n",
       "    }\n",
       "\n",
       "    .dataframe tbody tr th {\n",
       "        vertical-align: top;\n",
       "    }\n",
       "\n",
       "    .dataframe thead th {\n",
       "        text-align: right;\n",
       "    }\n",
       "</style>\n",
       "<table border=\"1\" class=\"dataframe\">\n",
       "  <thead>\n",
       "    <tr style=\"text-align: right;\">\n",
       "      <th></th>\n",
       "      <th>Survived</th>\n",
       "      <th>Pclass</th>\n",
       "      <th>Sex</th>\n",
       "      <th>Age</th>\n",
       "      <th>SibSp</th>\n",
       "      <th>Parch</th>\n",
       "      <th>Fare</th>\n",
       "      <th>Embarked</th>\n",
       "    </tr>\n",
       "    <tr>\n",
       "      <th>PassengerId</th>\n",
       "      <th></th>\n",
       "      <th></th>\n",
       "      <th></th>\n",
       "      <th></th>\n",
       "      <th></th>\n",
       "      <th></th>\n",
       "      <th></th>\n",
       "      <th></th>\n",
       "    </tr>\n",
       "  </thead>\n",
       "  <tbody>\n",
       "    <tr>\n",
       "      <th>1</th>\n",
       "      <td>0</td>\n",
       "      <td>3</td>\n",
       "      <td>male</td>\n",
       "      <td>22.0</td>\n",
       "      <td>1</td>\n",
       "      <td>0</td>\n",
       "      <td>7.2500</td>\n",
       "      <td>S</td>\n",
       "    </tr>\n",
       "    <tr>\n",
       "      <th>2</th>\n",
       "      <td>1</td>\n",
       "      <td>1</td>\n",
       "      <td>female</td>\n",
       "      <td>38.0</td>\n",
       "      <td>1</td>\n",
       "      <td>0</td>\n",
       "      <td>71.2833</td>\n",
       "      <td>C</td>\n",
       "    </tr>\n",
       "    <tr>\n",
       "      <th>3</th>\n",
       "      <td>1</td>\n",
       "      <td>3</td>\n",
       "      <td>female</td>\n",
       "      <td>26.0</td>\n",
       "      <td>0</td>\n",
       "      <td>0</td>\n",
       "      <td>7.9250</td>\n",
       "      <td>S</td>\n",
       "    </tr>\n",
       "    <tr>\n",
       "      <th>4</th>\n",
       "      <td>1</td>\n",
       "      <td>1</td>\n",
       "      <td>female</td>\n",
       "      <td>35.0</td>\n",
       "      <td>1</td>\n",
       "      <td>0</td>\n",
       "      <td>53.1000</td>\n",
       "      <td>S</td>\n",
       "    </tr>\n",
       "    <tr>\n",
       "      <th>5</th>\n",
       "      <td>0</td>\n",
       "      <td>3</td>\n",
       "      <td>male</td>\n",
       "      <td>35.0</td>\n",
       "      <td>0</td>\n",
       "      <td>0</td>\n",
       "      <td>8.0500</td>\n",
       "      <td>S</td>\n",
       "    </tr>\n",
       "  </tbody>\n",
       "</table>\n",
       "</div>"
      ],
      "text/plain": [
       "             Survived  Pclass     Sex   Age  SibSp  Parch     Fare Embarked\n",
       "PassengerId                                                                \n",
       "1                   0       3    male  22.0      1      0   7.2500        S\n",
       "2                   1       1  female  38.0      1      0  71.2833        C\n",
       "3                   1       3  female  26.0      0      0   7.9250        S\n",
       "4                   1       1  female  35.0      1      0  53.1000        S\n",
       "5                   0       3    male  35.0      0      0   8.0500        S"
      ]
     },
     "execution_count": 37,
     "metadata": {},
     "output_type": "execute_result"
    }
   ],
   "source": [
    "data_frame.head()"
   ]
  },
  {
   "cell_type": "code",
   "execution_count": 38,
   "id": "bf8b1b9a",
   "metadata": {
    "execution": {
     "iopub.execute_input": "2022-09-17T17:47:34.837489Z",
     "iopub.status.busy": "2022-09-17T17:47:34.836801Z",
     "iopub.status.idle": "2022-09-17T17:47:36.262320Z",
     "shell.execute_reply": "2022-09-17T17:47:36.261344Z"
    },
    "papermill": {
     "duration": 1.461492,
     "end_time": "2022-09-17T17:47:36.264715",
     "exception": false,
     "start_time": "2022-09-17T17:47:34.803223",
     "status": "completed"
    },
    "tags": []
   },
   "outputs": [],
   "source": [
    "# categorical feature encoding as int\n",
    "pclass = tf.keras.Input(shape=(1,), name=\"Pclass\", dtype=tf.int64)\n",
    "\n",
    "# categorical feature encoding as string\n",
    "sex = tf.keras.Input(shape=(1,), name=\"Sex\", dtype=tf.string)\n",
    "embarked = tf.keras.Input(shape=(1,), name=\"Embarked\", dtype=tf.string)\n",
    "\n",
    "# numerical feature encoding\n",
    "\n",
    "age = tf.keras.Input(shape=(1,), name=\"Age\")\n",
    "sibsp = tf.keras.Input(shape=(1,), name=\"SibSp\")\n",
    "parch = tf.keras.Input(shape=(1,), name=\"Parch\")\n",
    "fare = tf.keras.Input(shape=(1,), name=\"Fare\")\n",
    "\n",
    "all_inputs = [\n",
    "    pclass,\n",
    "    sex,\n",
    "    embarked,\n",
    "    age,\n",
    "    sibsp,\n",
    "    parch,\n",
    "    fare\n",
    "]\n",
    "\n",
    "# string categorical features\n",
    "sex_encoded = encode_categorical_feature(sex, \"Sex\", train_ds, True)\n",
    "embarked_encoded = encode_categorical_feature(embarked, \"Embarked\", train_ds, True)\n",
    "\n",
    "# int categorical features\n",
    "pclass_encoded = encode_categorical_feature(pclass, \"Pclass\", train_ds, False)\n",
    "\n",
    "# numerical features\n",
    "age_encoded = encode_numerical_feature(age, \"Age\", train_ds)\n",
    "sibsp_encoded = encode_numerical_feature(sibsp, \"SibSp\", train_ds)\n",
    "parch_encoded = encode_numerical_feature(parch, \"Parch\", train_ds)\n",
    "fare_encoded = encode_numerical_feature(fare, \"Fare\", train_ds)\n",
    "\n",
    "all_features = tf.keras.layers.concatenate([\n",
    "    sex_encoded,\n",
    "    embarked_encoded,\n",
    "    pclass_encoded,\n",
    "    age_encoded,\n",
    "    sibsp_encoded,\n",
    "    parch_encoded,\n",
    "    fare_encoded\n",
    "])\n",
    "\n",
    "x = tf.keras.layers.Dense(32, activation=tf.keras.activations.relu)(all_features)\n",
    "x = tf.keras.layers.Dropout(0.5)(x)\n",
    "output = tf.keras.layers.Dense(1, activation=tf.keras.activations.sigmoid)(x)\n",
    "model_4 = tf.keras.Model(all_inputs, output)\n",
    "model_4.compile(optimizer=tf.keras.optimizers.Adam(), metrics=['accuracy'], loss=tf.keras.losses.binary_crossentropy)"
   ]
  },
  {
   "cell_type": "code",
   "execution_count": 39,
   "id": "ddd76a90",
   "metadata": {
    "execution": {
     "iopub.execute_input": "2022-09-17T17:47:36.331970Z",
     "iopub.status.busy": "2022-09-17T17:47:36.331588Z",
     "iopub.status.idle": "2022-09-17T17:47:37.413145Z",
     "shell.execute_reply": "2022-09-17T17:47:37.412067Z"
    },
    "papermill": {
     "duration": 1.117616,
     "end_time": "2022-09-17T17:47:37.415368",
     "exception": false,
     "start_time": "2022-09-17T17:47:36.297752",
     "status": "completed"
    },
    "tags": []
   },
   "outputs": [
    {
     "data": {
      "image/png": "[encoded data removed]",
      "text/plain": [
       "<IPython.core.display.Image object>"
      ]
     },
     "execution_count": 39,
     "metadata": {},
     "output_type": "execute_result"
    }
   ],
   "source": [
    "tf.keras.utils.plot_model(model_4, show_shapes=True, rankdir=\"LR\")"
   ]
  },
  {
   "cell_type": "code",
   "execution_count": 40,
   "id": "1373b098",
   "metadata": {
    "execution": {
     "iopub.execute_input": "2022-09-17T17:47:37.487351Z",
     "iopub.status.busy": "2022-09-17T17:47:37.485709Z",
     "iopub.status.idle": "2022-09-17T17:49:01.179075Z",
     "shell.execute_reply": "2022-09-17T17:49:01.177960Z"
    },
    "papermill": {
     "duration": 83.731415,
     "end_time": "2022-09-17T17:49:01.181301",
     "exception": false,
     "start_time": "2022-09-17T17:47:37.449886",
     "status": "completed"
    },
    "tags": []
   },
   "outputs": [
    {
     "name": "stdout",
     "output_type": "stream",
     "text": [
      "Epoch 1/100\n",
      "18/18 [==============================] - 1s 15ms/step - loss: 0.8524 - accuracy: 0.3737 - val_loss: 0.7584 - val_accuracy: 0.4155\n",
      "\n",
      "Epoch 00001: val_loss improved from inf to 0.75843, saving model to model_experiment/model_4\n",
      "Epoch 2/100\n",
      "18/18 [==============================] - 0s 5ms/step - loss: 0.7730 - accuracy: 0.4474 - val_loss: 0.7136 - val_accuracy: 0.4155\n",
      "\n",
      "Epoch 00002: val_loss improved from 0.75843 to 0.71365, saving model to model_experiment/model_4\n",
      "Epoch 3/100\n",
      "18/18 [==============================] - 0s 5ms/step - loss: 0.7216 - accuracy: 0.5000 - val_loss: 0.6799 - val_accuracy: 0.6056\n",
      "\n",
      "Epoch 00003: val_loss improved from 0.71365 to 0.67994, saving model to model_experiment/model_4\n",
      "Epoch 4/100\n",
      "18/18 [==============================] - 0s 5ms/step - loss: 0.7046 - accuracy: 0.5544 - val_loss: 0.6520 - val_accuracy: 0.6549\n",
      "\n",
      "Epoch 00004: val_loss improved from 0.67994 to 0.65195, saving model to model_experiment/model_4\n",
      "Epoch 5/100\n",
      "18/18 [==============================] - 0s 5ms/step - loss: 0.6655 - accuracy: 0.6421 - val_loss: 0.6293 - val_accuracy: 0.6761\n",
      "\n",
      "Epoch 00005: val_loss improved from 0.65195 to 0.62931, saving model to model_experiment/model_4\n",
      "Epoch 6/100\n",
      "18/18 [==============================] - 0s 5ms/step - loss: 0.6377 - accuracy: 0.6544 - val_loss: 0.6095 - val_accuracy: 0.6901\n",
      "\n",
      "Epoch 00006: val_loss improved from 0.62931 to 0.60946, saving model to model_experiment/model_4\n",
      "Epoch 7/100\n",
      "18/18 [==============================] - 0s 5ms/step - loss: 0.6202 - accuracy: 0.6789 - val_loss: 0.5913 - val_accuracy: 0.7042\n",
      "\n",
      "Epoch 00007: val_loss improved from 0.60946 to 0.59132, saving model to model_experiment/model_4\n",
      "Epoch 8/100\n",
      "18/18 [==============================] - 0s 6ms/step - loss: 0.5937 - accuracy: 0.7175 - val_loss: 0.5749 - val_accuracy: 0.7324\n",
      "\n",
      "Epoch 00008: val_loss improved from 0.59132 to 0.57492, saving model to model_experiment/model_4\n",
      "Epoch 9/100\n",
      "18/18 [==============================] - 0s 5ms/step - loss: 0.5744 - accuracy: 0.7070 - val_loss: 0.5614 - val_accuracy: 0.7606\n",
      "\n",
      "Epoch 00009: val_loss improved from 0.57492 to 0.56142, saving model to model_experiment/model_4\n",
      "Epoch 10/100\n",
      "18/18 [==============================] - 0s 5ms/step - loss: 0.5740 - accuracy: 0.7035 - val_loss: 0.5492 - val_accuracy: 0.7535\n",
      "\n",
      "Epoch 00010: val_loss improved from 0.56142 to 0.54916, saving model to model_experiment/model_4\n",
      "Epoch 11/100\n",
      "18/18 [==============================] - 0s 5ms/step - loss: 0.5522 - accuracy: 0.7368 - val_loss: 0.5393 - val_accuracy: 0.7606\n",
      "\n",
      "Epoch 00011: val_loss improved from 0.54916 to 0.53933, saving model to model_experiment/model_4\n",
      "Epoch 12/100\n",
      "18/18 [==============================] - 0s 5ms/step - loss: 0.5520 - accuracy: 0.7333 - val_loss: 0.5302 - val_accuracy: 0.7746\n",
      "\n",
      "Epoch 00012: val_loss improved from 0.53933 to 0.53021, saving model to model_experiment/model_4\n",
      "Epoch 13/100\n",
      "18/18 [==============================] - 0s 5ms/step - loss: 0.5290 - accuracy: 0.7561 - val_loss: 0.5221 - val_accuracy: 0.7746\n",
      "\n",
      "Epoch 00013: val_loss improved from 0.53021 to 0.52206, saving model to model_experiment/model_4\n",
      "Epoch 14/100\n",
      "18/18 [==============================] - 0s 5ms/step - loss: 0.5043 - accuracy: 0.7947 - val_loss: 0.5132 - val_accuracy: 0.7817\n",
      "\n",
      "Epoch 00014: val_loss improved from 0.52206 to 0.51318, saving model to model_experiment/model_4\n",
      "Epoch 15/100\n",
      "18/18 [==============================] - 0s 5ms/step - loss: 0.5317 - accuracy: 0.7421 - val_loss: 0.5077 - val_accuracy: 0.7817\n",
      "\n",
      "Epoch 00015: val_loss improved from 0.51318 to 0.50768, saving model to model_experiment/model_4\n",
      "Epoch 16/100\n",
      "18/18 [==============================] - 0s 9ms/step - loss: 0.5101 - accuracy: 0.7684 - val_loss: 0.5014 - val_accuracy: 0.7887\n",
      "\n",
      "Epoch 00016: val_loss improved from 0.50768 to 0.50142, saving model to model_experiment/model_4\n",
      "Epoch 17/100\n",
      "18/18 [==============================] - 0s 5ms/step - loss: 0.5159 - accuracy: 0.7737 - val_loss: 0.4973 - val_accuracy: 0.7958\n",
      "\n",
      "Epoch 00017: val_loss improved from 0.50142 to 0.49726, saving model to model_experiment/model_4\n",
      "Epoch 18/100\n",
      "18/18 [==============================] - 0s 6ms/step - loss: 0.4904 - accuracy: 0.7930 - val_loss: 0.4940 - val_accuracy: 0.7746\n",
      "\n",
      "Epoch 00018: val_loss improved from 0.49726 to 0.49398, saving model to model_experiment/model_4\n",
      "Epoch 19/100\n",
      "18/18 [==============================] - 0s 5ms/step - loss: 0.5011 - accuracy: 0.7719 - val_loss: 0.4895 - val_accuracy: 0.7817\n",
      "\n",
      "Epoch 00019: val_loss improved from 0.49398 to 0.48952, saving model to model_experiment/model_4\n",
      "Epoch 20/100\n",
      "18/18 [==============================] - 0s 5ms/step - loss: 0.5023 - accuracy: 0.7702 - val_loss: 0.4863 - val_accuracy: 0.7746\n",
      "\n",
      "Epoch 00020: val_loss improved from 0.48952 to 0.48632, saving model to model_experiment/model_4\n",
      "Epoch 21/100\n",
      "18/18 [==============================] - 0s 5ms/step - loss: 0.4858 - accuracy: 0.7947 - val_loss: 0.4833 - val_accuracy: 0.7676\n",
      "\n",
      "Epoch 00021: val_loss improved from 0.48632 to 0.48325, saving model to model_experiment/model_4\n",
      "Epoch 22/100\n",
      "18/18 [==============================] - 0s 5ms/step - loss: 0.4814 - accuracy: 0.7860 - val_loss: 0.4811 - val_accuracy: 0.7606\n",
      "\n",
      "Epoch 00022: val_loss improved from 0.48325 to 0.48113, saving model to model_experiment/model_4\n",
      "Epoch 23/100\n",
      "18/18 [==============================] - 0s 5ms/step - loss: 0.5021 - accuracy: 0.7877 - val_loss: 0.4800 - val_accuracy: 0.7535\n",
      "\n",
      "Epoch 00023: val_loss improved from 0.48113 to 0.48005, saving model to model_experiment/model_4\n",
      "Epoch 24/100\n",
      "18/18 [==============================] - 0s 5ms/step - loss: 0.4776 - accuracy: 0.7982 - val_loss: 0.4786 - val_accuracy: 0.7676\n",
      "\n",
      "Epoch 00024: val_loss improved from 0.48005 to 0.47865, saving model to model_experiment/model_4\n",
      "Epoch 25/100\n",
      "18/18 [==============================] - 0s 10ms/step - loss: 0.4823 - accuracy: 0.8088 - val_loss: 0.4759 - val_accuracy: 0.7676\n",
      "\n",
      "Epoch 00025: val_loss improved from 0.47865 to 0.47590, saving model to model_experiment/model_4\n",
      "Epoch 26/100\n",
      "18/18 [==============================] - 0s 6ms/step - loss: 0.4628 - accuracy: 0.8193 - val_loss: 0.4736 - val_accuracy: 0.7676\n",
      "\n",
      "Epoch 00026: val_loss improved from 0.47590 to 0.47358, saving model to model_experiment/model_4\n",
      "Epoch 27/100\n",
      "18/18 [==============================] - 0s 5ms/step - loss: 0.4776 - accuracy: 0.7912 - val_loss: 0.4727 - val_accuracy: 0.7676\n",
      "\n",
      "Epoch 00027: val_loss improved from 0.47358 to 0.47269, saving model to model_experiment/model_4\n",
      "Epoch 28/100\n",
      "18/18 [==============================] - 0s 5ms/step - loss: 0.4503 - accuracy: 0.8088 - val_loss: 0.4710 - val_accuracy: 0.7676\n",
      "\n",
      "Epoch 00028: val_loss improved from 0.47269 to 0.47096, saving model to model_experiment/model_4\n",
      "Epoch 29/100\n",
      "18/18 [==============================] - 0s 5ms/step - loss: 0.4589 - accuracy: 0.7982 - val_loss: 0.4700 - val_accuracy: 0.7676\n",
      "\n",
      "Epoch 00029: val_loss improved from 0.47096 to 0.46998, saving model to model_experiment/model_4\n",
      "Epoch 30/100\n",
      "18/18 [==============================] - 0s 5ms/step - loss: 0.4657 - accuracy: 0.7895 - val_loss: 0.4682 - val_accuracy: 0.7746\n",
      "\n",
      "Epoch 00030: val_loss improved from 0.46998 to 0.46821, saving model to model_experiment/model_4\n",
      "Epoch 31/100\n",
      "18/18 [==============================] - 0s 5ms/step - loss: 0.4521 - accuracy: 0.8158 - val_loss: 0.4674 - val_accuracy: 0.7746\n",
      "\n",
      "Epoch 00031: val_loss improved from 0.46821 to 0.46738, saving model to model_experiment/model_4\n",
      "Epoch 32/100\n",
      "18/18 [==============================] - 0s 5ms/step - loss: 0.4471 - accuracy: 0.8228 - val_loss: 0.4672 - val_accuracy: 0.7817\n",
      "\n",
      "Epoch 00032: val_loss improved from 0.46738 to 0.46715, saving model to model_experiment/model_4\n",
      "Epoch 33/100\n",
      "18/18 [==============================] - 0s 5ms/step - loss: 0.4605 - accuracy: 0.8070 - val_loss: 0.4662 - val_accuracy: 0.7817\n",
      "\n",
      "Epoch 00033: val_loss improved from 0.46715 to 0.46616, saving model to model_experiment/model_4\n",
      "Epoch 34/100\n",
      "18/18 [==============================] - 0s 5ms/step - loss: 0.4445 - accuracy: 0.8158 - val_loss: 0.4663 - val_accuracy: 0.7746\n",
      "\n",
      "Epoch 00034: val_loss did not improve from 0.46616\n",
      "Epoch 35/100\n",
      "18/18 [==============================] - 0s 5ms/step - loss: 0.4442 - accuracy: 0.8281 - val_loss: 0.4649 - val_accuracy: 0.7817\n",
      "\n",
      "Epoch 00035: val_loss improved from 0.46616 to 0.46488, saving model to model_experiment/model_4\n",
      "Epoch 36/100\n",
      "18/18 [==============================] - 0s 5ms/step - loss: 0.4298 - accuracy: 0.8105 - val_loss: 0.4644 - val_accuracy: 0.7817\n",
      "\n",
      "Epoch 00036: val_loss improved from 0.46488 to 0.46438, saving model to model_experiment/model_4\n",
      "Epoch 37/100\n",
      "18/18 [==============================] - 0s 5ms/step - loss: 0.4492 - accuracy: 0.8175 - val_loss: 0.4642 - val_accuracy: 0.7887\n",
      "\n",
      "Epoch 00037: val_loss improved from 0.46438 to 0.46425, saving model to model_experiment/model_4\n",
      "Epoch 38/100\n",
      "18/18 [==============================] - 0s 8ms/step - loss: 0.4440 - accuracy: 0.8053 - val_loss: 0.4640 - val_accuracy: 0.7887\n",
      "\n",
      "Epoch 00038: val_loss improved from 0.46425 to 0.46395, saving model to model_experiment/model_4\n",
      "Epoch 39/100\n",
      "18/18 [==============================] - 0s 5ms/step - loss: 0.4455 - accuracy: 0.8088 - val_loss: 0.4641 - val_accuracy: 0.7887\n",
      "\n",
      "Epoch 00039: val_loss did not improve from 0.46395\n",
      "Epoch 40/100\n",
      "18/18 [==============================] - 0s 5ms/step - loss: 0.4559 - accuracy: 0.8123 - val_loss: 0.4624 - val_accuracy: 0.7887\n",
      "\n",
      "Epoch 00040: val_loss improved from 0.46395 to 0.46236, saving model to model_experiment/model_4\n",
      "Epoch 41/100\n",
      "18/18 [==============================] - 0s 11ms/step - loss: 0.4371 - accuracy: 0.8211 - val_loss: 0.4619 - val_accuracy: 0.7887\n",
      "\n",
      "Epoch 00041: val_loss improved from 0.46236 to 0.46193, saving model to model_experiment/model_4\n",
      "Epoch 42/100\n",
      "18/18 [==============================] - 0s 5ms/step - loss: 0.4347 - accuracy: 0.8211 - val_loss: 0.4614 - val_accuracy: 0.7887\n",
      "\n",
      "Epoch 00042: val_loss improved from 0.46193 to 0.46141, saving model to model_experiment/model_4\n",
      "Epoch 43/100\n",
      "18/18 [==============================] - 0s 5ms/step - loss: 0.4444 - accuracy: 0.8228 - val_loss: 0.4638 - val_accuracy: 0.7887\n",
      "\n",
      "Epoch 00043: val_loss did not improve from 0.46141\n",
      "Epoch 44/100\n",
      "18/18 [==============================] - 0s 5ms/step - loss: 0.4349 - accuracy: 0.8175 - val_loss: 0.4633 - val_accuracy: 0.7817\n",
      "\n",
      "Epoch 00044: val_loss did not improve from 0.46141\n",
      "Epoch 45/100\n",
      "18/18 [==============================] - 0s 5ms/step - loss: 0.4557 - accuracy: 0.8088 - val_loss: 0.4648 - val_accuracy: 0.7817\n",
      "\n",
      "Epoch 00045: val_loss did not improve from 0.46141\n",
      "Epoch 46/100\n",
      "18/18 [==============================] - 0s 5ms/step - loss: 0.4523 - accuracy: 0.8175 - val_loss: 0.4644 - val_accuracy: 0.7887\n",
      "\n",
      "Epoch 00046: val_loss did not improve from 0.46141\n",
      "Epoch 47/100\n",
      "18/18 [==============================] - 0s 5ms/step - loss: 0.4245 - accuracy: 0.8193 - val_loss: 0.4646 - val_accuracy: 0.7887\n",
      "\n",
      "Epoch 00047: val_loss did not improve from 0.46141\n",
      "Epoch 48/100\n",
      "18/18 [==============================] - 0s 5ms/step - loss: 0.4407 - accuracy: 0.8123 - val_loss: 0.4641 - val_accuracy: 0.7887\n",
      "\n",
      "Epoch 00048: val_loss did not improve from 0.46141\n",
      "Epoch 49/100\n",
      "18/18 [==============================] - 0s 5ms/step - loss: 0.4186 - accuracy: 0.8333 - val_loss: 0.4626 - val_accuracy: 0.7887\n",
      "\n",
      "Epoch 00049: val_loss did not improve from 0.46141\n",
      "Epoch 50/100\n",
      "18/18 [==============================] - 0s 5ms/step - loss: 0.4273 - accuracy: 0.8211 - val_loss: 0.4631 - val_accuracy: 0.7887\n",
      "\n",
      "Epoch 00050: val_loss did not improve from 0.46141\n",
      "Epoch 51/100\n",
      "18/18 [==============================] - 0s 5ms/step - loss: 0.4426 - accuracy: 0.8053 - val_loss: 0.4637 - val_accuracy: 0.7887\n",
      "\n",
      "Epoch 00051: val_loss did not improve from 0.46141\n",
      "Epoch 52/100\n",
      "18/18 [==============================] - 0s 5ms/step - loss: 0.4165 - accuracy: 0.8316 - val_loss: 0.4650 - val_accuracy: 0.7887\n",
      "\n",
      "Epoch 00052: val_loss did not improve from 0.46141\n",
      "Epoch 53/100\n",
      "18/18 [==============================] - 0s 5ms/step - loss: 0.4178 - accuracy: 0.8281 - val_loss: 0.4653 - val_accuracy: 0.7887\n",
      "\n",
      "Epoch 00053: val_loss did not improve from 0.46141\n",
      "Epoch 54/100\n",
      "18/18 [==============================] - 0s 5ms/step - loss: 0.4231 - accuracy: 0.8333 - val_loss: 0.4653 - val_accuracy: 0.7887\n",
      "\n",
      "Epoch 00054: val_loss did not improve from 0.46141\n",
      "Epoch 55/100\n",
      "18/18 [==============================] - 0s 5ms/step - loss: 0.4280 - accuracy: 0.8298 - val_loss: 0.4644 - val_accuracy: 0.7958\n",
      "\n",
      "Epoch 00055: val_loss did not improve from 0.46141\n",
      "Epoch 56/100\n",
      "18/18 [==============================] - 0s 5ms/step - loss: 0.4300 - accuracy: 0.8316 - val_loss: 0.4645 - val_accuracy: 0.7958\n",
      "\n",
      "Epoch 00056: val_loss did not improve from 0.46141\n",
      "Epoch 57/100\n",
      "18/18 [==============================] - 0s 5ms/step - loss: 0.4210 - accuracy: 0.8158 - val_loss: 0.4654 - val_accuracy: 0.7958\n",
      "\n",
      "Epoch 00057: val_loss did not improve from 0.46141\n",
      "Epoch 58/100\n",
      "18/18 [==============================] - 0s 5ms/step - loss: 0.4051 - accuracy: 0.8228 - val_loss: 0.4658 - val_accuracy: 0.7958\n",
      "\n",
      "Epoch 00058: val_loss did not improve from 0.46141\n",
      "Epoch 59/100\n",
      "18/18 [==============================] - 0s 5ms/step - loss: 0.4235 - accuracy: 0.8246 - val_loss: 0.4639 - val_accuracy: 0.7958\n",
      "\n",
      "Epoch 00059: val_loss did not improve from 0.46141\n",
      "Epoch 60/100\n",
      "18/18 [==============================] - 0s 5ms/step - loss: 0.4094 - accuracy: 0.8351 - val_loss: 0.4644 - val_accuracy: 0.7958\n",
      "\n",
      "Epoch 00060: val_loss did not improve from 0.46141\n",
      "Epoch 61/100\n",
      "18/18 [==============================] - 0s 5ms/step - loss: 0.4232 - accuracy: 0.8175 - val_loss: 0.4654 - val_accuracy: 0.7958\n",
      "\n",
      "Epoch 00061: val_loss did not improve from 0.46141\n",
      "Epoch 62/100\n",
      "18/18 [==============================] - 0s 5ms/step - loss: 0.4287 - accuracy: 0.8228 - val_loss: 0.4664 - val_accuracy: 0.7958\n",
      "\n",
      "Epoch 00062: val_loss did not improve from 0.46141\n",
      "Epoch 63/100\n",
      "18/18 [==============================] - 0s 5ms/step - loss: 0.4053 - accuracy: 0.8351 - val_loss: 0.4669 - val_accuracy: 0.7958\n",
      "\n",
      "Epoch 00063: val_loss did not improve from 0.46141\n",
      "Epoch 64/100\n",
      "18/18 [==============================] - 0s 5ms/step - loss: 0.4182 - accuracy: 0.8298 - val_loss: 0.4672 - val_accuracy: 0.7958\n",
      "\n",
      "Epoch 00064: val_loss did not improve from 0.46141\n",
      "Epoch 65/100\n",
      "18/18 [==============================] - 0s 5ms/step - loss: 0.4116 - accuracy: 0.8211 - val_loss: 0.4679 - val_accuracy: 0.7958\n",
      "\n",
      "Epoch 00065: val_loss did not improve from 0.46141\n",
      "Epoch 66/100\n",
      "18/18 [==============================] - 0s 5ms/step - loss: 0.4286 - accuracy: 0.8035 - val_loss: 0.4676 - val_accuracy: 0.7958\n",
      "\n",
      "Epoch 00066: val_loss did not improve from 0.46141\n",
      "Epoch 67/100\n",
      "18/18 [==============================] - 0s 9ms/step - loss: 0.4098 - accuracy: 0.8351 - val_loss: 0.4676 - val_accuracy: 0.7958\n",
      "\n",
      "Epoch 00067: val_loss did not improve from 0.46141\n",
      "Epoch 68/100\n",
      "18/18 [==============================] - 0s 7ms/step - loss: 0.4119 - accuracy: 0.8386 - val_loss: 0.4676 - val_accuracy: 0.7958\n",
      "\n",
      "Epoch 00068: val_loss did not improve from 0.46141\n",
      "Epoch 69/100\n",
      "18/18 [==============================] - 0s 8ms/step - loss: 0.4152 - accuracy: 0.8333 - val_loss: 0.4676 - val_accuracy: 0.7958\n",
      "\n",
      "Epoch 00069: val_loss did not improve from 0.46141\n",
      "Epoch 70/100\n",
      "18/18 [==============================] - 0s 5ms/step - loss: 0.4239 - accuracy: 0.8158 - val_loss: 0.4691 - val_accuracy: 0.7958\n",
      "\n",
      "Epoch 00070: val_loss did not improve from 0.46141\n",
      "Epoch 71/100\n",
      "18/18 [==============================] - 0s 5ms/step - loss: 0.4059 - accuracy: 0.8211 - val_loss: 0.4689 - val_accuracy: 0.7958\n",
      "\n",
      "Epoch 00071: val_loss did not improve from 0.46141\n",
      "Epoch 72/100\n",
      "18/18 [==============================] - 0s 5ms/step - loss: 0.4042 - accuracy: 0.8298 - val_loss: 0.4679 - val_accuracy: 0.7958\n",
      "\n",
      "Epoch 00072: val_loss did not improve from 0.46141\n",
      "Epoch 73/100\n",
      "18/18 [==============================] - 0s 5ms/step - loss: 0.3975 - accuracy: 0.8246 - val_loss: 0.4670 - val_accuracy: 0.7958\n",
      "\n",
      "Epoch 00073: val_loss did not improve from 0.46141\n",
      "Epoch 74/100\n",
      "18/18 [==============================] - 0s 5ms/step - loss: 0.4317 - accuracy: 0.8211 - val_loss: 0.4685 - val_accuracy: 0.7958\n",
      "\n",
      "Epoch 00074: val_loss did not improve from 0.46141\n",
      "Epoch 75/100\n",
      "18/18 [==============================] - 0s 5ms/step - loss: 0.4164 - accuracy: 0.8263 - val_loss: 0.4694 - val_accuracy: 0.7958\n",
      "\n",
      "Epoch 00075: val_loss did not improve from 0.46141\n",
      "Epoch 76/100\n",
      "18/18 [==============================] - 0s 5ms/step - loss: 0.4150 - accuracy: 0.8175 - val_loss: 0.4692 - val_accuracy: 0.7958\n",
      "\n",
      "Epoch 00076: val_loss did not improve from 0.46141\n",
      "Epoch 77/100\n",
      "18/18 [==============================] - 0s 5ms/step - loss: 0.4073 - accuracy: 0.8211 - val_loss: 0.4701 - val_accuracy: 0.7958\n",
      "\n",
      "Epoch 00077: val_loss did not improve from 0.46141\n",
      "Epoch 78/100\n",
      "18/18 [==============================] - 0s 6ms/step - loss: 0.4087 - accuracy: 0.8404 - val_loss: 0.4711 - val_accuracy: 0.7958\n",
      "\n",
      "Epoch 00078: val_loss did not improve from 0.46141\n",
      "Epoch 79/100\n",
      "18/18 [==============================] - 0s 5ms/step - loss: 0.4169 - accuracy: 0.8140 - val_loss: 0.4729 - val_accuracy: 0.7958\n",
      "\n",
      "Epoch 00079: val_loss did not improve from 0.46141\n",
      "Epoch 80/100\n",
      "18/18 [==============================] - 0s 5ms/step - loss: 0.4033 - accuracy: 0.8368 - val_loss: 0.4713 - val_accuracy: 0.7958\n",
      "\n",
      "Epoch 00080: val_loss did not improve from 0.46141\n",
      "Epoch 81/100\n",
      "18/18 [==============================] - 0s 5ms/step - loss: 0.3990 - accuracy: 0.8404 - val_loss: 0.4722 - val_accuracy: 0.7958\n",
      "\n",
      "Epoch 00081: val_loss did not improve from 0.46141\n",
      "Epoch 82/100\n",
      "18/18 [==============================] - 0s 6ms/step - loss: 0.4140 - accuracy: 0.8298 - val_loss: 0.4720 - val_accuracy: 0.7958\n",
      "\n",
      "Epoch 00082: val_loss did not improve from 0.46141\n",
      "Epoch 83/100\n",
      "18/18 [==============================] - 0s 5ms/step - loss: 0.4305 - accuracy: 0.8193 - val_loss: 0.4712 - val_accuracy: 0.7958\n",
      "\n",
      "Epoch 00083: val_loss did not improve from 0.46141\n",
      "Epoch 84/100\n",
      "18/18 [==============================] - 0s 5ms/step - loss: 0.4104 - accuracy: 0.8316 - val_loss: 0.4715 - val_accuracy: 0.7958\n",
      "\n",
      "Epoch 00084: val_loss did not improve from 0.46141\n",
      "Epoch 85/100\n",
      "18/18 [==============================] - 0s 5ms/step - loss: 0.3951 - accuracy: 0.8281 - val_loss: 0.4719 - val_accuracy: 0.7958\n",
      "\n",
      "Epoch 00085: val_loss did not improve from 0.46141\n",
      "Epoch 86/100\n",
      "18/18 [==============================] - 0s 6ms/step - loss: 0.4123 - accuracy: 0.8351 - val_loss: 0.4733 - val_accuracy: 0.7958\n",
      "\n",
      "Epoch 00086: val_loss did not improve from 0.46141\n",
      "Epoch 87/100\n",
      "18/18 [==============================] - 0s 5ms/step - loss: 0.4058 - accuracy: 0.8351 - val_loss: 0.4727 - val_accuracy: 0.7958\n",
      "\n",
      "Epoch 00087: val_loss did not improve from 0.46141\n",
      "Epoch 88/100\n",
      "18/18 [==============================] - 0s 5ms/step - loss: 0.4049 - accuracy: 0.8316 - val_loss: 0.4705 - val_accuracy: 0.7887\n",
      "\n",
      "Epoch 00088: val_loss did not improve from 0.46141\n",
      "Epoch 89/100\n",
      "18/18 [==============================] - 0s 5ms/step - loss: 0.3920 - accuracy: 0.8456 - val_loss: 0.4727 - val_accuracy: 0.7958\n",
      "\n",
      "Epoch 00089: val_loss did not improve from 0.46141\n",
      "Epoch 90/100\n",
      "18/18 [==============================] - 0s 5ms/step - loss: 0.3957 - accuracy: 0.8368 - val_loss: 0.4733 - val_accuracy: 0.7958\n",
      "\n",
      "Epoch 00090: val_loss did not improve from 0.46141\n",
      "Epoch 91/100\n",
      "18/18 [==============================] - 0s 5ms/step - loss: 0.3977 - accuracy: 0.8561 - val_loss: 0.4728 - val_accuracy: 0.7958\n",
      "\n",
      "Epoch 00091: val_loss did not improve from 0.46141\n",
      "Epoch 92/100\n",
      "18/18 [==============================] - 0s 5ms/step - loss: 0.4183 - accuracy: 0.8246 - val_loss: 0.4736 - val_accuracy: 0.7958\n",
      "\n",
      "Epoch 00092: val_loss did not improve from 0.46141\n",
      "Epoch 93/100\n",
      "18/18 [==============================] - 0s 5ms/step - loss: 0.4033 - accuracy: 0.8333 - val_loss: 0.4729 - val_accuracy: 0.7887\n",
      "\n",
      "Epoch 00093: val_loss did not improve from 0.46141\n",
      "Epoch 94/100\n",
      "18/18 [==============================] - 0s 5ms/step - loss: 0.3868 - accuracy: 0.8404 - val_loss: 0.4758 - val_accuracy: 0.7958\n",
      "\n",
      "Epoch 00094: val_loss did not improve from 0.46141\n",
      "Epoch 95/100\n",
      "18/18 [==============================] - 0s 5ms/step - loss: 0.3876 - accuracy: 0.8246 - val_loss: 0.4757 - val_accuracy: 0.7958\n",
      "\n",
      "Epoch 00095: val_loss did not improve from 0.46141\n",
      "Epoch 96/100\n",
      "18/18 [==============================] - 0s 5ms/step - loss: 0.3882 - accuracy: 0.8456 - val_loss: 0.4751 - val_accuracy: 0.7958\n",
      "\n",
      "Epoch 00096: val_loss did not improve from 0.46141\n",
      "Epoch 97/100\n",
      "18/18 [==============================] - 0s 5ms/step - loss: 0.3874 - accuracy: 0.8474 - val_loss: 0.4754 - val_accuracy: 0.7958\n",
      "\n",
      "Epoch 00097: val_loss did not improve from 0.46141\n",
      "Epoch 98/100\n",
      "18/18 [==============================] - 0s 5ms/step - loss: 0.3783 - accuracy: 0.8351 - val_loss: 0.4758 - val_accuracy: 0.7958\n",
      "\n",
      "Epoch 00098: val_loss did not improve from 0.46141\n",
      "Epoch 99/100\n",
      "18/18 [==============================] - 0s 5ms/step - loss: 0.4162 - accuracy: 0.8211 - val_loss: 0.4771 - val_accuracy: 0.7958\n",
      "\n",
      "Epoch 00099: val_loss did not improve from 0.46141\n",
      "Epoch 100/100\n",
      "18/18 [==============================] - 0s 5ms/step - loss: 0.4011 - accuracy: 0.8333 - val_loss: 0.4770 - val_accuracy: 0.7958\n",
      "\n",
      "Epoch 00100: val_loss did not improve from 0.46141\n"
     ]
    },
    {
     "data": {
      "text/plain": [
       "<keras.callbacks.History at 0x7fabf0d31d10>"
      ]
     },
     "execution_count": 40,
     "metadata": {},
     "output_type": "execute_result"
    }
   ],
   "source": [
    "model_4.fit(train_ds, epochs=100, validation_data=val_ds, callbacks=[create_model_checkpoint(\"model_4\")])"
   ]
  },
  {
   "cell_type": "code",
   "execution_count": 41,
   "id": "3054fea0",
   "metadata": {
    "execution": {
     "iopub.execute_input": "2022-09-17T17:49:01.292341Z",
     "iopub.status.busy": "2022-09-17T17:49:01.291391Z",
     "iopub.status.idle": "2022-09-17T17:49:02.511700Z",
     "shell.execute_reply": "2022-09-17T17:49:02.510708Z"
    },
    "papermill": {
     "duration": 1.2777,
     "end_time": "2022-09-17T17:49:02.513853",
     "exception": false,
     "start_time": "2022-09-17T17:49:01.236153",
     "status": "completed"
    },
    "tags": []
   },
   "outputs": [
    {
     "name": "stdout",
     "output_type": "stream",
     "text": [
      "5/5 [==============================] - 0s 3ms/step - loss: 0.4614 - accuracy: 0.7887\n"
     ]
    },
    {
     "data": {
      "text/plain": [
       "[0.4614124000072479, 0.7887324094772339]"
      ]
     },
     "execution_count": 41,
     "metadata": {},
     "output_type": "execute_result"
    }
   ],
   "source": [
    "model_4_best = tf.keras.models.load_model(\"./model_experiment/model_4/\")\n",
    "model_4_best.evaluate(val_ds)"
   ]
  },
  {
   "cell_type": "code",
   "execution_count": 42,
   "id": "6ad9d89f",
   "metadata": {
    "execution": {
     "iopub.execute_input": "2022-09-17T17:49:02.628213Z",
     "iopub.status.busy": "2022-09-17T17:49:02.627846Z",
     "iopub.status.idle": "2022-09-17T17:49:02.642149Z",
     "shell.execute_reply": "2022-09-17T17:49:02.640807Z"
    },
    "papermill": {
     "duration": 0.074114,
     "end_time": "2022-09-17T17:49:02.644505",
     "exception": false,
     "start_time": "2022-09-17T17:49:02.570391",
     "status": "completed"
    },
    "tags": []
   },
   "outputs": [
    {
     "data": {
      "text/html": [
       "<div>\n",
       "<style scoped>\n",
       "    .dataframe tbody tr th:only-of-type {\n",
       "        vertical-align: middle;\n",
       "    }\n",
       "\n",
       "    .dataframe tbody tr th {\n",
       "        vertical-align: top;\n",
       "    }\n",
       "\n",
       "    .dataframe thead th {\n",
       "        text-align: right;\n",
       "    }\n",
       "</style>\n",
       "<table border=\"1\" class=\"dataframe\">\n",
       "  <thead>\n",
       "    <tr style=\"text-align: right;\">\n",
       "      <th></th>\n",
       "      <th>Pclass</th>\n",
       "      <th>Sex</th>\n",
       "      <th>Age</th>\n",
       "      <th>SibSp</th>\n",
       "      <th>Parch</th>\n",
       "      <th>Fare</th>\n",
       "      <th>Embarked</th>\n",
       "    </tr>\n",
       "    <tr>\n",
       "      <th>PassengerId</th>\n",
       "      <th></th>\n",
       "      <th></th>\n",
       "      <th></th>\n",
       "      <th></th>\n",
       "      <th></th>\n",
       "      <th></th>\n",
       "      <th></th>\n",
       "    </tr>\n",
       "  </thead>\n",
       "  <tbody>\n",
       "    <tr>\n",
       "      <th>892</th>\n",
       "      <td>3</td>\n",
       "      <td>male</td>\n",
       "      <td>34.5</td>\n",
       "      <td>0</td>\n",
       "      <td>0</td>\n",
       "      <td>7.8292</td>\n",
       "      <td>Q</td>\n",
       "    </tr>\n",
       "    <tr>\n",
       "      <th>893</th>\n",
       "      <td>3</td>\n",
       "      <td>female</td>\n",
       "      <td>47.0</td>\n",
       "      <td>1</td>\n",
       "      <td>0</td>\n",
       "      <td>7.0000</td>\n",
       "      <td>S</td>\n",
       "    </tr>\n",
       "    <tr>\n",
       "      <th>894</th>\n",
       "      <td>2</td>\n",
       "      <td>male</td>\n",
       "      <td>62.0</td>\n",
       "      <td>0</td>\n",
       "      <td>0</td>\n",
       "      <td>9.6875</td>\n",
       "      <td>Q</td>\n",
       "    </tr>\n",
       "    <tr>\n",
       "      <th>895</th>\n",
       "      <td>3</td>\n",
       "      <td>male</td>\n",
       "      <td>27.0</td>\n",
       "      <td>0</td>\n",
       "      <td>0</td>\n",
       "      <td>8.6625</td>\n",
       "      <td>S</td>\n",
       "    </tr>\n",
       "    <tr>\n",
       "      <th>896</th>\n",
       "      <td>3</td>\n",
       "      <td>female</td>\n",
       "      <td>22.0</td>\n",
       "      <td>1</td>\n",
       "      <td>1</td>\n",
       "      <td>12.2875</td>\n",
       "      <td>S</td>\n",
       "    </tr>\n",
       "  </tbody>\n",
       "</table>\n",
       "</div>"
      ],
      "text/plain": [
       "             Pclass     Sex   Age  SibSp  Parch     Fare Embarked\n",
       "PassengerId                                                      \n",
       "892               3    male  34.5      0      0   7.8292        Q\n",
       "893               3  female  47.0      1      0   7.0000        S\n",
       "894               2    male  62.0      0      0   9.6875        Q\n",
       "895               3    male  27.0      0      0   8.6625        S\n",
       "896               3  female  22.0      1      1  12.2875        S"
      ]
     },
     "execution_count": 42,
     "metadata": {},
     "output_type": "execute_result"
    }
   ],
   "source": [
    "test_data_frame.head()"
   ]
  },
  {
   "cell_type": "code",
   "execution_count": 43,
   "id": "2bbb79de",
   "metadata": {
    "execution": {
     "iopub.execute_input": "2022-09-17T17:49:02.755707Z",
     "iopub.status.busy": "2022-09-17T17:49:02.755364Z",
     "iopub.status.idle": "2022-09-17T17:49:02.762035Z",
     "shell.execute_reply": "2022-09-17T17:49:02.761018Z"
    },
    "papermill": {
     "duration": 0.065498,
     "end_time": "2022-09-17T17:49:02.764392",
     "exception": false,
     "start_time": "2022-09-17T17:49:02.698894",
     "status": "completed"
    },
    "tags": []
   },
   "outputs": [
    {
     "data": {
      "text/plain": [
       "<TensorDataset shapes: {Pclass: (331,), Sex: (331,), Age: (331,), SibSp: (331,), Parch: (331,), Fare: (331,), Embarked: (331,)}, types: {Pclass: tf.int64, Sex: tf.string, Age: tf.float64, SibSp: tf.int64, Parch: tf.int64, Fare: tf.float64, Embarked: tf.string}>"
      ]
     },
     "execution_count": 43,
     "metadata": {},
     "output_type": "execute_result"
    }
   ],
   "source": [
    "test_ds"
   ]
  },
  {
   "cell_type": "code",
   "execution_count": 44,
   "id": "b98e624a",
   "metadata": {
    "execution": {
     "iopub.execute_input": "2022-09-17T17:49:02.873483Z",
     "iopub.status.busy": "2022-09-17T17:49:02.872844Z",
     "iopub.status.idle": "2022-09-17T17:49:03.000501Z",
     "shell.execute_reply": "2022-09-17T17:49:02.999604Z"
    },
    "papermill": {
     "duration": 0.183981,
     "end_time": "2022-09-17T17:49:03.002569",
     "exception": false,
     "start_time": "2022-09-17T17:49:02.818588",
     "status": "completed"
    },
    "tags": []
   },
   "outputs": [
    {
     "data": {
      "text/plain": [
       "<tf.Tensor: shape=(331,), dtype=int32, numpy=\n",
       "array([0, 0, 0, 0, 1, 0, 1, 0, 1, 0, 0, 1, 0, 1, 1, 0, 0, 0, 1, 0, 0, 1,\n",
       "       1, 0, 1, 0, 0, 0, 0, 0, 1, 0, 1, 0, 0, 0, 1, 1, 0, 0, 1, 1, 0, 0,\n",
       "       1, 1, 0, 0, 0, 1, 0, 0, 0, 1, 1, 1, 0, 0, 1, 1, 0, 1, 0, 1, 1, 1,\n",
       "       0, 1, 0, 0, 0, 1, 1, 1, 1, 1, 0, 0, 1, 0, 1, 0, 1, 0, 0, 1, 0, 0,\n",
       "       0, 0, 1, 1, 1, 0, 1, 0, 1, 1, 1, 0, 1, 0, 0, 0, 0, 0, 0, 0, 0, 0,\n",
       "       1, 0, 0, 1, 0, 0, 0, 0, 0, 0, 1, 0, 0, 0, 1, 1, 0, 1, 0, 1, 0, 1,\n",
       "       0, 0, 1, 0, 0, 0, 1, 1, 0, 1, 1, 0, 0, 1, 1, 0, 1, 0, 0, 0, 0, 0,\n",
       "       1, 0, 1, 1, 0, 1, 1, 1, 0, 0, 0, 1, 0, 0, 0, 1, 0, 0, 0, 1, 1, 0,\n",
       "       1, 0, 1, 0, 0, 0, 0, 1, 0, 0, 0, 0, 0, 1, 1, 1, 1, 0, 0, 1, 0, 1,\n",
       "       1, 0, 1, 0, 0, 0, 1, 0, 0, 0, 1, 1, 0, 0, 0, 1, 1, 0, 0, 0, 0, 1,\n",
       "       0, 1, 1, 0, 0, 1, 0, 0, 0, 1, 0, 0, 0, 0, 0, 1, 1, 0, 0, 0, 0, 0,\n",
       "       0, 1, 1, 1, 0, 0, 0, 0, 0, 0, 0, 1, 0, 1, 0, 0, 0, 1, 0, 1, 0, 0,\n",
       "       0, 0, 0, 0, 0, 1, 1, 0, 1, 0, 1, 1, 0, 0, 0, 1, 0, 1, 0, 0, 1, 1,\n",
       "       0, 1, 1, 1, 0, 0, 1, 0, 0, 1, 1, 0, 0, 0, 0, 0, 1, 1, 0, 0, 0, 0,\n",
       "       0, 1, 0, 0, 0, 1, 0, 1, 0, 0, 1, 0, 1, 0, 0, 0, 0, 1, 1, 1, 1, 1,\n",
       "       0], dtype=int32)>"
      ]
     },
     "execution_count": 44,
     "metadata": {},
     "output_type": "execute_result"
    }
   ],
   "source": [
    "model_4_predictions = model_4_best.predict(test_ds)\n",
    "model_4_predictions = tf.cast(np.round(np.max(model_4_predictions, axis=1)), dtype=tf.int32)  \n",
    "model_4_predictions"
   ]
  },
  {
   "cell_type": "markdown",
   "id": "2cee2ab0",
   "metadata": {
    "papermill": {
     "duration": 0.053048,
     "end_time": "2022-09-17T17:49:03.110054",
     "exception": false,
     "start_time": "2022-09-17T17:49:03.057006",
     "status": "completed"
    },
    "tags": []
   },
   "source": [
    "# Creating output to submit result"
   ]
  },
  {
   "cell_type": "code",
   "execution_count": null,
   "id": "16a54717",
   "metadata": {
    "papermill": {
     "duration": 0.05243,
     "end_time": "2022-09-17T17:49:03.216883",
     "exception": false,
     "start_time": "2022-09-17T17:49:03.164453",
     "status": "completed"
    },
    "tags": []
   },
   "outputs": [],
   "source": []
  },
  {
   "cell_type": "code",
   "execution_count": 45,
   "id": "94f455cd",
   "metadata": {
    "execution": {
     "iopub.execute_input": "2022-09-17T17:49:03.325019Z",
     "iopub.status.busy": "2022-09-17T17:49:03.324047Z",
     "iopub.status.idle": "2022-09-17T17:49:03.334619Z",
     "shell.execute_reply": "2022-09-17T17:49:03.333307Z"
    },
    "papermill": {
     "duration": 0.067715,
     "end_time": "2022-09-17T17:49:03.337339",
     "exception": false,
     "start_time": "2022-09-17T17:49:03.269624",
     "status": "completed"
    },
    "tags": []
   },
   "outputs": [
    {
     "name": "stdout",
     "output_type": "stream",
     "text": [
      "Your submission was successfully saved!\n"
     ]
    }
   ],
   "source": [
    "output = pd.DataFrame({\"PassengerID\": test_data_frame.index, \"Survived\": model_4_predictions})\n",
    "output.to_csv('submission.csv', index=False)\n",
    "print(\"Your submission was successfully saved!\")"
   ]
  },
  {
   "cell_type": "code",
   "execution_count": null,
   "id": "c2fcebcf",
   "metadata": {
    "papermill": {
     "duration": 0.053036,
     "end_time": "2022-09-17T17:49:03.444117",
     "exception": false,
     "start_time": "2022-09-17T17:49:03.391081",
     "status": "completed"
    },
    "tags": []
   },
   "outputs": [],
   "source": []
  }
 ],
 "metadata": {
  "kernelspec": {
   "display_name": "Python 3",
   "language": "python",
   "name": "python3"
  },
  "language_info": {
   "codemirror_mode": {
    "name": "ipython",
    "version": 3
   },
   "file_extension": ".py",
   "mimetype": "text/x-python",
   "name": "python",
   "nbconvert_exporter": "python",
   "pygments_lexer": "ipython3",
   "version": "3.7.12"
  },
  "papermill": {
   "default_parameters": {},
   "duration": 559.653709,
   "end_time": "2022-09-17T17:49:07.163835",
   "environment_variables": {},
   "exception": null,
   "input_path": "__notebook__.ipynb",
   "output_path": "__notebook__.ipynb",
   "parameters": {},
   "start_time": "2022-09-17T17:39:47.510126",
   "version": "2.3.4"
  }
 },
 "nbformat": 4,
 "nbformat_minor": 5
}
