{
 "cells": [
  {
   "cell_type": "code",
   "execution_count": 1,
   "id": "9bbe7521",
   "metadata": {
    "_cell_guid": "b1076dfc-b9ad-4769-8c92-a6c4dae69d19",
    "_uuid": "8f2839f25d086af736a60e9eeb907d3b93b6e0e5",
    "execution": {
     "iopub.execute_input": "2022-10-03T21:36:20.984963Z",
     "iopub.status.busy": "2022-10-03T21:36:20.984176Z",
     "iopub.status.idle": "2022-10-03T21:36:20.998985Z",
     "shell.execute_reply": "2022-10-03T21:36:20.997636Z"
    },
    "papermill": {
     "duration": 0.028216,
     "end_time": "2022-10-03T21:36:21.001827",
     "exception": false,
     "start_time": "2022-10-03T21:36:20.973611",
     "status": "completed"
    },
    "tags": []
   },
   "outputs": [
    {
     "name": "stdout",
     "output_type": "stream",
     "text": [
      "/kaggle/input/titanic/train.csv\n",
      "/kaggle/input/titanic/test.csv\n",
      "/kaggle/input/titanic/gender_submission.csv\n"
     ]
    }
   ],
   "source": [
    "# This Python 3 environment comes with many helpful analytics libraries installed\n",
    "# It is defined by the kaggle/python Docker image: https://github.com/kaggle/docker-python\n",
    "# For example, here's several helpful packages to load\n",
    "\n",
    "import numpy as np # linear algebra\n",
    "import pandas as pd # data processing, CSV file I/O (e.g. pd.read_csv)\n",
    "\n",
    "# Input data files are available in the read-only \"../input/\" directory\n",
    "# For example, running this (by clicking run or pressing Shift+Enter) will list all files under the input directory\n",
    "\n",
    "import os\n",
    "for dirname, _, filenames in os.walk('/kaggle/input'):\n",
    "    for filename in filenames:\n",
    "        print(os.path.join(dirname, filename))\n",
    "\n",
    "# You can write up to 20GB to the current directory (/kaggle/working/) that gets preserved as output when you create a version using \"Save & Run All\" \n",
    "# You can also write temporary files to /kaggle/temp/, but they won't be saved outside of the current session"
   ]
  },
  {
   "cell_type": "markdown",
   "id": "6c2f4b24",
   "metadata": {
    "papermill": {
     "duration": 0.006017,
     "end_time": "2022-10-03T21:36:21.014416",
     "exception": false,
     "start_time": "2022-10-03T21:36:21.008399",
     "status": "completed"
    },
    "tags": []
   },
   "source": [
    "### IMPORTS"
   ]
  },
  {
   "cell_type": "code",
   "execution_count": 2,
   "id": "985d41bb",
   "metadata": {
    "execution": {
     "iopub.execute_input": "2022-10-03T21:36:21.028990Z",
     "iopub.status.busy": "2022-10-03T21:36:21.028151Z",
     "iopub.status.idle": "2022-10-03T21:36:29.461438Z",
     "shell.execute_reply": "2022-10-03T21:36:29.460427Z"
    },
    "papermill": {
     "duration": 8.443539,
     "end_time": "2022-10-03T21:36:29.464087",
     "exception": false,
     "start_time": "2022-10-03T21:36:21.020548",
     "status": "completed"
    },
    "tags": []
   },
   "outputs": [],
   "source": [
    "# feature engineering libs\n",
    "import seaborn as sns\n",
    "import matplotlib.pyplot as plt\n",
    "import numpy as np\n",
    "import os\n",
    "import pandas as pd\n",
    "\n",
    "# sklearn \n",
    "import sklearn\n",
    "from sklearn.model_selection import train_test_split\n",
    "\n",
    "# tensorflow related libs\n",
    "import tensorflow as tf\n",
    "from tensorflow.keras.layers import IntegerLookup, Normalization, StringLookup "
   ]
  },
  {
   "cell_type": "code",
   "execution_count": 3,
   "id": "b14ab1e6",
   "metadata": {
    "execution": {
     "iopub.execute_input": "2022-10-03T21:36:29.478711Z",
     "iopub.status.busy": "2022-10-03T21:36:29.478027Z",
     "iopub.status.idle": "2022-10-03T21:36:29.483714Z",
     "shell.execute_reply": "2022-10-03T21:36:29.482495Z"
    },
    "papermill": {
     "duration": 0.01551,
     "end_time": "2022-10-03T21:36:29.485927",
     "exception": false,
     "start_time": "2022-10-03T21:36:29.470417",
     "status": "completed"
    },
    "tags": []
   },
   "outputs": [],
   "source": [
    "pd.set_option('display.max_rows', 500)"
   ]
  },
  {
   "cell_type": "markdown",
   "id": "c9612c57",
   "metadata": {
    "papermill": {
     "duration": 0.00578,
     "end_time": "2022-10-03T21:36:29.497832",
     "exception": false,
     "start_time": "2022-10-03T21:36:29.492052",
     "status": "completed"
    },
    "tags": []
   },
   "source": [
    "### HELPER FUNCTIONS"
   ]
  },
  {
   "cell_type": "code",
   "execution_count": 4,
   "id": "b02db3d1",
   "metadata": {
    "execution": {
     "iopub.execute_input": "2022-10-03T21:36:29.511653Z",
     "iopub.status.busy": "2022-10-03T21:36:29.511256Z",
     "iopub.status.idle": "2022-10-03T21:36:29.517340Z",
     "shell.execute_reply": "2022-10-03T21:36:29.516267Z"
    },
    "papermill": {
     "duration": 0.01578,
     "end_time": "2022-10-03T21:36:29.519687",
     "exception": false,
     "start_time": "2022-10-03T21:36:29.503907",
     "status": "completed"
    },
    "tags": []
   },
   "outputs": [],
   "source": [
    "def create_model_checkpoint(model_name, save_path=\"model_experiment\"):\n",
    "    return tf.keras.callbacks.ModelCheckpoint(\n",
    "        filepath=os.path.join(save_path, model_name), \n",
    "        verbose=1, \n",
    "        save_best_only=True,\n",
    "        monitor='val_accuracy',\n",
    "    )"
   ]
  },
  {
   "cell_type": "code",
   "execution_count": 5,
   "id": "7c912789",
   "metadata": {
    "execution": {
     "iopub.execute_input": "2022-10-03T21:36:29.534651Z",
     "iopub.status.busy": "2022-10-03T21:36:29.533800Z",
     "iopub.status.idle": "2022-10-03T21:36:29.540514Z",
     "shell.execute_reply": "2022-10-03T21:36:29.539450Z"
    },
    "papermill": {
     "duration": 0.016939,
     "end_time": "2022-10-03T21:36:29.542804",
     "exception": false,
     "start_time": "2022-10-03T21:36:29.525865",
     "status": "completed"
    },
    "tags": []
   },
   "outputs": [],
   "source": [
    "def dataframe_to_dataset (dataframe, is_test):\n",
    "    data_frame = dataframe.copy()\n",
    "    if is_test:\n",
    "        ds = tf.data.Dataset.from_tensors(dict(data_frame))\n",
    "    else:    \n",
    "        labels = data_frame.pop(\"Survived\")\n",
    "        ds = tf.data.Dataset.from_tensor_slices((dict(data_frame), labels))\n",
    "        ds = ds.shuffle(buffer_size=len(data_frame))\n",
    "    return ds"
   ]
  },
  {
   "cell_type": "code",
   "execution_count": 6,
   "id": "dfb20f74",
   "metadata": {
    "execution": {
     "iopub.execute_input": "2022-10-03T21:36:29.557016Z",
     "iopub.status.busy": "2022-10-03T21:36:29.556634Z",
     "iopub.status.idle": "2022-10-03T21:36:29.562587Z",
     "shell.execute_reply": "2022-10-03T21:36:29.561473Z"
    },
    "papermill": {
     "duration": 0.015881,
     "end_time": "2022-10-03T21:36:29.564829",
     "exception": false,
     "start_time": "2022-10-03T21:36:29.548948",
     "status": "completed"
    },
    "tags": []
   },
   "outputs": [],
   "source": [
    "def encode_numerical_feature (feature, name, dataset):\n",
    "    normalizer = Normalization()\n",
    "    \n",
    "    feature_ds = dataset.map(lambda x, y: x[name])\n",
    "    feature_ds = feature_ds.map(lambda x: tf.expand_dims(x, -1))\n",
    "    \n",
    "    normalizer.adapt(feature_ds)\n",
    "    encoded_feature = normalizer(feature)\n",
    "    return encoded_feature"
   ]
  },
  {
   "cell_type": "code",
   "execution_count": 7,
   "id": "a1dab429",
   "metadata": {
    "execution": {
     "iopub.execute_input": "2022-10-03T21:36:29.579139Z",
     "iopub.status.busy": "2022-10-03T21:36:29.578231Z",
     "iopub.status.idle": "2022-10-03T21:36:29.584977Z",
     "shell.execute_reply": "2022-10-03T21:36:29.583902Z"
    },
    "papermill": {
     "duration": 0.016243,
     "end_time": "2022-10-03T21:36:29.587141",
     "exception": false,
     "start_time": "2022-10-03T21:36:29.570898",
     "status": "completed"
    },
    "tags": []
   },
   "outputs": [],
   "source": [
    "def encode_categorical_feature (feature, name, dataset, is_string):\n",
    "    lookup_class = StringLookup if is_string else IntegerLookup\n",
    "    lookup = lookup_class(output_mode=\"binary\")\n",
    "    \n",
    "    feature_ds = dataset.map(lambda x, y: x[name])\n",
    "    feature_ds = feature_ds.map(lambda x: tf.expand_dims(x, -1))\n",
    "    \n",
    "    lookup.adapt(feature_ds)\n",
    "    encoded_feature = lookup(feature)\n",
    "    return encoded_feature"
   ]
  },
  {
   "cell_type": "code",
   "execution_count": 8,
   "id": "328624de",
   "metadata": {
    "execution": {
     "iopub.execute_input": "2022-10-03T21:36:29.602205Z",
     "iopub.status.busy": "2022-10-03T21:36:29.601389Z",
     "iopub.status.idle": "2022-10-03T21:36:29.607510Z",
     "shell.execute_reply": "2022-10-03T21:36:29.606584Z"
    },
    "papermill": {
     "duration": 0.016329,
     "end_time": "2022-10-03T21:36:29.609877",
     "exception": false,
     "start_time": "2022-10-03T21:36:29.593548",
     "status": "completed"
    },
    "tags": []
   },
   "outputs": [],
   "source": [
    "def age_binning(age):\n",
    "    \n",
    "    if age < 10:\n",
    "        return \"child\"\n",
    "    elif (age >= 10) & ( age <= 18):\n",
    "        return \"teen\"\n",
    "    elif (age >= 18) & (age <= 30):\n",
    "        return \"adult\"\n",
    "    elif (age >= 30) & (age <= 50):\n",
    "        return \"senior\"\n",
    "    elif age >= 50:\n",
    "        return \"old\"\n",
    "    else:\n",
    "        return \"missing\""
   ]
  },
  {
   "cell_type": "code",
   "execution_count": 9,
   "id": "aadc0430",
   "metadata": {
    "execution": {
     "iopub.execute_input": "2022-10-03T21:36:29.624509Z",
     "iopub.status.busy": "2022-10-03T21:36:29.623702Z",
     "iopub.status.idle": "2022-10-03T21:36:29.630857Z",
     "shell.execute_reply": "2022-10-03T21:36:29.629640Z"
    },
    "papermill": {
     "duration": 0.017742,
     "end_time": "2022-10-03T21:36:29.633837",
     "exception": false,
     "start_time": "2022-10-03T21:36:29.616095",
     "status": "completed"
    },
    "tags": []
   },
   "outputs": [],
   "source": [
    "def fare_binning(fare):\n",
    "    \n",
    "    if fare < 10:\n",
    "        return \"class_1\"\n",
    "    elif (fare >= 10) & ( fare <= 50):\n",
    "        return \"class_2\"\n",
    "    elif (fare >= 50) & (fare <= 100):\n",
    "        return \"class_3\"\n",
    "    elif (fare >= 100) & (fare <= 150):\n",
    "        return \"class_4\"\n",
    "    elif (fare >= 200) & (fare <= 250):\n",
    "        return \"class_4\"\n",
    "    elif fare >= 350:\n",
    "        return \"class_5\"\n",
    "    else:\n",
    "        return \"missing\""
   ]
  },
  {
   "cell_type": "code",
   "execution_count": 10,
   "id": "b57914a4",
   "metadata": {
    "execution": {
     "iopub.execute_input": "2022-10-03T21:36:29.649064Z",
     "iopub.status.busy": "2022-10-03T21:36:29.648665Z",
     "iopub.status.idle": "2022-10-03T21:36:29.653796Z",
     "shell.execute_reply": "2022-10-03T21:36:29.652723Z"
    },
    "papermill": {
     "duration": 0.014757,
     "end_time": "2022-10-03T21:36:29.656073",
     "exception": false,
     "start_time": "2022-10-03T21:36:29.641316",
     "status": "completed"
    },
    "tags": []
   },
   "outputs": [],
   "source": [
    "early_stopping_callback = tf.keras.callbacks.EarlyStopping(monitor='val_accuracy', patience=20)"
   ]
  },
  {
   "cell_type": "markdown",
   "id": "f91817bb",
   "metadata": {
    "papermill": {
     "duration": 0.005872,
     "end_time": "2022-10-03T21:36:29.668350",
     "exception": false,
     "start_time": "2022-10-03T21:36:29.662478",
     "status": "completed"
    },
    "tags": []
   },
   "source": [
    "### MANAGING DATA\n",
    "\n",
    "[https://www.kaggle.com/code/gunesevitan/titanic-advanced-feature-engineering-tutorial/notebook](http://)"
   ]
  },
  {
   "cell_type": "code",
   "execution_count": 11,
   "id": "206df5f9",
   "metadata": {
    "execution": {
     "iopub.execute_input": "2022-10-03T21:36:29.682376Z",
     "iopub.status.busy": "2022-10-03T21:36:29.681857Z",
     "iopub.status.idle": "2022-10-03T21:36:29.723627Z",
     "shell.execute_reply": "2022-10-03T21:36:29.722440Z"
    },
    "papermill": {
     "duration": 0.052194,
     "end_time": "2022-10-03T21:36:29.726583",
     "exception": false,
     "start_time": "2022-10-03T21:36:29.674389",
     "status": "completed"
    },
    "tags": []
   },
   "outputs": [
    {
     "data": {
      "text/plain": [
       "(891, 418, (891, 12), (418, 11))"
      ]
     },
     "execution_count": 11,
     "metadata": {},
     "output_type": "execute_result"
    }
   ],
   "source": [
    "# Imports dataset from Kaggle\n",
    "train_df = pd.read_csv(\"/kaggle/input/titanic/train.csv\")\n",
    "test_df = pd.read_csv(\"/kaggle/input/titanic/test.csv\")\n",
    "len(train_df), len(test_df), train_df.shape, test_df.shape"
   ]
  },
  {
   "cell_type": "code",
   "execution_count": 12,
   "id": "b7f20585",
   "metadata": {
    "execution": {
     "iopub.execute_input": "2022-10-03T21:36:29.741589Z",
     "iopub.status.busy": "2022-10-03T21:36:29.740509Z",
     "iopub.status.idle": "2022-10-03T21:36:29.786375Z",
     "shell.execute_reply": "2022-10-03T21:36:29.785093Z"
    },
    "papermill": {
     "duration": 0.056048,
     "end_time": "2022-10-03T21:36:29.788907",
     "exception": false,
     "start_time": "2022-10-03T21:36:29.732859",
     "status": "completed"
    },
    "tags": []
   },
   "outputs": [
    {
     "name": "stdout",
     "output_type": "stream",
     "text": [
      "<class 'pandas.core.frame.DataFrame'>\n",
      "RangeIndex: 891 entries, 0 to 890\n",
      "Data columns (total 12 columns):\n",
      " #   Column       Non-Null Count  Dtype  \n",
      "---  ------       --------------  -----  \n",
      " 0   PassengerId  891 non-null    int64  \n",
      " 1   Survived     891 non-null    int64  \n",
      " 2   Pclass       891 non-null    int64  \n",
      " 3   Name         891 non-null    object \n",
      " 4   Sex          891 non-null    object \n",
      " 5   Age          714 non-null    float64\n",
      " 6   SibSp        891 non-null    int64  \n",
      " 7   Parch        891 non-null    int64  \n",
      " 8   Ticket       891 non-null    object \n",
      " 9   Fare         891 non-null    float64\n",
      " 10  Cabin        204 non-null    object \n",
      " 11  Embarked     889 non-null    object \n",
      "dtypes: float64(2), int64(5), object(5)\n",
      "memory usage: 83.7+ KB\n",
      "None\n"
     ]
    },
    {
     "data": {
      "text/html": [
       "<div>\n",
       "<style scoped>\n",
       "    .dataframe tbody tr th:only-of-type {\n",
       "        vertical-align: middle;\n",
       "    }\n",
       "\n",
       "    .dataframe tbody tr th {\n",
       "        vertical-align: top;\n",
       "    }\n",
       "\n",
       "    .dataframe thead th {\n",
       "        text-align: right;\n",
       "    }\n",
       "</style>\n",
       "<table border=\"1\" class=\"dataframe\">\n",
       "  <thead>\n",
       "    <tr style=\"text-align: right;\">\n",
       "      <th></th>\n",
       "      <th>PassengerId</th>\n",
       "      <th>Survived</th>\n",
       "      <th>Pclass</th>\n",
       "      <th>Name</th>\n",
       "      <th>Sex</th>\n",
       "      <th>Age</th>\n",
       "      <th>SibSp</th>\n",
       "      <th>Parch</th>\n",
       "      <th>Ticket</th>\n",
       "      <th>Fare</th>\n",
       "      <th>Cabin</th>\n",
       "      <th>Embarked</th>\n",
       "    </tr>\n",
       "  </thead>\n",
       "  <tbody>\n",
       "    <tr>\n",
       "      <th>0</th>\n",
       "      <td>1</td>\n",
       "      <td>0</td>\n",
       "      <td>3</td>\n",
       "      <td>Braund, Mr. Owen Harris</td>\n",
       "      <td>male</td>\n",
       "      <td>22.0</td>\n",
       "      <td>1</td>\n",
       "      <td>0</td>\n",
       "      <td>A/5 21171</td>\n",
       "      <td>7.2500</td>\n",
       "      <td>NaN</td>\n",
       "      <td>S</td>\n",
       "    </tr>\n",
       "    <tr>\n",
       "      <th>1</th>\n",
       "      <td>2</td>\n",
       "      <td>1</td>\n",
       "      <td>1</td>\n",
       "      <td>Cumings, Mrs. John Bradley (Florence Briggs Th...</td>\n",
       "      <td>female</td>\n",
       "      <td>38.0</td>\n",
       "      <td>1</td>\n",
       "      <td>0</td>\n",
       "      <td>PC 17599</td>\n",
       "      <td>71.2833</td>\n",
       "      <td>C85</td>\n",
       "      <td>C</td>\n",
       "    </tr>\n",
       "    <tr>\n",
       "      <th>2</th>\n",
       "      <td>3</td>\n",
       "      <td>1</td>\n",
       "      <td>3</td>\n",
       "      <td>Heikkinen, Miss. Laina</td>\n",
       "      <td>female</td>\n",
       "      <td>26.0</td>\n",
       "      <td>0</td>\n",
       "      <td>0</td>\n",
       "      <td>STON/O2. 3101282</td>\n",
       "      <td>7.9250</td>\n",
       "      <td>NaN</td>\n",
       "      <td>S</td>\n",
       "    </tr>\n",
       "    <tr>\n",
       "      <th>3</th>\n",
       "      <td>4</td>\n",
       "      <td>1</td>\n",
       "      <td>1</td>\n",
       "      <td>Futrelle, Mrs. Jacques Heath (Lily May Peel)</td>\n",
       "      <td>female</td>\n",
       "      <td>35.0</td>\n",
       "      <td>1</td>\n",
       "      <td>0</td>\n",
       "      <td>113803</td>\n",
       "      <td>53.1000</td>\n",
       "      <td>C123</td>\n",
       "      <td>S</td>\n",
       "    </tr>\n",
       "    <tr>\n",
       "      <th>4</th>\n",
       "      <td>5</td>\n",
       "      <td>0</td>\n",
       "      <td>3</td>\n",
       "      <td>Allen, Mr. William Henry</td>\n",
       "      <td>male</td>\n",
       "      <td>35.0</td>\n",
       "      <td>0</td>\n",
       "      <td>0</td>\n",
       "      <td>373450</td>\n",
       "      <td>8.0500</td>\n",
       "      <td>NaN</td>\n",
       "      <td>S</td>\n",
       "    </tr>\n",
       "  </tbody>\n",
       "</table>\n",
       "</div>"
      ],
      "text/plain": [
       "   PassengerId  Survived  Pclass  \\\n",
       "0            1         0       3   \n",
       "1            2         1       1   \n",
       "2            3         1       3   \n",
       "3            4         1       1   \n",
       "4            5         0       3   \n",
       "\n",
       "                                                Name     Sex   Age  SibSp  \\\n",
       "0                            Braund, Mr. Owen Harris    male  22.0      1   \n",
       "1  Cumings, Mrs. John Bradley (Florence Briggs Th...  female  38.0      1   \n",
       "2                             Heikkinen, Miss. Laina  female  26.0      0   \n",
       "3       Futrelle, Mrs. Jacques Heath (Lily May Peel)  female  35.0      1   \n",
       "4                           Allen, Mr. William Henry    male  35.0      0   \n",
       "\n",
       "   Parch            Ticket     Fare Cabin Embarked  \n",
       "0      0         A/5 21171   7.2500   NaN        S  \n",
       "1      0          PC 17599  71.2833   C85        C  \n",
       "2      0  STON/O2. 3101282   7.9250   NaN        S  \n",
       "3      0            113803  53.1000  C123        S  \n",
       "4      0            373450   8.0500   NaN        S  "
      ]
     },
     "execution_count": 12,
     "metadata": {},
     "output_type": "execute_result"
    }
   ],
   "source": [
    "print(train_df.info())\n",
    "train_df.head()"
   ]
  },
  {
   "cell_type": "markdown",
   "id": "956eb39d",
   "metadata": {
    "papermill": {
     "duration": 0.006475,
     "end_time": "2022-10-03T21:36:29.802085",
     "exception": false,
     "start_time": "2022-10-03T21:36:29.795610",
     "status": "completed"
    },
    "tags": []
   },
   "source": [
    "### CLEANING DATA"
   ]
  },
  {
   "cell_type": "code",
   "execution_count": 13,
   "id": "a8b01c26",
   "metadata": {
    "execution": {
     "iopub.execute_input": "2022-10-03T21:36:29.817138Z",
     "iopub.status.busy": "2022-10-03T21:36:29.816713Z",
     "iopub.status.idle": "2022-10-03T21:36:29.828628Z",
     "shell.execute_reply": "2022-10-03T21:36:29.827203Z"
    },
    "papermill": {
     "duration": 0.022865,
     "end_time": "2022-10-03T21:36:29.831587",
     "exception": false,
     "start_time": "2022-10-03T21:36:29.808722",
     "status": "completed"
    },
    "tags": []
   },
   "outputs": [
    {
     "name": "stdout",
     "output_type": "stream",
     "text": [
      "PassengerId      0\n",
      "Survived         0\n",
      "Pclass           0\n",
      "Name             0\n",
      "Sex              0\n",
      "Age            177\n",
      "SibSp            0\n",
      "Parch            0\n",
      "Ticket           0\n",
      "Fare             0\n",
      "Cabin          687\n",
      "Embarked         2\n",
      "dtype: int64\n",
      "PassengerId      0\n",
      "Pclass           0\n",
      "Name             0\n",
      "Sex              0\n",
      "Age             86\n",
      "SibSp            0\n",
      "Parch            0\n",
      "Ticket           0\n",
      "Fare             1\n",
      "Cabin          327\n",
      "Embarked         0\n",
      "dtype: int64\n"
     ]
    }
   ],
   "source": [
    "print(train_df.isna().sum())\n",
    "print(test_df.isna().sum())"
   ]
  },
  {
   "cell_type": "code",
   "execution_count": 14,
   "id": "d1a95fdc",
   "metadata": {
    "execution": {
     "iopub.execute_input": "2022-10-03T21:36:29.847761Z",
     "iopub.status.busy": "2022-10-03T21:36:29.847393Z",
     "iopub.status.idle": "2022-10-03T21:36:29.889370Z",
     "shell.execute_reply": "2022-10-03T21:36:29.888303Z"
    },
    "papermill": {
     "duration": 0.052712,
     "end_time": "2022-10-03T21:36:29.891992",
     "exception": false,
     "start_time": "2022-10-03T21:36:29.839280",
     "status": "completed"
    },
    "tags": []
   },
   "outputs": [],
   "source": [
    "# Filling age column missing values\n",
    "train_df[\"Age\"] = train_df.groupby([\"Sex\", \"Pclass\"])[\"Age\"].apply(lambda x: x.fillna(x.median()))\n",
    "test_df[\"Age\"] = test_df.groupby([\"Sex\", \"Pclass\"])[\"Age\"].apply(lambda x: x.fillna(x.median()))\n",
    "\n",
    "# Filling embarked column missing values\n",
    "train_df[\"Embarked\"] = train_df[\"Embarked\"].fillna('S')\n",
    "test_df[\"Embarked\"] = test_df[\"Embarked\"].fillna('S')\n",
    "\n",
    "# Filling fare column missing values\n",
    "median_fare_value = train_df.groupby([\"Pclass\", \"SibSp\", \"Parch\"])[\"Fare\"].median()[3][0][0]\n",
    "train_df[\"Fare\"] = train_df[\"Fare\"].fillna(median_fare_value)\n",
    "test_df[\"Fare\"] = test_df[\"Fare\"].fillna(median_fare_value)\n",
    "\n",
    "# Creating deck column based on cabin column\n",
    "train_df[\"Deck\"] = train_df[\"Cabin\"].apply(lambda s: s[0] if pd.notnull(s) else 'M')\n",
    "test_df[\"Deck\"] = test_df[\"Cabin\"].apply(lambda s: s[0] if pd.notnull(s) else 'M')\n",
    "\n",
    "train_df[\"Deck\"] = train_df[\"Deck\"].replace(['A','B','C', 'T'], 'ABC')\n",
    "train_df[\"Deck\"] = train_df[\"Deck\"].replace(['D','E'], 'DE')\n",
    "train_df[\"Deck\"] = train_df[\"Deck\"].replace(['F','G'], 'FG')\n",
    " \n",
    "test_df[\"Deck\"] = test_df[\"Deck\"].replace(['A','B','C', 'T'], 'ABC')\n",
    "test_df[\"Deck\"] = test_df[\"Deck\"].replace(['D','E'], 'DE')\n",
    "test_df[\"Deck\"] = test_df[\"Deck\"].replace(['F','G'], 'FG')\n",
    "\n",
    "# Replacing passenger id as index\n",
    "train_df.set_index(keys=\"PassengerId\", inplace=True)\n",
    "test_df.set_index(keys=\"PassengerId\", inplace=True)"
   ]
  },
  {
   "cell_type": "code",
   "execution_count": 15,
   "id": "5d26059a",
   "metadata": {
    "execution": {
     "iopub.execute_input": "2022-10-03T21:36:29.907361Z",
     "iopub.status.busy": "2022-10-03T21:36:29.906938Z",
     "iopub.status.idle": "2022-10-03T21:36:29.917472Z",
     "shell.execute_reply": "2022-10-03T21:36:29.916353Z"
    },
    "papermill": {
     "duration": 0.020698,
     "end_time": "2022-10-03T21:36:29.919688",
     "exception": false,
     "start_time": "2022-10-03T21:36:29.898990",
     "status": "completed"
    },
    "tags": []
   },
   "outputs": [],
   "source": [
    "# Binning continous features\n",
    "train_df[\"Fare\"] = train_df[\"Fare\"].apply(fare_binning)\n",
    "test_df[\"Fare\"] = test_df[\"Fare\"].apply(fare_binning)\n",
    "\n",
    "train_df[\"Age\"] = train_df[\"Age\"].apply(age_binning)\n",
    "test_df[\"Age\"] = test_df[\"Age\"].apply(age_binning)"
   ]
  },
  {
   "cell_type": "code",
   "execution_count": 16,
   "id": "7298b76d",
   "metadata": {
    "execution": {
     "iopub.execute_input": "2022-10-03T21:36:29.935026Z",
     "iopub.status.busy": "2022-10-03T21:36:29.934280Z",
     "iopub.status.idle": "2022-10-03T21:36:29.947232Z",
     "shell.execute_reply": "2022-10-03T21:36:29.946058Z"
    },
    "papermill": {
     "duration": 0.023382,
     "end_time": "2022-10-03T21:36:29.949757",
     "exception": false,
     "start_time": "2022-10-03T21:36:29.926375",
     "status": "completed"
    },
    "tags": []
   },
   "outputs": [],
   "source": [
    "# Frequency Encoding\n",
    "train_df[\"Family_Size\"] = train_df[\"SibSp\"] + train_df[\"Parch\"] + 1\n",
    "test_df[\"Family_Size\"] = test_df[\"SibSp\"] + test_df[\"Parch\"] + 1\n",
    "\n",
    "train_df[\"Ticket_Frequency\"] = train_df.groupby(\"Ticket\")[\"Ticket\"].transform('count')\n",
    "test_df[\"Ticket_Frequency\"] = test_df.groupby(\"Ticket\")[\"Ticket\"].transform('count')\n",
    "\n"
   ]
  },
  {
   "cell_type": "code",
   "execution_count": 17,
   "id": "63c880ca",
   "metadata": {
    "execution": {
     "iopub.execute_input": "2022-10-03T21:36:29.964809Z",
     "iopub.status.busy": "2022-10-03T21:36:29.964443Z",
     "iopub.status.idle": "2022-10-03T21:36:29.991405Z",
     "shell.execute_reply": "2022-10-03T21:36:29.990211Z"
    },
    "papermill": {
     "duration": 0.037442,
     "end_time": "2022-10-03T21:36:29.993888",
     "exception": false,
     "start_time": "2022-10-03T21:36:29.956446",
     "status": "completed"
    },
    "tags": []
   },
   "outputs": [],
   "source": [
    "# Title & IsMaried\n",
    "train_df['Title'] = train_df['Name'].str.split(', ', expand=True)[1].str.split('.', expand=True)[0]\n",
    "train_df['Is_Maried'] = np.where(train_df[\"Title\"] == 'Mrs', 1,0)\n",
    "\n",
    "test_df[\"Title\"] = test_df[\"Name\"].str.split(', ', expand=True)[1].str.split('.', expand=True)[0]\n",
    "test_df[\"Is_Maried\"] = np.where(test_df[\"Title\"] == 'Mrs', 1,0)\n",
    "\n",
    "train_df[\"Title\"] = train_df[\"Title\"].replace(['Miss', 'Mrs','Ms', 'Mlle', 'Lady', 'Mme', 'the Countess', 'Dona'], 'Miss/Mrs/Ms')\n",
    "train_df[\"Title\"] = train_df[\"Title\"].replace(['Dr', 'Col', 'Major', 'Jonkheer', 'Capt', 'Sir', 'Don', 'Rev'],'Dr/Military/Noble/Clergy')\n",
    "test_df[\"Title\"] = test_df[\"Title\"].replace(['Miss', 'Mrs','Ms', 'Mlle', 'Lady', 'Mme', 'the Countess', 'Dona'],'Miss/Mrs/Ms')\n",
    "test_df[\"Title\"] = test_df[\"Title\"].replace(['Dr', 'Col', 'Major', 'Jonkheer', 'Capt', 'Sir', 'Don', 'Rev'],'Dr/Military/Noble/Clergy')"
   ]
  },
  {
   "cell_type": "code",
   "execution_count": 18,
   "id": "c8aa32d5",
   "metadata": {
    "execution": {
     "iopub.execute_input": "2022-10-03T21:36:30.009407Z",
     "iopub.status.busy": "2022-10-03T21:36:30.008988Z",
     "iopub.status.idle": "2022-10-03T21:36:30.018659Z",
     "shell.execute_reply": "2022-10-03T21:36:30.017643Z"
    },
    "papermill": {
     "duration": 0.020385,
     "end_time": "2022-10-03T21:36:30.020953",
     "exception": false,
     "start_time": "2022-10-03T21:36:30.000568",
     "status": "completed"
    },
    "tags": []
   },
   "outputs": [],
   "source": [
    "# Drop unused features\n",
    "train_df.drop([\"Name\", \"SibSp\", \"Parch\", \"Ticket\", \"Cabin\"], axis=1, inplace=True)\n",
    "test_df.drop([\"Name\", \"SibSp\", \"Parch\", \"Ticket\", \"Cabin\"], axis=1, inplace=True)"
   ]
  },
  {
   "cell_type": "code",
   "execution_count": 19,
   "id": "26634d1f",
   "metadata": {
    "execution": {
     "iopub.execute_input": "2022-10-03T21:36:30.037324Z",
     "iopub.status.busy": "2022-10-03T21:36:30.036742Z",
     "iopub.status.idle": "2022-10-03T21:36:30.170112Z",
     "shell.execute_reply": "2022-10-03T21:36:30.167739Z"
    },
    "papermill": {
     "duration": 0.144984,
     "end_time": "2022-10-03T21:36:30.173473",
     "exception": false,
     "start_time": "2022-10-03T21:36:30.028489",
     "status": "completed"
    },
    "tags": []
   },
   "outputs": [
    {
     "name": "stderr",
     "output_type": "stream",
     "text": [
      "2022-10-03 21:36:30.065618: I tensorflow/core/common_runtime/process_util.cc:146] Creating new thread pool with default inter op setting: 2. Tune using inter_op_parallelism_threads for best performance.\n"
     ]
    }
   ],
   "source": [
    "# Creating training and validation sets\n",
    "validation_set = train_df.sample(frac=0.2, random_state=883)\n",
    "training_set = train_df.drop(validation_set.index)\n",
    "\n",
    "# Turning dataframe into dataset\n",
    "train_dataset = dataframe_to_dataset(training_set, False)\n",
    "val_dataset = dataframe_to_dataset(validation_set, False)\n",
    "test_dataset = dataframe_to_dataset(test_df, True)"
   ]
  },
  {
   "cell_type": "markdown",
   "id": "b5576bb7",
   "metadata": {
    "papermill": {
     "duration": 0.006529,
     "end_time": "2022-10-03T21:36:30.187472",
     "exception": false,
     "start_time": "2022-10-03T21:36:30.180943",
     "status": "completed"
    },
    "tags": []
   },
   "source": [
    "### CREATE MODEL\n",
    "\n",
    "Binary Classification Model to Structured Data\n",
    "[https://keras.io/examples/structured_data/structured_data_classification_from_scratch/](http://)"
   ]
  },
  {
   "cell_type": "code",
   "execution_count": null,
   "id": "5051e6c0",
   "metadata": {
    "papermill": {
     "duration": 0.006394,
     "end_time": "2022-10-03T21:36:30.200681",
     "exception": false,
     "start_time": "2022-10-03T21:36:30.194287",
     "status": "completed"
    },
    "tags": []
   },
   "outputs": [],
   "source": []
  }
 ],
 "metadata": {
  "kernelspec": {
   "display_name": "Python 3",
   "language": "python",
   "name": "python3"
  },
  "language_info": {
   "codemirror_mode": {
    "name": "ipython",
    "version": 3
   },
   "file_extension": ".py",
   "mimetype": "text/x-python",
   "name": "python",
   "nbconvert_exporter": "python",
   "pygments_lexer": "ipython3",
   "version": "3.7.12"
  },
  "papermill": {
   "default_parameters": {},
   "duration": 22.170707,
   "end_time": "2022-10-03T21:36:33.779482",
   "environment_variables": {},
   "exception": null,
   "input_path": "__notebook__.ipynb",
   "output_path": "__notebook__.ipynb",
   "parameters": {},
   "start_time": "2022-10-03T21:36:11.608775",
   "version": "2.3.4"
  }
 },
 "nbformat": 4,
 "nbformat_minor": 5
}
