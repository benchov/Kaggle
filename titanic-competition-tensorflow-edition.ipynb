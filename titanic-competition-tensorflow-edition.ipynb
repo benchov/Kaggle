{
 "cells": [
  {
   "cell_type": "code",
   "execution_count": 1,
   "id": "8b316a20",
   "metadata": {
    "_cell_guid": "b1076dfc-b9ad-4769-8c92-a6c4dae69d19",
    "_uuid": "8f2839f25d086af736a60e9eeb907d3b93b6e0e5",
    "execution": {
     "iopub.execute_input": "2022-10-07T09:00:27.661025Z",
     "iopub.status.busy": "2022-10-07T09:00:27.660375Z",
     "iopub.status.idle": "2022-10-07T09:00:27.678194Z",
     "shell.execute_reply": "2022-10-07T09:00:27.676882Z"
    },
    "papermill": {
     "duration": 0.034081,
     "end_time": "2022-10-07T09:00:27.682248",
     "exception": false,
     "start_time": "2022-10-07T09:00:27.648167",
     "status": "completed"
    },
    "tags": []
   },
   "outputs": [
    {
     "name": "stdout",
     "output_type": "stream",
     "text": [
      "/kaggle/input/titanic/train.csv\n",
      "/kaggle/input/titanic/test.csv\n",
      "/kaggle/input/titanic/gender_submission.csv\n"
     ]
    }
   ],
   "source": [
    "# This Python 3 environment comes with many helpful analytics libraries installed\n",
    "# It is defined by the kaggle/python Docker image: https://github.com/kaggle/docker-python\n",
    "# For example, here's several helpful packages to load\n",
    "\n",
    "import numpy as np # linear algebra\n",
    "import pandas as pd # data processing, CSV file I/O (e.g. pd.read_csv)\n",
    "\n",
    "# Input data files are available in the read-only \"../input/\" directory\n",
    "# For example, running this (by clicking run or pressing Shift+Enter) will list all files under the input directory\n",
    "\n",
    "import os\n",
    "for dirname, _, filenames in os.walk('/kaggle/input'):\n",
    "    for filename in filenames:\n",
    "        print(os.path.join(dirname, filename))\n",
    "\n",
    "# You can write up to 20GB to the current directory (/kaggle/working/) that gets preserved as output when you create a version using \"Save & Run All\" \n",
    "# You can also write temporary files to /kaggle/temp/, but they won't be saved outside of the current session"
   ]
  },
  {
   "cell_type": "markdown",
   "id": "434290cd",
   "metadata": {
    "papermill": {
     "duration": 0.0091,
     "end_time": "2022-10-07T09:00:27.702286",
     "exception": false,
     "start_time": "2022-10-07T09:00:27.693186",
     "status": "completed"
    },
    "tags": []
   },
   "source": [
    "### IMPORTS"
   ]
  },
  {
   "cell_type": "code",
   "execution_count": 2,
   "id": "b10e29e2",
   "metadata": {
    "execution": {
     "iopub.execute_input": "2022-10-07T09:00:27.722093Z",
     "iopub.status.busy": "2022-10-07T09:00:27.721694Z",
     "iopub.status.idle": "2022-10-07T09:00:36.013822Z",
     "shell.execute_reply": "2022-10-07T09:00:36.012498Z"
    },
    "papermill": {
     "duration": 8.305444,
     "end_time": "2022-10-07T09:00:36.016728",
     "exception": false,
     "start_time": "2022-10-07T09:00:27.711284",
     "status": "completed"
    },
    "tags": []
   },
   "outputs": [],
   "source": [
    "# feature engineering libs\n",
    "import seaborn as sns\n",
    "import matplotlib.pyplot as plt\n",
    "import numpy as np\n",
    "import os\n",
    "import pandas as pd\n",
    "\n",
    "# sklearn \n",
    "import sklearn\n",
    "from sklearn.model_selection import train_test_split\n",
    "\n",
    "# tensorflow related libs\n",
    "import tensorflow as tf\n",
    "from tensorflow.keras.layers import IntegerLookup, Normalization, StringLookup "
   ]
  },
  {
   "cell_type": "code",
   "execution_count": 3,
   "id": "1251d36e",
   "metadata": {
    "execution": {
     "iopub.execute_input": "2022-10-07T09:00:36.037306Z",
     "iopub.status.busy": "2022-10-07T09:00:36.036537Z",
     "iopub.status.idle": "2022-10-07T09:00:36.042974Z",
     "shell.execute_reply": "2022-10-07T09:00:36.041644Z"
    },
    "papermill": {
     "duration": 0.019557,
     "end_time": "2022-10-07T09:00:36.045519",
     "exception": false,
     "start_time": "2022-10-07T09:00:36.025962",
     "status": "completed"
    },
    "tags": []
   },
   "outputs": [],
   "source": [
    "pd.set_option('display.max_rows', 500)"
   ]
  },
  {
   "cell_type": "markdown",
   "id": "55f173a8",
   "metadata": {
    "papermill": {
     "duration": 0.008621,
     "end_time": "2022-10-07T09:00:36.063576",
     "exception": false,
     "start_time": "2022-10-07T09:00:36.054955",
     "status": "completed"
    },
    "tags": []
   },
   "source": [
    "### HELPER FUNCTIONS"
   ]
  },
  {
   "cell_type": "code",
   "execution_count": 4,
   "id": "914e8fab",
   "metadata": {
    "execution": {
     "iopub.execute_input": "2022-10-07T09:00:36.085273Z",
     "iopub.status.busy": "2022-10-07T09:00:36.084766Z",
     "iopub.status.idle": "2022-10-07T09:00:36.091263Z",
     "shell.execute_reply": "2022-10-07T09:00:36.089850Z"
    },
    "papermill": {
     "duration": 0.019492,
     "end_time": "2022-10-07T09:00:36.093614",
     "exception": false,
     "start_time": "2022-10-07T09:00:36.074122",
     "status": "completed"
    },
    "tags": []
   },
   "outputs": [],
   "source": [
    "def create_model_checkpoint(model_name, save_path=\"model_experiment\"):\n",
    "    return tf.keras.callbacks.ModelCheckpoint(\n",
    "        filepath=os.path.join(save_path, model_name), \n",
    "        verbose=1, \n",
    "        save_best_only=True,\n",
    "        monitor='val_accuracy',\n",
    "    )"
   ]
  },
  {
   "cell_type": "code",
   "execution_count": 5,
   "id": "c0f2cb36",
   "metadata": {
    "execution": {
     "iopub.execute_input": "2022-10-07T09:00:36.114377Z",
     "iopub.status.busy": "2022-10-07T09:00:36.113255Z",
     "iopub.status.idle": "2022-10-07T09:00:36.120289Z",
     "shell.execute_reply": "2022-10-07T09:00:36.119230Z"
    },
    "papermill": {
     "duration": 0.020003,
     "end_time": "2022-10-07T09:00:36.122934",
     "exception": false,
     "start_time": "2022-10-07T09:00:36.102931",
     "status": "completed"
    },
    "tags": []
   },
   "outputs": [],
   "source": [
    "def dataframe_to_dataset (dataframe, is_test):\n",
    "    data_frame = dataframe.copy()\n",
    "    if is_test:\n",
    "        ds = tf.data.Dataset.from_tensors(dict(data_frame))\n",
    "    else:    \n",
    "        labels = data_frame.pop(\"Survived\")\n",
    "        ds = tf.data.Dataset.from_tensor_slices((dict(data_frame), labels))\n",
    "        ds = ds.shuffle(buffer_size=len(data_frame))\n",
    "    return ds"
   ]
  },
  {
   "cell_type": "code",
   "execution_count": 6,
   "id": "5c207dd7",
   "metadata": {
    "execution": {
     "iopub.execute_input": "2022-10-07T09:00:36.143059Z",
     "iopub.status.busy": "2022-10-07T09:00:36.142300Z",
     "iopub.status.idle": "2022-10-07T09:00:36.148648Z",
     "shell.execute_reply": "2022-10-07T09:00:36.147874Z"
    },
    "papermill": {
     "duration": 0.01909,
     "end_time": "2022-10-07T09:00:36.151020",
     "exception": false,
     "start_time": "2022-10-07T09:00:36.131930",
     "status": "completed"
    },
    "tags": []
   },
   "outputs": [],
   "source": [
    "def encode_numerical_feature (feature, name, dataset):\n",
    "    normalizer = Normalization()\n",
    "    \n",
    "    feature_ds = dataset.map(lambda x, y: x[name])\n",
    "    feature_ds = feature_ds.map(lambda x: tf.expand_dims(x, -1))\n",
    "    \n",
    "    normalizer.adapt(feature_ds)\n",
    "    encoded_feature = normalizer(feature)\n",
    "    return encoded_feature"
   ]
  },
  {
   "cell_type": "code",
   "execution_count": 7,
   "id": "c59b55de",
   "metadata": {
    "execution": {
     "iopub.execute_input": "2022-10-07T09:00:36.171004Z",
     "iopub.status.busy": "2022-10-07T09:00:36.170317Z",
     "iopub.status.idle": "2022-10-07T09:00:36.177180Z",
     "shell.execute_reply": "2022-10-07T09:00:36.176250Z"
    },
    "papermill": {
     "duration": 0.019709,
     "end_time": "2022-10-07T09:00:36.179586",
     "exception": false,
     "start_time": "2022-10-07T09:00:36.159877",
     "status": "completed"
    },
    "tags": []
   },
   "outputs": [],
   "source": [
    "def encode_categorical_feature (feature, name, dataset, is_string):\n",
    "    lookup_class = StringLookup if is_string else IntegerLookup\n",
    "    lookup = lookup_class(output_mode=\"binary\")\n",
    "    \n",
    "    feature_ds = dataset.map(lambda x, y: x[name])\n",
    "    feature_ds = feature_ds.map(lambda x: tf.expand_dims(x, -1))\n",
    "    \n",
    "    lookup.adapt(feature_ds)\n",
    "    encoded_feature = lookup(feature)\n",
    "    return encoded_feature"
   ]
  },
  {
   "cell_type": "code",
   "execution_count": 8,
   "id": "fe46eafa",
   "metadata": {
    "execution": {
     "iopub.execute_input": "2022-10-07T09:00:36.199577Z",
     "iopub.status.busy": "2022-10-07T09:00:36.198942Z",
     "iopub.status.idle": "2022-10-07T09:00:36.205474Z",
     "shell.execute_reply": "2022-10-07T09:00:36.204660Z"
    },
    "papermill": {
     "duration": 0.019423,
     "end_time": "2022-10-07T09:00:36.207866",
     "exception": false,
     "start_time": "2022-10-07T09:00:36.188443",
     "status": "completed"
    },
    "tags": []
   },
   "outputs": [],
   "source": [
    "def age_binning(age):\n",
    "    \n",
    "    if age < 10:\n",
    "        return \"child\"\n",
    "    elif (age >= 10) & ( age <= 18):\n",
    "        return \"teen\"\n",
    "    elif (age >= 18) & (age <= 30):\n",
    "        return \"adult\"\n",
    "    elif (age >= 30) & (age <= 50):\n",
    "        return \"senior\"\n",
    "    elif age >= 50:\n",
    "        return \"old\"\n",
    "    else:\n",
    "        return \"missing\""
   ]
  },
  {
   "cell_type": "code",
   "execution_count": 9,
   "id": "41d88a2b",
   "metadata": {
    "execution": {
     "iopub.execute_input": "2022-10-07T09:00:36.227461Z",
     "iopub.status.busy": "2022-10-07T09:00:36.227013Z",
     "iopub.status.idle": "2022-10-07T09:00:36.234471Z",
     "shell.execute_reply": "2022-10-07T09:00:36.233252Z"
    },
    "papermill": {
     "duration": 0.019819,
     "end_time": "2022-10-07T09:00:36.236680",
     "exception": false,
     "start_time": "2022-10-07T09:00:36.216861",
     "status": "completed"
    },
    "tags": []
   },
   "outputs": [],
   "source": [
    "def fare_binning(fare):\n",
    "    \n",
    "    if fare < 10:\n",
    "        return \"class_1\"\n",
    "    elif (fare >= 10) & ( fare <= 50):\n",
    "        return \"class_2\"\n",
    "    elif (fare >= 50) & (fare <= 100):\n",
    "        return \"class_3\"\n",
    "    elif (fare >= 100) & (fare <= 200):\n",
    "        return \"class_4\"\n",
    "    elif (fare >= 200) & (fare <= 350):\n",
    "        return \"class_4\"\n",
    "    elif fare >= 350:\n",
    "        return \"class_5\"\n",
    "    else:\n",
    "        print(fare)\n",
    "        return \"missing\""
   ]
  },
  {
   "cell_type": "code",
   "execution_count": 10,
   "id": "af98bab3",
   "metadata": {
    "execution": {
     "iopub.execute_input": "2022-10-07T09:00:36.256740Z",
     "iopub.status.busy": "2022-10-07T09:00:36.256087Z",
     "iopub.status.idle": "2022-10-07T09:00:36.261439Z",
     "shell.execute_reply": "2022-10-07T09:00:36.260479Z"
    },
    "papermill": {
     "duration": 0.018333,
     "end_time": "2022-10-07T09:00:36.263917",
     "exception": false,
     "start_time": "2022-10-07T09:00:36.245584",
     "status": "completed"
    },
    "tags": []
   },
   "outputs": [],
   "source": [
    "early_stopping_callback = tf.keras.callbacks.EarlyStopping(monitor='val_accuracy', patience=20)"
   ]
  },
  {
   "cell_type": "markdown",
   "id": "e7aeb47f",
   "metadata": {
    "papermill": {
     "duration": 0.008544,
     "end_time": "2022-10-07T09:00:36.281503",
     "exception": false,
     "start_time": "2022-10-07T09:00:36.272959",
     "status": "completed"
    },
    "tags": []
   },
   "source": [
    "### MANAGING DATA\n",
    "\n",
    "[https://www.kaggle.com/code/gunesevitan/titanic-advanced-feature-engineering-tutorial/notebook](http://)"
   ]
  },
  {
   "cell_type": "code",
   "execution_count": 11,
   "id": "5528e63c",
   "metadata": {
    "execution": {
     "iopub.execute_input": "2022-10-07T09:00:36.301867Z",
     "iopub.status.busy": "2022-10-07T09:00:36.301211Z",
     "iopub.status.idle": "2022-10-07T09:00:36.336578Z",
     "shell.execute_reply": "2022-10-07T09:00:36.334963Z"
    },
    "papermill": {
     "duration": 0.049461,
     "end_time": "2022-10-07T09:00:36.339911",
     "exception": false,
     "start_time": "2022-10-07T09:00:36.290450",
     "status": "completed"
    },
    "tags": []
   },
   "outputs": [
    {
     "data": {
      "text/plain": [
       "(891, 418, (891, 12), (418, 11))"
      ]
     },
     "execution_count": 11,
     "metadata": {},
     "output_type": "execute_result"
    }
   ],
   "source": [
    "# Imports dataset from Kaggle\n",
    "train_df = pd.read_csv(\"/kaggle/input/titanic/train.csv\")\n",
    "test_df = pd.read_csv(\"/kaggle/input/titanic/test.csv\")\n",
    "len(train_df), len(test_df), train_df.shape, test_df.shape"
   ]
  },
  {
   "cell_type": "code",
   "execution_count": 12,
   "id": "45eafeaf",
   "metadata": {
    "execution": {
     "iopub.execute_input": "2022-10-07T09:00:36.365772Z",
     "iopub.status.busy": "2022-10-07T09:00:36.364958Z",
     "iopub.status.idle": "2022-10-07T09:00:36.412740Z",
     "shell.execute_reply": "2022-10-07T09:00:36.411207Z"
    },
    "papermill": {
     "duration": 0.0639,
     "end_time": "2022-10-07T09:00:36.415441",
     "exception": false,
     "start_time": "2022-10-07T09:00:36.351541",
     "status": "completed"
    },
    "tags": []
   },
   "outputs": [
    {
     "name": "stdout",
     "output_type": "stream",
     "text": [
      "<class 'pandas.core.frame.DataFrame'>\n",
      "RangeIndex: 891 entries, 0 to 890\n",
      "Data columns (total 12 columns):\n",
      " #   Column       Non-Null Count  Dtype  \n",
      "---  ------       --------------  -----  \n",
      " 0   PassengerId  891 non-null    int64  \n",
      " 1   Survived     891 non-null    int64  \n",
      " 2   Pclass       891 non-null    int64  \n",
      " 3   Name         891 non-null    object \n",
      " 4   Sex          891 non-null    object \n",
      " 5   Age          714 non-null    float64\n",
      " 6   SibSp        891 non-null    int64  \n",
      " 7   Parch        891 non-null    int64  \n",
      " 8   Ticket       891 non-null    object \n",
      " 9   Fare         891 non-null    float64\n",
      " 10  Cabin        204 non-null    object \n",
      " 11  Embarked     889 non-null    object \n",
      "dtypes: float64(2), int64(5), object(5)\n",
      "memory usage: 83.7+ KB\n",
      "None\n"
     ]
    },
    {
     "data": {
      "text/html": [
       "<div>\n",
       "<style scoped>\n",
       "    .dataframe tbody tr th:only-of-type {\n",
       "        vertical-align: middle;\n",
       "    }\n",
       "\n",
       "    .dataframe tbody tr th {\n",
       "        vertical-align: top;\n",
       "    }\n",
       "\n",
       "    .dataframe thead th {\n",
       "        text-align: right;\n",
       "    }\n",
       "</style>\n",
       "<table border=\"1\" class=\"dataframe\">\n",
       "  <thead>\n",
       "    <tr style=\"text-align: right;\">\n",
       "      <th></th>\n",
       "      <th>PassengerId</th>\n",
       "      <th>Survived</th>\n",
       "      <th>Pclass</th>\n",
       "      <th>Name</th>\n",
       "      <th>Sex</th>\n",
       "      <th>Age</th>\n",
       "      <th>SibSp</th>\n",
       "      <th>Parch</th>\n",
       "      <th>Ticket</th>\n",
       "      <th>Fare</th>\n",
       "      <th>Cabin</th>\n",
       "      <th>Embarked</th>\n",
       "    </tr>\n",
       "  </thead>\n",
       "  <tbody>\n",
       "    <tr>\n",
       "      <th>0</th>\n",
       "      <td>1</td>\n",
       "      <td>0</td>\n",
       "      <td>3</td>\n",
       "      <td>Braund, Mr. Owen Harris</td>\n",
       "      <td>male</td>\n",
       "      <td>22.0</td>\n",
       "      <td>1</td>\n",
       "      <td>0</td>\n",
       "      <td>A/5 21171</td>\n",
       "      <td>7.2500</td>\n",
       "      <td>NaN</td>\n",
       "      <td>S</td>\n",
       "    </tr>\n",
       "    <tr>\n",
       "      <th>1</th>\n",
       "      <td>2</td>\n",
       "      <td>1</td>\n",
       "      <td>1</td>\n",
       "      <td>Cumings, Mrs. John Bradley (Florence Briggs Th...</td>\n",
       "      <td>female</td>\n",
       "      <td>38.0</td>\n",
       "      <td>1</td>\n",
       "      <td>0</td>\n",
       "      <td>PC 17599</td>\n",
       "      <td>71.2833</td>\n",
       "      <td>C85</td>\n",
       "      <td>C</td>\n",
       "    </tr>\n",
       "    <tr>\n",
       "      <th>2</th>\n",
       "      <td>3</td>\n",
       "      <td>1</td>\n",
       "      <td>3</td>\n",
       "      <td>Heikkinen, Miss. Laina</td>\n",
       "      <td>female</td>\n",
       "      <td>26.0</td>\n",
       "      <td>0</td>\n",
       "      <td>0</td>\n",
       "      <td>STON/O2. 3101282</td>\n",
       "      <td>7.9250</td>\n",
       "      <td>NaN</td>\n",
       "      <td>S</td>\n",
       "    </tr>\n",
       "    <tr>\n",
       "      <th>3</th>\n",
       "      <td>4</td>\n",
       "      <td>1</td>\n",
       "      <td>1</td>\n",
       "      <td>Futrelle, Mrs. Jacques Heath (Lily May Peel)</td>\n",
       "      <td>female</td>\n",
       "      <td>35.0</td>\n",
       "      <td>1</td>\n",
       "      <td>0</td>\n",
       "      <td>113803</td>\n",
       "      <td>53.1000</td>\n",
       "      <td>C123</td>\n",
       "      <td>S</td>\n",
       "    </tr>\n",
       "    <tr>\n",
       "      <th>4</th>\n",
       "      <td>5</td>\n",
       "      <td>0</td>\n",
       "      <td>3</td>\n",
       "      <td>Allen, Mr. William Henry</td>\n",
       "      <td>male</td>\n",
       "      <td>35.0</td>\n",
       "      <td>0</td>\n",
       "      <td>0</td>\n",
       "      <td>373450</td>\n",
       "      <td>8.0500</td>\n",
       "      <td>NaN</td>\n",
       "      <td>S</td>\n",
       "    </tr>\n",
       "  </tbody>\n",
       "</table>\n",
       "</div>"
      ],
      "text/plain": [
       "   PassengerId  Survived  Pclass  \\\n",
       "0            1         0       3   \n",
       "1            2         1       1   \n",
       "2            3         1       3   \n",
       "3            4         1       1   \n",
       "4            5         0       3   \n",
       "\n",
       "                                                Name     Sex   Age  SibSp  \\\n",
       "0                            Braund, Mr. Owen Harris    male  22.0      1   \n",
       "1  Cumings, Mrs. John Bradley (Florence Briggs Th...  female  38.0      1   \n",
       "2                             Heikkinen, Miss. Laina  female  26.0      0   \n",
       "3       Futrelle, Mrs. Jacques Heath (Lily May Peel)  female  35.0      1   \n",
       "4                           Allen, Mr. William Henry    male  35.0      0   \n",
       "\n",
       "   Parch            Ticket     Fare Cabin Embarked  \n",
       "0      0         A/5 21171   7.2500   NaN        S  \n",
       "1      0          PC 17599  71.2833   C85        C  \n",
       "2      0  STON/O2. 3101282   7.9250   NaN        S  \n",
       "3      0            113803  53.1000  C123        S  \n",
       "4      0            373450   8.0500   NaN        S  "
      ]
     },
     "execution_count": 12,
     "metadata": {},
     "output_type": "execute_result"
    }
   ],
   "source": [
    "print(train_df.info())\n",
    "train_df.head()"
   ]
  },
  {
   "cell_type": "markdown",
   "id": "78afe026",
   "metadata": {
    "papermill": {
     "duration": 0.008952,
     "end_time": "2022-10-07T09:00:36.433982",
     "exception": false,
     "start_time": "2022-10-07T09:00:36.425030",
     "status": "completed"
    },
    "tags": []
   },
   "source": [
    "### CLEANING DATA"
   ]
  },
  {
   "cell_type": "code",
   "execution_count": 13,
   "id": "b28785fa",
   "metadata": {
    "execution": {
     "iopub.execute_input": "2022-10-07T09:00:36.454481Z",
     "iopub.status.busy": "2022-10-07T09:00:36.454069Z",
     "iopub.status.idle": "2022-10-07T09:00:36.465875Z",
     "shell.execute_reply": "2022-10-07T09:00:36.465022Z"
    },
    "papermill": {
     "duration": 0.025796,
     "end_time": "2022-10-07T09:00:36.469087",
     "exception": false,
     "start_time": "2022-10-07T09:00:36.443291",
     "status": "completed"
    },
    "tags": []
   },
   "outputs": [
    {
     "name": "stdout",
     "output_type": "stream",
     "text": [
      "PassengerId      0\n",
      "Survived         0\n",
      "Pclass           0\n",
      "Name             0\n",
      "Sex              0\n",
      "Age            177\n",
      "SibSp            0\n",
      "Parch            0\n",
      "Ticket           0\n",
      "Fare             0\n",
      "Cabin          687\n",
      "Embarked         2\n",
      "dtype: int64\n",
      "PassengerId      0\n",
      "Pclass           0\n",
      "Name             0\n",
      "Sex              0\n",
      "Age             86\n",
      "SibSp            0\n",
      "Parch            0\n",
      "Ticket           0\n",
      "Fare             1\n",
      "Cabin          327\n",
      "Embarked         0\n",
      "dtype: int64\n"
     ]
    }
   ],
   "source": [
    "print(train_df.isna().sum())\n",
    "print(test_df.isna().sum())"
   ]
  },
  {
   "cell_type": "code",
   "execution_count": 14,
   "id": "ec52a1d7",
   "metadata": {
    "execution": {
     "iopub.execute_input": "2022-10-07T09:00:36.491929Z",
     "iopub.status.busy": "2022-10-07T09:00:36.491480Z",
     "iopub.status.idle": "2022-10-07T09:00:36.542463Z",
     "shell.execute_reply": "2022-10-07T09:00:36.541226Z"
    },
    "papermill": {
     "duration": 0.065407,
     "end_time": "2022-10-07T09:00:36.545555",
     "exception": false,
     "start_time": "2022-10-07T09:00:36.480148",
     "status": "completed"
    },
    "tags": []
   },
   "outputs": [],
   "source": [
    "# Filling age column missing values\n",
    "train_df[\"Age\"] = train_df.groupby([\"Sex\", \"Pclass\"])[\"Age\"].apply(lambda x: x.fillna(x.median()))\n",
    "test_df[\"Age\"] = test_df.groupby([\"Sex\", \"Pclass\"])[\"Age\"].apply(lambda x: x.fillna(x.median()))\n",
    "\n",
    "# Filling embarked column missing values\n",
    "train_df[\"Embarked\"] = train_df[\"Embarked\"].fillna('S')\n",
    "test_df[\"Embarked\"] = test_df[\"Embarked\"].fillna('S')\n",
    "\n",
    "# Filling fare column missing values\n",
    "median_fare_value = train_df.groupby([\"Pclass\", \"SibSp\", \"Parch\"])[\"Fare\"].median()[3][0][0]\n",
    "train_df[\"Fare\"] = train_df[\"Fare\"].fillna(median_fare_value)\n",
    "test_df[\"Fare\"] = test_df[\"Fare\"].fillna(median_fare_value)\n",
    "\n",
    "# Creating deck column based on cabin column\n",
    "train_df[\"Deck\"] = train_df[\"Cabin\"].apply(lambda s: s[0] if pd.notnull(s) else 'M')\n",
    "test_df[\"Deck\"] = test_df[\"Cabin\"].apply(lambda s: s[0] if pd.notnull(s) else 'M')\n",
    "\n",
    "train_df[\"Deck\"] = train_df[\"Deck\"].replace(['A','B','C', 'T'], 'ABC')\n",
    "train_df[\"Deck\"] = train_df[\"Deck\"].replace(['D','E'], 'DE')\n",
    "train_df[\"Deck\"] = train_df[\"Deck\"].replace(['F','G'], 'FG')\n",
    " \n",
    "test_df[\"Deck\"] = test_df[\"Deck\"].replace(['A','B','C', 'T'], 'ABC')\n",
    "test_df[\"Deck\"] = test_df[\"Deck\"].replace(['D','E'], 'DE')\n",
    "test_df[\"Deck\"] = test_df[\"Deck\"].replace(['F','G'], 'FG')\n",
    "\n",
    "# Replacing passenger id as index\n",
    "train_df.set_index(keys=\"PassengerId\", inplace=True)\n",
    "test_df.set_index(keys=\"PassengerId\", inplace=True)"
   ]
  },
  {
   "cell_type": "code",
   "execution_count": 15,
   "id": "e9567161",
   "metadata": {
    "execution": {
     "iopub.execute_input": "2022-10-07T09:00:36.567067Z",
     "iopub.status.busy": "2022-10-07T09:00:36.566601Z",
     "iopub.status.idle": "2022-10-07T09:00:36.578370Z",
     "shell.execute_reply": "2022-10-07T09:00:36.577144Z"
    },
    "papermill": {
     "duration": 0.025602,
     "end_time": "2022-10-07T09:00:36.580891",
     "exception": false,
     "start_time": "2022-10-07T09:00:36.555289",
     "status": "completed"
    },
    "tags": []
   },
   "outputs": [],
   "source": [
    "# Binning continous features\n",
    "train_df[\"Fare\"] = train_df[\"Fare\"].apply(fare_binning)\n",
    "test_df[\"Fare\"] = test_df[\"Fare\"].apply(fare_binning)\n",
    "\n",
    "train_df[\"Age\"] = train_df[\"Age\"].apply(age_binning)\n",
    "test_df[\"Age\"] = test_df[\"Age\"].apply(age_binning)"
   ]
  },
  {
   "cell_type": "code",
   "execution_count": 16,
   "id": "a4826fd6",
   "metadata": {
    "execution": {
     "iopub.execute_input": "2022-10-07T09:00:36.603474Z",
     "iopub.status.busy": "2022-10-07T09:00:36.602001Z",
     "iopub.status.idle": "2022-10-07T09:00:36.615427Z",
     "shell.execute_reply": "2022-10-07T09:00:36.614022Z"
    },
    "papermill": {
     "duration": 0.027916,
     "end_time": "2022-10-07T09:00:36.618676",
     "exception": false,
     "start_time": "2022-10-07T09:00:36.590760",
     "status": "completed"
    },
    "tags": []
   },
   "outputs": [],
   "source": [
    "# Frequency Encoding\n",
    "train_df[\"Family_Size\"] = train_df[\"SibSp\"] + train_df[\"Parch\"] + 1\n",
    "test_df[\"Family_Size\"] = test_df[\"SibSp\"] + test_df[\"Parch\"] + 1\n",
    "\n",
    "train_df[\"Ticket_Frequency\"] = train_df.groupby(\"Ticket\")[\"Ticket\"].transform('count')\n",
    "test_df[\"Ticket_Frequency\"] = test_df.groupby(\"Ticket\")[\"Ticket\"].transform('count')\n",
    "\n"
   ]
  },
  {
   "cell_type": "code",
   "execution_count": 17,
   "id": "baa96a31",
   "metadata": {
    "execution": {
     "iopub.execute_input": "2022-10-07T09:00:36.639581Z",
     "iopub.status.busy": "2022-10-07T09:00:36.639166Z",
     "iopub.status.idle": "2022-10-07T09:00:36.664966Z",
     "shell.execute_reply": "2022-10-07T09:00:36.663742Z"
    },
    "papermill": {
     "duration": 0.03963,
     "end_time": "2022-10-07T09:00:36.667893",
     "exception": false,
     "start_time": "2022-10-07T09:00:36.628263",
     "status": "completed"
    },
    "tags": []
   },
   "outputs": [],
   "source": [
    "# Title & IsMaried\n",
    "train_df['Title'] = train_df['Name'].str.split(', ', expand=True)[1].str.split('.', expand=True)[0]\n",
    "train_df['Is_Maried'] = np.where(train_df[\"Title\"] == 'Mrs', 1,0)\n",
    "\n",
    "test_df[\"Title\"] = test_df[\"Name\"].str.split(', ', expand=True)[1].str.split('.', expand=True)[0]\n",
    "test_df[\"Is_Maried\"] = np.where(test_df[\"Title\"] == 'Mrs', 1,0)\n",
    "\n",
    "train_df[\"Title\"] = train_df[\"Title\"].replace(['Miss', 'Mrs','Ms', 'Mlle', 'Lady', 'Mme', 'the Countess', 'Dona'], 'Miss/Mrs/Ms')\n",
    "train_df[\"Title\"] = train_df[\"Title\"].replace(['Dr', 'Col', 'Major', 'Jonkheer', 'Capt', 'Sir', 'Don', 'Rev'],'Dr/Military/Noble/Clergy')\n",
    "test_df[\"Title\"] = test_df[\"Title\"].replace(['Miss', 'Mrs','Ms', 'Mlle', 'Lady', 'Mme', 'the Countess', 'Dona'],'Miss/Mrs/Ms')\n",
    "test_df[\"Title\"] = test_df[\"Title\"].replace(['Dr', 'Col', 'Major', 'Jonkheer', 'Capt', 'Sir', 'Don', 'Rev'],'Dr/Military/Noble/Clergy')"
   ]
  },
  {
   "cell_type": "code",
   "execution_count": 18,
   "id": "e40c37e2",
   "metadata": {
    "execution": {
     "iopub.execute_input": "2022-10-07T09:00:36.689920Z",
     "iopub.status.busy": "2022-10-07T09:00:36.689447Z",
     "iopub.status.idle": "2022-10-07T09:00:36.699839Z",
     "shell.execute_reply": "2022-10-07T09:00:36.698894Z"
    },
    "papermill": {
     "duration": 0.0242,
     "end_time": "2022-10-07T09:00:36.702345",
     "exception": false,
     "start_time": "2022-10-07T09:00:36.678145",
     "status": "completed"
    },
    "tags": []
   },
   "outputs": [],
   "source": [
    "# Drop unused features\n",
    "train_df.drop([\"Name\", \"SibSp\", \"Parch\", \"Ticket\", \"Cabin\"], axis=1, inplace=True)\n",
    "test_df.drop([\"Name\", \"SibSp\", \"Parch\", \"Ticket\", \"Cabin\"], axis=1, inplace=True)"
   ]
  },
  {
   "cell_type": "code",
   "execution_count": 19,
   "id": "d14bea29",
   "metadata": {
    "execution": {
     "iopub.execute_input": "2022-10-07T09:00:36.724055Z",
     "iopub.status.busy": "2022-10-07T09:00:36.723654Z",
     "iopub.status.idle": "2022-10-07T09:00:36.739455Z",
     "shell.execute_reply": "2022-10-07T09:00:36.738185Z"
    },
    "papermill": {
     "duration": 0.029917,
     "end_time": "2022-10-07T09:00:36.741841",
     "exception": false,
     "start_time": "2022-10-07T09:00:36.711924",
     "status": "completed"
    },
    "tags": []
   },
   "outputs": [
    {
     "data": {
      "text/html": [
       "<div>\n",
       "<style scoped>\n",
       "    .dataframe tbody tr th:only-of-type {\n",
       "        vertical-align: middle;\n",
       "    }\n",
       "\n",
       "    .dataframe tbody tr th {\n",
       "        vertical-align: top;\n",
       "    }\n",
       "\n",
       "    .dataframe thead th {\n",
       "        text-align: right;\n",
       "    }\n",
       "</style>\n",
       "<table border=\"1\" class=\"dataframe\">\n",
       "  <thead>\n",
       "    <tr style=\"text-align: right;\">\n",
       "      <th></th>\n",
       "      <th>Survived</th>\n",
       "      <th>Pclass</th>\n",
       "      <th>Sex</th>\n",
       "      <th>Age</th>\n",
       "      <th>Fare</th>\n",
       "      <th>Embarked</th>\n",
       "      <th>Deck</th>\n",
       "      <th>Family_Size</th>\n",
       "      <th>Ticket_Frequency</th>\n",
       "      <th>Title</th>\n",
       "      <th>Is_Maried</th>\n",
       "    </tr>\n",
       "    <tr>\n",
       "      <th>PassengerId</th>\n",
       "      <th></th>\n",
       "      <th></th>\n",
       "      <th></th>\n",
       "      <th></th>\n",
       "      <th></th>\n",
       "      <th></th>\n",
       "      <th></th>\n",
       "      <th></th>\n",
       "      <th></th>\n",
       "      <th></th>\n",
       "      <th></th>\n",
       "    </tr>\n",
       "  </thead>\n",
       "  <tbody>\n",
       "    <tr>\n",
       "      <th>1</th>\n",
       "      <td>0</td>\n",
       "      <td>3</td>\n",
       "      <td>male</td>\n",
       "      <td>adult</td>\n",
       "      <td>class_1</td>\n",
       "      <td>S</td>\n",
       "      <td>M</td>\n",
       "      <td>2</td>\n",
       "      <td>1</td>\n",
       "      <td>Mr</td>\n",
       "      <td>0</td>\n",
       "    </tr>\n",
       "    <tr>\n",
       "      <th>2</th>\n",
       "      <td>1</td>\n",
       "      <td>1</td>\n",
       "      <td>female</td>\n",
       "      <td>senior</td>\n",
       "      <td>class_3</td>\n",
       "      <td>C</td>\n",
       "      <td>ABC</td>\n",
       "      <td>2</td>\n",
       "      <td>1</td>\n",
       "      <td>Miss/Mrs/Ms</td>\n",
       "      <td>1</td>\n",
       "    </tr>\n",
       "    <tr>\n",
       "      <th>3</th>\n",
       "      <td>1</td>\n",
       "      <td>3</td>\n",
       "      <td>female</td>\n",
       "      <td>adult</td>\n",
       "      <td>class_1</td>\n",
       "      <td>S</td>\n",
       "      <td>M</td>\n",
       "      <td>1</td>\n",
       "      <td>1</td>\n",
       "      <td>Miss/Mrs/Ms</td>\n",
       "      <td>0</td>\n",
       "    </tr>\n",
       "    <tr>\n",
       "      <th>4</th>\n",
       "      <td>1</td>\n",
       "      <td>1</td>\n",
       "      <td>female</td>\n",
       "      <td>senior</td>\n",
       "      <td>class_3</td>\n",
       "      <td>S</td>\n",
       "      <td>ABC</td>\n",
       "      <td>2</td>\n",
       "      <td>2</td>\n",
       "      <td>Miss/Mrs/Ms</td>\n",
       "      <td>1</td>\n",
       "    </tr>\n",
       "    <tr>\n",
       "      <th>5</th>\n",
       "      <td>0</td>\n",
       "      <td>3</td>\n",
       "      <td>male</td>\n",
       "      <td>senior</td>\n",
       "      <td>class_1</td>\n",
       "      <td>S</td>\n",
       "      <td>M</td>\n",
       "      <td>1</td>\n",
       "      <td>1</td>\n",
       "      <td>Mr</td>\n",
       "      <td>0</td>\n",
       "    </tr>\n",
       "  </tbody>\n",
       "</table>\n",
       "</div>"
      ],
      "text/plain": [
       "             Survived  Pclass     Sex     Age     Fare Embarked Deck  \\\n",
       "PassengerId                                                            \n",
       "1                   0       3    male   adult  class_1        S    M   \n",
       "2                   1       1  female  senior  class_3        C  ABC   \n",
       "3                   1       3  female   adult  class_1        S    M   \n",
       "4                   1       1  female  senior  class_3        S  ABC   \n",
       "5                   0       3    male  senior  class_1        S    M   \n",
       "\n",
       "             Family_Size  Ticket_Frequency        Title  Is_Maried  \n",
       "PassengerId                                                         \n",
       "1                      2                 1           Mr          0  \n",
       "2                      2                 1  Miss/Mrs/Ms          1  \n",
       "3                      1                 1  Miss/Mrs/Ms          0  \n",
       "4                      2                 2  Miss/Mrs/Ms          1  \n",
       "5                      1                 1           Mr          0  "
      ]
     },
     "execution_count": 19,
     "metadata": {},
     "output_type": "execute_result"
    }
   ],
   "source": [
    "train_df.head()"
   ]
  },
  {
   "cell_type": "code",
   "execution_count": 20,
   "id": "90b42aa3",
   "metadata": {
    "execution": {
     "iopub.execute_input": "2022-10-07T09:00:36.763134Z",
     "iopub.status.busy": "2022-10-07T09:00:36.762719Z",
     "iopub.status.idle": "2022-10-07T09:00:36.901303Z",
     "shell.execute_reply": "2022-10-07T09:00:36.900025Z"
    },
    "papermill": {
     "duration": 0.152535,
     "end_time": "2022-10-07T09:00:36.904097",
     "exception": false,
     "start_time": "2022-10-07T09:00:36.751562",
     "status": "completed"
    },
    "tags": []
   },
   "outputs": [
    {
     "name": "stderr",
     "output_type": "stream",
     "text": [
      "2022-10-07 09:00:36.790333: I tensorflow/core/common_runtime/process_util.cc:146] Creating new thread pool with default inter op setting: 2. Tune using inter_op_parallelism_threads for best performance.\n"
     ]
    }
   ],
   "source": [
    "# Creating training and validation sets\n",
    "validation_set = train_df.sample(frac=0.2, random_state=883)\n",
    "training_set = train_df.drop(validation_set.index)\n",
    "\n",
    "# Turning dataframe into dataset\n",
    "train_dataset = dataframe_to_dataset(training_set, False)\n",
    "val_dataset = dataframe_to_dataset(validation_set, False)\n",
    "test_dataset = dataframe_to_dataset(test_df, True)\n",
    "\n",
    "train_dataset = train_dataset.batch(32).prefetch(tf.data.AUTOTUNE)\n",
    "val_dataset = val_dataset.batch(32).prefetch(tf.data.AUTOTUNE)\n",
    "\n",
    "# this line was commented in the other kernel as well\n",
    "# test_dataset = test_dataset.batch(32).prefetch(tf.data.AUTOTUNE)"
   ]
  },
  {
   "cell_type": "markdown",
   "id": "3ec46c57",
   "metadata": {
    "papermill": {
     "duration": 0.009448,
     "end_time": "2022-10-07T09:00:36.923402",
     "exception": false,
     "start_time": "2022-10-07T09:00:36.913954",
     "status": "completed"
    },
    "tags": []
   },
   "source": [
    "### CREATE MODEL\n",
    "\n",
    "Binary Classification Model to Structured Data\n",
    "[https://keras.io/examples/structured_data/structured_data_classification_from_scratch/](http://)"
   ]
  },
  {
   "cell_type": "code",
   "execution_count": 21,
   "id": "a78d6b34",
   "metadata": {
    "execution": {
     "iopub.execute_input": "2022-10-07T09:00:36.945004Z",
     "iopub.status.busy": "2022-10-07T09:00:36.944571Z",
     "iopub.status.idle": "2022-10-07T09:00:36.985131Z",
     "shell.execute_reply": "2022-10-07T09:00:36.983904Z"
    },
    "papermill": {
     "duration": 0.05532,
     "end_time": "2022-10-07T09:00:36.988580",
     "exception": false,
     "start_time": "2022-10-07T09:00:36.933260",
     "status": "completed"
    },
    "tags": []
   },
   "outputs": [],
   "source": [
    "# categorical feature encoding as string\n",
    "sex = tf.keras.Input(shape=(1,), name=\"Sex\", dtype=tf.string)\n",
    "age = tf.keras.Input(shape=(1,), name=\"Age\", dtype=tf.string)\n",
    "fare = tf.keras.Input(shape=(1,), name=\"Fare\", dtype=tf.string)\n",
    "embarked = tf.keras.Input(shape=(1,), name=\"Embarked\", dtype=tf.string)\n",
    "deck = tf.keras.Input(shape=(1,), name=\"Deck\", dtype=tf.string)\n",
    "title = tf.keras.Input(shape=(1,), name=\"Title\", dtype=tf.string)\n",
    "\n",
    "# categorical feature encoding as integer\n",
    "pclass = tf.keras.Input(shape=(1,), name=\"Pclass\", dtype=tf.int64)\n",
    "family_size = tf.keras.Input(shape=(1,), name=\"Family_Size\", dtype=tf.int64)\n",
    "ticket_freq = tf.keras.Input(shape=(1,), name=\"Ticket_Frequency\", dtype=tf.int64)\n",
    "is_maried = tf.keras.Input(shape=(1,), name=\"Is_Maried\", dtype=tf.int64)"
   ]
  },
  {
   "cell_type": "code",
   "execution_count": 22,
   "id": "a394ae59",
   "metadata": {
    "execution": {
     "iopub.execute_input": "2022-10-07T09:00:37.010583Z",
     "iopub.status.busy": "2022-10-07T09:00:37.010197Z",
     "iopub.status.idle": "2022-10-07T09:00:37.015257Z",
     "shell.execute_reply": "2022-10-07T09:00:37.014214Z"
    },
    "papermill": {
     "duration": 0.019028,
     "end_time": "2022-10-07T09:00:37.017598",
     "exception": false,
     "start_time": "2022-10-07T09:00:36.998570",
     "status": "completed"
    },
    "tags": []
   },
   "outputs": [],
   "source": [
    "# creating an input variable contianer to feed the model as input list\n",
    "all_inputs = [\n",
    "    sex,\n",
    "    age,\n",
    "    fare,\n",
    "    embarked,\n",
    "    deck,\n",
    "    title,\n",
    "    pclass,\n",
    "    family_size,\n",
    "    ticket_freq,\n",
    "    is_maried\n",
    "]"
   ]
  },
  {
   "cell_type": "code",
   "execution_count": 23,
   "id": "3323b3ca",
   "metadata": {
    "execution": {
     "iopub.execute_input": "2022-10-07T09:00:37.039226Z",
     "iopub.status.busy": "2022-10-07T09:00:37.038789Z",
     "iopub.status.idle": "2022-10-07T09:00:38.101192Z",
     "shell.execute_reply": "2022-10-07T09:00:38.100031Z"
    },
    "papermill": {
     "duration": 1.076472,
     "end_time": "2022-10-07T09:00:38.103892",
     "exception": false,
     "start_time": "2022-10-07T09:00:37.027420",
     "status": "completed"
    },
    "tags": []
   },
   "outputs": [
    {
     "name": "stderr",
     "output_type": "stream",
     "text": [
      "2022-10-07 09:00:37.193389: I tensorflow/compiler/mlir/mlir_graph_optimization_pass.cc:185] None of the MLIR Optimization Passes are enabled (registered 2)\n"
     ]
    }
   ],
   "source": [
    "sex_encoded = encode_categorical_feature(sex, \"Sex\", train_dataset, True)\n",
    "age_encoded = encode_categorical_feature(age, \"Age\", train_dataset, True)\n",
    "fare_encoded = encode_categorical_feature(fare, \"Fare\", train_dataset, True)\n",
    "embarked_encoded = encode_categorical_feature(embarked, \"Embarked\", train_dataset, True)\n",
    "deck_encoded = encode_categorical_feature(deck, \"Deck\", train_dataset, True)\n",
    "title_encoded = encode_categorical_feature(title, \"Title\", train_dataset, True)"
   ]
  },
  {
   "cell_type": "code",
   "execution_count": 24,
   "id": "c7b5da5a",
   "metadata": {
    "execution": {
     "iopub.execute_input": "2022-10-07T09:00:38.126603Z",
     "iopub.status.busy": "2022-10-07T09:00:38.125964Z",
     "iopub.status.idle": "2022-10-07T09:00:38.689444Z",
     "shell.execute_reply": "2022-10-07T09:00:38.688458Z"
    },
    "papermill": {
     "duration": 0.578235,
     "end_time": "2022-10-07T09:00:38.692331",
     "exception": false,
     "start_time": "2022-10-07T09:00:38.114096",
     "status": "completed"
    },
    "tags": []
   },
   "outputs": [],
   "source": [
    "pclass_encoded = encode_categorical_feature(pclass, \"Pclass\", train_dataset, False)\n",
    "family_size_encoded = encode_categorical_feature(family_size, \"Family_Size\", train_dataset, False)\n",
    "ticket_freq_encoded = encode_categorical_feature(ticket_freq, \"Ticket_Frequency\", train_dataset, False)\n",
    "is_maried_encoded = encode_categorical_feature(is_maried, \"Is_Maried\", train_dataset, False)"
   ]
  },
  {
   "cell_type": "code",
   "execution_count": 25,
   "id": "a383746f",
   "metadata": {
    "execution": {
     "iopub.execute_input": "2022-10-07T09:00:38.714573Z",
     "iopub.status.busy": "2022-10-07T09:00:38.714143Z",
     "iopub.status.idle": "2022-10-07T09:00:38.730186Z",
     "shell.execute_reply": "2022-10-07T09:00:38.728952Z"
    },
    "papermill": {
     "duration": 0.030428,
     "end_time": "2022-10-07T09:00:38.733018",
     "exception": false,
     "start_time": "2022-10-07T09:00:38.702590",
     "status": "completed"
    },
    "tags": []
   },
   "outputs": [],
   "source": [
    "all_features = tf.keras.layers.concatenate([\n",
    "    sex_encoded,\n",
    "    age_encoded,\n",
    "    fare_encoded,\n",
    "    embarked_encoded,\n",
    "    deck_encoded,\n",
    "    title_encoded,\n",
    "    pclass_encoded,\n",
    "    family_size_encoded,\n",
    "    ticket_freq_encoded,\n",
    "    is_maried_encoded\n",
    "])"
   ]
  },
  {
   "cell_type": "code",
   "execution_count": 26,
   "id": "9be8749b",
   "metadata": {
    "execution": {
     "iopub.execute_input": "2022-10-07T09:00:38.755015Z",
     "iopub.status.busy": "2022-10-07T09:00:38.754595Z",
     "iopub.status.idle": "2022-10-07T09:00:38.808374Z",
     "shell.execute_reply": "2022-10-07T09:00:38.807005Z"
    },
    "papermill": {
     "duration": 0.068185,
     "end_time": "2022-10-07T09:00:38.811242",
     "exception": false,
     "start_time": "2022-10-07T09:00:38.743057",
     "status": "completed"
    },
    "tags": []
   },
   "outputs": [],
   "source": [
    "base = tf.keras.layers.Dense(32, activation=tf.keras.activations.relu)(all_features)\n",
    "x = tf.keras.layers.Dropout(0.5)(base)\n",
    "output = tf.keras.layers.Dense(1, activation=tf.keras.activations.sigmoid)(x)\n",
    "base_model = tf.keras.Model(all_inputs, output)"
   ]
  },
  {
   "cell_type": "code",
   "execution_count": 27,
   "id": "25a37eef",
   "metadata": {
    "execution": {
     "iopub.execute_input": "2022-10-07T09:00:38.833044Z",
     "iopub.status.busy": "2022-10-07T09:00:38.832576Z",
     "iopub.status.idle": "2022-10-07T09:00:38.848505Z",
     "shell.execute_reply": "2022-10-07T09:00:38.847131Z"
    },
    "papermill": {
     "duration": 0.029855,
     "end_time": "2022-10-07T09:00:38.851115",
     "exception": false,
     "start_time": "2022-10-07T09:00:38.821260",
     "status": "completed"
    },
    "tags": []
   },
   "outputs": [],
   "source": [
    "base_model.compile(\n",
    "    optimizer=tf.keras.optimizers.Adam(),\n",
    "    metrics=[\"accuracy\"],\n",
    "    loss=tf.keras.losses.binary_crossentropy\n",
    ")"
   ]
  },
  {
   "cell_type": "code",
   "execution_count": 28,
   "id": "af01fd4f",
   "metadata": {
    "execution": {
     "iopub.execute_input": "2022-10-07T09:00:38.873686Z",
     "iopub.status.busy": "2022-10-07T09:00:38.872455Z",
     "iopub.status.idle": "2022-10-07T09:00:40.456463Z",
     "shell.execute_reply": "2022-10-07T09:00:40.455335Z"
    },
    "papermill": {
     "duration": 1.600214,
     "end_time": "2022-10-07T09:00:40.461314",
     "exception": false,
     "start_time": "2022-10-07T09:00:38.861100",
     "status": "completed"
    },
    "tags": []
   },
   "outputs": [
    {
     "data": {
      "image/png": "[encoded data removed]",
      "text/plain": [
       "<IPython.core.display.Image object>"
      ]
     },
     "execution_count": 28,
     "metadata": {},
     "output_type": "execute_result"
    }
   ],
   "source": [
    "tf.keras.utils.plot_model(base_model, show_shapes=True, rankdir='LR')"
   ]
  },
  {
   "cell_type": "code",
   "execution_count": 29,
   "id": "99c622bc",
   "metadata": {
    "execution": {
     "iopub.execute_input": "2022-10-07T09:00:40.490484Z",
     "iopub.status.busy": "2022-10-07T09:00:40.489835Z",
     "iopub.status.idle": "2022-10-07T09:01:30.887819Z",
     "shell.execute_reply": "2022-10-07T09:01:30.886260Z"
    },
    "papermill": {
     "duration": 50.415831,
     "end_time": "2022-10-07T09:01:30.890295",
     "exception": false,
     "start_time": "2022-10-07T09:00:40.474464",
     "status": "completed"
    },
    "tags": []
   },
   "outputs": [
    {
     "name": "stdout",
     "output_type": "stream",
     "text": [
      "Epoch 1/100\n",
      "23/23 [==============================] - 2s 24ms/step - loss: 0.6600 - accuracy: 0.6227 - val_loss: 0.6070 - val_accuracy: 0.7191\n",
      "\n",
      "Epoch 00001: val_accuracy improved from -inf to 0.71910, saving model to simple/base_model\n"
     ]
    },
    {
     "name": "stderr",
     "output_type": "stream",
     "text": [
      "2022-10-07 09:00:43.335385: W tensorflow/python/util/util.cc:348] Sets are not currently considered sequences, but this may change in the future, so consider avoiding using them.\n"
     ]
    },
    {
     "name": "stdout",
     "output_type": "stream",
     "text": [
      "Epoch 2/100\n",
      "23/23 [==============================] - 0s 4ms/step - loss: 0.5848 - accuracy: 0.6858 - val_loss: 0.5752 - val_accuracy: 0.7022\n",
      "\n",
      "Epoch 00002: val_accuracy did not improve from 0.71910\n",
      "Epoch 3/100\n",
      "23/23 [==============================] - 0s 5ms/step - loss: 0.5468 - accuracy: 0.7560 - val_loss: 0.5558 - val_accuracy: 0.7191\n",
      "\n",
      "Epoch 00003: val_accuracy did not improve from 0.71910\n",
      "Epoch 4/100\n",
      "23/23 [==============================] - 0s 3ms/step - loss: 0.5276 - accuracy: 0.7518 - val_loss: 0.5426 - val_accuracy: 0.7360\n",
      "\n",
      "Epoch 00004: val_accuracy improved from 0.71910 to 0.73596, saving model to simple/base_model\n",
      "Epoch 5/100\n",
      "23/23 [==============================] - 0s 4ms/step - loss: 0.5042 - accuracy: 0.7588 - val_loss: 0.5350 - val_accuracy: 0.7360\n",
      "\n",
      "Epoch 00005: val_accuracy did not improve from 0.73596\n",
      "Epoch 6/100\n",
      "23/23 [==============================] - 0s 4ms/step - loss: 0.4847 - accuracy: 0.7812 - val_loss: 0.5282 - val_accuracy: 0.7191\n",
      "\n",
      "Epoch 00006: val_accuracy did not improve from 0.73596\n",
      "Epoch 7/100\n",
      "23/23 [==============================] - 0s 4ms/step - loss: 0.4594 - accuracy: 0.7966 - val_loss: 0.5264 - val_accuracy: 0.7416\n",
      "\n",
      "Epoch 00007: val_accuracy improved from 0.73596 to 0.74157, saving model to simple/base_model\n",
      "Epoch 8/100\n",
      "23/23 [==============================] - 0s 4ms/step - loss: 0.4428 - accuracy: 0.8107 - val_loss: 0.5267 - val_accuracy: 0.7416\n",
      "\n",
      "Epoch 00008: val_accuracy did not improve from 0.74157\n",
      "Epoch 9/100\n",
      "23/23 [==============================] - 0s 4ms/step - loss: 0.4483 - accuracy: 0.8022 - val_loss: 0.5214 - val_accuracy: 0.7416\n",
      "\n",
      "Epoch 00009: val_accuracy did not improve from 0.74157\n",
      "Epoch 10/100\n",
      "23/23 [==============================] - 0s 4ms/step - loss: 0.4275 - accuracy: 0.8093 - val_loss: 0.5171 - val_accuracy: 0.7472\n",
      "\n",
      "Epoch 00010: val_accuracy improved from 0.74157 to 0.74719, saving model to simple/base_model\n",
      "Epoch 11/100\n",
      "23/23 [==============================] - 0s 4ms/step - loss: 0.4233 - accuracy: 0.8135 - val_loss: 0.5217 - val_accuracy: 0.7697\n",
      "\n",
      "Epoch 00011: val_accuracy improved from 0.74719 to 0.76966, saving model to simple/base_model\n",
      "Epoch 12/100\n",
      "23/23 [==============================] - 0s 4ms/step - loss: 0.4270 - accuracy: 0.8247 - val_loss: 0.5170 - val_accuracy: 0.7753\n",
      "\n",
      "Epoch 00012: val_accuracy improved from 0.76966 to 0.77528, saving model to simple/base_model\n",
      "Epoch 13/100\n",
      "23/23 [==============================] - 0s 4ms/step - loss: 0.4219 - accuracy: 0.8205 - val_loss: 0.5182 - val_accuracy: 0.7809\n",
      "\n",
      "Epoch 00013: val_accuracy improved from 0.77528 to 0.78090, saving model to simple/base_model\n",
      "Epoch 14/100\n",
      "23/23 [==============================] - 0s 4ms/step - loss: 0.4355 - accuracy: 0.8065 - val_loss: 0.5139 - val_accuracy: 0.7809\n",
      "\n",
      "Epoch 00014: val_accuracy did not improve from 0.78090\n",
      "Epoch 15/100\n",
      "23/23 [==============================] - 0s 4ms/step - loss: 0.4282 - accuracy: 0.8247 - val_loss: 0.5124 - val_accuracy: 0.7809\n",
      "\n",
      "Epoch 00015: val_accuracy did not improve from 0.78090\n",
      "Epoch 16/100\n",
      "23/23 [==============================] - 0s 4ms/step - loss: 0.4076 - accuracy: 0.8317 - val_loss: 0.5091 - val_accuracy: 0.7978\n",
      "\n",
      "Epoch 00016: val_accuracy improved from 0.78090 to 0.79775, saving model to simple/base_model\n",
      "Epoch 17/100\n",
      "23/23 [==============================] - 0s 3ms/step - loss: 0.4084 - accuracy: 0.8373 - val_loss: 0.5092 - val_accuracy: 0.7921\n",
      "\n",
      "Epoch 00017: val_accuracy did not improve from 0.79775\n",
      "Epoch 18/100\n",
      "23/23 [==============================] - 0s 4ms/step - loss: 0.4082 - accuracy: 0.8331 - val_loss: 0.5035 - val_accuracy: 0.7921\n",
      "\n",
      "Epoch 00018: val_accuracy did not improve from 0.79775\n",
      "Epoch 19/100\n",
      "23/23 [==============================] - 0s 3ms/step - loss: 0.4069 - accuracy: 0.8289 - val_loss: 0.5038 - val_accuracy: 0.7921\n",
      "\n",
      "Epoch 00019: val_accuracy did not improve from 0.79775\n",
      "Epoch 20/100\n",
      "23/23 [==============================] - 0s 3ms/step - loss: 0.4019 - accuracy: 0.8359 - val_loss: 0.5034 - val_accuracy: 0.7865\n",
      "\n",
      "Epoch 00020: val_accuracy did not improve from 0.79775\n",
      "Epoch 21/100\n",
      "23/23 [==============================] - 0s 3ms/step - loss: 0.3975 - accuracy: 0.8429 - val_loss: 0.4986 - val_accuracy: 0.7921\n",
      "\n",
      "Epoch 00021: val_accuracy did not improve from 0.79775\n",
      "Epoch 22/100\n",
      "23/23 [==============================] - 0s 3ms/step - loss: 0.3768 - accuracy: 0.8569 - val_loss: 0.5022 - val_accuracy: 0.7978\n",
      "\n",
      "Epoch 00022: val_accuracy did not improve from 0.79775\n",
      "Epoch 23/100\n",
      "23/23 [==============================] - 0s 4ms/step - loss: 0.3928 - accuracy: 0.8527 - val_loss: 0.4978 - val_accuracy: 0.7921\n",
      "\n",
      "Epoch 00023: val_accuracy did not improve from 0.79775\n",
      "Epoch 24/100\n",
      "23/23 [==============================] - 0s 4ms/step - loss: 0.3732 - accuracy: 0.8513 - val_loss: 0.4983 - val_accuracy: 0.7865\n",
      "\n",
      "Epoch 00024: val_accuracy did not improve from 0.79775\n",
      "Epoch 25/100\n",
      "23/23 [==============================] - 0s 4ms/step - loss: 0.3915 - accuracy: 0.8401 - val_loss: 0.4940 - val_accuracy: 0.7921\n",
      "\n",
      "Epoch 00025: val_accuracy did not improve from 0.79775\n",
      "Epoch 26/100\n",
      "23/23 [==============================] - 0s 3ms/step - loss: 0.3824 - accuracy: 0.8429 - val_loss: 0.4939 - val_accuracy: 0.7978\n",
      "\n",
      "Epoch 00026: val_accuracy did not improve from 0.79775\n",
      "Epoch 27/100\n",
      "23/23 [==============================] - 0s 3ms/step - loss: 0.3876 - accuracy: 0.8471 - val_loss: 0.4927 - val_accuracy: 0.7978\n",
      "\n",
      "Epoch 00027: val_accuracy did not improve from 0.79775\n",
      "Epoch 28/100\n",
      "23/23 [==============================] - 0s 4ms/step - loss: 0.3832 - accuracy: 0.8541 - val_loss: 0.4892 - val_accuracy: 0.7865\n",
      "\n",
      "Epoch 00028: val_accuracy did not improve from 0.79775\n",
      "Epoch 29/100\n",
      "23/23 [==============================] - 0s 4ms/step - loss: 0.3954 - accuracy: 0.8457 - val_loss: 0.4888 - val_accuracy: 0.7921\n",
      "\n",
      "Epoch 00029: val_accuracy did not improve from 0.79775\n",
      "Epoch 30/100\n",
      "23/23 [==============================] - 0s 4ms/step - loss: 0.3717 - accuracy: 0.8555 - val_loss: 0.4907 - val_accuracy: 0.7978\n",
      "\n",
      "Epoch 00030: val_accuracy did not improve from 0.79775\n",
      "Epoch 31/100\n",
      "23/23 [==============================] - 0s 3ms/step - loss: 0.3726 - accuracy: 0.8654 - val_loss: 0.4865 - val_accuracy: 0.7921\n",
      "\n",
      "Epoch 00031: val_accuracy did not improve from 0.79775\n",
      "Epoch 32/100\n",
      "23/23 [==============================] - 0s 4ms/step - loss: 0.3677 - accuracy: 0.8555 - val_loss: 0.4866 - val_accuracy: 0.7921\n",
      "\n",
      "Epoch 00032: val_accuracy did not improve from 0.79775\n",
      "Epoch 33/100\n",
      "23/23 [==============================] - 0s 3ms/step - loss: 0.3648 - accuracy: 0.8499 - val_loss: 0.4908 - val_accuracy: 0.7921\n",
      "\n",
      "Epoch 00033: val_accuracy did not improve from 0.79775\n",
      "Epoch 34/100\n",
      "23/23 [==============================] - 0s 3ms/step - loss: 0.3707 - accuracy: 0.8640 - val_loss: 0.4911 - val_accuracy: 0.7921\n",
      "\n",
      "Epoch 00034: val_accuracy did not improve from 0.79775\n",
      "Epoch 35/100\n",
      "23/23 [==============================] - 0s 3ms/step - loss: 0.3691 - accuracy: 0.8457 - val_loss: 0.4876 - val_accuracy: 0.7921\n",
      "\n",
      "Epoch 00035: val_accuracy did not improve from 0.79775\n",
      "Epoch 36/100\n",
      "23/23 [==============================] - 0s 3ms/step - loss: 0.3822 - accuracy: 0.8443 - val_loss: 0.4911 - val_accuracy: 0.7921\n",
      "\n",
      "Epoch 00036: val_accuracy did not improve from 0.79775\n",
      "Epoch 37/100\n",
      "23/23 [==============================] - 0s 3ms/step - loss: 0.3638 - accuracy: 0.8387 - val_loss: 0.4885 - val_accuracy: 0.7921\n",
      "\n",
      "Epoch 00037: val_accuracy did not improve from 0.79775\n",
      "Epoch 38/100\n",
      "23/23 [==============================] - 0s 4ms/step - loss: 0.3722 - accuracy: 0.8401 - val_loss: 0.4853 - val_accuracy: 0.7921\n",
      "\n",
      "Epoch 00038: val_accuracy did not improve from 0.79775\n",
      "Epoch 39/100\n",
      "23/23 [==============================] - 0s 3ms/step - loss: 0.3785 - accuracy: 0.8583 - val_loss: 0.4814 - val_accuracy: 0.7978\n",
      "\n",
      "Epoch 00039: val_accuracy did not improve from 0.79775\n",
      "Epoch 40/100\n",
      "23/23 [==============================] - 0s 4ms/step - loss: 0.3533 - accuracy: 0.8696 - val_loss: 0.4853 - val_accuracy: 0.7921\n",
      "\n",
      "Epoch 00040: val_accuracy did not improve from 0.79775\n",
      "Epoch 41/100\n",
      "23/23 [==============================] - 0s 4ms/step - loss: 0.3715 - accuracy: 0.8569 - val_loss: 0.4874 - val_accuracy: 0.7921\n",
      "\n",
      "Epoch 00041: val_accuracy did not improve from 0.79775\n",
      "Epoch 42/100\n",
      "23/23 [==============================] - 0s 4ms/step - loss: 0.3686 - accuracy: 0.8541 - val_loss: 0.4831 - val_accuracy: 0.7921\n",
      "\n",
      "Epoch 00042: val_accuracy did not improve from 0.79775\n",
      "Epoch 43/100\n",
      "23/23 [==============================] - 0s 3ms/step - loss: 0.3660 - accuracy: 0.8541 - val_loss: 0.4802 - val_accuracy: 0.7921\n",
      "\n",
      "Epoch 00043: val_accuracy did not improve from 0.79775\n",
      "Epoch 44/100\n",
      "23/23 [==============================] - 0s 4ms/step - loss: 0.3597 - accuracy: 0.8457 - val_loss: 0.4777 - val_accuracy: 0.7921\n",
      "\n",
      "Epoch 00044: val_accuracy did not improve from 0.79775\n",
      "Epoch 45/100\n",
      "23/23 [==============================] - 0s 4ms/step - loss: 0.3703 - accuracy: 0.8541 - val_loss: 0.4746 - val_accuracy: 0.7921\n",
      "\n",
      "Epoch 00045: val_accuracy did not improve from 0.79775\n",
      "Epoch 46/100\n",
      "23/23 [==============================] - 0s 4ms/step - loss: 0.3535 - accuracy: 0.8654 - val_loss: 0.4756 - val_accuracy: 0.7921\n",
      "\n",
      "Epoch 00046: val_accuracy did not improve from 0.79775\n",
      "Epoch 47/100\n",
      "23/23 [==============================] - 0s 4ms/step - loss: 0.3580 - accuracy: 0.8626 - val_loss: 0.4769 - val_accuracy: 0.7978\n",
      "\n",
      "Epoch 00047: val_accuracy did not improve from 0.79775\n",
      "Epoch 48/100\n",
      "23/23 [==============================] - 0s 4ms/step - loss: 0.3627 - accuracy: 0.8654 - val_loss: 0.4746 - val_accuracy: 0.8034\n",
      "\n",
      "Epoch 00048: val_accuracy improved from 0.79775 to 0.80337, saving model to simple/base_model\n",
      "Epoch 49/100\n",
      "23/23 [==============================] - 0s 3ms/step - loss: 0.3496 - accuracy: 0.8696 - val_loss: 0.4768 - val_accuracy: 0.7978\n",
      "\n",
      "Epoch 00049: val_accuracy did not improve from 0.80337\n",
      "Epoch 50/100\n",
      "23/23 [==============================] - 0s 4ms/step - loss: 0.3539 - accuracy: 0.8569 - val_loss: 0.4785 - val_accuracy: 0.8034\n",
      "\n",
      "Epoch 00050: val_accuracy did not improve from 0.80337\n",
      "Epoch 51/100\n",
      "23/23 [==============================] - 0s 4ms/step - loss: 0.3544 - accuracy: 0.8555 - val_loss: 0.4793 - val_accuracy: 0.8034\n",
      "\n",
      "Epoch 00051: val_accuracy did not improve from 0.80337\n",
      "Epoch 52/100\n",
      "23/23 [==============================] - 0s 4ms/step - loss: 0.3630 - accuracy: 0.8640 - val_loss: 0.4752 - val_accuracy: 0.8034\n",
      "\n",
      "Epoch 00052: val_accuracy did not improve from 0.80337\n",
      "Epoch 53/100\n",
      "23/23 [==============================] - 0s 4ms/step - loss: 0.3561 - accuracy: 0.8597 - val_loss: 0.4767 - val_accuracy: 0.7978\n",
      "\n",
      "Epoch 00053: val_accuracy did not improve from 0.80337\n",
      "Epoch 54/100\n",
      "23/23 [==============================] - 0s 4ms/step - loss: 0.3631 - accuracy: 0.8513 - val_loss: 0.4757 - val_accuracy: 0.7978\n",
      "\n",
      "Epoch 00054: val_accuracy did not improve from 0.80337\n",
      "Epoch 55/100\n",
      "23/23 [==============================] - 0s 4ms/step - loss: 0.3487 - accuracy: 0.8682 - val_loss: 0.4743 - val_accuracy: 0.7978\n",
      "\n",
      "Epoch 00055: val_accuracy did not improve from 0.80337\n",
      "Epoch 56/100\n",
      "23/23 [==============================] - 0s 3ms/step - loss: 0.3528 - accuracy: 0.8597 - val_loss: 0.4708 - val_accuracy: 0.7978\n",
      "\n",
      "Epoch 00056: val_accuracy did not improve from 0.80337\n",
      "Epoch 57/100\n",
      "23/23 [==============================] - 0s 4ms/step - loss: 0.3452 - accuracy: 0.8583 - val_loss: 0.4681 - val_accuracy: 0.7921\n",
      "\n",
      "Epoch 00057: val_accuracy did not improve from 0.80337\n",
      "Epoch 58/100\n",
      "23/23 [==============================] - 0s 4ms/step - loss: 0.3701 - accuracy: 0.8597 - val_loss: 0.4705 - val_accuracy: 0.7921\n",
      "\n",
      "Epoch 00058: val_accuracy did not improve from 0.80337\n",
      "Epoch 59/100\n",
      "23/23 [==============================] - 0s 3ms/step - loss: 0.3466 - accuracy: 0.8569 - val_loss: 0.4727 - val_accuracy: 0.8090\n",
      "\n",
      "Epoch 00059: val_accuracy improved from 0.80337 to 0.80899, saving model to simple/base_model\n",
      "Epoch 60/100\n",
      "23/23 [==============================] - 0s 4ms/step - loss: 0.3455 - accuracy: 0.8682 - val_loss: 0.4727 - val_accuracy: 0.7978\n",
      "\n",
      "Epoch 00060: val_accuracy did not improve from 0.80899\n",
      "Epoch 61/100\n",
      "23/23 [==============================] - 0s 4ms/step - loss: 0.3609 - accuracy: 0.8626 - val_loss: 0.4757 - val_accuracy: 0.7978\n",
      "\n",
      "Epoch 00061: val_accuracy did not improve from 0.80899\n",
      "Epoch 62/100\n",
      "23/23 [==============================] - 0s 4ms/step - loss: 0.3436 - accuracy: 0.8696 - val_loss: 0.4702 - val_accuracy: 0.7978\n",
      "\n",
      "Epoch 00062: val_accuracy did not improve from 0.80899\n",
      "Epoch 63/100\n",
      "23/23 [==============================] - 0s 5ms/step - loss: 0.3462 - accuracy: 0.8612 - val_loss: 0.4768 - val_accuracy: 0.8034\n",
      "\n",
      "Epoch 00063: val_accuracy did not improve from 0.80899\n",
      "Epoch 64/100\n",
      "23/23 [==============================] - 0s 4ms/step - loss: 0.3527 - accuracy: 0.8696 - val_loss: 0.4738 - val_accuracy: 0.7978\n",
      "\n",
      "Epoch 00064: val_accuracy did not improve from 0.80899\n",
      "Epoch 65/100\n",
      "23/23 [==============================] - 0s 4ms/step - loss: 0.3367 - accuracy: 0.8682 - val_loss: 0.4710 - val_accuracy: 0.7978\n",
      "\n",
      "Epoch 00065: val_accuracy did not improve from 0.80899\n",
      "Epoch 66/100\n",
      "23/23 [==============================] - 0s 4ms/step - loss: 0.3609 - accuracy: 0.8569 - val_loss: 0.4702 - val_accuracy: 0.7978\n",
      "\n",
      "Epoch 00066: val_accuracy did not improve from 0.80899\n",
      "Epoch 67/100\n",
      "23/23 [==============================] - 0s 4ms/step - loss: 0.3390 - accuracy: 0.8682 - val_loss: 0.4754 - val_accuracy: 0.8034\n",
      "\n",
      "Epoch 00067: val_accuracy did not improve from 0.80899\n",
      "Epoch 68/100\n",
      "23/23 [==============================] - 0s 4ms/step - loss: 0.3484 - accuracy: 0.8626 - val_loss: 0.4755 - val_accuracy: 0.8034\n",
      "\n",
      "Epoch 00068: val_accuracy did not improve from 0.80899\n",
      "Epoch 69/100\n",
      "23/23 [==============================] - 0s 4ms/step - loss: 0.3380 - accuracy: 0.8710 - val_loss: 0.4745 - val_accuracy: 0.8034\n",
      "\n",
      "Epoch 00069: val_accuracy did not improve from 0.80899\n",
      "Epoch 70/100\n",
      "23/23 [==============================] - 0s 4ms/step - loss: 0.3379 - accuracy: 0.8612 - val_loss: 0.4737 - val_accuracy: 0.8034\n",
      "\n",
      "Epoch 00070: val_accuracy did not improve from 0.80899\n",
      "Epoch 71/100\n",
      "23/23 [==============================] - 0s 4ms/step - loss: 0.3557 - accuracy: 0.8583 - val_loss: 0.4693 - val_accuracy: 0.8034\n",
      "\n",
      "Epoch 00071: val_accuracy did not improve from 0.80899\n",
      "Epoch 72/100\n",
      "23/23 [==============================] - 0s 4ms/step - loss: 0.3307 - accuracy: 0.8710 - val_loss: 0.4697 - val_accuracy: 0.8034\n",
      "\n",
      "Epoch 00072: val_accuracy did not improve from 0.80899\n",
      "Epoch 73/100\n",
      "23/23 [==============================] - 0s 4ms/step - loss: 0.3518 - accuracy: 0.8583 - val_loss: 0.4679 - val_accuracy: 0.8034\n",
      "\n",
      "Epoch 00073: val_accuracy did not improve from 0.80899\n",
      "Epoch 74/100\n",
      "23/23 [==============================] - 0s 4ms/step - loss: 0.3498 - accuracy: 0.8583 - val_loss: 0.4723 - val_accuracy: 0.8034\n",
      "\n",
      "Epoch 00074: val_accuracy did not improve from 0.80899\n",
      "Epoch 75/100\n",
      "23/23 [==============================] - 0s 4ms/step - loss: 0.3491 - accuracy: 0.8555 - val_loss: 0.4660 - val_accuracy: 0.8034\n",
      "\n",
      "Epoch 00075: val_accuracy did not improve from 0.80899\n",
      "Epoch 76/100\n",
      "23/23 [==============================] - 0s 4ms/step - loss: 0.3522 - accuracy: 0.8597 - val_loss: 0.4664 - val_accuracy: 0.7978\n",
      "\n",
      "Epoch 00076: val_accuracy did not improve from 0.80899\n",
      "Epoch 77/100\n",
      "23/23 [==============================] - 0s 4ms/step - loss: 0.3410 - accuracy: 0.8626 - val_loss: 0.4674 - val_accuracy: 0.7978\n",
      "\n",
      "Epoch 00077: val_accuracy did not improve from 0.80899\n",
      "Epoch 78/100\n",
      "23/23 [==============================] - 0s 4ms/step - loss: 0.3346 - accuracy: 0.8710 - val_loss: 0.4690 - val_accuracy: 0.7978\n",
      "\n",
      "Epoch 00078: val_accuracy did not improve from 0.80899\n",
      "Epoch 79/100\n",
      "23/23 [==============================] - 0s 4ms/step - loss: 0.3398 - accuracy: 0.8864 - val_loss: 0.4692 - val_accuracy: 0.7978\n",
      "\n",
      "Epoch 00079: val_accuracy did not improve from 0.80899\n",
      "Epoch 80/100\n",
      "23/23 [==============================] - 0s 4ms/step - loss: 0.3338 - accuracy: 0.8654 - val_loss: 0.4708 - val_accuracy: 0.8034\n",
      "\n",
      "Epoch 00080: val_accuracy did not improve from 0.80899\n",
      "Epoch 81/100\n",
      "23/23 [==============================] - 0s 4ms/step - loss: 0.3508 - accuracy: 0.8654 - val_loss: 0.4666 - val_accuracy: 0.8034\n",
      "\n",
      "Epoch 00081: val_accuracy did not improve from 0.80899\n",
      "Epoch 82/100\n",
      "23/23 [==============================] - 0s 4ms/step - loss: 0.3469 - accuracy: 0.8710 - val_loss: 0.4693 - val_accuracy: 0.7978\n",
      "\n",
      "Epoch 00082: val_accuracy did not improve from 0.80899\n",
      "Epoch 83/100\n",
      "23/23 [==============================] - 0s 4ms/step - loss: 0.3394 - accuracy: 0.8612 - val_loss: 0.4716 - val_accuracy: 0.7921\n",
      "\n",
      "Epoch 00083: val_accuracy did not improve from 0.80899\n",
      "Epoch 84/100\n",
      "23/23 [==============================] - 0s 4ms/step - loss: 0.3283 - accuracy: 0.8640 - val_loss: 0.4665 - val_accuracy: 0.7978\n",
      "\n",
      "Epoch 00084: val_accuracy did not improve from 0.80899\n",
      "Epoch 85/100\n",
      "23/23 [==============================] - 0s 4ms/step - loss: 0.3384 - accuracy: 0.8752 - val_loss: 0.4666 - val_accuracy: 0.7978\n",
      "\n",
      "Epoch 00085: val_accuracy did not improve from 0.80899\n",
      "Epoch 86/100\n",
      "23/23 [==============================] - 0s 4ms/step - loss: 0.3306 - accuracy: 0.8836 - val_loss: 0.4734 - val_accuracy: 0.7978\n",
      "\n",
      "Epoch 00086: val_accuracy did not improve from 0.80899\n",
      "Epoch 87/100\n",
      "23/23 [==============================] - 0s 4ms/step - loss: 0.3475 - accuracy: 0.8555 - val_loss: 0.4677 - val_accuracy: 0.7978\n",
      "\n",
      "Epoch 00087: val_accuracy did not improve from 0.80899\n",
      "Epoch 88/100\n",
      "23/23 [==============================] - 0s 3ms/step - loss: 0.3315 - accuracy: 0.8612 - val_loss: 0.4650 - val_accuracy: 0.8090\n",
      "\n",
      "Epoch 00088: val_accuracy did not improve from 0.80899\n",
      "Epoch 89/100\n",
      "23/23 [==============================] - 0s 4ms/step - loss: 0.3268 - accuracy: 0.8654 - val_loss: 0.4661 - val_accuracy: 0.7978\n",
      "\n",
      "Epoch 00089: val_accuracy did not improve from 0.80899\n",
      "Epoch 90/100\n",
      "23/23 [==============================] - 0s 4ms/step - loss: 0.3311 - accuracy: 0.8654 - val_loss: 0.4673 - val_accuracy: 0.8090\n",
      "\n",
      "Epoch 00090: val_accuracy did not improve from 0.80899\n",
      "Epoch 91/100\n",
      "23/23 [==============================] - 0s 3ms/step - loss: 0.3393 - accuracy: 0.8682 - val_loss: 0.4696 - val_accuracy: 0.8090\n",
      "\n",
      "Epoch 00091: val_accuracy did not improve from 0.80899\n",
      "Epoch 92/100\n",
      "23/23 [==============================] - 0s 4ms/step - loss: 0.3453 - accuracy: 0.8612 - val_loss: 0.4694 - val_accuracy: 0.8090\n",
      "\n",
      "Epoch 00092: val_accuracy did not improve from 0.80899\n",
      "Epoch 93/100\n",
      "23/23 [==============================] - 0s 4ms/step - loss: 0.3343 - accuracy: 0.8696 - val_loss: 0.4749 - val_accuracy: 0.7978\n",
      "\n",
      "Epoch 00093: val_accuracy did not improve from 0.80899\n",
      "Epoch 94/100\n",
      "23/23 [==============================] - 0s 4ms/step - loss: 0.3380 - accuracy: 0.8654 - val_loss: 0.4711 - val_accuracy: 0.7978\n",
      "\n",
      "Epoch 00094: val_accuracy did not improve from 0.80899\n",
      "Epoch 95/100\n",
      "23/23 [==============================] - 0s 4ms/step - loss: 0.3385 - accuracy: 0.8583 - val_loss: 0.4679 - val_accuracy: 0.7921\n",
      "\n",
      "Epoch 00095: val_accuracy did not improve from 0.80899\n",
      "Epoch 96/100\n",
      "23/23 [==============================] - 0s 4ms/step - loss: 0.3342 - accuracy: 0.8640 - val_loss: 0.4670 - val_accuracy: 0.7921\n",
      "\n",
      "Epoch 00096: val_accuracy did not improve from 0.80899\n",
      "Epoch 97/100\n",
      "23/23 [==============================] - 0s 4ms/step - loss: 0.3321 - accuracy: 0.8668 - val_loss: 0.4712 - val_accuracy: 0.7921\n",
      "\n",
      "Epoch 00097: val_accuracy did not improve from 0.80899\n",
      "Epoch 98/100\n",
      "23/23 [==============================] - 0s 4ms/step - loss: 0.3359 - accuracy: 0.8752 - val_loss: 0.4700 - val_accuracy: 0.8090\n",
      "\n",
      "Epoch 00098: val_accuracy did not improve from 0.80899\n",
      "Epoch 99/100\n",
      "23/23 [==============================] - 0s 4ms/step - loss: 0.3274 - accuracy: 0.8654 - val_loss: 0.4739 - val_accuracy: 0.7978\n",
      "\n",
      "Epoch 00099: val_accuracy did not improve from 0.80899\n",
      "Epoch 100/100\n",
      "23/23 [==============================] - 0s 4ms/step - loss: 0.3445 - accuracy: 0.8710 - val_loss: 0.4702 - val_accuracy: 0.7978\n",
      "\n",
      "Epoch 00100: val_accuracy did not improve from 0.80899\n"
     ]
    },
    {
     "data": {
      "text/plain": [
       "<keras.callbacks.History at 0x7fd891378f90>"
      ]
     },
     "execution_count": 29,
     "metadata": {},
     "output_type": "execute_result"
    }
   ],
   "source": [
    "base_model.fit(\n",
    "    train_dataset, \n",
    "    epochs=100, \n",
    "    validation_data=val_dataset, \n",
    "    callbacks=[create_model_checkpoint(\"base_model\", 'simple' )] \n",
    ")"
   ]
  },
  {
   "cell_type": "code",
   "execution_count": 30,
   "id": "d0dc6beb",
   "metadata": {
    "execution": {
     "iopub.execute_input": "2022-10-07T09:01:30.963790Z",
     "iopub.status.busy": "2022-10-07T09:01:30.962647Z",
     "iopub.status.idle": "2022-10-07T09:01:33.040750Z",
     "shell.execute_reply": "2022-10-07T09:01:33.039360Z"
    },
    "papermill": {
     "duration": 2.117928,
     "end_time": "2022-10-07T09:01:33.043951",
     "exception": false,
     "start_time": "2022-10-07T09:01:30.926023",
     "status": "completed"
    },
    "tags": []
   },
   "outputs": [
    {
     "name": "stdout",
     "output_type": "stream",
     "text": [
      "6/6 [==============================] - 0s 2ms/step - loss: 0.4727 - accuracy: 0.8090\n"
     ]
    },
    {
     "data": {
      "text/plain": [
       "[0.4726826548576355, 0.8089887499809265]"
      ]
     },
     "execution_count": 30,
     "metadata": {},
     "output_type": "execute_result"
    }
   ],
   "source": [
    "# pick the best model and evaluate on validatation data\n",
    "base_model_best = tf.keras.models.load_model(\"./simple/base_model\")\n",
    "base_model_best.evaluate(val_dataset)\n"
   ]
  },
  {
   "cell_type": "code",
   "execution_count": 31,
   "id": "fc4fc30a",
   "metadata": {
    "execution": {
     "iopub.execute_input": "2022-10-07T09:01:33.123196Z",
     "iopub.status.busy": "2022-10-07T09:01:33.122697Z",
     "iopub.status.idle": "2022-10-07T09:01:33.494509Z",
     "shell.execute_reply": "2022-10-07T09:01:33.493105Z"
    },
    "papermill": {
     "duration": 0.413466,
     "end_time": "2022-10-07T09:01:33.497687",
     "exception": false,
     "start_time": "2022-10-07T09:01:33.084221",
     "status": "completed"
    },
    "tags": []
   },
   "outputs": [],
   "source": [
    "# create predictions on test data\n",
    "base_model_preds = base_model_best.predict(test_dataset)\n",
    "base_model_preds = tf.cast(np.round(np.max(base_model_preds, axis=1)), dtype=tf.int32)"
   ]
  },
  {
   "cell_type": "code",
   "execution_count": 32,
   "id": "3c4fcb1c",
   "metadata": {
    "execution": {
     "iopub.execute_input": "2022-10-07T09:01:33.576736Z",
     "iopub.status.busy": "2022-10-07T09:01:33.575971Z",
     "iopub.status.idle": "2022-10-07T09:01:33.588699Z",
     "shell.execute_reply": "2022-10-07T09:01:33.586889Z"
    },
    "papermill": {
     "duration": 0.054481,
     "end_time": "2022-10-07T09:01:33.592036",
     "exception": false,
     "start_time": "2022-10-07T09:01:33.537555",
     "status": "completed"
    },
    "tags": []
   },
   "outputs": [
    {
     "name": "stdout",
     "output_type": "stream",
     "text": [
      "Your submission was successfully saved!\n"
     ]
    }
   ],
   "source": [
    "output = pd.DataFrame({\"PassengerId\": test_df.index, \"Survived\": base_model_preds})\n",
    "output.to_csv('submission.csv', index=False)\n",
    "print(\"Your submission was successfully saved!\")"
   ]
  },
  {
   "cell_type": "code",
   "execution_count": null,
   "id": "f7ec2a11",
   "metadata": {
    "papermill": {
     "duration": 0.036452,
     "end_time": "2022-10-07T09:01:33.666107",
     "exception": false,
     "start_time": "2022-10-07T09:01:33.629655",
     "status": "completed"
    },
    "tags": []
   },
   "outputs": [],
   "source": []
  }
 ],
 "metadata": {
  "kernelspec": {
   "display_name": "Python 3",
   "language": "python",
   "name": "python3"
  },
  "language_info": {
   "codemirror_mode": {
    "name": "ipython",
    "version": 3
   },
   "file_extension": ".py",
   "mimetype": "text/x-python",
   "name": "python",
   "nbconvert_exporter": "python",
   "pygments_lexer": "ipython3",
   "version": "3.7.12"
  },
  "papermill": {
   "default_parameters": {},
   "duration": 79.225745,
   "end_time": "2022-10-07T09:01:37.153285",
   "environment_variables": {},
   "exception": null,
   "input_path": "__notebook__.ipynb",
   "output_path": "__notebook__.ipynb",
   "parameters": {},
   "start_time": "2022-10-07T09:00:17.927540",
   "version": "2.3.4"
  }
 },
 "nbformat": 4,
 "nbformat_minor": 5
}
