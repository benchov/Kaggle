{
 "cells": [
  {
   "cell_type": "markdown",
   "id": "6f7aad60",
   "metadata": {
    "papermill": {
     "duration": 0.007799,
     "end_time": "2022-11-11T19:03:56.750813",
     "exception": false,
     "start_time": "2022-11-11T19:03:56.743014",
     "status": "completed"
    },
    "tags": []
   },
   "source": [
    "**This notebook is an exercise in the [Data Cleaning](https://www.kaggle.com/learn/data-cleaning) course.  You can reference the tutorial at [this link](https://www.kaggle.com/alexisbcook/parsing-dates).**\n",
    "\n",
    "---\n"
   ]
  },
  {
   "cell_type": "markdown",
   "id": "23952e53",
   "metadata": {
    "papermill": {
     "duration": 0.005954,
     "end_time": "2022-11-11T19:03:56.763119",
     "exception": false,
     "start_time": "2022-11-11T19:03:56.757165",
     "status": "completed"
    },
    "tags": []
   },
   "source": [
    "In this exercise, you'll apply what you learned in the **Parsing dates** tutorial.\n",
    "\n",
    "# Setup\n",
    "\n",
    "The questions below will give you feedback on your work. Run the following cell to set up the feedback system."
   ]
  },
  {
   "cell_type": "code",
   "execution_count": 1,
   "id": "1890ae49",
   "metadata": {
    "execution": {
     "iopub.execute_input": "2022-11-11T19:03:56.777841Z",
     "iopub.status.busy": "2022-11-11T19:03:56.777104Z",
     "iopub.status.idle": "2022-11-11T19:03:58.188792Z",
     "shell.execute_reply": "2022-11-11T19:03:58.187716Z"
    },
    "papermill": {
     "duration": 1.422372,
     "end_time": "2022-11-11T19:03:58.191642",
     "exception": false,
     "start_time": "2022-11-11T19:03:56.769270",
     "status": "completed"
    },
    "tags": []
   },
   "outputs": [
    {
     "name": "stdout",
     "output_type": "stream",
     "text": [
      "Setup Complete\n"
     ]
    }
   ],
   "source": [
    "from learntools.core import binder\n",
    "binder.bind(globals())\n",
    "from learntools.data_cleaning.ex3 import *\n",
    "print(\"Setup Complete\")"
   ]
  },
  {
   "cell_type": "markdown",
   "id": "3f5b6c5e",
   "metadata": {
    "papermill": {
     "duration": 0.006195,
     "end_time": "2022-11-11T19:03:58.204676",
     "exception": false,
     "start_time": "2022-11-11T19:03:58.198481",
     "status": "completed"
    },
    "tags": []
   },
   "source": [
    "# Get our environment set up\n",
    "\n",
    "The first thing we'll need to do is load in the libraries and dataset we'll be using. We'll be working with a dataset containing information on earthquakes that occured between 1965 and 2016."
   ]
  },
  {
   "cell_type": "code",
   "execution_count": 2,
   "id": "fdf182f7",
   "metadata": {
    "execution": {
     "iopub.execute_input": "2022-11-11T19:03:58.219045Z",
     "iopub.status.busy": "2022-11-11T19:03:58.218608Z",
     "iopub.status.idle": "2022-11-11T19:03:58.275430Z",
     "shell.execute_reply": "2022-11-11T19:03:58.273859Z"
    },
    "papermill": {
     "duration": 0.067514,
     "end_time": "2022-11-11T19:03:58.278426",
     "exception": false,
     "start_time": "2022-11-11T19:03:58.210912",
     "status": "completed"
    },
    "tags": []
   },
   "outputs": [],
   "source": [
    "# modules we'll use\n",
    "import pandas as pd\n",
    "import numpy as np\n",
    "import seaborn as sns\n",
    "import datetime\n",
    "\n",
    "# read in our data\n",
    "earthquakes = pd.read_csv(\"../input/earthquake-database/database.csv\")\n",
    "\n",
    "# set seed for reproducibility\n",
    "np.random.seed(0)"
   ]
  },
  {
   "cell_type": "markdown",
   "id": "2252651f",
   "metadata": {
    "papermill": {
     "duration": 0.007138,
     "end_time": "2022-11-11T19:03:58.291979",
     "exception": false,
     "start_time": "2022-11-11T19:03:58.284841",
     "status": "completed"
    },
    "tags": []
   },
   "source": [
    "# 1) Check the data type of our date column\n",
    "\n",
    "You'll be working with the \"Date\" column from the `earthquakes` dataframe.  Investigate this column now: does it look like it contains dates?  What is the dtype of the column?"
   ]
  },
  {
   "cell_type": "code",
   "execution_count": 3,
   "id": "b4f1731a",
   "metadata": {
    "execution": {
     "iopub.execute_input": "2022-11-11T19:03:58.305825Z",
     "iopub.status.busy": "2022-11-11T19:03:58.305449Z",
     "iopub.status.idle": "2022-11-11T19:03:58.313836Z",
     "shell.execute_reply": "2022-11-11T19:03:58.312978Z"
    },
    "papermill": {
     "duration": 0.017787,
     "end_time": "2022-11-11T19:03:58.315916",
     "exception": false,
     "start_time": "2022-11-11T19:03:58.298129",
     "status": "completed"
    },
    "tags": []
   },
   "outputs": [
    {
     "data": {
      "text/plain": [
       "dtype('O')"
      ]
     },
     "execution_count": 3,
     "metadata": {},
     "output_type": "execute_result"
    }
   ],
   "source": [
    "# TODO: Your code here!\n",
    "earthquakes.Date.dtype\n"
   ]
  },
  {
   "cell_type": "markdown",
   "id": "6e380556",
   "metadata": {
    "papermill": {
     "duration": 0.006835,
     "end_time": "2022-11-11T19:03:58.329505",
     "exception": false,
     "start_time": "2022-11-11T19:03:58.322670",
     "status": "completed"
    },
    "tags": []
   },
   "source": [
    "Once you have answered the question above, run the code cell below to get credit for your work."
   ]
  },
  {
   "cell_type": "code",
   "execution_count": 4,
   "id": "8727645e",
   "metadata": {
    "execution": {
     "iopub.execute_input": "2022-11-11T19:03:58.344358Z",
     "iopub.status.busy": "2022-11-11T19:03:58.343899Z",
     "iopub.status.idle": "2022-11-11T19:03:58.351056Z",
     "shell.execute_reply": "2022-11-11T19:03:58.350253Z"
    },
    "papermill": {
     "duration": 0.017541,
     "end_time": "2022-11-11T19:03:58.353772",
     "exception": false,
     "start_time": "2022-11-11T19:03:58.336231",
     "status": "completed"
    },
    "tags": []
   },
   "outputs": [
    {
     "data": {
      "application/javascript": [
       "parent.postMessage({\"jupyterEvent\": \"custom.exercise_interaction\", \"data\": {\"outcomeType\": 1, \"valueTowardsCompletion\": 0.25, \"interactionType\": 1, \"questionType\": 4, \"questionId\": \"1_CheckDtype\", \"learnToolsVersion\": \"0.3.4\", \"failureMessage\": \"\", \"exceptionClass\": \"\", \"trace\": \"\"}}, \"*\")"
      ],
      "text/plain": [
       "<IPython.core.display.Javascript object>"
      ]
     },
     "metadata": {},
     "output_type": "display_data"
    },
    {
     "data": {
      "text/markdown": [
       "<span style=\"color:#33cc33\">Correct:</span> \n",
       "\n",
       "The \"Date\" column in the `earthquakes` DataFrame does have dates.  The dtype is \"object\"."
      ],
      "text/plain": [
       "Correct: \n",
       "\n",
       "The \"Date\" column in the `earthquakes` DataFrame does have dates.  The dtype is \"object\"."
      ]
     },
     "metadata": {},
     "output_type": "display_data"
    }
   ],
   "source": [
    "# Check your answer (Run this code cell to receive credit!)\n",
    "q1.check()"
   ]
  },
  {
   "cell_type": "code",
   "execution_count": 5,
   "id": "3ec0cc9b",
   "metadata": {
    "execution": {
     "iopub.execute_input": "2022-11-11T19:03:58.369745Z",
     "iopub.status.busy": "2022-11-11T19:03:58.369358Z",
     "iopub.status.idle": "2022-11-11T19:03:58.374020Z",
     "shell.execute_reply": "2022-11-11T19:03:58.372569Z"
    },
    "papermill": {
     "duration": 0.015665,
     "end_time": "2022-11-11T19:03:58.377048",
     "exception": false,
     "start_time": "2022-11-11T19:03:58.361383",
     "status": "completed"
    },
    "tags": []
   },
   "outputs": [],
   "source": [
    "# Line below will give you a hint\n",
    "#q1.hint()"
   ]
  },
  {
   "cell_type": "markdown",
   "id": "da848dd3",
   "metadata": {
    "papermill": {
     "duration": 0.007743,
     "end_time": "2022-11-11T19:03:58.392135",
     "exception": false,
     "start_time": "2022-11-11T19:03:58.384392",
     "status": "completed"
    },
    "tags": []
   },
   "source": [
    "# 2) Convert our date columns to datetime\n",
    "\n",
    "Most of the entries in the \"Date\" column follow the same format: \"month/day/four-digit year\".  However, the entry at index 3378 follows a completely different pattern.  Run the code cell below to see this."
   ]
  },
  {
   "cell_type": "code",
   "execution_count": 6,
   "id": "c8f3260e",
   "metadata": {
    "execution": {
     "iopub.execute_input": "2022-11-11T19:03:58.407391Z",
     "iopub.status.busy": "2022-11-11T19:03:58.406955Z",
     "iopub.status.idle": "2022-11-11T19:03:58.440764Z",
     "shell.execute_reply": "2022-11-11T19:03:58.439430Z"
    },
    "papermill": {
     "duration": 0.044276,
     "end_time": "2022-11-11T19:03:58.443236",
     "exception": false,
     "start_time": "2022-11-11T19:03:58.398960",
     "status": "completed"
    },
    "tags": []
   },
   "outputs": [
    {
     "data": {
      "text/html": [
       "<div>\n",
       "<style scoped>\n",
       "    .dataframe tbody tr th:only-of-type {\n",
       "        vertical-align: middle;\n",
       "    }\n",
       "\n",
       "    .dataframe tbody tr th {\n",
       "        vertical-align: top;\n",
       "    }\n",
       "\n",
       "    .dataframe thead th {\n",
       "        text-align: right;\n",
       "    }\n",
       "</style>\n",
       "<table border=\"1\" class=\"dataframe\">\n",
       "  <thead>\n",
       "    <tr style=\"text-align: right;\">\n",
       "      <th></th>\n",
       "      <th>Date</th>\n",
       "      <th>Time</th>\n",
       "      <th>Latitude</th>\n",
       "      <th>Longitude</th>\n",
       "      <th>Type</th>\n",
       "      <th>Depth</th>\n",
       "      <th>Depth Error</th>\n",
       "      <th>Depth Seismic Stations</th>\n",
       "      <th>Magnitude</th>\n",
       "      <th>Magnitude Type</th>\n",
       "      <th>...</th>\n",
       "      <th>Magnitude Seismic Stations</th>\n",
       "      <th>Azimuthal Gap</th>\n",
       "      <th>Horizontal Distance</th>\n",
       "      <th>Horizontal Error</th>\n",
       "      <th>Root Mean Square</th>\n",
       "      <th>ID</th>\n",
       "      <th>Source</th>\n",
       "      <th>Location Source</th>\n",
       "      <th>Magnitude Source</th>\n",
       "      <th>Status</th>\n",
       "    </tr>\n",
       "  </thead>\n",
       "  <tbody>\n",
       "    <tr>\n",
       "      <th>3378</th>\n",
       "      <td>1975-02-23T02:58:41.000Z</td>\n",
       "      <td>1975-02-23T02:58:41.000Z</td>\n",
       "      <td>8.017</td>\n",
       "      <td>124.075</td>\n",
       "      <td>Earthquake</td>\n",
       "      <td>623.0</td>\n",
       "      <td>NaN</td>\n",
       "      <td>NaN</td>\n",
       "      <td>5.6</td>\n",
       "      <td>MB</td>\n",
       "      <td>...</td>\n",
       "      <td>NaN</td>\n",
       "      <td>NaN</td>\n",
       "      <td>NaN</td>\n",
       "      <td>NaN</td>\n",
       "      <td>NaN</td>\n",
       "      <td>USP0000A09</td>\n",
       "      <td>US</td>\n",
       "      <td>US</td>\n",
       "      <td>US</td>\n",
       "      <td>Reviewed</td>\n",
       "    </tr>\n",
       "    <tr>\n",
       "      <th>3379</th>\n",
       "      <td>02/23/1975</td>\n",
       "      <td>03:53:36</td>\n",
       "      <td>-21.727</td>\n",
       "      <td>-71.356</td>\n",
       "      <td>Earthquake</td>\n",
       "      <td>33.0</td>\n",
       "      <td>NaN</td>\n",
       "      <td>NaN</td>\n",
       "      <td>5.6</td>\n",
       "      <td>MB</td>\n",
       "      <td>...</td>\n",
       "      <td>NaN</td>\n",
       "      <td>NaN</td>\n",
       "      <td>NaN</td>\n",
       "      <td>NaN</td>\n",
       "      <td>NaN</td>\n",
       "      <td>USP0000A0A</td>\n",
       "      <td>US</td>\n",
       "      <td>US</td>\n",
       "      <td>US</td>\n",
       "      <td>Reviewed</td>\n",
       "    </tr>\n",
       "    <tr>\n",
       "      <th>3380</th>\n",
       "      <td>02/23/1975</td>\n",
       "      <td>07:34:11</td>\n",
       "      <td>-10.879</td>\n",
       "      <td>166.667</td>\n",
       "      <td>Earthquake</td>\n",
       "      <td>33.0</td>\n",
       "      <td>NaN</td>\n",
       "      <td>NaN</td>\n",
       "      <td>5.5</td>\n",
       "      <td>MS</td>\n",
       "      <td>...</td>\n",
       "      <td>NaN</td>\n",
       "      <td>NaN</td>\n",
       "      <td>NaN</td>\n",
       "      <td>NaN</td>\n",
       "      <td>NaN</td>\n",
       "      <td>USP0000A0C</td>\n",
       "      <td>US</td>\n",
       "      <td>US</td>\n",
       "      <td>US</td>\n",
       "      <td>Reviewed</td>\n",
       "    </tr>\n",
       "    <tr>\n",
       "      <th>3381</th>\n",
       "      <td>02/25/1975</td>\n",
       "      <td>05:20:05</td>\n",
       "      <td>-7.388</td>\n",
       "      <td>149.798</td>\n",
       "      <td>Earthquake</td>\n",
       "      <td>33.0</td>\n",
       "      <td>NaN</td>\n",
       "      <td>NaN</td>\n",
       "      <td>5.5</td>\n",
       "      <td>MB</td>\n",
       "      <td>...</td>\n",
       "      <td>NaN</td>\n",
       "      <td>NaN</td>\n",
       "      <td>NaN</td>\n",
       "      <td>NaN</td>\n",
       "      <td>NaN</td>\n",
       "      <td>USP0000A12</td>\n",
       "      <td>US</td>\n",
       "      <td>US</td>\n",
       "      <td>US</td>\n",
       "      <td>Reviewed</td>\n",
       "    </tr>\n",
       "    <tr>\n",
       "      <th>3382</th>\n",
       "      <td>02/26/1975</td>\n",
       "      <td>04:48:55</td>\n",
       "      <td>85.047</td>\n",
       "      <td>97.969</td>\n",
       "      <td>Earthquake</td>\n",
       "      <td>33.0</td>\n",
       "      <td>NaN</td>\n",
       "      <td>NaN</td>\n",
       "      <td>5.6</td>\n",
       "      <td>MS</td>\n",
       "      <td>...</td>\n",
       "      <td>NaN</td>\n",
       "      <td>NaN</td>\n",
       "      <td>NaN</td>\n",
       "      <td>NaN</td>\n",
       "      <td>NaN</td>\n",
       "      <td>USP0000A1H</td>\n",
       "      <td>US</td>\n",
       "      <td>US</td>\n",
       "      <td>US</td>\n",
       "      <td>Reviewed</td>\n",
       "    </tr>\n",
       "  </tbody>\n",
       "</table>\n",
       "<p>5 rows × 21 columns</p>\n",
       "</div>"
      ],
      "text/plain": [
       "                          Date                      Time  Latitude  Longitude  \\\n",
       "3378  1975-02-23T02:58:41.000Z  1975-02-23T02:58:41.000Z     8.017    124.075   \n",
       "3379                02/23/1975                  03:53:36   -21.727    -71.356   \n",
       "3380                02/23/1975                  07:34:11   -10.879    166.667   \n",
       "3381                02/25/1975                  05:20:05    -7.388    149.798   \n",
       "3382                02/26/1975                  04:48:55    85.047     97.969   \n",
       "\n",
       "            Type  Depth  Depth Error  Depth Seismic Stations  Magnitude  \\\n",
       "3378  Earthquake  623.0          NaN                     NaN        5.6   \n",
       "3379  Earthquake   33.0          NaN                     NaN        5.6   \n",
       "3380  Earthquake   33.0          NaN                     NaN        5.5   \n",
       "3381  Earthquake   33.0          NaN                     NaN        5.5   \n",
       "3382  Earthquake   33.0          NaN                     NaN        5.6   \n",
       "\n",
       "     Magnitude Type  ...  Magnitude Seismic Stations  Azimuthal Gap  \\\n",
       "3378             MB  ...                         NaN            NaN   \n",
       "3379             MB  ...                         NaN            NaN   \n",
       "3380             MS  ...                         NaN            NaN   \n",
       "3381             MB  ...                         NaN            NaN   \n",
       "3382             MS  ...                         NaN            NaN   \n",
       "\n",
       "      Horizontal Distance  Horizontal Error  Root Mean Square          ID  \\\n",
       "3378                  NaN               NaN               NaN  USP0000A09   \n",
       "3379                  NaN               NaN               NaN  USP0000A0A   \n",
       "3380                  NaN               NaN               NaN  USP0000A0C   \n",
       "3381                  NaN               NaN               NaN  USP0000A12   \n",
       "3382                  NaN               NaN               NaN  USP0000A1H   \n",
       "\n",
       "     Source Location Source Magnitude Source    Status  \n",
       "3378     US              US               US  Reviewed  \n",
       "3379     US              US               US  Reviewed  \n",
       "3380     US              US               US  Reviewed  \n",
       "3381     US              US               US  Reviewed  \n",
       "3382     US              US               US  Reviewed  \n",
       "\n",
       "[5 rows x 21 columns]"
      ]
     },
     "execution_count": 6,
     "metadata": {},
     "output_type": "execute_result"
    }
   ],
   "source": [
    "earthquakes[3378:3383]"
   ]
  },
  {
   "cell_type": "markdown",
   "id": "9f00cc9a",
   "metadata": {
    "papermill": {
     "duration": 0.007502,
     "end_time": "2022-11-11T19:03:58.458326",
     "exception": false,
     "start_time": "2022-11-11T19:03:58.450824",
     "status": "completed"
    },
    "tags": []
   },
   "source": [
    "This does appear to be an issue with data entry: ideally, all entries in the column have the same format.  We can get an idea of how widespread this issue is by checking the length of each entry in the \"Date\" column."
   ]
  },
  {
   "cell_type": "code",
   "execution_count": 7,
   "id": "3d3cf3c2",
   "metadata": {
    "execution": {
     "iopub.execute_input": "2022-11-11T19:03:58.474133Z",
     "iopub.status.busy": "2022-11-11T19:03:58.473726Z",
     "iopub.status.idle": "2022-11-11T19:03:58.495487Z",
     "shell.execute_reply": "2022-11-11T19:03:58.493587Z"
    },
    "papermill": {
     "duration": 0.033066,
     "end_time": "2022-11-11T19:03:58.498554",
     "exception": false,
     "start_time": "2022-11-11T19:03:58.465488",
     "status": "completed"
    },
    "tags": []
   },
   "outputs": [
    {
     "data": {
      "text/plain": [
       "10    23409\n",
       "24        3\n",
       "Name: Date, dtype: int64"
      ]
     },
     "execution_count": 7,
     "metadata": {},
     "output_type": "execute_result"
    }
   ],
   "source": [
    "date_lengths = earthquakes.Date.str.len()\n",
    "date_lengths.value_counts()"
   ]
  },
  {
   "cell_type": "markdown",
   "id": "2ad509a4",
   "metadata": {
    "papermill": {
     "duration": 0.009073,
     "end_time": "2022-11-11T19:03:58.514860",
     "exception": false,
     "start_time": "2022-11-11T19:03:58.505787",
     "status": "completed"
    },
    "tags": []
   },
   "source": [
    "Looks like there are two more rows that has a date in a different format.  Run the code cell below to obtain the indices corresponding to those rows and print the data."
   ]
  },
  {
   "cell_type": "code",
   "execution_count": 8,
   "id": "0b850a91",
   "metadata": {
    "execution": {
     "iopub.execute_input": "2022-11-11T19:03:58.531707Z",
     "iopub.status.busy": "2022-11-11T19:03:58.531321Z",
     "iopub.status.idle": "2022-11-11T19:03:58.561531Z",
     "shell.execute_reply": "2022-11-11T19:03:58.559498Z"
    },
    "papermill": {
     "duration": 0.041672,
     "end_time": "2022-11-11T19:03:58.564478",
     "exception": false,
     "start_time": "2022-11-11T19:03:58.522806",
     "status": "completed"
    },
    "tags": []
   },
   "outputs": [
    {
     "name": "stdout",
     "output_type": "stream",
     "text": [
      "Indices with corrupted data: [ 3378  7512 20650]\n"
     ]
    },
    {
     "data": {
      "text/html": [
       "<div>\n",
       "<style scoped>\n",
       "    .dataframe tbody tr th:only-of-type {\n",
       "        vertical-align: middle;\n",
       "    }\n",
       "\n",
       "    .dataframe tbody tr th {\n",
       "        vertical-align: top;\n",
       "    }\n",
       "\n",
       "    .dataframe thead th {\n",
       "        text-align: right;\n",
       "    }\n",
       "</style>\n",
       "<table border=\"1\" class=\"dataframe\">\n",
       "  <thead>\n",
       "    <tr style=\"text-align: right;\">\n",
       "      <th></th>\n",
       "      <th>Date</th>\n",
       "      <th>Time</th>\n",
       "      <th>Latitude</th>\n",
       "      <th>Longitude</th>\n",
       "      <th>Type</th>\n",
       "      <th>Depth</th>\n",
       "      <th>Depth Error</th>\n",
       "      <th>Depth Seismic Stations</th>\n",
       "      <th>Magnitude</th>\n",
       "      <th>Magnitude Type</th>\n",
       "      <th>...</th>\n",
       "      <th>Magnitude Seismic Stations</th>\n",
       "      <th>Azimuthal Gap</th>\n",
       "      <th>Horizontal Distance</th>\n",
       "      <th>Horizontal Error</th>\n",
       "      <th>Root Mean Square</th>\n",
       "      <th>ID</th>\n",
       "      <th>Source</th>\n",
       "      <th>Location Source</th>\n",
       "      <th>Magnitude Source</th>\n",
       "      <th>Status</th>\n",
       "    </tr>\n",
       "  </thead>\n",
       "  <tbody>\n",
       "    <tr>\n",
       "      <th>3378</th>\n",
       "      <td>1975-02-23T02:58:41.000Z</td>\n",
       "      <td>1975-02-23T02:58:41.000Z</td>\n",
       "      <td>8.017</td>\n",
       "      <td>124.075</td>\n",
       "      <td>Earthquake</td>\n",
       "      <td>623.0</td>\n",
       "      <td>NaN</td>\n",
       "      <td>NaN</td>\n",
       "      <td>5.6</td>\n",
       "      <td>MB</td>\n",
       "      <td>...</td>\n",
       "      <td>NaN</td>\n",
       "      <td>NaN</td>\n",
       "      <td>NaN</td>\n",
       "      <td>NaN</td>\n",
       "      <td>NaN</td>\n",
       "      <td>USP0000A09</td>\n",
       "      <td>US</td>\n",
       "      <td>US</td>\n",
       "      <td>US</td>\n",
       "      <td>Reviewed</td>\n",
       "    </tr>\n",
       "    <tr>\n",
       "      <th>7512</th>\n",
       "      <td>1985-04-28T02:53:41.530Z</td>\n",
       "      <td>1985-04-28T02:53:41.530Z</td>\n",
       "      <td>-32.998</td>\n",
       "      <td>-71.766</td>\n",
       "      <td>Earthquake</td>\n",
       "      <td>33.0</td>\n",
       "      <td>NaN</td>\n",
       "      <td>NaN</td>\n",
       "      <td>5.6</td>\n",
       "      <td>MW</td>\n",
       "      <td>...</td>\n",
       "      <td>NaN</td>\n",
       "      <td>NaN</td>\n",
       "      <td>NaN</td>\n",
       "      <td>NaN</td>\n",
       "      <td>1.30</td>\n",
       "      <td>USP0002E81</td>\n",
       "      <td>US</td>\n",
       "      <td>US</td>\n",
       "      <td>HRV</td>\n",
       "      <td>Reviewed</td>\n",
       "    </tr>\n",
       "    <tr>\n",
       "      <th>20650</th>\n",
       "      <td>2011-03-13T02:23:34.520Z</td>\n",
       "      <td>2011-03-13T02:23:34.520Z</td>\n",
       "      <td>36.344</td>\n",
       "      <td>142.344</td>\n",
       "      <td>Earthquake</td>\n",
       "      <td>10.1</td>\n",
       "      <td>13.9</td>\n",
       "      <td>289.0</td>\n",
       "      <td>5.8</td>\n",
       "      <td>MWC</td>\n",
       "      <td>...</td>\n",
       "      <td>NaN</td>\n",
       "      <td>32.3</td>\n",
       "      <td>NaN</td>\n",
       "      <td>NaN</td>\n",
       "      <td>1.06</td>\n",
       "      <td>USP000HWQP</td>\n",
       "      <td>US</td>\n",
       "      <td>US</td>\n",
       "      <td>GCMT</td>\n",
       "      <td>Reviewed</td>\n",
       "    </tr>\n",
       "  </tbody>\n",
       "</table>\n",
       "<p>3 rows × 21 columns</p>\n",
       "</div>"
      ],
      "text/plain": [
       "                           Date                      Time  Latitude  \\\n",
       "3378   1975-02-23T02:58:41.000Z  1975-02-23T02:58:41.000Z     8.017   \n",
       "7512   1985-04-28T02:53:41.530Z  1985-04-28T02:53:41.530Z   -32.998   \n",
       "20650  2011-03-13T02:23:34.520Z  2011-03-13T02:23:34.520Z    36.344   \n",
       "\n",
       "       Longitude        Type  Depth  Depth Error  Depth Seismic Stations  \\\n",
       "3378     124.075  Earthquake  623.0          NaN                     NaN   \n",
       "7512     -71.766  Earthquake   33.0          NaN                     NaN   \n",
       "20650    142.344  Earthquake   10.1         13.9                   289.0   \n",
       "\n",
       "       Magnitude Magnitude Type  ...  Magnitude Seismic Stations  \\\n",
       "3378         5.6             MB  ...                         NaN   \n",
       "7512         5.6             MW  ...                         NaN   \n",
       "20650        5.8            MWC  ...                         NaN   \n",
       "\n",
       "       Azimuthal Gap  Horizontal Distance  Horizontal Error  Root Mean Square  \\\n",
       "3378             NaN                  NaN               NaN               NaN   \n",
       "7512             NaN                  NaN               NaN              1.30   \n",
       "20650           32.3                  NaN               NaN              1.06   \n",
       "\n",
       "               ID Source Location Source Magnitude Source    Status  \n",
       "3378   USP0000A09     US              US               US  Reviewed  \n",
       "7512   USP0002E81     US              US              HRV  Reviewed  \n",
       "20650  USP000HWQP     US              US             GCMT  Reviewed  \n",
       "\n",
       "[3 rows x 21 columns]"
      ]
     },
     "execution_count": 8,
     "metadata": {},
     "output_type": "execute_result"
    }
   ],
   "source": [
    "indices = np.where([date_lengths == 24])[1]\n",
    "print('Indices with corrupted data:', indices)\n",
    "earthquakes.loc[indices]"
   ]
  },
  {
   "cell_type": "markdown",
   "id": "9ede268d",
   "metadata": {
    "papermill": {
     "duration": 0.007455,
     "end_time": "2022-11-11T19:03:58.579815",
     "exception": false,
     "start_time": "2022-11-11T19:03:58.572360",
     "status": "completed"
    },
    "tags": []
   },
   "source": [
    "Given all of this information, it's your turn to create a new column \"date_parsed\" in the `earthquakes` dataset that has correctly parsed dates in it.  \n",
    "\n",
    "**Note**: When completing this problem, you are allowed to (but are not required to) amend the entries in the \"Date\" and \"Time\" columns.  Do not remove any rows from the dataset."
   ]
  },
  {
   "cell_type": "code",
   "execution_count": 9,
   "id": "d30c8155",
   "metadata": {
    "execution": {
     "iopub.execute_input": "2022-11-11T19:03:58.597272Z",
     "iopub.status.busy": "2022-11-11T19:03:58.596830Z",
     "iopub.status.idle": "2022-11-11T19:03:58.625757Z",
     "shell.execute_reply": "2022-11-11T19:03:58.624233Z"
    },
    "papermill": {
     "duration": 0.04109,
     "end_time": "2022-11-11T19:03:58.628483",
     "exception": false,
     "start_time": "2022-11-11T19:03:58.587393",
     "status": "completed"
    },
    "tags": []
   },
   "outputs": [
    {
     "data": {
      "text/plain": [
       "0       1965-01-02 00:00:00+00:00\n",
       "1       1965-01-04 00:00:00+00:00\n",
       "2       1965-01-05 00:00:00+00:00\n",
       "3       1965-01-08 00:00:00+00:00\n",
       "4       1965-01-09 00:00:00+00:00\n",
       "                   ...           \n",
       "23407   2016-12-28 00:00:00+00:00\n",
       "23408   2016-12-28 00:00:00+00:00\n",
       "23409   2016-12-28 00:00:00+00:00\n",
       "23410   2016-12-29 00:00:00+00:00\n",
       "23411   2016-12-30 00:00:00+00:00\n",
       "Name: date_parsed, Length: 23412, dtype: datetime64[ns, UTC]"
      ]
     },
     "execution_count": 9,
     "metadata": {},
     "output_type": "execute_result"
    }
   ],
   "source": [
    "earthquakes[\"date_parsed\"] = pd.to_datetime(earthquakes[\"Date\"], format='%m-%d-%Y%H:%M:%S', infer_datetime_format=True, utc=True )\n",
    "earthquakes.date_parsed"
   ]
  },
  {
   "cell_type": "code",
   "execution_count": 10,
   "id": "6e108871",
   "metadata": {
    "execution": {
     "iopub.execute_input": "2022-11-11T19:03:58.646264Z",
     "iopub.status.busy": "2022-11-11T19:03:58.645821Z",
     "iopub.status.idle": "2022-11-11T19:03:58.655626Z",
     "shell.execute_reply": "2022-11-11T19:03:58.654236Z"
    },
    "papermill": {
     "duration": 0.021548,
     "end_time": "2022-11-11T19:03:58.658445",
     "exception": false,
     "start_time": "2022-11-11T19:03:58.636897",
     "status": "completed"
    },
    "tags": []
   },
   "outputs": [
    {
     "data": {
      "application/javascript": [
       "parent.postMessage({\"jupyterEvent\": \"custom.exercise_interaction\", \"data\": {\"outcomeType\": 1, \"valueTowardsCompletion\": 0.25, \"interactionType\": 1, \"questionType\": 2, \"questionId\": \"2_ConvertToDatetime\", \"learnToolsVersion\": \"0.3.4\", \"failureMessage\": \"\", \"exceptionClass\": \"\", \"trace\": \"\"}}, \"*\")"
      ],
      "text/plain": [
       "<IPython.core.display.Javascript object>"
      ]
     },
     "metadata": {},
     "output_type": "display_data"
    },
    {
     "data": {
      "text/markdown": [
       "<span style=\"color:#33cc33\">Correct</span>"
      ],
      "text/plain": [
       "Correct"
      ]
     },
     "metadata": {},
     "output_type": "display_data"
    }
   ],
   "source": [
    "# TODO: Your code here\n",
    "\n",
    "# Check your answer\n",
    "q2.check()"
   ]
  },
  {
   "cell_type": "code",
   "execution_count": 11,
   "id": "af07dd66",
   "metadata": {
    "execution": {
     "iopub.execute_input": "2022-11-11T19:03:58.677359Z",
     "iopub.status.busy": "2022-11-11T19:03:58.676898Z",
     "iopub.status.idle": "2022-11-11T19:03:58.681890Z",
     "shell.execute_reply": "2022-11-11T19:03:58.680385Z"
    },
    "papermill": {
     "duration": 0.0175,
     "end_time": "2022-11-11T19:03:58.684251",
     "exception": false,
     "start_time": "2022-11-11T19:03:58.666751",
     "status": "completed"
    },
    "tags": []
   },
   "outputs": [],
   "source": [
    "# Lines below will give you a hint or solution code\n",
    "#q2.hint()\n",
    "#q2.solution()"
   ]
  },
  {
   "cell_type": "markdown",
   "id": "913c6c7d",
   "metadata": {
    "papermill": {
     "duration": 0.008334,
     "end_time": "2022-11-11T19:03:58.701292",
     "exception": false,
     "start_time": "2022-11-11T19:03:58.692958",
     "status": "completed"
    },
    "tags": []
   },
   "source": [
    "# 3) Select the day of the month\n",
    "\n",
    "Create a Pandas Series `day_of_month_earthquakes` containing the day of the month from the \"date_parsed\" column."
   ]
  },
  {
   "cell_type": "code",
   "execution_count": 12,
   "id": "ef711cde",
   "metadata": {
    "execution": {
     "iopub.execute_input": "2022-11-11T19:03:58.719592Z",
     "iopub.status.busy": "2022-11-11T19:03:58.719074Z",
     "iopub.status.idle": "2022-11-11T19:03:58.731678Z",
     "shell.execute_reply": "2022-11-11T19:03:58.730531Z"
    },
    "papermill": {
     "duration": 0.024549,
     "end_time": "2022-11-11T19:03:58.734139",
     "exception": false,
     "start_time": "2022-11-11T19:03:58.709590",
     "status": "completed"
    },
    "tags": []
   },
   "outputs": [
    {
     "data": {
      "application/javascript": [
       "parent.postMessage({\"jupyterEvent\": \"custom.exercise_interaction\", \"data\": {\"outcomeType\": 1, \"valueTowardsCompletion\": 0.25, \"interactionType\": 1, \"questionType\": 1, \"questionId\": \"3_DayOfMonth\", \"learnToolsVersion\": \"0.3.4\", \"failureMessage\": \"\", \"exceptionClass\": \"\", \"trace\": \"\"}}, \"*\")"
      ],
      "text/plain": [
       "<IPython.core.display.Javascript object>"
      ]
     },
     "metadata": {},
     "output_type": "display_data"
    },
    {
     "data": {
      "text/markdown": [
       "<span style=\"color:#33cc33\">Correct</span>"
      ],
      "text/plain": [
       "Correct"
      ]
     },
     "metadata": {},
     "output_type": "display_data"
    }
   ],
   "source": [
    "# try to get the day of the month from the date column\n",
    "day_of_month_earthquakes = earthquakes[\"date_parsed\"].dt.day\n",
    "\n",
    "# Check your answer\n",
    "q3.check()"
   ]
  },
  {
   "cell_type": "code",
   "execution_count": 13,
   "id": "5c696603",
   "metadata": {
    "execution": {
     "iopub.execute_input": "2022-11-11T19:03:58.753587Z",
     "iopub.status.busy": "2022-11-11T19:03:58.753132Z",
     "iopub.status.idle": "2022-11-11T19:03:58.757694Z",
     "shell.execute_reply": "2022-11-11T19:03:58.756308Z"
    },
    "papermill": {
     "duration": 0.017261,
     "end_time": "2022-11-11T19:03:58.759669",
     "exception": false,
     "start_time": "2022-11-11T19:03:58.742408",
     "status": "completed"
    },
    "tags": []
   },
   "outputs": [],
   "source": [
    "# Lines below will give you a hint or solution code\n",
    "#q3.hint()\n",
    "#q3.solution()"
   ]
  },
  {
   "cell_type": "markdown",
   "id": "e43950de",
   "metadata": {
    "papermill": {
     "duration": 0.00755,
     "end_time": "2022-11-11T19:03:58.775291",
     "exception": false,
     "start_time": "2022-11-11T19:03:58.767741",
     "status": "completed"
    },
    "tags": []
   },
   "source": [
    "# 4) Plot the day of the month to check the date parsing\n",
    "\n",
    "Plot the days of the month from your earthquake dataset."
   ]
  },
  {
   "cell_type": "code",
   "execution_count": 14,
   "id": "1519dbd2",
   "metadata": {
    "execution": {
     "iopub.execute_input": "2022-11-11T19:03:58.792727Z",
     "iopub.status.busy": "2022-11-11T19:03:58.792377Z",
     "iopub.status.idle": "2022-11-11T19:03:59.033301Z",
     "shell.execute_reply": "2022-11-11T19:03:59.032470Z"
    },
    "papermill": {
     "duration": 0.252684,
     "end_time": "2022-11-11T19:03:59.035912",
     "exception": false,
     "start_time": "2022-11-11T19:03:58.783228",
     "status": "completed"
    },
    "tags": []
   },
   "outputs": [
    {
     "name": "stderr",
     "output_type": "stream",
     "text": [
      "/opt/conda/lib/python3.7/site-packages/seaborn/distributions.py:2619: FutureWarning: `distplot` is a deprecated function and will be removed in a future version. Please adapt your code to use either `displot` (a figure-level function with similar flexibility) or `histplot` (an axes-level function for histograms).\n",
      "  warnings.warn(msg, FutureWarning)\n"
     ]
    },
    {
     "data": {
      "text/plain": [
       "<AxesSubplot:xlabel='date_parsed'>"
      ]
     },
     "execution_count": 14,
     "metadata": {},
     "output_type": "execute_result"
    },
    {
     "data": {
      "image/png": "[encoded data removed]",
      "text/plain": [
       "<Figure size 432x288 with 1 Axes>"
      ]
     },
     "metadata": {
      "needs_background": "light"
     },
     "output_type": "display_data"
    }
   ],
   "source": [
    "# TODO: Your code here!\n",
    "day_of_month_earthquakes = day_of_month_earthquakes.dropna()\n",
    "sns.distplot(day_of_month_earthquakes, kde=False, bins=31)"
   ]
  },
  {
   "cell_type": "markdown",
   "id": "fe1c7dee",
   "metadata": {
    "papermill": {
     "duration": 0.007763,
     "end_time": "2022-11-11T19:03:59.052617",
     "exception": false,
     "start_time": "2022-11-11T19:03:59.044854",
     "status": "completed"
    },
    "tags": []
   },
   "source": [
    "Does the graph make sense to you?"
   ]
  },
  {
   "cell_type": "code",
   "execution_count": 15,
   "id": "8ed9b41e",
   "metadata": {
    "execution": {
     "iopub.execute_input": "2022-11-11T19:03:59.071788Z",
     "iopub.status.busy": "2022-11-11T19:03:59.071264Z",
     "iopub.status.idle": "2022-11-11T19:03:59.081459Z",
     "shell.execute_reply": "2022-11-11T19:03:59.080021Z"
    },
    "papermill": {
     "duration": 0.023135,
     "end_time": "2022-11-11T19:03:59.083637",
     "exception": false,
     "start_time": "2022-11-11T19:03:59.060502",
     "status": "completed"
    },
    "tags": []
   },
   "outputs": [
    {
     "data": {
      "application/javascript": [
       "parent.postMessage({\"jupyterEvent\": \"custom.exercise_interaction\", \"data\": {\"outcomeType\": 1, \"valueTowardsCompletion\": 0.25, \"interactionType\": 1, \"questionType\": 4, \"questionId\": \"4_PlotDayOfMonth\", \"learnToolsVersion\": \"0.3.4\", \"failureMessage\": \"\", \"exceptionClass\": \"\", \"trace\": \"\"}}, \"*\")"
      ],
      "text/plain": [
       "<IPython.core.display.Javascript object>"
      ]
     },
     "metadata": {},
     "output_type": "display_data"
    },
    {
     "data": {
      "text/markdown": [
       "<span style=\"color:#33cc33\">Correct:</span> \n",
       "\n",
       "The graph should make sense: it shows a relatively even distribution in days of the month,which is what we would expect."
      ],
      "text/plain": [
       "Correct: \n",
       "\n",
       "The graph should make sense: it shows a relatively even distribution in days of the month,which is what we would expect."
      ]
     },
     "metadata": {},
     "output_type": "display_data"
    }
   ],
   "source": [
    "# Check your answer (Run this code cell to receive credit!)\n",
    "q4.check()"
   ]
  },
  {
   "cell_type": "code",
   "execution_count": 16,
   "id": "698e912d",
   "metadata": {
    "execution": {
     "iopub.execute_input": "2022-11-11T19:03:59.104794Z",
     "iopub.status.busy": "2022-11-11T19:03:59.102892Z",
     "iopub.status.idle": "2022-11-11T19:03:59.108905Z",
     "shell.execute_reply": "2022-11-11T19:03:59.107532Z"
    },
    "papermill": {
     "duration": 0.018638,
     "end_time": "2022-11-11T19:03:59.110811",
     "exception": false,
     "start_time": "2022-11-11T19:03:59.092173",
     "status": "completed"
    },
    "tags": []
   },
   "outputs": [],
   "source": [
    "# Line below will give you a hint\n",
    "#q4.hint()"
   ]
  },
  {
   "cell_type": "markdown",
   "id": "ae3c30d2",
   "metadata": {
    "papermill": {
     "duration": 0.008389,
     "end_time": "2022-11-11T19:03:59.128041",
     "exception": false,
     "start_time": "2022-11-11T19:03:59.119652",
     "status": "completed"
    },
    "tags": []
   },
   "source": [
    "# (Optional) Bonus Challenge\n",
    "\n",
    "For an extra challenge, you'll work with a [Smithsonian dataset](https://www.kaggle.com/smithsonian/volcanic-eruptions) that documents Earth's volcanoes and their eruptive history over the past 10,000 years \n",
    "\n",
    "Run the next code cell to load the data."
   ]
  },
  {
   "cell_type": "code",
   "execution_count": 17,
   "id": "121c1f7c",
   "metadata": {
    "collapsed": true,
    "execution": {
     "iopub.execute_input": "2022-11-11T19:03:59.147818Z",
     "iopub.status.busy": "2022-11-11T19:03:59.147048Z",
     "iopub.status.idle": "2022-11-11T19:03:59.173621Z",
     "shell.execute_reply": "2022-11-11T19:03:59.171938Z"
    },
    "jupyter": {
     "outputs_hidden": true
    },
    "papermill": {
     "duration": 0.039955,
     "end_time": "2022-11-11T19:03:59.176397",
     "exception": false,
     "start_time": "2022-11-11T19:03:59.136442",
     "status": "completed"
    },
    "tags": []
   },
   "outputs": [],
   "source": [
    "volcanos = pd.read_csv(\"../input/volcanic-eruptions/database.csv\")"
   ]
  },
  {
   "cell_type": "markdown",
   "id": "8d2177bd",
   "metadata": {
    "papermill": {
     "duration": 0.008462,
     "end_time": "2022-11-11T19:03:59.193669",
     "exception": false,
     "start_time": "2022-11-11T19:03:59.185207",
     "status": "completed"
    },
    "tags": []
   },
   "source": [
    "Try parsing the column \"Last Known Eruption\" from the `volcanos` dataframe. This column contains a mixture of text (\"Unknown\") and years both before the common era (BCE, also known as BC) and in the common era (CE, also known as AD)."
   ]
  },
  {
   "cell_type": "code",
   "execution_count": 18,
   "id": "a2b1ae34",
   "metadata": {
    "execution": {
     "iopub.execute_input": "2022-11-11T19:03:59.212993Z",
     "iopub.status.busy": "2022-11-11T19:03:59.212324Z",
     "iopub.status.idle": "2022-11-11T19:03:59.219997Z",
     "shell.execute_reply": "2022-11-11T19:03:59.219319Z"
    },
    "papermill": {
     "duration": 0.020388,
     "end_time": "2022-11-11T19:03:59.222786",
     "exception": false,
     "start_time": "2022-11-11T19:03:59.202398",
     "status": "completed"
    },
    "tags": []
   },
   "outputs": [
    {
     "data": {
      "text/plain": [
       "764     Unknown\n",
       "1069    1996 CE\n",
       "34      1855 CE\n",
       "489     2016 CE\n",
       "9       1302 CE\n",
       "Name: Last Known Eruption, dtype: object"
      ]
     },
     "execution_count": 18,
     "metadata": {},
     "output_type": "execute_result"
    }
   ],
   "source": [
    "volcanos['Last Known Eruption'].sample(5)"
   ]
  },
  {
   "cell_type": "markdown",
   "id": "9fb75cae",
   "metadata": {
    "papermill": {
     "duration": 0.008566,
     "end_time": "2022-11-11T19:03:59.240561",
     "exception": false,
     "start_time": "2022-11-11T19:03:59.231995",
     "status": "completed"
    },
    "tags": []
   },
   "source": [
    "# (Optional) More practice\n",
    "\n",
    "If you're interested in graphing time series, [check out this tutorial](https://www.kaggle.com/residentmario/time-series-plotting-optional).\n",
    "\n",
    "You can also look into passing columns that you know have dates in them  the `parse_dates` argument in `read_csv`. (The documention [is here](https://pandas.pydata.org/pandas-docs/stable/generated/pandas.read_csv.html).) Do note that this method can be very slow, but depending on your needs it may sometimes be handy to use.\n",
    "\n",
    "# Keep going\n",
    "\n",
    "In the next lesson, learn how to [**work with character encodings**](https://www.kaggle.com/alexisbcook/character-encodings)."
   ]
  },
  {
   "cell_type": "markdown",
   "id": "2d4fcbc9",
   "metadata": {
    "papermill": {
     "duration": 0.008567,
     "end_time": "2022-11-11T19:03:59.258408",
     "exception": false,
     "start_time": "2022-11-11T19:03:59.249841",
     "status": "completed"
    },
    "tags": []
   },
   "source": [
    "---\n",
    "\n",
    "\n",
    "\n",
    "\n",
    "*Have questions or comments? Visit the [course discussion forum](https://www.kaggle.com/learn/data-cleaning/discussion) to chat with other learners.*"
   ]
  }
 ],
 "metadata": {
  "kernelspec": {
   "display_name": "Python 3",
   "language": "python",
   "name": "python3"
  },
  "language_info": {
   "codemirror_mode": {
    "name": "ipython",
    "version": 3
   },
   "file_extension": ".py",
   "mimetype": "text/x-python",
   "name": "python",
   "nbconvert_exporter": "python",
   "pygments_lexer": "ipython3",
   "version": "3.7.12"
  },
  "papermill": {
   "default_parameters": {},
   "duration": 11.704608,
   "end_time": "2022-11-11T19:04:00.089753",
   "environment_variables": {},
   "exception": null,
   "input_path": "__notebook__.ipynb",
   "output_path": "__notebook__.ipynb",
   "parameters": {},
   "start_time": "2022-11-11T19:03:48.385145",
   "version": "2.3.4"
  }
 },
 "nbformat": 4,
 "nbformat_minor": 5
}
