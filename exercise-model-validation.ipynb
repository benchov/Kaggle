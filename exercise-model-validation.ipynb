{
 "cells": [
  {
   "cell_type": "markdown",
   "id": "09ad879c",
   "metadata": {
    "papermill": {
     "duration": 0.007369,
     "end_time": "2022-11-13T21:44:28.094516",
     "exception": false,
     "start_time": "2022-11-13T21:44:28.087147",
     "status": "completed"
    },
    "tags": []
   },
   "source": [
    "**This notebook is an exercise in the [Introduction to Machine Learning](https://www.kaggle.com/learn/intro-to-machine-learning) course.  You can reference the tutorial at [this link](https://www.kaggle.com/dansbecker/model-validation).**\n",
    "\n",
    "---\n"
   ]
  },
  {
   "cell_type": "markdown",
   "id": "4b33f297",
   "metadata": {
    "papermill": {
     "duration": 0.004646,
     "end_time": "2022-11-13T21:44:28.104441",
     "exception": false,
     "start_time": "2022-11-13T21:44:28.099795",
     "status": "completed"
    },
    "tags": []
   },
   "source": [
    "## Recap\n",
    "You've built a model. In this exercise you will test how good your model is.\n",
    "\n",
    "Run the cell below to set up your coding environment where the previous exercise left off."
   ]
  },
  {
   "cell_type": "code",
   "execution_count": 1,
   "id": "17d24fc5",
   "metadata": {
    "execution": {
     "iopub.execute_input": "2022-11-13T21:44:28.120169Z",
     "iopub.status.busy": "2022-11-13T21:44:28.119261Z",
     "iopub.status.idle": "2022-11-13T21:44:29.591609Z",
     "shell.execute_reply": "2022-11-13T21:44:29.590211Z"
    },
    "papermill": {
     "duration": 1.484291,
     "end_time": "2022-11-13T21:44:29.594403",
     "exception": false,
     "start_time": "2022-11-13T21:44:28.110112",
     "status": "completed"
    },
    "tags": []
   },
   "outputs": [
    {
     "name": "stdout",
     "output_type": "stream",
     "text": [
      "First in-sample predictions: [208500. 181500. 223500. 140000. 250000.]\n",
      "Actual target values for those homes: [208500, 181500, 223500, 140000, 250000]\n",
      "Setup Complete\n"
     ]
    }
   ],
   "source": [
    "# Code you have previously used to load data\n",
    "import pandas as pd\n",
    "from sklearn.tree import DecisionTreeRegressor\n",
    "\n",
    "# Path of the file to read\n",
    "iowa_file_path = '../input/home-data-for-ml-course/train.csv'\n",
    "\n",
    "home_data = pd.read_csv(iowa_file_path)\n",
    "y = home_data.SalePrice\n",
    "feature_columns = ['LotArea', 'YearBuilt', '1stFlrSF', '2ndFlrSF', 'FullBath', 'BedroomAbvGr', 'TotRmsAbvGrd']\n",
    "X = home_data[feature_columns]\n",
    "\n",
    "# Specify Model\n",
    "iowa_model = DecisionTreeRegressor()\n",
    "# Fit Model\n",
    "iowa_model.fit(X, y)\n",
    "\n",
    "print(\"First in-sample predictions:\", iowa_model.predict(X.head()))\n",
    "print(\"Actual target values for those homes:\", y.head().tolist())\n",
    "\n",
    "# Set up code checking\n",
    "from learntools.core import binder\n",
    "binder.bind(globals())\n",
    "from learntools.machine_learning.ex4 import *\n",
    "print(\"Setup Complete\")"
   ]
  },
  {
   "cell_type": "markdown",
   "id": "3d21130e",
   "metadata": {
    "papermill": {
     "duration": 0.004577,
     "end_time": "2022-11-13T21:44:29.603800",
     "exception": false,
     "start_time": "2022-11-13T21:44:29.599223",
     "status": "completed"
    },
    "tags": []
   },
   "source": [
    "# Exercises\n",
    "\n",
    "## Step 1: Split Your Data\n",
    "Use the `train_test_split` function to split up your data.\n",
    "\n",
    "Give it the argument `random_state=1` so the `check` functions know what to expect when verifying your code.\n",
    "\n",
    "Recall, your features are loaded in the DataFrame **X** and your target is loaded in **y**.\n"
   ]
  },
  {
   "cell_type": "code",
   "execution_count": 2,
   "id": "9d4276b5",
   "metadata": {
    "execution": {
     "iopub.execute_input": "2022-11-13T21:44:29.615568Z",
     "iopub.status.busy": "2022-11-13T21:44:29.615141Z",
     "iopub.status.idle": "2022-11-13T21:44:29.631916Z",
     "shell.execute_reply": "2022-11-13T21:44:29.630590Z"
    },
    "papermill": {
     "duration": 0.025515,
     "end_time": "2022-11-13T21:44:29.634358",
     "exception": false,
     "start_time": "2022-11-13T21:44:29.608843",
     "status": "completed"
    },
    "tags": []
   },
   "outputs": [
    {
     "data": {
      "application/javascript": [
       "parent.postMessage({\"jupyterEvent\": \"custom.exercise_interaction\", \"data\": {\"outcomeType\": 1, \"valueTowardsCompletion\": 0.25, \"interactionType\": 1, \"questionType\": 2, \"questionId\": \"1_SplitData\", \"learnToolsVersion\": \"0.3.4\", \"failureMessage\": \"\", \"exceptionClass\": \"\", \"trace\": \"\"}}, \"*\")"
      ],
      "text/plain": [
       "<IPython.core.display.Javascript object>"
      ]
     },
     "metadata": {},
     "output_type": "display_data"
    },
    {
     "data": {
      "text/markdown": [
       "<span style=\"color:#33cc33\">Correct</span>"
      ],
      "text/plain": [
       "Correct"
      ]
     },
     "metadata": {},
     "output_type": "display_data"
    }
   ],
   "source": [
    "# Import the train_test_split function and uncomment\n",
    "from sklearn.model_selection import train_test_split\n",
    "\n",
    "# fill in and uncomment\n",
    "train_X, val_X, train_y, val_y = train_test_split(X, y, random_state=1)\n",
    "\n",
    "# Check your answer\n",
    "step_1.check()"
   ]
  },
  {
   "cell_type": "code",
   "execution_count": 3,
   "id": "11e726eb",
   "metadata": {
    "execution": {
     "iopub.execute_input": "2022-11-13T21:44:29.645676Z",
     "iopub.status.busy": "2022-11-13T21:44:29.645287Z",
     "iopub.status.idle": "2022-11-13T21:44:29.649565Z",
     "shell.execute_reply": "2022-11-13T21:44:29.648473Z"
    },
    "papermill": {
     "duration": 0.012671,
     "end_time": "2022-11-13T21:44:29.651834",
     "exception": false,
     "start_time": "2022-11-13T21:44:29.639163",
     "status": "completed"
    },
    "tags": []
   },
   "outputs": [],
   "source": [
    "# The lines below will show you a hint or the solution.\n",
    "# step_1.hint() \n",
    "# step_1.solution()\n"
   ]
  },
  {
   "cell_type": "markdown",
   "id": "082121c6",
   "metadata": {
    "papermill": {
     "duration": 0.004406,
     "end_time": "2022-11-13T21:44:29.661102",
     "exception": false,
     "start_time": "2022-11-13T21:44:29.656696",
     "status": "completed"
    },
    "tags": []
   },
   "source": [
    "## Step 2: Specify and Fit the Model\n",
    "\n",
    "Create a `DecisionTreeRegressor` model and fit it to the relevant data.\n",
    "Set `random_state` to 1 again when creating the model."
   ]
  },
  {
   "cell_type": "code",
   "execution_count": 4,
   "id": "432bfa6b",
   "metadata": {
    "execution": {
     "iopub.execute_input": "2022-11-13T21:44:29.672280Z",
     "iopub.status.busy": "2022-11-13T21:44:29.671840Z",
     "iopub.status.idle": "2022-11-13T21:44:29.700231Z",
     "shell.execute_reply": "2022-11-13T21:44:29.698947Z"
    },
    "papermill": {
     "duration": 0.03688,
     "end_time": "2022-11-13T21:44:29.702600",
     "exception": false,
     "start_time": "2022-11-13T21:44:29.665720",
     "status": "completed"
    },
    "tags": []
   },
   "outputs": [
    {
     "name": "stdout",
     "output_type": "stream",
     "text": [
      "[186500. 184000. 130000.  92000. 164500. 220000. 335000. 144152. 215000.\n",
      " 262000.]\n",
      "[186500. 184000. 130000.  92000. 164500. 220000. 335000. 144152. 215000.\n",
      " 262000.]\n"
     ]
    },
    {
     "data": {
      "application/javascript": [
       "parent.postMessage({\"jupyterEvent\": \"custom.exercise_interaction\", \"data\": {\"outcomeType\": 1, \"valueTowardsCompletion\": 0.25, \"interactionType\": 1, \"questionType\": 2, \"questionId\": \"2_FitModelWithTrain\", \"learnToolsVersion\": \"0.3.4\", \"failureMessage\": \"\", \"exceptionClass\": \"\", \"trace\": \"\"}}, \"*\")"
      ],
      "text/plain": [
       "<IPython.core.display.Javascript object>"
      ]
     },
     "metadata": {},
     "output_type": "display_data"
    },
    {
     "data": {
      "text/markdown": [
       "<span style=\"color:#33cc33\">Correct</span>"
      ],
      "text/plain": [
       "Correct"
      ]
     },
     "metadata": {},
     "output_type": "display_data"
    }
   ],
   "source": [
    "# You imported DecisionTreeRegressor in your last exercise\n",
    "# and that code has been copied to the setup code above. So, no need to\n",
    "# import it again\n",
    "\n",
    "# Specify the model\n",
    "iowa_model = DecisionTreeRegressor(random_state=1)\n",
    "\n",
    "# Fit iowa_model with the training data.\n",
    "iowa_model.fit(train_X, train_y)\n",
    "\n",
    "# Check your answer\n",
    "step_2.check()"
   ]
  },
  {
   "cell_type": "code",
   "execution_count": 5,
   "id": "ef9d0b2e",
   "metadata": {
    "execution": {
     "iopub.execute_input": "2022-11-13T21:44:29.714396Z",
     "iopub.status.busy": "2022-11-13T21:44:29.714035Z",
     "iopub.status.idle": "2022-11-13T21:44:29.718522Z",
     "shell.execute_reply": "2022-11-13T21:44:29.717318Z"
    },
    "papermill": {
     "duration": 0.013243,
     "end_time": "2022-11-13T21:44:29.720863",
     "exception": false,
     "start_time": "2022-11-13T21:44:29.707620",
     "status": "completed"
    },
    "tags": []
   },
   "outputs": [],
   "source": [
    "# step_2.hint()\n",
    "# step_2.solution()"
   ]
  },
  {
   "cell_type": "markdown",
   "id": "54cabaee",
   "metadata": {
    "papermill": {
     "duration": 0.004743,
     "end_time": "2022-11-13T21:44:29.730756",
     "exception": false,
     "start_time": "2022-11-13T21:44:29.726013",
     "status": "completed"
    },
    "tags": []
   },
   "source": [
    "## Step 3: Make Predictions with Validation data\n"
   ]
  },
  {
   "cell_type": "code",
   "execution_count": 6,
   "id": "0cda4e0d",
   "metadata": {
    "execution": {
     "iopub.execute_input": "2022-11-13T21:44:29.742696Z",
     "iopub.status.busy": "2022-11-13T21:44:29.742325Z",
     "iopub.status.idle": "2022-11-13T21:44:29.754755Z",
     "shell.execute_reply": "2022-11-13T21:44:29.753603Z"
    },
    "papermill": {
     "duration": 0.021288,
     "end_time": "2022-11-13T21:44:29.757042",
     "exception": false,
     "start_time": "2022-11-13T21:44:29.735754",
     "status": "completed"
    },
    "tags": []
   },
   "outputs": [
    {
     "data": {
      "application/javascript": [
       "parent.postMessage({\"jupyterEvent\": \"custom.exercise_interaction\", \"data\": {\"outcomeType\": 1, \"valueTowardsCompletion\": 0.25, \"interactionType\": 1, \"questionType\": 2, \"questionId\": \"3_ValPreds\", \"learnToolsVersion\": \"0.3.4\", \"failureMessage\": \"\", \"exceptionClass\": \"\", \"trace\": \"\"}}, \"*\")"
      ],
      "text/plain": [
       "<IPython.core.display.Javascript object>"
      ]
     },
     "metadata": {},
     "output_type": "display_data"
    },
    {
     "data": {
      "text/markdown": [
       "<span style=\"color:#33cc33\">Correct</span>"
      ],
      "text/plain": [
       "Correct"
      ]
     },
     "metadata": {},
     "output_type": "display_data"
    }
   ],
   "source": [
    "# Predict with all validation observations\n",
    "val_predictions = iowa_model.predict(val_X)\n",
    "\n",
    "# Check your answer\n",
    "step_3.check()"
   ]
  },
  {
   "cell_type": "code",
   "execution_count": 7,
   "id": "4960ff40",
   "metadata": {
    "execution": {
     "iopub.execute_input": "2022-11-13T21:44:29.770242Z",
     "iopub.status.busy": "2022-11-13T21:44:29.769762Z",
     "iopub.status.idle": "2022-11-13T21:44:29.775099Z",
     "shell.execute_reply": "2022-11-13T21:44:29.773921Z"
    },
    "papermill": {
     "duration": 0.014727,
     "end_time": "2022-11-13T21:44:29.777385",
     "exception": false,
     "start_time": "2022-11-13T21:44:29.762658",
     "status": "completed"
    },
    "tags": []
   },
   "outputs": [],
   "source": [
    "# step_3.hint()\n",
    "# step_3.solution()"
   ]
  },
  {
   "cell_type": "markdown",
   "id": "dab8d0cf",
   "metadata": {
    "papermill": {
     "duration": 0.005361,
     "end_time": "2022-11-13T21:44:29.788697",
     "exception": false,
     "start_time": "2022-11-13T21:44:29.783336",
     "status": "completed"
    },
    "tags": []
   },
   "source": [
    "Inspect your predictions and actual values from validation data."
   ]
  },
  {
   "cell_type": "code",
   "execution_count": 8,
   "id": "16ac6cce",
   "metadata": {
    "execution": {
     "iopub.execute_input": "2022-11-13T21:44:29.801833Z",
     "iopub.status.busy": "2022-11-13T21:44:29.801423Z",
     "iopub.status.idle": "2022-11-13T21:44:29.808278Z",
     "shell.execute_reply": "2022-11-13T21:44:29.807104Z"
    },
    "papermill": {
     "duration": 0.016054,
     "end_time": "2022-11-13T21:44:29.810494",
     "exception": false,
     "start_time": "2022-11-13T21:44:29.794440",
     "status": "completed"
    },
    "tags": []
   },
   "outputs": [
    {
     "name": "stdout",
     "output_type": "stream",
     "text": [
      "[186500. 184000. 130000.  92000. 164500.]\n",
      "258     231500\n",
      "267     179500\n",
      "288     122000\n",
      "649      84500\n",
      "1233    142000\n",
      "Name: SalePrice, dtype: int64\n"
     ]
    }
   ],
   "source": [
    "# print the top few validation predictions\n",
    "print(val_predictions[:5])\n",
    "# print the top few actual prices from validation data\n",
    "print(val_y[:5])"
   ]
  },
  {
   "cell_type": "markdown",
   "id": "ac02ef22",
   "metadata": {
    "papermill": {
     "duration": 0.005036,
     "end_time": "2022-11-13T21:44:29.822173",
     "exception": false,
     "start_time": "2022-11-13T21:44:29.817137",
     "status": "completed"
    },
    "tags": []
   },
   "source": [
    "What do you notice that is different from what you saw with in-sample predictions (which are printed after the top code cell in this page).\n",
    "\n",
    "Do you remember why validation predictions differ from in-sample (or training) predictions? This is an important idea from the last lesson.\n",
    "\n",
    "## Step 4: Calculate the Mean Absolute Error in Validation Data\n"
   ]
  },
  {
   "cell_type": "code",
   "execution_count": 9,
   "id": "08b42b92",
   "metadata": {
    "execution": {
     "iopub.execute_input": "2022-11-13T21:44:29.834664Z",
     "iopub.status.busy": "2022-11-13T21:44:29.834253Z",
     "iopub.status.idle": "2022-11-13T21:44:29.843786Z",
     "shell.execute_reply": "2022-11-13T21:44:29.842940Z"
    },
    "papermill": {
     "duration": 0.018656,
     "end_time": "2022-11-13T21:44:29.846109",
     "exception": false,
     "start_time": "2022-11-13T21:44:29.827453",
     "status": "completed"
    },
    "tags": []
   },
   "outputs": [
    {
     "data": {
      "application/javascript": [
       "parent.postMessage({\"jupyterEvent\": \"custom.exercise_interaction\", \"data\": {\"outcomeType\": 1, \"valueTowardsCompletion\": 0.25, \"interactionType\": 1, \"questionType\": 1, \"questionId\": \"4_MAE\", \"learnToolsVersion\": \"0.3.4\", \"failureMessage\": \"\", \"exceptionClass\": \"\", \"trace\": \"\"}}, \"*\")"
      ],
      "text/plain": [
       "<IPython.core.display.Javascript object>"
      ]
     },
     "metadata": {},
     "output_type": "display_data"
    },
    {
     "data": {
      "text/markdown": [
       "<span style=\"color:#33cc33\">Correct</span>"
      ],
      "text/plain": [
       "Correct"
      ]
     },
     "metadata": {},
     "output_type": "display_data"
    }
   ],
   "source": [
    "from sklearn.metrics import mean_absolute_error\n",
    "val_mae = mean_absolute_error(val_y,val_predictions )\n",
    "\n",
    "# uncomment following line to see the validation_mae\n",
    "#print(val_mae)\n",
    "\n",
    "# Check your answer\n",
    "step_4.check()"
   ]
  },
  {
   "cell_type": "code",
   "execution_count": 10,
   "id": "2dd2d8f0",
   "metadata": {
    "execution": {
     "iopub.execute_input": "2022-11-13T21:44:29.861218Z",
     "iopub.status.busy": "2022-11-13T21:44:29.860669Z",
     "iopub.status.idle": "2022-11-13T21:44:29.865730Z",
     "shell.execute_reply": "2022-11-13T21:44:29.864464Z"
    },
    "papermill": {
     "duration": 0.015884,
     "end_time": "2022-11-13T21:44:29.868276",
     "exception": false,
     "start_time": "2022-11-13T21:44:29.852392",
     "status": "completed"
    },
    "tags": []
   },
   "outputs": [],
   "source": [
    "# step_4.hint()\n",
    "# step_4.solution()"
   ]
  },
  {
   "cell_type": "markdown",
   "id": "e5c44261",
   "metadata": {
    "papermill": {
     "duration": 0.00581,
     "end_time": "2022-11-13T21:44:29.880382",
     "exception": false,
     "start_time": "2022-11-13T21:44:29.874572",
     "status": "completed"
    },
    "tags": []
   },
   "source": [
    "Is that MAE good?  There isn't a general rule for what values are good that applies across applications. But you'll see how to use (and improve) this number in the next step.\n",
    "\n",
    "# Keep Going\n",
    "\n",
    "You are ready for **[Underfitting and Overfitting](https://www.kaggle.com/dansbecker/underfitting-and-overfitting).**\n"
   ]
  },
  {
   "cell_type": "markdown",
   "id": "ae4f4ae6",
   "metadata": {
    "papermill": {
     "duration": 0.005693,
     "end_time": "2022-11-13T21:44:29.892051",
     "exception": false,
     "start_time": "2022-11-13T21:44:29.886358",
     "status": "completed"
    },
    "tags": []
   },
   "source": [
    "---\n",
    "\n",
    "\n",
    "\n",
    "\n",
    "*Have questions or comments? Visit the [course discussion forum](https://www.kaggle.com/learn/intro-to-machine-learning/discussion) to chat with other learners.*"
   ]
  }
 ],
 "metadata": {
  "kernelspec": {
   "display_name": "Python 3",
   "language": "python",
   "name": "python3"
  },
  "language_info": {
   "codemirror_mode": {
    "name": "ipython",
    "version": 3
   },
   "file_extension": ".py",
   "mimetype": "text/x-python",
   "name": "python",
   "nbconvert_exporter": "python",
   "pygments_lexer": "ipython3",
   "version": "3.7.12"
  },
  "papermill": {
   "default_parameters": {},
   "duration": 11.448668,
   "end_time": "2022-11-13T21:44:30.720272",
   "environment_variables": {},
   "exception": null,
   "input_path": "__notebook__.ipynb",
   "output_path": "__notebook__.ipynb",
   "parameters": {},
   "start_time": "2022-11-13T21:44:19.271604",
   "version": "2.3.4"
  }
 },
 "nbformat": 4,
 "nbformat_minor": 5
}
